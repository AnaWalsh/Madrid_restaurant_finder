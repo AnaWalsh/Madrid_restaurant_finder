{
 "cells": [
  {
   "cell_type": "code",
   "execution_count": 1,
   "id": "f4a9331b",
   "metadata": {},
   "outputs": [],
   "source": [
    "from pymongo import MongoClient\n",
    "import requests\n",
    "from dotenv import load_dotenv\n",
    "import os\n",
    "import pandas as pd\n",
    "import geopandas as gpd\n",
    "from cartoframes.viz import Map, Layer, popup_element\n",
    "from functools import reduce\n",
    "import operator\n",
    "import json\n",
    "import re\n",
    "from geopy.geocoders import Nominatim"
   ]
  },
  {
   "cell_type": "code",
   "execution_count": 2,
   "id": "e9069203",
   "metadata": {},
   "outputs": [],
   "source": [
    "import folium\n",
    "from folium import Choropleth, Circle, Marker, Icon, Map\n",
    "from folium.plugins import HeatMap, MarkerCluster\n",
    "import pandas as pd"
   ]
  },
  {
   "cell_type": "code",
   "execution_count": 5,
   "id": "28285f6d",
   "metadata": {},
   "outputs": [],
   "source": [
    "import ast"
   ]
  },
  {
   "cell_type": "code",
   "execution_count": 3,
   "id": "4b42a69c",
   "metadata": {},
   "outputs": [],
   "source": [
    "df = pd.read_csv('../data/data_tripadvisor.csv', index_col=0)\n",
    "df.dropna(how = \"all\", axis = 0, inplace = True)"
   ]
  },
  {
   "cell_type": "code",
   "execution_count": 4,
   "id": "09abb835",
   "metadata": {},
   "outputs": [
    {
     "data": {
      "text/html": [
       "<div>\n",
       "<style scoped>\n",
       "    .dataframe tbody tr th:only-of-type {\n",
       "        vertical-align: middle;\n",
       "    }\n",
       "\n",
       "    .dataframe tbody tr th {\n",
       "        vertical-align: top;\n",
       "    }\n",
       "\n",
       "    .dataframe thead th {\n",
       "        text-align: right;\n",
       "    }\n",
       "</style>\n",
       "<table border=\"1\" class=\"dataframe\">\n",
       "  <thead>\n",
       "    <tr style=\"text-align: right;\">\n",
       "      <th></th>\n",
       "      <th>name</th>\n",
       "      <th>address</th>\n",
       "      <th>type</th>\n",
       "      <th>ranking</th>\n",
       "      <th>price</th>\n",
       "      <th>direccion</th>\n",
       "      <th>comunidad</th>\n",
       "      <th>street</th>\n",
       "      <th>street_2</th>\n",
       "      <th>coordinates</th>\n",
       "      <th>street_3</th>\n",
       "    </tr>\n",
       "    <tr>\n",
       "      <th>indice</th>\n",
       "      <th></th>\n",
       "      <th></th>\n",
       "      <th></th>\n",
       "      <th></th>\n",
       "      <th></th>\n",
       "      <th></th>\n",
       "      <th></th>\n",
       "      <th></th>\n",
       "      <th></th>\n",
       "      <th></th>\n",
       "      <th></th>\n",
       "    </tr>\n",
       "  </thead>\n",
       "  <tbody>\n",
       "    <tr>\n",
       "      <th>413.0</th>\n",
       "      <td>El anciano rey de los vinos</td>\n",
       "      <td>Calle Bailén 19, 28013 Madrid España</td>\n",
       "      <td>Mediterránea</td>\n",
       "      <td>#549 de 10.409 restaurantes en Madrid</td>\n",
       "      <td>€€ - €€€</td>\n",
       "      <td>Calle Bailén 19</td>\n",
       "      <td>Madrid España</td>\n",
       "      <td>Calle Bailén 19</td>\n",
       "      <td>Calle Bailén 19, Madrid España</td>\n",
       "      <td>(40.028851, -3.606505)</td>\n",
       "      <td>Calle Bailén 19, Madrid España</td>\n",
       "    </tr>\n",
       "    <tr>\n",
       "      <th>76.0</th>\n",
       "      <td>Taberna Más Al Sur</td>\n",
       "      <td>Calle Santa Isabel Nº 35, 28012 Madrid España</td>\n",
       "      <td>Mediterránea</td>\n",
       "      <td>#34 de 10.414 restaurantes en Madrid</td>\n",
       "      <td>€€ - €€€</td>\n",
       "      <td>Calle Santa Isabel Nº 35</td>\n",
       "      <td>Madrid España</td>\n",
       "      <td>Calle Santa Isabel 35</td>\n",
       "      <td>Calle Santa Isabel 35, Madrid España</td>\n",
       "      <td>(40.0316837, -3.5908706)</td>\n",
       "      <td>Calle Santa Isabel 35, Madrid España</td>\n",
       "    </tr>\n",
       "    <tr>\n",
       "      <th>95.0</th>\n",
       "      <td>Casa Labra</td>\n",
       "      <td>Calle Tetuan 12, 28013 Madrid España</td>\n",
       "      <td>Bar</td>\n",
       "      <td>#650 de 10.414 restaurantes en Madrid</td>\n",
       "      <td>€</td>\n",
       "      <td>Calle Tetuan 12</td>\n",
       "      <td>Madrid España</td>\n",
       "      <td>Calle Tetuan 12</td>\n",
       "      <td>Calle Tetuan 12, Madrid España</td>\n",
       "      <td>(40.0395885, -3.6142713)</td>\n",
       "      <td>Calle Tetuan 12, Madrid España</td>\n",
       "    </tr>\n",
       "    <tr>\n",
       "      <th>134.0</th>\n",
       "      <td>Parrilla El Gaucho</td>\n",
       "      <td>Calle Tetuan 34, 28013 Madrid España</td>\n",
       "      <td>Restaurante de carne</td>\n",
       "      <td>#311 de 10.414 restaurantes en Madrid</td>\n",
       "      <td>€€ - €€€</td>\n",
       "      <td>Calle Tetuan 34</td>\n",
       "      <td>Madrid España</td>\n",
       "      <td>Calle Tetuan 34</td>\n",
       "      <td>Calle Tetuan 34, Madrid España</td>\n",
       "      <td>(40.0395885, -3.6142713)</td>\n",
       "      <td>Calle Tetuan 34, Madrid España</td>\n",
       "    </tr>\n",
       "    <tr>\n",
       "      <th>279.0</th>\n",
       "      <td>Santa Eulalia Boulangerie</td>\n",
       "      <td>Calle Espejo 12, 28013 Madrid España</td>\n",
       "      <td>Confiterías/panaderías</td>\n",
       "      <td>N.º 23 de 477 cafeterías y teterías en Madrid</td>\n",
       "      <td>€€ - €€€</td>\n",
       "      <td>Calle Espejo 12</td>\n",
       "      <td>Madrid España</td>\n",
       "      <td>Calle Espejo 12</td>\n",
       "      <td>Calle Espejo 12, Madrid España</td>\n",
       "      <td>(40.1384846, -3.4252641)</td>\n",
       "      <td>Calle Espejo 12, Madrid España</td>\n",
       "    </tr>\n",
       "  </tbody>\n",
       "</table>\n",
       "</div>"
      ],
      "text/plain": [
       "                               name  \\\n",
       "indice                                \n",
       "413.0   El anciano rey de los vinos   \n",
       "76.0             Taberna Más Al Sur   \n",
       "95.0                     Casa Labra   \n",
       "134.0            Parrilla El Gaucho   \n",
       "279.0     Santa Eulalia Boulangerie   \n",
       "\n",
       "                                              address                    type  \\\n",
       "indice                                                                          \n",
       "413.0            Calle Bailén 19, 28013 Madrid España            Mediterránea   \n",
       "76.0    Calle Santa Isabel Nº 35, 28012 Madrid España            Mediterránea   \n",
       "95.0             Calle Tetuan 12, 28013 Madrid España                     Bar   \n",
       "134.0            Calle Tetuan 34, 28013 Madrid España    Restaurante de carne   \n",
       "279.0            Calle Espejo 12, 28013 Madrid España  Confiterías/panaderías   \n",
       "\n",
       "                                              ranking     price  \\\n",
       "indice                                                            \n",
       "413.0           #549 de 10.409 restaurantes en Madrid  €€ - €€€   \n",
       "76.0             #34 de 10.414 restaurantes en Madrid  €€ - €€€   \n",
       "95.0            #650 de 10.414 restaurantes en Madrid         €   \n",
       "134.0           #311 de 10.414 restaurantes en Madrid  €€ - €€€   \n",
       "279.0   N.º 23 de 477 cafeterías y teterías en Madrid  €€ - €€€   \n",
       "\n",
       "                       direccion      comunidad                 street  \\\n",
       "indice                                                                   \n",
       "413.0            Calle Bailén 19  Madrid España        Calle Bailén 19   \n",
       "76.0    Calle Santa Isabel Nº 35  Madrid España  Calle Santa Isabel 35   \n",
       "95.0             Calle Tetuan 12  Madrid España        Calle Tetuan 12   \n",
       "134.0            Calle Tetuan 34  Madrid España        Calle Tetuan 34   \n",
       "279.0            Calle Espejo 12  Madrid España        Calle Espejo 12   \n",
       "\n",
       "                                    street_2               coordinates  \\\n",
       "indice                                                                   \n",
       "413.0         Calle Bailén 19, Madrid España    (40.028851, -3.606505)   \n",
       "76.0    Calle Santa Isabel 35, Madrid España  (40.0316837, -3.5908706)   \n",
       "95.0          Calle Tetuan 12, Madrid España  (40.0395885, -3.6142713)   \n",
       "134.0         Calle Tetuan 34, Madrid España  (40.0395885, -3.6142713)   \n",
       "279.0         Calle Espejo 12, Madrid España  (40.1384846, -3.4252641)   \n",
       "\n",
       "                                    street_3  \n",
       "indice                                        \n",
       "413.0         Calle Bailén 19, Madrid España  \n",
       "76.0    Calle Santa Isabel 35, Madrid España  \n",
       "95.0          Calle Tetuan 12, Madrid España  \n",
       "134.0         Calle Tetuan 34, Madrid España  \n",
       "279.0         Calle Espejo 12, Madrid España  "
      ]
     },
     "execution_count": 4,
     "metadata": {},
     "output_type": "execute_result"
    }
   ],
   "source": [
    "df.head()"
   ]
  },
  {
   "cell_type": "code",
   "execution_count": 10,
   "id": "36fa3daf",
   "metadata": {},
   "outputs": [
    {
     "data": {
      "text/plain": [
       "name           object\n",
       "address        object\n",
       "type           object\n",
       "ranking        object\n",
       "price          object\n",
       "direccion      object\n",
       "comunidad      object\n",
       "street         object\n",
       "street_2       object\n",
       "coordinates    object\n",
       "street_3       object\n",
       "dtype: object"
      ]
     },
     "execution_count": 10,
     "metadata": {},
     "output_type": "execute_result"
    }
   ],
   "source": [
    "df.dtypes"
   ]
  },
  {
   "cell_type": "code",
   "execution_count": 8,
   "id": "1fb470c0",
   "metadata": {},
   "outputs": [],
   "source": [
    "def ast_literal (x):\n",
    "    try:\n",
    "        return ast.literal_eval(x)\n",
    "    except:\n",
    "        return x"
   ]
  },
  {
   "cell_type": "code",
   "execution_count": 9,
   "id": "3fa6d467",
   "metadata": {},
   "outputs": [],
   "source": [
    "df.coordinates = df.coordinates.apply(ast_literal)"
   ]
  },
  {
   "cell_type": "code",
   "execution_count": 12,
   "id": "a495c62a",
   "metadata": {},
   "outputs": [],
   "source": [
    "def turn_around(x):\n",
    "    b = (x[1], x[0])\n",
    "    return list(b)"
   ]
  },
  {
   "cell_type": "code",
   "execution_count": 13,
   "id": "3f7eb6b8",
   "metadata": {},
   "outputs": [],
   "source": [
    "df[\"coordinates_v2\"] = df.coordinates.apply(turn_around)"
   ]
  },
  {
   "cell_type": "code",
   "execution_count": 14,
   "id": "41b80f63",
   "metadata": {},
   "outputs": [
    {
     "data": {
      "text/html": [
       "<div>\n",
       "<style scoped>\n",
       "    .dataframe tbody tr th:only-of-type {\n",
       "        vertical-align: middle;\n",
       "    }\n",
       "\n",
       "    .dataframe tbody tr th {\n",
       "        vertical-align: top;\n",
       "    }\n",
       "\n",
       "    .dataframe thead th {\n",
       "        text-align: right;\n",
       "    }\n",
       "</style>\n",
       "<table border=\"1\" class=\"dataframe\">\n",
       "  <thead>\n",
       "    <tr style=\"text-align: right;\">\n",
       "      <th></th>\n",
       "      <th>name</th>\n",
       "      <th>address</th>\n",
       "      <th>type</th>\n",
       "      <th>ranking</th>\n",
       "      <th>price</th>\n",
       "      <th>direccion</th>\n",
       "      <th>comunidad</th>\n",
       "      <th>street</th>\n",
       "      <th>street_2</th>\n",
       "      <th>coordinates</th>\n",
       "      <th>street_3</th>\n",
       "      <th>coordinates_v2</th>\n",
       "    </tr>\n",
       "    <tr>\n",
       "      <th>indice</th>\n",
       "      <th></th>\n",
       "      <th></th>\n",
       "      <th></th>\n",
       "      <th></th>\n",
       "      <th></th>\n",
       "      <th></th>\n",
       "      <th></th>\n",
       "      <th></th>\n",
       "      <th></th>\n",
       "      <th></th>\n",
       "      <th></th>\n",
       "      <th></th>\n",
       "    </tr>\n",
       "  </thead>\n",
       "  <tbody>\n",
       "    <tr>\n",
       "      <th>413.0</th>\n",
       "      <td>El anciano rey de los vinos</td>\n",
       "      <td>Calle Bailén 19, 28013 Madrid España</td>\n",
       "      <td>Mediterránea</td>\n",
       "      <td>#549 de 10.409 restaurantes en Madrid</td>\n",
       "      <td>€€ - €€€</td>\n",
       "      <td>Calle Bailén 19</td>\n",
       "      <td>Madrid España</td>\n",
       "      <td>Calle Bailén 19</td>\n",
       "      <td>Calle Bailén 19, Madrid España</td>\n",
       "      <td>(40.028851, -3.606505)</td>\n",
       "      <td>Calle Bailén 19, Madrid España</td>\n",
       "      <td>[-3.606505, 40.028851]</td>\n",
       "    </tr>\n",
       "    <tr>\n",
       "      <th>76.0</th>\n",
       "      <td>Taberna Más Al Sur</td>\n",
       "      <td>Calle Santa Isabel Nº 35, 28012 Madrid España</td>\n",
       "      <td>Mediterránea</td>\n",
       "      <td>#34 de 10.414 restaurantes en Madrid</td>\n",
       "      <td>€€ - €€€</td>\n",
       "      <td>Calle Santa Isabel Nº 35</td>\n",
       "      <td>Madrid España</td>\n",
       "      <td>Calle Santa Isabel 35</td>\n",
       "      <td>Calle Santa Isabel 35, Madrid España</td>\n",
       "      <td>(40.0316837, -3.5908706)</td>\n",
       "      <td>Calle Santa Isabel 35, Madrid España</td>\n",
       "      <td>[-3.5908706, 40.0316837]</td>\n",
       "    </tr>\n",
       "    <tr>\n",
       "      <th>95.0</th>\n",
       "      <td>Casa Labra</td>\n",
       "      <td>Calle Tetuan 12, 28013 Madrid España</td>\n",
       "      <td>Bar</td>\n",
       "      <td>#650 de 10.414 restaurantes en Madrid</td>\n",
       "      <td>€</td>\n",
       "      <td>Calle Tetuan 12</td>\n",
       "      <td>Madrid España</td>\n",
       "      <td>Calle Tetuan 12</td>\n",
       "      <td>Calle Tetuan 12, Madrid España</td>\n",
       "      <td>(40.0395885, -3.6142713)</td>\n",
       "      <td>Calle Tetuan 12, Madrid España</td>\n",
       "      <td>[-3.6142713, 40.0395885]</td>\n",
       "    </tr>\n",
       "    <tr>\n",
       "      <th>134.0</th>\n",
       "      <td>Parrilla El Gaucho</td>\n",
       "      <td>Calle Tetuan 34, 28013 Madrid España</td>\n",
       "      <td>Restaurante de carne</td>\n",
       "      <td>#311 de 10.414 restaurantes en Madrid</td>\n",
       "      <td>€€ - €€€</td>\n",
       "      <td>Calle Tetuan 34</td>\n",
       "      <td>Madrid España</td>\n",
       "      <td>Calle Tetuan 34</td>\n",
       "      <td>Calle Tetuan 34, Madrid España</td>\n",
       "      <td>(40.0395885, -3.6142713)</td>\n",
       "      <td>Calle Tetuan 34, Madrid España</td>\n",
       "      <td>[-3.6142713, 40.0395885]</td>\n",
       "    </tr>\n",
       "    <tr>\n",
       "      <th>279.0</th>\n",
       "      <td>Santa Eulalia Boulangerie</td>\n",
       "      <td>Calle Espejo 12, 28013 Madrid España</td>\n",
       "      <td>Confiterías/panaderías</td>\n",
       "      <td>N.º 23 de 477 cafeterías y teterías en Madrid</td>\n",
       "      <td>€€ - €€€</td>\n",
       "      <td>Calle Espejo 12</td>\n",
       "      <td>Madrid España</td>\n",
       "      <td>Calle Espejo 12</td>\n",
       "      <td>Calle Espejo 12, Madrid España</td>\n",
       "      <td>(40.1384846, -3.4252641)</td>\n",
       "      <td>Calle Espejo 12, Madrid España</td>\n",
       "      <td>[-3.4252641, 40.1384846]</td>\n",
       "    </tr>\n",
       "  </tbody>\n",
       "</table>\n",
       "</div>"
      ],
      "text/plain": [
       "                               name  \\\n",
       "indice                                \n",
       "413.0   El anciano rey de los vinos   \n",
       "76.0             Taberna Más Al Sur   \n",
       "95.0                     Casa Labra   \n",
       "134.0            Parrilla El Gaucho   \n",
       "279.0     Santa Eulalia Boulangerie   \n",
       "\n",
       "                                              address                    type  \\\n",
       "indice                                                                          \n",
       "413.0            Calle Bailén 19, 28013 Madrid España            Mediterránea   \n",
       "76.0    Calle Santa Isabel Nº 35, 28012 Madrid España            Mediterránea   \n",
       "95.0             Calle Tetuan 12, 28013 Madrid España                     Bar   \n",
       "134.0            Calle Tetuan 34, 28013 Madrid España    Restaurante de carne   \n",
       "279.0            Calle Espejo 12, 28013 Madrid España  Confiterías/panaderías   \n",
       "\n",
       "                                              ranking     price  \\\n",
       "indice                                                            \n",
       "413.0           #549 de 10.409 restaurantes en Madrid  €€ - €€€   \n",
       "76.0             #34 de 10.414 restaurantes en Madrid  €€ - €€€   \n",
       "95.0            #650 de 10.414 restaurantes en Madrid         €   \n",
       "134.0           #311 de 10.414 restaurantes en Madrid  €€ - €€€   \n",
       "279.0   N.º 23 de 477 cafeterías y teterías en Madrid  €€ - €€€   \n",
       "\n",
       "                       direccion      comunidad                 street  \\\n",
       "indice                                                                   \n",
       "413.0            Calle Bailén 19  Madrid España        Calle Bailén 19   \n",
       "76.0    Calle Santa Isabel Nº 35  Madrid España  Calle Santa Isabel 35   \n",
       "95.0             Calle Tetuan 12  Madrid España        Calle Tetuan 12   \n",
       "134.0            Calle Tetuan 34  Madrid España        Calle Tetuan 34   \n",
       "279.0            Calle Espejo 12  Madrid España        Calle Espejo 12   \n",
       "\n",
       "                                    street_2               coordinates  \\\n",
       "indice                                                                   \n",
       "413.0         Calle Bailén 19, Madrid España    (40.028851, -3.606505)   \n",
       "76.0    Calle Santa Isabel 35, Madrid España  (40.0316837, -3.5908706)   \n",
       "95.0          Calle Tetuan 12, Madrid España  (40.0395885, -3.6142713)   \n",
       "134.0         Calle Tetuan 34, Madrid España  (40.0395885, -3.6142713)   \n",
       "279.0         Calle Espejo 12, Madrid España  (40.1384846, -3.4252641)   \n",
       "\n",
       "                                    street_3            coordinates_v2  \n",
       "indice                                                                  \n",
       "413.0         Calle Bailén 19, Madrid España    [-3.606505, 40.028851]  \n",
       "76.0    Calle Santa Isabel 35, Madrid España  [-3.5908706, 40.0316837]  \n",
       "95.0          Calle Tetuan 12, Madrid España  [-3.6142713, 40.0395885]  \n",
       "134.0         Calle Tetuan 34, Madrid España  [-3.6142713, 40.0395885]  \n",
       "279.0         Calle Espejo 12, Madrid España  [-3.4252641, 40.1384846]  "
      ]
     },
     "execution_count": 14,
     "metadata": {},
     "output_type": "execute_result"
    }
   ],
   "source": [
    "df.head()"
   ]
  },
  {
   "cell_type": "code",
   "execution_count": 16,
   "id": "8c9bcbf4",
   "metadata": {},
   "outputs": [
    {
     "data": {
      "text/plain": [
       "list"
      ]
     },
     "execution_count": 16,
     "metadata": {},
     "output_type": "execute_result"
    }
   ],
   "source": [
    "type(df.coordinates_v2[0])"
   ]
  },
  {
   "cell_type": "code",
   "execution_count": 18,
   "id": "3efc35e9",
   "metadata": {},
   "outputs": [],
   "source": [
    "def type_point(x):\n",
    "    return {\"type\":\"Point\", \"coordinates\": [x[1], x[0]]}"
   ]
  },
  {
   "cell_type": "code",
   "execution_count": 19,
   "id": "639659b5",
   "metadata": {},
   "outputs": [],
   "source": [
    "df[\"type_point\"] = df[\"coordinates\"].apply(type_point)"
   ]
  },
  {
   "cell_type": "code",
   "execution_count": 21,
   "id": "0135492a",
   "metadata": {},
   "outputs": [
    {
     "data": {
      "text/html": [
       "<div>\n",
       "<style scoped>\n",
       "    .dataframe tbody tr th:only-of-type {\n",
       "        vertical-align: middle;\n",
       "    }\n",
       "\n",
       "    .dataframe tbody tr th {\n",
       "        vertical-align: top;\n",
       "    }\n",
       "\n",
       "    .dataframe thead th {\n",
       "        text-align: right;\n",
       "    }\n",
       "</style>\n",
       "<table border=\"1\" class=\"dataframe\">\n",
       "  <thead>\n",
       "    <tr style=\"text-align: right;\">\n",
       "      <th></th>\n",
       "      <th>name</th>\n",
       "      <th>address</th>\n",
       "      <th>type</th>\n",
       "      <th>ranking</th>\n",
       "      <th>price</th>\n",
       "      <th>direccion</th>\n",
       "      <th>comunidad</th>\n",
       "      <th>street</th>\n",
       "      <th>street_2</th>\n",
       "      <th>coordinates</th>\n",
       "      <th>street_3</th>\n",
       "      <th>coordinates_v2</th>\n",
       "      <th>type_point</th>\n",
       "    </tr>\n",
       "    <tr>\n",
       "      <th>indice</th>\n",
       "      <th></th>\n",
       "      <th></th>\n",
       "      <th></th>\n",
       "      <th></th>\n",
       "      <th></th>\n",
       "      <th></th>\n",
       "      <th></th>\n",
       "      <th></th>\n",
       "      <th></th>\n",
       "      <th></th>\n",
       "      <th></th>\n",
       "      <th></th>\n",
       "      <th></th>\n",
       "    </tr>\n",
       "  </thead>\n",
       "  <tbody>\n",
       "    <tr>\n",
       "      <th>413.0</th>\n",
       "      <td>El anciano rey de los vinos</td>\n",
       "      <td>Calle Bailén 19, 28013 Madrid España</td>\n",
       "      <td>Mediterránea</td>\n",
       "      <td>#549 de 10.409 restaurantes en Madrid</td>\n",
       "      <td>€€ - €€€</td>\n",
       "      <td>Calle Bailén 19</td>\n",
       "      <td>Madrid España</td>\n",
       "      <td>Calle Bailén 19</td>\n",
       "      <td>Calle Bailén 19, Madrid España</td>\n",
       "      <td>(40.028851, -3.606505)</td>\n",
       "      <td>Calle Bailén 19, Madrid España</td>\n",
       "      <td>[-3.606505, 40.028851]</td>\n",
       "      <td>{'type': 'Point', 'coordinates': [-3.606505, 4...</td>\n",
       "    </tr>\n",
       "    <tr>\n",
       "      <th>76.0</th>\n",
       "      <td>Taberna Más Al Sur</td>\n",
       "      <td>Calle Santa Isabel Nº 35, 28012 Madrid España</td>\n",
       "      <td>Mediterránea</td>\n",
       "      <td>#34 de 10.414 restaurantes en Madrid</td>\n",
       "      <td>€€ - €€€</td>\n",
       "      <td>Calle Santa Isabel Nº 35</td>\n",
       "      <td>Madrid España</td>\n",
       "      <td>Calle Santa Isabel 35</td>\n",
       "      <td>Calle Santa Isabel 35, Madrid España</td>\n",
       "      <td>(40.0316837, -3.5908706)</td>\n",
       "      <td>Calle Santa Isabel 35, Madrid España</td>\n",
       "      <td>[-3.5908706, 40.0316837]</td>\n",
       "      <td>{'type': 'Point', 'coordinates': [-3.5908706, ...</td>\n",
       "    </tr>\n",
       "  </tbody>\n",
       "</table>\n",
       "</div>"
      ],
      "text/plain": [
       "                               name  \\\n",
       "indice                                \n",
       "413.0   El anciano rey de los vinos   \n",
       "76.0             Taberna Más Al Sur   \n",
       "\n",
       "                                              address          type  \\\n",
       "indice                                                                \n",
       "413.0            Calle Bailén 19, 28013 Madrid España  Mediterránea   \n",
       "76.0    Calle Santa Isabel Nº 35, 28012 Madrid España  Mediterránea   \n",
       "\n",
       "                                      ranking     price  \\\n",
       "indice                                                    \n",
       "413.0   #549 de 10.409 restaurantes en Madrid  €€ - €€€   \n",
       "76.0     #34 de 10.414 restaurantes en Madrid  €€ - €€€   \n",
       "\n",
       "                       direccion      comunidad                 street  \\\n",
       "indice                                                                   \n",
       "413.0            Calle Bailén 19  Madrid España        Calle Bailén 19   \n",
       "76.0    Calle Santa Isabel Nº 35  Madrid España  Calle Santa Isabel 35   \n",
       "\n",
       "                                    street_2               coordinates  \\\n",
       "indice                                                                   \n",
       "413.0         Calle Bailén 19, Madrid España    (40.028851, -3.606505)   \n",
       "76.0    Calle Santa Isabel 35, Madrid España  (40.0316837, -3.5908706)   \n",
       "\n",
       "                                    street_3            coordinates_v2  \\\n",
       "indice                                                                   \n",
       "413.0         Calle Bailén 19, Madrid España    [-3.606505, 40.028851]   \n",
       "76.0    Calle Santa Isabel 35, Madrid España  [-3.5908706, 40.0316837]   \n",
       "\n",
       "                                               type_point  \n",
       "indice                                                     \n",
       "413.0   {'type': 'Point', 'coordinates': [-3.606505, 4...  \n",
       "76.0    {'type': 'Point', 'coordinates': [-3.5908706, ...  "
      ]
     },
     "execution_count": 21,
     "metadata": {},
     "output_type": "execute_result"
    }
   ],
   "source": [
    "df.head(2)"
   ]
  },
  {
   "cell_type": "code",
   "execution_count": 23,
   "id": "bbb3aa0e",
   "metadata": {},
   "outputs": [
    {
     "data": {
      "text/plain": [
       "dict"
      ]
     },
     "execution_count": 23,
     "metadata": {},
     "output_type": "execute_result"
    }
   ],
   "source": [
    "type(df.type_point[0])"
   ]
  },
  {
   "cell_type": "code",
   "execution_count": 24,
   "id": "85bdd00b",
   "metadata": {},
   "outputs": [],
   "source": [
    "def get_latitude (x):\n",
    "    return x[0]"
   ]
  },
  {
   "cell_type": "code",
   "execution_count": 25,
   "id": "fb2375a2",
   "metadata": {},
   "outputs": [],
   "source": [
    "def get_longitude (x):\n",
    "    return x[1]"
   ]
  },
  {
   "cell_type": "code",
   "execution_count": 26,
   "id": "12c318d5",
   "metadata": {},
   "outputs": [],
   "source": [
    "df[\"longitude\"] = df[\"coordinates\"].apply(get_longitude)"
   ]
  },
  {
   "cell_type": "code",
   "execution_count": 27,
   "id": "0c2380c7",
   "metadata": {},
   "outputs": [],
   "source": [
    "df[\"latitude\"] = df[\"coordinates\"].apply(get_latitude)"
   ]
  },
  {
   "cell_type": "code",
   "execution_count": 30,
   "id": "cb2ebbd9",
   "metadata": {},
   "outputs": [
    {
     "data": {
      "text/html": [
       "<div>\n",
       "<style scoped>\n",
       "    .dataframe tbody tr th:only-of-type {\n",
       "        vertical-align: middle;\n",
       "    }\n",
       "\n",
       "    .dataframe tbody tr th {\n",
       "        vertical-align: top;\n",
       "    }\n",
       "\n",
       "    .dataframe thead th {\n",
       "        text-align: right;\n",
       "    }\n",
       "</style>\n",
       "<table border=\"1\" class=\"dataframe\">\n",
       "  <thead>\n",
       "    <tr style=\"text-align: right;\">\n",
       "      <th></th>\n",
       "      <th>name</th>\n",
       "      <th>address</th>\n",
       "      <th>type</th>\n",
       "      <th>ranking</th>\n",
       "      <th>price</th>\n",
       "      <th>direccion</th>\n",
       "      <th>comunidad</th>\n",
       "      <th>street</th>\n",
       "      <th>street_2</th>\n",
       "      <th>coordinates</th>\n",
       "      <th>street_3</th>\n",
       "      <th>coordinates_v2</th>\n",
       "      <th>type_point</th>\n",
       "      <th>longitude</th>\n",
       "      <th>latitude</th>\n",
       "    </tr>\n",
       "    <tr>\n",
       "      <th>indice</th>\n",
       "      <th></th>\n",
       "      <th></th>\n",
       "      <th></th>\n",
       "      <th></th>\n",
       "      <th></th>\n",
       "      <th></th>\n",
       "      <th></th>\n",
       "      <th></th>\n",
       "      <th></th>\n",
       "      <th></th>\n",
       "      <th></th>\n",
       "      <th></th>\n",
       "      <th></th>\n",
       "      <th></th>\n",
       "      <th></th>\n",
       "    </tr>\n",
       "  </thead>\n",
       "  <tbody>\n",
       "    <tr>\n",
       "      <th>413.0</th>\n",
       "      <td>El anciano rey de los vinos</td>\n",
       "      <td>Calle Bailén 19, 28013 Madrid España</td>\n",
       "      <td>Mediterránea</td>\n",
       "      <td>#549 de 10.409 restaurantes en Madrid</td>\n",
       "      <td>€€ - €€€</td>\n",
       "      <td>Calle Bailén 19</td>\n",
       "      <td>Madrid España</td>\n",
       "      <td>Calle Bailén 19</td>\n",
       "      <td>Calle Bailén 19, Madrid España</td>\n",
       "      <td>(40.028851, -3.606505)</td>\n",
       "      <td>Calle Bailén 19, Madrid España</td>\n",
       "      <td>[-3.606505, 40.028851]</td>\n",
       "      <td>{'type': 'Point', 'coordinates': [-3.606505, 4...</td>\n",
       "      <td>-3.606505</td>\n",
       "      <td>40.028851</td>\n",
       "    </tr>\n",
       "    <tr>\n",
       "      <th>76.0</th>\n",
       "      <td>Taberna Más Al Sur</td>\n",
       "      <td>Calle Santa Isabel Nº 35, 28012 Madrid España</td>\n",
       "      <td>Mediterránea</td>\n",
       "      <td>#34 de 10.414 restaurantes en Madrid</td>\n",
       "      <td>€€ - €€€</td>\n",
       "      <td>Calle Santa Isabel Nº 35</td>\n",
       "      <td>Madrid España</td>\n",
       "      <td>Calle Santa Isabel 35</td>\n",
       "      <td>Calle Santa Isabel 35, Madrid España</td>\n",
       "      <td>(40.0316837, -3.5908706)</td>\n",
       "      <td>Calle Santa Isabel 35, Madrid España</td>\n",
       "      <td>[-3.5908706, 40.0316837]</td>\n",
       "      <td>{'type': 'Point', 'coordinates': [-3.5908706, ...</td>\n",
       "      <td>-3.590871</td>\n",
       "      <td>40.031684</td>\n",
       "    </tr>\n",
       "  </tbody>\n",
       "</table>\n",
       "</div>"
      ],
      "text/plain": [
       "                               name  \\\n",
       "indice                                \n",
       "413.0   El anciano rey de los vinos   \n",
       "76.0             Taberna Más Al Sur   \n",
       "\n",
       "                                              address          type  \\\n",
       "indice                                                                \n",
       "413.0            Calle Bailén 19, 28013 Madrid España  Mediterránea   \n",
       "76.0    Calle Santa Isabel Nº 35, 28012 Madrid España  Mediterránea   \n",
       "\n",
       "                                      ranking     price  \\\n",
       "indice                                                    \n",
       "413.0   #549 de 10.409 restaurantes en Madrid  €€ - €€€   \n",
       "76.0     #34 de 10.414 restaurantes en Madrid  €€ - €€€   \n",
       "\n",
       "                       direccion      comunidad                 street  \\\n",
       "indice                                                                   \n",
       "413.0            Calle Bailén 19  Madrid España        Calle Bailén 19   \n",
       "76.0    Calle Santa Isabel Nº 35  Madrid España  Calle Santa Isabel 35   \n",
       "\n",
       "                                    street_2               coordinates  \\\n",
       "indice                                                                   \n",
       "413.0         Calle Bailén 19, Madrid España    (40.028851, -3.606505)   \n",
       "76.0    Calle Santa Isabel 35, Madrid España  (40.0316837, -3.5908706)   \n",
       "\n",
       "                                    street_3            coordinates_v2  \\\n",
       "indice                                                                   \n",
       "413.0         Calle Bailén 19, Madrid España    [-3.606505, 40.028851]   \n",
       "76.0    Calle Santa Isabel 35, Madrid España  [-3.5908706, 40.0316837]   \n",
       "\n",
       "                                               type_point  longitude  \\\n",
       "indice                                                                 \n",
       "413.0   {'type': 'Point', 'coordinates': [-3.606505, 4...  -3.606505   \n",
       "76.0    {'type': 'Point', 'coordinates': [-3.5908706, ...  -3.590871   \n",
       "\n",
       "         latitude  \n",
       "indice             \n",
       "413.0   40.028851  \n",
       "76.0    40.031684  "
      ]
     },
     "execution_count": 30,
     "metadata": {},
     "output_type": "execute_result"
    }
   ],
   "source": [
    "df.head(2)"
   ]
  },
  {
   "cell_type": "code",
   "execution_count": 31,
   "id": "f32d9a51",
   "metadata": {},
   "outputs": [],
   "source": [
    "def delete_hashtag(x):\n",
    "    x = str(x).replace('#', \"\")\n",
    "    return x"
   ]
  },
  {
   "cell_type": "code",
   "execution_count": 32,
   "id": "b7b7ccf4",
   "metadata": {},
   "outputs": [],
   "source": [
    "df[\"ranking\"] = df.ranking.apply(delete_hashtag)"
   ]
  },
  {
   "cell_type": "code",
   "execution_count": 33,
   "id": "57d3fa00",
   "metadata": {},
   "outputs": [],
   "source": [
    "def delete_string(x):\n",
    "    x = str(x).replace('restaurantes en Madrid', \"\")\n",
    "    return x"
   ]
  },
  {
   "cell_type": "code",
   "execution_count": 34,
   "id": "1945932e",
   "metadata": {},
   "outputs": [],
   "source": [
    "df[\"ranking\"] = df.ranking.apply(delete_string)"
   ]
  },
  {
   "cell_type": "code",
   "execution_count": 36,
   "id": "0a37b1e7",
   "metadata": {},
   "outputs": [
    {
     "data": {
      "text/html": [
       "<div>\n",
       "<style scoped>\n",
       "    .dataframe tbody tr th:only-of-type {\n",
       "        vertical-align: middle;\n",
       "    }\n",
       "\n",
       "    .dataframe tbody tr th {\n",
       "        vertical-align: top;\n",
       "    }\n",
       "\n",
       "    .dataframe thead th {\n",
       "        text-align: right;\n",
       "    }\n",
       "</style>\n",
       "<table border=\"1\" class=\"dataframe\">\n",
       "  <thead>\n",
       "    <tr style=\"text-align: right;\">\n",
       "      <th></th>\n",
       "      <th>name</th>\n",
       "      <th>address</th>\n",
       "      <th>type</th>\n",
       "      <th>ranking</th>\n",
       "      <th>price</th>\n",
       "      <th>direccion</th>\n",
       "      <th>comunidad</th>\n",
       "      <th>street</th>\n",
       "      <th>street_2</th>\n",
       "      <th>coordinates</th>\n",
       "      <th>street_3</th>\n",
       "      <th>coordinates_v2</th>\n",
       "      <th>type_point</th>\n",
       "      <th>longitude</th>\n",
       "      <th>latitude</th>\n",
       "    </tr>\n",
       "    <tr>\n",
       "      <th>indice</th>\n",
       "      <th></th>\n",
       "      <th></th>\n",
       "      <th></th>\n",
       "      <th></th>\n",
       "      <th></th>\n",
       "      <th></th>\n",
       "      <th></th>\n",
       "      <th></th>\n",
       "      <th></th>\n",
       "      <th></th>\n",
       "      <th></th>\n",
       "      <th></th>\n",
       "      <th></th>\n",
       "      <th></th>\n",
       "      <th></th>\n",
       "    </tr>\n",
       "  </thead>\n",
       "  <tbody>\n",
       "    <tr>\n",
       "      <th>413.0</th>\n",
       "      <td>El anciano rey de los vinos</td>\n",
       "      <td>Calle Bailén 19, 28013 Madrid España</td>\n",
       "      <td>Mediterránea</td>\n",
       "      <td>549 de 10.409</td>\n",
       "      <td>€€ - €€€</td>\n",
       "      <td>Calle Bailén 19</td>\n",
       "      <td>Madrid España</td>\n",
       "      <td>Calle Bailén 19</td>\n",
       "      <td>Calle Bailén 19, Madrid España</td>\n",
       "      <td>(40.028851, -3.606505)</td>\n",
       "      <td>Calle Bailén 19, Madrid España</td>\n",
       "      <td>[-3.606505, 40.028851]</td>\n",
       "      <td>{'type': 'Point', 'coordinates': [-3.606505, 4...</td>\n",
       "      <td>-3.606505</td>\n",
       "      <td>40.028851</td>\n",
       "    </tr>\n",
       "    <tr>\n",
       "      <th>76.0</th>\n",
       "      <td>Taberna Más Al Sur</td>\n",
       "      <td>Calle Santa Isabel Nº 35, 28012 Madrid España</td>\n",
       "      <td>Mediterránea</td>\n",
       "      <td>34 de 10.414</td>\n",
       "      <td>€€ - €€€</td>\n",
       "      <td>Calle Santa Isabel Nº 35</td>\n",
       "      <td>Madrid España</td>\n",
       "      <td>Calle Santa Isabel 35</td>\n",
       "      <td>Calle Santa Isabel 35, Madrid España</td>\n",
       "      <td>(40.0316837, -3.5908706)</td>\n",
       "      <td>Calle Santa Isabel 35, Madrid España</td>\n",
       "      <td>[-3.5908706, 40.0316837]</td>\n",
       "      <td>{'type': 'Point', 'coordinates': [-3.5908706, ...</td>\n",
       "      <td>-3.590871</td>\n",
       "      <td>40.031684</td>\n",
       "    </tr>\n",
       "  </tbody>\n",
       "</table>\n",
       "</div>"
      ],
      "text/plain": [
       "                               name  \\\n",
       "indice                                \n",
       "413.0   El anciano rey de los vinos   \n",
       "76.0             Taberna Más Al Sur   \n",
       "\n",
       "                                              address          type  \\\n",
       "indice                                                                \n",
       "413.0            Calle Bailén 19, 28013 Madrid España  Mediterránea   \n",
       "76.0    Calle Santa Isabel Nº 35, 28012 Madrid España  Mediterránea   \n",
       "\n",
       "               ranking     price                 direccion      comunidad  \\\n",
       "indice                                                                      \n",
       "413.0   549 de 10.409   €€ - €€€           Calle Bailén 19  Madrid España   \n",
       "76.0     34 de 10.414   €€ - €€€  Calle Santa Isabel Nº 35  Madrid España   \n",
       "\n",
       "                       street                              street_2  \\\n",
       "indice                                                                \n",
       "413.0         Calle Bailén 19        Calle Bailén 19, Madrid España   \n",
       "76.0    Calle Santa Isabel 35  Calle Santa Isabel 35, Madrid España   \n",
       "\n",
       "                     coordinates                              street_3  \\\n",
       "indice                                                                   \n",
       "413.0     (40.028851, -3.606505)        Calle Bailén 19, Madrid España   \n",
       "76.0    (40.0316837, -3.5908706)  Calle Santa Isabel 35, Madrid España   \n",
       "\n",
       "                  coordinates_v2  \\\n",
       "indice                             \n",
       "413.0     [-3.606505, 40.028851]   \n",
       "76.0    [-3.5908706, 40.0316837]   \n",
       "\n",
       "                                               type_point  longitude  \\\n",
       "indice                                                                 \n",
       "413.0   {'type': 'Point', 'coordinates': [-3.606505, 4...  -3.606505   \n",
       "76.0    {'type': 'Point', 'coordinates': [-3.5908706, ...  -3.590871   \n",
       "\n",
       "         latitude  \n",
       "indice             \n",
       "413.0   40.028851  \n",
       "76.0    40.031684  "
      ]
     },
     "execution_count": 36,
     "metadata": {},
     "output_type": "execute_result"
    }
   ],
   "source": [
    "df.head(2)"
   ]
  },
  {
   "cell_type": "code",
   "execution_count": 37,
   "id": "581c2be1",
   "metadata": {},
   "outputs": [],
   "source": [
    "df.to_csv('tripadvisor_latlon.csv')"
   ]
  },
  {
   "cell_type": "markdown",
   "id": "5dea8ad1",
   "metadata": {},
   "source": [
    "## Exportar a Mongo"
   ]
  },
  {
   "cell_type": "code",
   "execution_count": 38,
   "id": "a5dc6f06",
   "metadata": {},
   "outputs": [],
   "source": [
    "client = MongoClient(\"localhost:27017\")"
   ]
  },
  {
   "cell_type": "code",
   "execution_count": 39,
   "id": "0050e196",
   "metadata": {},
   "outputs": [
    {
     "data": {
      "text/plain": [
       "Database(MongoClient(host=['localhost:27017'], document_class=dict, tz_aware=False, connect=True), 'PROJECT')"
      ]
     },
     "execution_count": 39,
     "metadata": {},
     "output_type": "execute_result"
    }
   ],
   "source": [
    "db = client.get_database(\"PROJECT\")\n",
    "db"
   ]
  },
  {
   "cell_type": "code",
   "execution_count": 40,
   "id": "77ce175b",
   "metadata": {},
   "outputs": [],
   "source": [
    "collection = db[\"Restaurants\"]"
   ]
  },
  {
   "cell_type": "code",
   "execution_count": null,
   "id": "4d6709bf",
   "metadata": {},
   "outputs": [],
   "source": [
    "collection.create_index([(\"type_point_\", \"2dsphere\")])"
   ]
  },
  {
   "cell_type": "code",
   "execution_count": 41,
   "id": "548b0bfe",
   "metadata": {},
   "outputs": [],
   "source": [
    "data = df.to_dict(orient='records')"
   ]
  },
  {
   "cell_type": "code",
   "execution_count": 44,
   "id": "7e69b349",
   "metadata": {},
   "outputs": [
    {
     "data": {
      "text/plain": [
       "{'type': 'Point', 'coordinates': [-3.679035, 40.4243394]}"
      ]
     },
     "execution_count": 44,
     "metadata": {},
     "output_type": "execute_result"
    }
   ],
   "source": [
    "df.type_point[0]"
   ]
  },
  {
   "cell_type": "code",
   "execution_count": 45,
   "id": "40710119",
   "metadata": {
    "scrolled": true
   },
   "outputs": [
    {
     "data": {
      "text/plain": [
       "<pymongo.results.InsertManyResult at 0x7f9a0cc1a4c0>"
      ]
     },
     "execution_count": 45,
     "metadata": {},
     "output_type": "execute_result"
    }
   ],
   "source": [
    "collection.insert_many(data)"
   ]
  },
  {
   "cell_type": "code",
   "execution_count": null,
   "id": "bf9399c1",
   "metadata": {},
   "outputs": [],
   "source": [
    "ubicacion = input(\"¿Dónde estás?: \")\n",
    "print(ubicacion)"
   ]
  },
  {
   "cell_type": "code",
   "execution_count": null,
   "id": "33e85cd6",
   "metadata": {},
   "outputs": [],
   "source": [
    "tipo = input(\"¿Qué tipo de comida te apetece?: \")\n",
    "print(tipo)"
   ]
  },
  {
   "cell_type": "code",
   "execution_count": null,
   "id": "bb285f80",
   "metadata": {},
   "outputs": [],
   "source": [
    "distance = int(input(\"¿Cuántos metros quieres desplazarte?: \"))\n",
    "print(distance)"
   ]
  },
  {
   "cell_type": "code",
   "execution_count": null,
   "id": "0e9e09a0",
   "metadata": {},
   "outputs": [],
   "source": [
    "def get_coordenadas(address):\n",
    "    \"\"\"\n",
    "    Esta función saca las coordenadas de la ciudad que le pases.\n",
    "    Args: una ciudad (string).\n",
    "    Return: Las coordeandas de la ciudad que le paso como argumento (latitud y longitud).\n",
    "    \"\"\"\n",
    "    geolocator = Nominatim(user_agent=\"Ana\")\n",
    "    location = geolocator.geocode(query=address, exactly_one=True)\n",
    "    localizacion = location[1]\n",
    "    return [localizacion[1], localizacion[0]]"
   ]
  },
  {
   "cell_type": "code",
   "execution_count": null,
   "id": "eca7badd",
   "metadata": {},
   "outputs": [],
   "source": [
    "coordinate = get_coordenadas(ubicacion)"
   ]
  },
  {
   "cell_type": "code",
   "execution_count": null,
   "id": "6ef0d9d7",
   "metadata": {},
   "outputs": [],
   "source": [
    "coordinate"
   ]
  },
  {
   "cell_type": "code",
   "execution_count": null,
   "id": "70156d4c",
   "metadata": {},
   "outputs": [],
   "source": [
    "inicial_lat = coordinate[1]\n",
    "print(inicial_lat)\n",
    "inicial_long =  coordinate[0]"
   ]
  },
  {
   "cell_type": "code",
   "execution_count": null,
   "id": "610fb0fc",
   "metadata": {},
   "outputs": [],
   "source": [
    "def type_point(lista):\n",
    "    return {\"type\":\"Point\", \"coordinates\": lista}"
   ]
  },
  {
   "cell_type": "code",
   "execution_count": null,
   "id": "b9efb1a2",
   "metadata": {},
   "outputs": [],
   "source": [
    "db"
   ]
  },
  {
   "cell_type": "markdown",
   "id": "6b80f786",
   "metadata": {},
   "source": [
    "## Restaurantes a 500 m"
   ]
  },
  {
   "cell_type": "code",
   "execution_count": null,
   "id": "0a117e9f",
   "metadata": {},
   "outputs": [],
   "source": [
    "restaurants = db.get_collection(\"Restaurants\")"
   ]
  },
  {
   "cell_type": "code",
   "execution_count": null,
   "id": "34e47ab9",
   "metadata": {},
   "outputs": [],
   "source": [
    "all_restaurants = {\"coordinates_v2\": {\"$near\": {\"$geometry\":{'type': 'Point', 'coordinates':coordinate},\n",
    "                                                  \"$maxDistance\": distance}}}"
   ]
  },
  {
   "cell_type": "code",
   "execution_count": null,
   "id": "455ec177",
   "metadata": {},
   "outputs": [],
   "source": [
    "(list(restaurants.find(all_restaurants)))"
   ]
  },
  {
   "cell_type": "code",
   "execution_count": null,
   "id": "d6f0fbec",
   "metadata": {},
   "outputs": [],
   "source": [
    "df_restaurantes= pd.DataFrame(list(restaurants.find(all_restaurants)))"
   ]
  },
  {
   "cell_type": "code",
   "execution_count": null,
   "id": "4c3d931e",
   "metadata": {},
   "outputs": [],
   "source": [
    "df_restaurantes"
   ]
  },
  {
   "cell_type": "code",
   "execution_count": null,
   "id": "8cf939ea",
   "metadata": {},
   "outputs": [],
   "source": [
    "df_restaurantes.type.unique()"
   ]
  },
  {
   "cell_type": "markdown",
   "id": "fe1ffb90",
   "metadata": {},
   "source": [
    "## Restaurantes Mediterraneos"
   ]
  },
  {
   "cell_type": "code",
   "execution_count": null,
   "id": "128d6b88",
   "metadata": {},
   "outputs": [],
   "source": [
    "rest_mediterraneos = {\"coordinates_v2\": {\"$near\": {\"$geometry\":{'type': 'Point', 'coordinates':coordinate},\n",
    "                                                  \"$maxDistance\": distance}},'type': \"Mediterránea\"}"
   ]
  },
  {
   "cell_type": "code",
   "execution_count": null,
   "id": "a3694d3c",
   "metadata": {},
   "outputs": [],
   "source": [
    "rest_mediterraneos"
   ]
  },
  {
   "cell_type": "code",
   "execution_count": null,
   "id": "49a78a40",
   "metadata": {},
   "outputs": [],
   "source": [
    "len(list(restaurants.find(query_restaurants)))"
   ]
  },
  {
   "cell_type": "code",
   "execution_count": null,
   "id": "199b491f",
   "metadata": {},
   "outputs": [],
   "source": [
    "df_medit = pd.DataFrame(list(restaurants.find(query_restaurants)))"
   ]
  },
  {
   "cell_type": "code",
   "execution_count": null,
   "id": "01d5fc9a",
   "metadata": {},
   "outputs": [],
   "source": [
    "df_medit"
   ]
  },
  {
   "cell_type": "markdown",
   "id": "ddf5ce2c",
   "metadata": {},
   "source": [
    "## Restaurantes Española"
   ]
  },
  {
   "cell_type": "code",
   "execution_count": null,
   "id": "2c064fbf",
   "metadata": {},
   "outputs": [],
   "source": [
    "rest_internacional = {\"coordinates_v2\": {\"$near\": {\"$geometry\":{'type': 'Point', 'coordinates':coordinate},\n",
    "                                                  \"$maxDistance\": distance}},'type': \"Internacional\"}"
   ]
  },
  {
   "cell_type": "code",
   "execution_count": null,
   "id": "210c3ede",
   "metadata": {},
   "outputs": [],
   "source": [
    "rest_internacional"
   ]
  },
  {
   "cell_type": "code",
   "execution_count": null,
   "id": "bd991af3",
   "metadata": {},
   "outputs": [],
   "source": [
    "len(list(restaurants.find(rest_internacional)))"
   ]
  },
  {
   "cell_type": "code",
   "execution_count": null,
   "id": "d9b61236",
   "metadata": {},
   "outputs": [],
   "source": [
    "df_intern = pd.DataFrame(list(restaurants.find(rest_internacional)))"
   ]
  },
  {
   "cell_type": "code",
   "execution_count": null,
   "id": "a3321e5e",
   "metadata": {},
   "outputs": [],
   "source": [
    "df_intern"
   ]
  },
  {
   "cell_type": "markdown",
   "id": "f4d2ee76",
   "metadata": {},
   "source": [
    "## Maps"
   ]
  },
  {
   "cell_type": "code",
   "execution_count": null,
   "id": "5d081aa5",
   "metadata": {},
   "outputs": [],
   "source": [
    "df_restaurantes.head()"
   ]
  },
  {
   "cell_type": "code",
   "execution_count": null,
   "id": "82d5ed71",
   "metadata": {},
   "outputs": [],
   "source": [
    "def get_latitude (x):\n",
    "    return x[0]"
   ]
  },
  {
   "cell_type": "code",
   "execution_count": null,
   "id": "35e3412b",
   "metadata": {},
   "outputs": [],
   "source": [
    "def get_longitude (x):\n",
    "    return x[1]"
   ]
  },
  {
   "cell_type": "code",
   "execution_count": null,
   "id": "e1855577",
   "metadata": {},
   "outputs": [],
   "source": [
    "df_restaurantes[\"latitud\"] = df_restaurantes[\"coordinates\"].apply(get_latitude)"
   ]
  },
  {
   "cell_type": "code",
   "execution_count": null,
   "id": "182e9c75",
   "metadata": {},
   "outputs": [],
   "source": [
    "df_restaurantes[\"longitude\"] = df_restaurantes[\"coordinates\"].apply(get_longitude)"
   ]
  },
  {
   "cell_type": "code",
   "execution_count": null,
   "id": "40be907d",
   "metadata": {},
   "outputs": [],
   "source": [
    "df_restaurantes"
   ]
  },
  {
   "cell_type": "code",
   "execution_count": null,
   "id": "021a9b38",
   "metadata": {},
   "outputs": [],
   "source": [
    "map_1 = folium.Map(location=[inicial_lat,inicial_long], zoom_start=15)\n",
    "\n",
    "dic = {\"location\": [inicial_lat, inicial_long], \"tooltip\": \"ubicacion\"}\n",
    "\n",
    "icono = Icon(color = \"red\",\n",
    "                     prefix=\"fa\",\n",
    "                     icon=\"map-marker\",\n",
    "                     icon_color=\"black\")\n",
    "\n",
    "mark = Marker(**dic, icon=icono)\n",
    "mark.add_to(map_1)"
   ]
  },
  {
   "cell_type": "code",
   "execution_count": null,
   "id": "d76ccca7",
   "metadata": {},
   "outputs": [],
   "source": [
    "map_1"
   ]
  },
  {
   "cell_type": "code",
   "execution_count": null,
   "id": "505032fe",
   "metadata": {},
   "outputs": [],
   "source": [
    "df_restaurantes.type.unique()"
   ]
  },
  {
   "cell_type": "code",
   "execution_count": null,
   "id": "e71eea21",
   "metadata": {},
   "outputs": [],
   "source": [
    "for i,row in df_restaurantes.iterrows():\n",
    "\n",
    "    #dic = {\"location\": [row[\"latitud\"], row[\"longitud\"]], \"tooltip\": row[\"nombre\"]}\n",
    "    dic = {\"location\": [row[\"latitud\"], row[\"longitude\"]], \"tooltip\": row[\"name\"]}\n",
    "\n",
    "    if row[\"type\"] == \"Mediterránea\":\n",
    "        icono = Icon(color = \"green\",\n",
    "                     prefix=\"fa\",\n",
    "                     icon=\"circle\",\n",
    "                     icon_color=\"black\")\n",
    "\n",
    "    elif row[\"type\"] == 'Italiana':\n",
    "        icono = Icon(color = \"lightblue\",\n",
    "                     prefix=\"fa\",\n",
    "                     icon=\"circle\",\n",
    "                     icon_color=\"black\")\n",
    "\n",
    "        \n",
    "    elif row[\"type\"] == \"Internacional\":        \n",
    "        icono = Icon(color = \"orange\",\n",
    "                     prefix=\"fa\",\n",
    "                     icon=\"circle\",\n",
    "                     icon_color=\"black\")\n",
    "           \n",
    "    elif row[\"type\"] == \"Confiterías/panaderías\":        \n",
    "        icono = Icon(color = \"gray\",\n",
    "                     prefix=\"fa\",\n",
    "                     icon=\"circle\",\n",
    "                     icon_color=\"black\")\n",
    "           \n",
    "    elif row[\"type\"] == \"Japonesa\":        \n",
    "        icono = Icon(color = \"cadetblue\",\n",
    "                     prefix=\"fa\",\n",
    "                     icon=\"circle\",\n",
    "                     icon_color=\"black\")\n",
    "           \n",
    "           \n",
    "    elif row[\"type\"] == \"Bar\":        \n",
    "        icono = Icon(color = \"lightgreen\",\n",
    "                     prefix=\"fa\",\n",
    "                     icon=\"circle\",\n",
    "                     icon_color=\"black\")\n",
    "           \n",
    "           \n",
    "    elif row[\"type\"] == \"India\":        \n",
    "        icono = Icon(color = \"lightblue\",\n",
    "                     prefix=\"fa\",\n",
    "                     icon=\"circle\",\n",
    "                     icon_color=\"black\")\n",
    "           \n",
    "                 \n",
    "           \n",
    "    elif row[\"type\"] == \"Mexicana\":        \n",
    "        icono = Icon(color = \"pink\",\n",
    "                     prefix=\"fa\",\n",
    "                     icon=\"circle\",\n",
    "                     icon_color=\"black\")\n",
    "           \n",
    "           \n",
    "    elif row[\"type\"] == \"Pub con cerveza artesanal\":        \n",
    "        icono = Icon(color = \"purple\",\n",
    "                     prefix=\"fa\",\n",
    "                     icon=\"circle\",\n",
    "                     icon_color=\"black\")\n",
    "           \n",
    "    \n",
    "    mark = Marker(**dic, icon=icono)\n",
    "    mark.add_to(map_1)   "
   ]
  },
  {
   "cell_type": "code",
   "execution_count": null,
   "id": "cde63cc5",
   "metadata": {},
   "outputs": [],
   "source": [
    "map_1"
   ]
  },
  {
   "cell_type": "markdown",
   "id": "d1cd4e06",
   "metadata": {},
   "source": [
    "1- Input preguntando donde estas\n",
    "2- Input preguntando que radio quieren\n",
    "3- Funcion que pasa de direccion a coordenadas (coordenadas al reves)\n",
    "4- Funcion que me haga una query near a moongo y me devuelva todos los restaurantes en el radio  \n",
    "\n",
    "\n",
    "\n",
    "\n",
    "streamlit : parte del csv, estoy en tal sitio y quiero tal tipo de comida en esta distancia.\n",
    "\n",
    "- tendre una funcion que haga la query y saque un pandas. support\n",
    "- tendre una función que haga un mapa con un pd. return map. spport\n",
    "\n",
    "\n",
    "- df = función(input del usuario)\n",
    "- map (df)\n",
    "\n",
    "\n",
    "\n",
    "\n",
    "mañana hay que tener la presentación.\n",
    "\n",
    "1- mapas (aqui va el input del usuario)\n",
    "para la distancia hago un sidebar. esta en iris_prediction/src/ support.py /\n",
    "\n",
    "2 - graficos\n",
    "\n",
    "\n",
    "3- diccionario map sobre el pd.\n",
    "\n",
    "\n",
    "\n",
    "\n",
    "\n"
   ]
  },
  {
   "cell_type": "code",
   "execution_count": null,
   "id": "de379df9",
   "metadata": {},
   "outputs": [],
   "source": []
  }
 ],
 "metadata": {
  "kernelspec": {
   "display_name": "ironhack",
   "language": "python",
   "name": "ironhack"
  },
  "language_info": {
   "codemirror_mode": {
    "name": "ipython",
    "version": 3
   },
   "file_extension": ".py",
   "mimetype": "text/x-python",
   "name": "python",
   "nbconvert_exporter": "python",
   "pygments_lexer": "ipython3",
   "version": "3.8.5"
  }
 },
 "nbformat": 4,
 "nbformat_minor": 5
}
