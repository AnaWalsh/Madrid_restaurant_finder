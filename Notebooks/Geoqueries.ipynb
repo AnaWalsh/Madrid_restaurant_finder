{
 "cells": [
  {
   "cell_type": "code",
   "execution_count": 1,
   "id": "f4a9331b",
   "metadata": {},
   "outputs": [],
   "source": [
    "from pymongo import MongoClient\n",
    "import requests\n",
    "from dotenv import load_dotenv\n",
    "import os\n",
    "import pandas as pd\n",
    "import geopandas as gpd\n",
    "from cartoframes.viz import Map, Layer, popup_element\n",
    "from functools import reduce\n",
    "import operator\n",
    "import json\n",
    "import re\n",
    "from geopy.geocoders import Nominatim"
   ]
  },
  {
   "cell_type": "code",
   "execution_count": 2,
   "id": "e9069203",
   "metadata": {},
   "outputs": [],
   "source": [
    "import folium\n",
    "from folium import Choropleth, Circle, Marker, Icon, Map\n",
    "from folium.plugins import HeatMap, MarkerCluster\n",
    "import pandas as pd"
   ]
  },
  {
   "cell_type": "code",
   "execution_count": 3,
   "id": "28285f6d",
   "metadata": {},
   "outputs": [],
   "source": [
    "import ast"
   ]
  },
  {
   "cell_type": "code",
   "execution_count": 4,
   "id": "4b42a69c",
   "metadata": {},
   "outputs": [],
   "source": [
    "df = pd.read_csv('../data/data_tripadvisor.csv', index_col=0)\n",
    "df.dropna(how = \"all\", axis = 0, inplace = True)"
   ]
  },
  {
   "cell_type": "code",
   "execution_count": 5,
   "id": "09abb835",
   "metadata": {},
   "outputs": [
    {
     "data": {
      "text/html": [
       "<div>\n",
       "<style scoped>\n",
       "    .dataframe tbody tr th:only-of-type {\n",
       "        vertical-align: middle;\n",
       "    }\n",
       "\n",
       "    .dataframe tbody tr th {\n",
       "        vertical-align: top;\n",
       "    }\n",
       "\n",
       "    .dataframe thead th {\n",
       "        text-align: right;\n",
       "    }\n",
       "</style>\n",
       "<table border=\"1\" class=\"dataframe\">\n",
       "  <thead>\n",
       "    <tr style=\"text-align: right;\">\n",
       "      <th></th>\n",
       "      <th>name</th>\n",
       "      <th>address</th>\n",
       "      <th>type</th>\n",
       "      <th>ranking</th>\n",
       "      <th>price</th>\n",
       "      <th>direccion</th>\n",
       "      <th>comunidad</th>\n",
       "      <th>street</th>\n",
       "      <th>street_2</th>\n",
       "      <th>coordinates</th>\n",
       "      <th>street_3</th>\n",
       "    </tr>\n",
       "    <tr>\n",
       "      <th>indice</th>\n",
       "      <th></th>\n",
       "      <th></th>\n",
       "      <th></th>\n",
       "      <th></th>\n",
       "      <th></th>\n",
       "      <th></th>\n",
       "      <th></th>\n",
       "      <th></th>\n",
       "      <th></th>\n",
       "      <th></th>\n",
       "      <th></th>\n",
       "    </tr>\n",
       "  </thead>\n",
       "  <tbody>\n",
       "    <tr>\n",
       "      <th>413.0</th>\n",
       "      <td>El anciano rey de los vinos</td>\n",
       "      <td>Calle Bailén 19, 28013 Madrid España</td>\n",
       "      <td>Mediterránea</td>\n",
       "      <td>#549 de 10.409 restaurantes en Madrid</td>\n",
       "      <td>€€ - €€€</td>\n",
       "      <td>Calle Bailén 19</td>\n",
       "      <td>Madrid España</td>\n",
       "      <td>Calle Bailén 19</td>\n",
       "      <td>Calle Bailén 19, Madrid España</td>\n",
       "      <td>(40.028851, -3.606505)</td>\n",
       "      <td>Calle Bailén 19, Madrid España</td>\n",
       "    </tr>\n",
       "    <tr>\n",
       "      <th>76.0</th>\n",
       "      <td>Taberna Más Al Sur</td>\n",
       "      <td>Calle Santa Isabel Nº 35, 28012 Madrid España</td>\n",
       "      <td>Mediterránea</td>\n",
       "      <td>#34 de 10.414 restaurantes en Madrid</td>\n",
       "      <td>€€ - €€€</td>\n",
       "      <td>Calle Santa Isabel Nº 35</td>\n",
       "      <td>Madrid España</td>\n",
       "      <td>Calle Santa Isabel 35</td>\n",
       "      <td>Calle Santa Isabel 35, Madrid España</td>\n",
       "      <td>(40.0316837, -3.5908706)</td>\n",
       "      <td>Calle Santa Isabel 35, Madrid España</td>\n",
       "    </tr>\n",
       "    <tr>\n",
       "      <th>95.0</th>\n",
       "      <td>Casa Labra</td>\n",
       "      <td>Calle Tetuan 12, 28013 Madrid España</td>\n",
       "      <td>Bar</td>\n",
       "      <td>#650 de 10.414 restaurantes en Madrid</td>\n",
       "      <td>€</td>\n",
       "      <td>Calle Tetuan 12</td>\n",
       "      <td>Madrid España</td>\n",
       "      <td>Calle Tetuan 12</td>\n",
       "      <td>Calle Tetuan 12, Madrid España</td>\n",
       "      <td>(40.0395885, -3.6142713)</td>\n",
       "      <td>Calle Tetuan 12, Madrid España</td>\n",
       "    </tr>\n",
       "    <tr>\n",
       "      <th>134.0</th>\n",
       "      <td>Parrilla El Gaucho</td>\n",
       "      <td>Calle Tetuan 34, 28013 Madrid España</td>\n",
       "      <td>Restaurante de carne</td>\n",
       "      <td>#311 de 10.414 restaurantes en Madrid</td>\n",
       "      <td>€€ - €€€</td>\n",
       "      <td>Calle Tetuan 34</td>\n",
       "      <td>Madrid España</td>\n",
       "      <td>Calle Tetuan 34</td>\n",
       "      <td>Calle Tetuan 34, Madrid España</td>\n",
       "      <td>(40.0395885, -3.6142713)</td>\n",
       "      <td>Calle Tetuan 34, Madrid España</td>\n",
       "    </tr>\n",
       "    <tr>\n",
       "      <th>279.0</th>\n",
       "      <td>Santa Eulalia Boulangerie</td>\n",
       "      <td>Calle Espejo 12, 28013 Madrid España</td>\n",
       "      <td>Confiterías/panaderías</td>\n",
       "      <td>N.º 23 de 477 cafeterías y teterías en Madrid</td>\n",
       "      <td>€€ - €€€</td>\n",
       "      <td>Calle Espejo 12</td>\n",
       "      <td>Madrid España</td>\n",
       "      <td>Calle Espejo 12</td>\n",
       "      <td>Calle Espejo 12, Madrid España</td>\n",
       "      <td>(40.1384846, -3.4252641)</td>\n",
       "      <td>Calle Espejo 12, Madrid España</td>\n",
       "    </tr>\n",
       "  </tbody>\n",
       "</table>\n",
       "</div>"
      ],
      "text/plain": [
       "                               name  \\\n",
       "indice                                \n",
       "413.0   El anciano rey de los vinos   \n",
       "76.0             Taberna Más Al Sur   \n",
       "95.0                     Casa Labra   \n",
       "134.0            Parrilla El Gaucho   \n",
       "279.0     Santa Eulalia Boulangerie   \n",
       "\n",
       "                                              address                    type  \\\n",
       "indice                                                                          \n",
       "413.0            Calle Bailén 19, 28013 Madrid España            Mediterránea   \n",
       "76.0    Calle Santa Isabel Nº 35, 28012 Madrid España            Mediterránea   \n",
       "95.0             Calle Tetuan 12, 28013 Madrid España                     Bar   \n",
       "134.0            Calle Tetuan 34, 28013 Madrid España    Restaurante de carne   \n",
       "279.0            Calle Espejo 12, 28013 Madrid España  Confiterías/panaderías   \n",
       "\n",
       "                                              ranking     price  \\\n",
       "indice                                                            \n",
       "413.0           #549 de 10.409 restaurantes en Madrid  €€ - €€€   \n",
       "76.0             #34 de 10.414 restaurantes en Madrid  €€ - €€€   \n",
       "95.0            #650 de 10.414 restaurantes en Madrid         €   \n",
       "134.0           #311 de 10.414 restaurantes en Madrid  €€ - €€€   \n",
       "279.0   N.º 23 de 477 cafeterías y teterías en Madrid  €€ - €€€   \n",
       "\n",
       "                       direccion      comunidad                 street  \\\n",
       "indice                                                                   \n",
       "413.0            Calle Bailén 19  Madrid España        Calle Bailén 19   \n",
       "76.0    Calle Santa Isabel Nº 35  Madrid España  Calle Santa Isabel 35   \n",
       "95.0             Calle Tetuan 12  Madrid España        Calle Tetuan 12   \n",
       "134.0            Calle Tetuan 34  Madrid España        Calle Tetuan 34   \n",
       "279.0            Calle Espejo 12  Madrid España        Calle Espejo 12   \n",
       "\n",
       "                                    street_2               coordinates  \\\n",
       "indice                                                                   \n",
       "413.0         Calle Bailén 19, Madrid España    (40.028851, -3.606505)   \n",
       "76.0    Calle Santa Isabel 35, Madrid España  (40.0316837, -3.5908706)   \n",
       "95.0          Calle Tetuan 12, Madrid España  (40.0395885, -3.6142713)   \n",
       "134.0         Calle Tetuan 34, Madrid España  (40.0395885, -3.6142713)   \n",
       "279.0         Calle Espejo 12, Madrid España  (40.1384846, -3.4252641)   \n",
       "\n",
       "                                    street_3  \n",
       "indice                                        \n",
       "413.0         Calle Bailén 19, Madrid España  \n",
       "76.0    Calle Santa Isabel 35, Madrid España  \n",
       "95.0          Calle Tetuan 12, Madrid España  \n",
       "134.0         Calle Tetuan 34, Madrid España  \n",
       "279.0         Calle Espejo 12, Madrid España  "
      ]
     },
     "execution_count": 5,
     "metadata": {},
     "output_type": "execute_result"
    }
   ],
   "source": [
    "df.head()"
   ]
  },
  {
   "cell_type": "code",
   "execution_count": 6,
   "id": "71d67024",
   "metadata": {},
   "outputs": [
    {
     "data": {
      "text/plain": [
       "name           object\n",
       "address        object\n",
       "type           object\n",
       "ranking        object\n",
       "price          object\n",
       "direccion      object\n",
       "comunidad      object\n",
       "street         object\n",
       "street_2       object\n",
       "coordinates    object\n",
       "street_3       object\n",
       "dtype: object"
      ]
     },
     "execution_count": 6,
     "metadata": {},
     "output_type": "execute_result"
    }
   ],
   "source": [
    "df.dtypes"
   ]
  },
  {
   "cell_type": "code",
   "execution_count": 7,
   "id": "1fb470c0",
   "metadata": {},
   "outputs": [],
   "source": [
    "def ast_literal (x):\n",
    "    try:\n",
    "        return ast.literal_eval(x)\n",
    "    except:\n",
    "        return x"
   ]
  },
  {
   "cell_type": "code",
   "execution_count": 8,
   "id": "3fa6d467",
   "metadata": {},
   "outputs": [],
   "source": [
    "df.coordinates = df.coordinates.apply(ast_literal)"
   ]
  },
  {
   "cell_type": "code",
   "execution_count": 9,
   "id": "a495c62a",
   "metadata": {},
   "outputs": [],
   "source": [
    "def turn_around(x):\n",
    "    b = (x[1], x[0])\n",
    "    return list(b)"
   ]
  },
  {
   "cell_type": "code",
   "execution_count": 10,
   "id": "3f7eb6b8",
   "metadata": {},
   "outputs": [],
   "source": [
    "df[\"coordinates_v2\"] = df.coordinates.apply(turn_around)"
   ]
  },
  {
   "cell_type": "code",
   "execution_count": 11,
   "id": "41b80f63",
   "metadata": {},
   "outputs": [
    {
     "data": {
      "text/html": [
       "<div>\n",
       "<style scoped>\n",
       "    .dataframe tbody tr th:only-of-type {\n",
       "        vertical-align: middle;\n",
       "    }\n",
       "\n",
       "    .dataframe tbody tr th {\n",
       "        vertical-align: top;\n",
       "    }\n",
       "\n",
       "    .dataframe thead th {\n",
       "        text-align: right;\n",
       "    }\n",
       "</style>\n",
       "<table border=\"1\" class=\"dataframe\">\n",
       "  <thead>\n",
       "    <tr style=\"text-align: right;\">\n",
       "      <th></th>\n",
       "      <th>name</th>\n",
       "      <th>address</th>\n",
       "      <th>type</th>\n",
       "      <th>ranking</th>\n",
       "      <th>price</th>\n",
       "      <th>direccion</th>\n",
       "      <th>comunidad</th>\n",
       "      <th>street</th>\n",
       "      <th>street_2</th>\n",
       "      <th>coordinates</th>\n",
       "      <th>street_3</th>\n",
       "      <th>coordinates_v2</th>\n",
       "    </tr>\n",
       "    <tr>\n",
       "      <th>indice</th>\n",
       "      <th></th>\n",
       "      <th></th>\n",
       "      <th></th>\n",
       "      <th></th>\n",
       "      <th></th>\n",
       "      <th></th>\n",
       "      <th></th>\n",
       "      <th></th>\n",
       "      <th></th>\n",
       "      <th></th>\n",
       "      <th></th>\n",
       "      <th></th>\n",
       "    </tr>\n",
       "  </thead>\n",
       "  <tbody>\n",
       "    <tr>\n",
       "      <th>413.0</th>\n",
       "      <td>El anciano rey de los vinos</td>\n",
       "      <td>Calle Bailén 19, 28013 Madrid España</td>\n",
       "      <td>Mediterránea</td>\n",
       "      <td>#549 de 10.409 restaurantes en Madrid</td>\n",
       "      <td>€€ - €€€</td>\n",
       "      <td>Calle Bailén 19</td>\n",
       "      <td>Madrid España</td>\n",
       "      <td>Calle Bailén 19</td>\n",
       "      <td>Calle Bailén 19, Madrid España</td>\n",
       "      <td>(40.028851, -3.606505)</td>\n",
       "      <td>Calle Bailén 19, Madrid España</td>\n",
       "      <td>[-3.606505, 40.028851]</td>\n",
       "    </tr>\n",
       "    <tr>\n",
       "      <th>76.0</th>\n",
       "      <td>Taberna Más Al Sur</td>\n",
       "      <td>Calle Santa Isabel Nº 35, 28012 Madrid España</td>\n",
       "      <td>Mediterránea</td>\n",
       "      <td>#34 de 10.414 restaurantes en Madrid</td>\n",
       "      <td>€€ - €€€</td>\n",
       "      <td>Calle Santa Isabel Nº 35</td>\n",
       "      <td>Madrid España</td>\n",
       "      <td>Calle Santa Isabel 35</td>\n",
       "      <td>Calle Santa Isabel 35, Madrid España</td>\n",
       "      <td>(40.0316837, -3.5908706)</td>\n",
       "      <td>Calle Santa Isabel 35, Madrid España</td>\n",
       "      <td>[-3.5908706, 40.0316837]</td>\n",
       "    </tr>\n",
       "    <tr>\n",
       "      <th>95.0</th>\n",
       "      <td>Casa Labra</td>\n",
       "      <td>Calle Tetuan 12, 28013 Madrid España</td>\n",
       "      <td>Bar</td>\n",
       "      <td>#650 de 10.414 restaurantes en Madrid</td>\n",
       "      <td>€</td>\n",
       "      <td>Calle Tetuan 12</td>\n",
       "      <td>Madrid España</td>\n",
       "      <td>Calle Tetuan 12</td>\n",
       "      <td>Calle Tetuan 12, Madrid España</td>\n",
       "      <td>(40.0395885, -3.6142713)</td>\n",
       "      <td>Calle Tetuan 12, Madrid España</td>\n",
       "      <td>[-3.6142713, 40.0395885]</td>\n",
       "    </tr>\n",
       "    <tr>\n",
       "      <th>134.0</th>\n",
       "      <td>Parrilla El Gaucho</td>\n",
       "      <td>Calle Tetuan 34, 28013 Madrid España</td>\n",
       "      <td>Restaurante de carne</td>\n",
       "      <td>#311 de 10.414 restaurantes en Madrid</td>\n",
       "      <td>€€ - €€€</td>\n",
       "      <td>Calle Tetuan 34</td>\n",
       "      <td>Madrid España</td>\n",
       "      <td>Calle Tetuan 34</td>\n",
       "      <td>Calle Tetuan 34, Madrid España</td>\n",
       "      <td>(40.0395885, -3.6142713)</td>\n",
       "      <td>Calle Tetuan 34, Madrid España</td>\n",
       "      <td>[-3.6142713, 40.0395885]</td>\n",
       "    </tr>\n",
       "    <tr>\n",
       "      <th>279.0</th>\n",
       "      <td>Santa Eulalia Boulangerie</td>\n",
       "      <td>Calle Espejo 12, 28013 Madrid España</td>\n",
       "      <td>Confiterías/panaderías</td>\n",
       "      <td>N.º 23 de 477 cafeterías y teterías en Madrid</td>\n",
       "      <td>€€ - €€€</td>\n",
       "      <td>Calle Espejo 12</td>\n",
       "      <td>Madrid España</td>\n",
       "      <td>Calle Espejo 12</td>\n",
       "      <td>Calle Espejo 12, Madrid España</td>\n",
       "      <td>(40.1384846, -3.4252641)</td>\n",
       "      <td>Calle Espejo 12, Madrid España</td>\n",
       "      <td>[-3.4252641, 40.1384846]</td>\n",
       "    </tr>\n",
       "  </tbody>\n",
       "</table>\n",
       "</div>"
      ],
      "text/plain": [
       "                               name  \\\n",
       "indice                                \n",
       "413.0   El anciano rey de los vinos   \n",
       "76.0             Taberna Más Al Sur   \n",
       "95.0                     Casa Labra   \n",
       "134.0            Parrilla El Gaucho   \n",
       "279.0     Santa Eulalia Boulangerie   \n",
       "\n",
       "                                              address                    type  \\\n",
       "indice                                                                          \n",
       "413.0            Calle Bailén 19, 28013 Madrid España            Mediterránea   \n",
       "76.0    Calle Santa Isabel Nº 35, 28012 Madrid España            Mediterránea   \n",
       "95.0             Calle Tetuan 12, 28013 Madrid España                     Bar   \n",
       "134.0            Calle Tetuan 34, 28013 Madrid España    Restaurante de carne   \n",
       "279.0            Calle Espejo 12, 28013 Madrid España  Confiterías/panaderías   \n",
       "\n",
       "                                              ranking     price  \\\n",
       "indice                                                            \n",
       "413.0           #549 de 10.409 restaurantes en Madrid  €€ - €€€   \n",
       "76.0             #34 de 10.414 restaurantes en Madrid  €€ - €€€   \n",
       "95.0            #650 de 10.414 restaurantes en Madrid         €   \n",
       "134.0           #311 de 10.414 restaurantes en Madrid  €€ - €€€   \n",
       "279.0   N.º 23 de 477 cafeterías y teterías en Madrid  €€ - €€€   \n",
       "\n",
       "                       direccion      comunidad                 street  \\\n",
       "indice                                                                   \n",
       "413.0            Calle Bailén 19  Madrid España        Calle Bailén 19   \n",
       "76.0    Calle Santa Isabel Nº 35  Madrid España  Calle Santa Isabel 35   \n",
       "95.0             Calle Tetuan 12  Madrid España        Calle Tetuan 12   \n",
       "134.0            Calle Tetuan 34  Madrid España        Calle Tetuan 34   \n",
       "279.0            Calle Espejo 12  Madrid España        Calle Espejo 12   \n",
       "\n",
       "                                    street_2               coordinates  \\\n",
       "indice                                                                   \n",
       "413.0         Calle Bailén 19, Madrid España    (40.028851, -3.606505)   \n",
       "76.0    Calle Santa Isabel 35, Madrid España  (40.0316837, -3.5908706)   \n",
       "95.0          Calle Tetuan 12, Madrid España  (40.0395885, -3.6142713)   \n",
       "134.0         Calle Tetuan 34, Madrid España  (40.0395885, -3.6142713)   \n",
       "279.0         Calle Espejo 12, Madrid España  (40.1384846, -3.4252641)   \n",
       "\n",
       "                                    street_3            coordinates_v2  \n",
       "indice                                                                  \n",
       "413.0         Calle Bailén 19, Madrid España    [-3.606505, 40.028851]  \n",
       "76.0    Calle Santa Isabel 35, Madrid España  [-3.5908706, 40.0316837]  \n",
       "95.0          Calle Tetuan 12, Madrid España  [-3.6142713, 40.0395885]  \n",
       "134.0         Calle Tetuan 34, Madrid España  [-3.6142713, 40.0395885]  \n",
       "279.0         Calle Espejo 12, Madrid España  [-3.4252641, 40.1384846]  "
      ]
     },
     "execution_count": 11,
     "metadata": {},
     "output_type": "execute_result"
    }
   ],
   "source": [
    "df.head()"
   ]
  },
  {
   "cell_type": "code",
   "execution_count": 12,
   "id": "c240d2a8",
   "metadata": {},
   "outputs": [
    {
     "data": {
      "text/plain": [
       "list"
      ]
     },
     "execution_count": 12,
     "metadata": {},
     "output_type": "execute_result"
    }
   ],
   "source": [
    "type(df.coordinates_v2[0])"
   ]
  },
  {
   "cell_type": "code",
   "execution_count": 13,
   "id": "3efc35e9",
   "metadata": {},
   "outputs": [],
   "source": [
    "def type_point(x):\n",
    "    return {\"type\":\"Point\", \"coordinates\": [x[1], x[0]]}"
   ]
  },
  {
   "cell_type": "code",
   "execution_count": 14,
   "id": "639659b5",
   "metadata": {},
   "outputs": [],
   "source": [
    "df[\"type_point\"] = df[\"coordinates\"].apply(type_point)"
   ]
  },
  {
   "cell_type": "code",
   "execution_count": 15,
   "id": "0135492a",
   "metadata": {},
   "outputs": [
    {
     "data": {
      "text/html": [
       "<div>\n",
       "<style scoped>\n",
       "    .dataframe tbody tr th:only-of-type {\n",
       "        vertical-align: middle;\n",
       "    }\n",
       "\n",
       "    .dataframe tbody tr th {\n",
       "        vertical-align: top;\n",
       "    }\n",
       "\n",
       "    .dataframe thead th {\n",
       "        text-align: right;\n",
       "    }\n",
       "</style>\n",
       "<table border=\"1\" class=\"dataframe\">\n",
       "  <thead>\n",
       "    <tr style=\"text-align: right;\">\n",
       "      <th></th>\n",
       "      <th>name</th>\n",
       "      <th>address</th>\n",
       "      <th>type</th>\n",
       "      <th>ranking</th>\n",
       "      <th>price</th>\n",
       "      <th>direccion</th>\n",
       "      <th>comunidad</th>\n",
       "      <th>street</th>\n",
       "      <th>street_2</th>\n",
       "      <th>coordinates</th>\n",
       "      <th>street_3</th>\n",
       "      <th>coordinates_v2</th>\n",
       "      <th>type_point</th>\n",
       "    </tr>\n",
       "    <tr>\n",
       "      <th>indice</th>\n",
       "      <th></th>\n",
       "      <th></th>\n",
       "      <th></th>\n",
       "      <th></th>\n",
       "      <th></th>\n",
       "      <th></th>\n",
       "      <th></th>\n",
       "      <th></th>\n",
       "      <th></th>\n",
       "      <th></th>\n",
       "      <th></th>\n",
       "      <th></th>\n",
       "      <th></th>\n",
       "    </tr>\n",
       "  </thead>\n",
       "  <tbody>\n",
       "    <tr>\n",
       "      <th>413.0</th>\n",
       "      <td>El anciano rey de los vinos</td>\n",
       "      <td>Calle Bailén 19, 28013 Madrid España</td>\n",
       "      <td>Mediterránea</td>\n",
       "      <td>#549 de 10.409 restaurantes en Madrid</td>\n",
       "      <td>€€ - €€€</td>\n",
       "      <td>Calle Bailén 19</td>\n",
       "      <td>Madrid España</td>\n",
       "      <td>Calle Bailén 19</td>\n",
       "      <td>Calle Bailén 19, Madrid España</td>\n",
       "      <td>(40.028851, -3.606505)</td>\n",
       "      <td>Calle Bailén 19, Madrid España</td>\n",
       "      <td>[-3.606505, 40.028851]</td>\n",
       "      <td>{'type': 'Point', 'coordinates': [-3.606505, 4...</td>\n",
       "    </tr>\n",
       "    <tr>\n",
       "      <th>76.0</th>\n",
       "      <td>Taberna Más Al Sur</td>\n",
       "      <td>Calle Santa Isabel Nº 35, 28012 Madrid España</td>\n",
       "      <td>Mediterránea</td>\n",
       "      <td>#34 de 10.414 restaurantes en Madrid</td>\n",
       "      <td>€€ - €€€</td>\n",
       "      <td>Calle Santa Isabel Nº 35</td>\n",
       "      <td>Madrid España</td>\n",
       "      <td>Calle Santa Isabel 35</td>\n",
       "      <td>Calle Santa Isabel 35, Madrid España</td>\n",
       "      <td>(40.0316837, -3.5908706)</td>\n",
       "      <td>Calle Santa Isabel 35, Madrid España</td>\n",
       "      <td>[-3.5908706, 40.0316837]</td>\n",
       "      <td>{'type': 'Point', 'coordinates': [-3.5908706, ...</td>\n",
       "    </tr>\n",
       "  </tbody>\n",
       "</table>\n",
       "</div>"
      ],
      "text/plain": [
       "                               name  \\\n",
       "indice                                \n",
       "413.0   El anciano rey de los vinos   \n",
       "76.0             Taberna Más Al Sur   \n",
       "\n",
       "                                              address          type  \\\n",
       "indice                                                                \n",
       "413.0            Calle Bailén 19, 28013 Madrid España  Mediterránea   \n",
       "76.0    Calle Santa Isabel Nº 35, 28012 Madrid España  Mediterránea   \n",
       "\n",
       "                                      ranking     price  \\\n",
       "indice                                                    \n",
       "413.0   #549 de 10.409 restaurantes en Madrid  €€ - €€€   \n",
       "76.0     #34 de 10.414 restaurantes en Madrid  €€ - €€€   \n",
       "\n",
       "                       direccion      comunidad                 street  \\\n",
       "indice                                                                   \n",
       "413.0            Calle Bailén 19  Madrid España        Calle Bailén 19   \n",
       "76.0    Calle Santa Isabel Nº 35  Madrid España  Calle Santa Isabel 35   \n",
       "\n",
       "                                    street_2               coordinates  \\\n",
       "indice                                                                   \n",
       "413.0         Calle Bailén 19, Madrid España    (40.028851, -3.606505)   \n",
       "76.0    Calle Santa Isabel 35, Madrid España  (40.0316837, -3.5908706)   \n",
       "\n",
       "                                    street_3            coordinates_v2  \\\n",
       "indice                                                                   \n",
       "413.0         Calle Bailén 19, Madrid España    [-3.606505, 40.028851]   \n",
       "76.0    Calle Santa Isabel 35, Madrid España  [-3.5908706, 40.0316837]   \n",
       "\n",
       "                                               type_point  \n",
       "indice                                                     \n",
       "413.0   {'type': 'Point', 'coordinates': [-3.606505, 4...  \n",
       "76.0    {'type': 'Point', 'coordinates': [-3.5908706, ...  "
      ]
     },
     "execution_count": 15,
     "metadata": {},
     "output_type": "execute_result"
    }
   ],
   "source": [
    "df.head(2)"
   ]
  },
  {
   "cell_type": "code",
   "execution_count": 16,
   "id": "00224a2c",
   "metadata": {},
   "outputs": [
    {
     "data": {
      "text/plain": [
       "dict"
      ]
     },
     "execution_count": 16,
     "metadata": {},
     "output_type": "execute_result"
    }
   ],
   "source": [
    "type(df.type_point[0])"
   ]
  },
  {
   "cell_type": "code",
   "execution_count": 17,
   "id": "85bdd00b",
   "metadata": {},
   "outputs": [],
   "source": [
    "def get_latitude (x):\n",
    "    return x[0]"
   ]
  },
  {
   "cell_type": "code",
   "execution_count": 18,
   "id": "fb2375a2",
   "metadata": {},
   "outputs": [],
   "source": [
    "def get_longitude (x):\n",
    "    return x[1]"
   ]
  },
  {
   "cell_type": "code",
   "execution_count": 19,
   "id": "12c318d5",
   "metadata": {},
   "outputs": [],
   "source": [
    "df[\"longitude\"] = df[\"coordinates\"].apply(get_longitude)"
   ]
  },
  {
   "cell_type": "code",
   "execution_count": 20,
   "id": "0c2380c7",
   "metadata": {},
   "outputs": [],
   "source": [
    "df[\"latitude\"] = df[\"coordinates\"].apply(get_latitude)"
   ]
  },
  {
   "cell_type": "code",
   "execution_count": 21,
   "id": "cb2ebbd9",
   "metadata": {},
   "outputs": [
    {
     "data": {
      "text/html": [
       "<div>\n",
       "<style scoped>\n",
       "    .dataframe tbody tr th:only-of-type {\n",
       "        vertical-align: middle;\n",
       "    }\n",
       "\n",
       "    .dataframe tbody tr th {\n",
       "        vertical-align: top;\n",
       "    }\n",
       "\n",
       "    .dataframe thead th {\n",
       "        text-align: right;\n",
       "    }\n",
       "</style>\n",
       "<table border=\"1\" class=\"dataframe\">\n",
       "  <thead>\n",
       "    <tr style=\"text-align: right;\">\n",
       "      <th></th>\n",
       "      <th>name</th>\n",
       "      <th>address</th>\n",
       "      <th>type</th>\n",
       "      <th>ranking</th>\n",
       "      <th>price</th>\n",
       "      <th>direccion</th>\n",
       "      <th>comunidad</th>\n",
       "      <th>street</th>\n",
       "      <th>street_2</th>\n",
       "      <th>coordinates</th>\n",
       "      <th>street_3</th>\n",
       "      <th>coordinates_v2</th>\n",
       "      <th>type_point</th>\n",
       "      <th>longitude</th>\n",
       "      <th>latitude</th>\n",
       "    </tr>\n",
       "    <tr>\n",
       "      <th>indice</th>\n",
       "      <th></th>\n",
       "      <th></th>\n",
       "      <th></th>\n",
       "      <th></th>\n",
       "      <th></th>\n",
       "      <th></th>\n",
       "      <th></th>\n",
       "      <th></th>\n",
       "      <th></th>\n",
       "      <th></th>\n",
       "      <th></th>\n",
       "      <th></th>\n",
       "      <th></th>\n",
       "      <th></th>\n",
       "      <th></th>\n",
       "    </tr>\n",
       "  </thead>\n",
       "  <tbody>\n",
       "    <tr>\n",
       "      <th>413.0</th>\n",
       "      <td>El anciano rey de los vinos</td>\n",
       "      <td>Calle Bailén 19, 28013 Madrid España</td>\n",
       "      <td>Mediterránea</td>\n",
       "      <td>#549 de 10.409 restaurantes en Madrid</td>\n",
       "      <td>€€ - €€€</td>\n",
       "      <td>Calle Bailén 19</td>\n",
       "      <td>Madrid España</td>\n",
       "      <td>Calle Bailén 19</td>\n",
       "      <td>Calle Bailén 19, Madrid España</td>\n",
       "      <td>(40.028851, -3.606505)</td>\n",
       "      <td>Calle Bailén 19, Madrid España</td>\n",
       "      <td>[-3.606505, 40.028851]</td>\n",
       "      <td>{'type': 'Point', 'coordinates': [-3.606505, 4...</td>\n",
       "      <td>-3.606505</td>\n",
       "      <td>40.028851</td>\n",
       "    </tr>\n",
       "    <tr>\n",
       "      <th>76.0</th>\n",
       "      <td>Taberna Más Al Sur</td>\n",
       "      <td>Calle Santa Isabel Nº 35, 28012 Madrid España</td>\n",
       "      <td>Mediterránea</td>\n",
       "      <td>#34 de 10.414 restaurantes en Madrid</td>\n",
       "      <td>€€ - €€€</td>\n",
       "      <td>Calle Santa Isabel Nº 35</td>\n",
       "      <td>Madrid España</td>\n",
       "      <td>Calle Santa Isabel 35</td>\n",
       "      <td>Calle Santa Isabel 35, Madrid España</td>\n",
       "      <td>(40.0316837, -3.5908706)</td>\n",
       "      <td>Calle Santa Isabel 35, Madrid España</td>\n",
       "      <td>[-3.5908706, 40.0316837]</td>\n",
       "      <td>{'type': 'Point', 'coordinates': [-3.5908706, ...</td>\n",
       "      <td>-3.590871</td>\n",
       "      <td>40.031684</td>\n",
       "    </tr>\n",
       "  </tbody>\n",
       "</table>\n",
       "</div>"
      ],
      "text/plain": [
       "                               name  \\\n",
       "indice                                \n",
       "413.0   El anciano rey de los vinos   \n",
       "76.0             Taberna Más Al Sur   \n",
       "\n",
       "                                              address          type  \\\n",
       "indice                                                                \n",
       "413.0            Calle Bailén 19, 28013 Madrid España  Mediterránea   \n",
       "76.0    Calle Santa Isabel Nº 35, 28012 Madrid España  Mediterránea   \n",
       "\n",
       "                                      ranking     price  \\\n",
       "indice                                                    \n",
       "413.0   #549 de 10.409 restaurantes en Madrid  €€ - €€€   \n",
       "76.0     #34 de 10.414 restaurantes en Madrid  €€ - €€€   \n",
       "\n",
       "                       direccion      comunidad                 street  \\\n",
       "indice                                                                   \n",
       "413.0            Calle Bailén 19  Madrid España        Calle Bailén 19   \n",
       "76.0    Calle Santa Isabel Nº 35  Madrid España  Calle Santa Isabel 35   \n",
       "\n",
       "                                    street_2               coordinates  \\\n",
       "indice                                                                   \n",
       "413.0         Calle Bailén 19, Madrid España    (40.028851, -3.606505)   \n",
       "76.0    Calle Santa Isabel 35, Madrid España  (40.0316837, -3.5908706)   \n",
       "\n",
       "                                    street_3            coordinates_v2  \\\n",
       "indice                                                                   \n",
       "413.0         Calle Bailén 19, Madrid España    [-3.606505, 40.028851]   \n",
       "76.0    Calle Santa Isabel 35, Madrid España  [-3.5908706, 40.0316837]   \n",
       "\n",
       "                                               type_point  longitude  \\\n",
       "indice                                                                 \n",
       "413.0   {'type': 'Point', 'coordinates': [-3.606505, 4...  -3.606505   \n",
       "76.0    {'type': 'Point', 'coordinates': [-3.5908706, ...  -3.590871   \n",
       "\n",
       "         latitude  \n",
       "indice             \n",
       "413.0   40.028851  \n",
       "76.0    40.031684  "
      ]
     },
     "execution_count": 21,
     "metadata": {},
     "output_type": "execute_result"
    }
   ],
   "source": [
    "df.head(2)"
   ]
  },
  {
   "cell_type": "code",
   "execution_count": 22,
   "id": "06b1f77b",
   "metadata": {},
   "outputs": [],
   "source": [
    "def delete_hashtag(x):\n",
    "    x = str(x).replace('#', \"\")\n",
    "    return x"
   ]
  },
  {
   "cell_type": "code",
   "execution_count": 23,
   "id": "106a8e75",
   "metadata": {},
   "outputs": [],
   "source": [
    "df[\"ranking\"] = df.ranking.apply(delete_hashtag)"
   ]
  },
  {
   "cell_type": "code",
   "execution_count": 24,
   "id": "d095d6f5",
   "metadata": {},
   "outputs": [],
   "source": [
    "def delete_string(x):\n",
    "    x = str(x).replace('restaurantes en Madrid', \"\")\n",
    "    return x"
   ]
  },
  {
   "cell_type": "code",
   "execution_count": 25,
   "id": "fc2137dd",
   "metadata": {},
   "outputs": [],
   "source": [
    "df[\"ranking\"] = df.ranking.apply(delete_string)"
   ]
  },
  {
   "cell_type": "code",
   "execution_count": 26,
   "id": "8c8d14a8",
   "metadata": {},
   "outputs": [
    {
     "data": {
      "text/html": [
       "<div>\n",
       "<style scoped>\n",
       "    .dataframe tbody tr th:only-of-type {\n",
       "        vertical-align: middle;\n",
       "    }\n",
       "\n",
       "    .dataframe tbody tr th {\n",
       "        vertical-align: top;\n",
       "    }\n",
       "\n",
       "    .dataframe thead th {\n",
       "        text-align: right;\n",
       "    }\n",
       "</style>\n",
       "<table border=\"1\" class=\"dataframe\">\n",
       "  <thead>\n",
       "    <tr style=\"text-align: right;\">\n",
       "      <th></th>\n",
       "      <th>name</th>\n",
       "      <th>address</th>\n",
       "      <th>type</th>\n",
       "      <th>ranking</th>\n",
       "      <th>price</th>\n",
       "      <th>direccion</th>\n",
       "      <th>comunidad</th>\n",
       "      <th>street</th>\n",
       "      <th>street_2</th>\n",
       "      <th>coordinates</th>\n",
       "      <th>street_3</th>\n",
       "      <th>coordinates_v2</th>\n",
       "      <th>type_point</th>\n",
       "      <th>longitude</th>\n",
       "      <th>latitude</th>\n",
       "    </tr>\n",
       "    <tr>\n",
       "      <th>indice</th>\n",
       "      <th></th>\n",
       "      <th></th>\n",
       "      <th></th>\n",
       "      <th></th>\n",
       "      <th></th>\n",
       "      <th></th>\n",
       "      <th></th>\n",
       "      <th></th>\n",
       "      <th></th>\n",
       "      <th></th>\n",
       "      <th></th>\n",
       "      <th></th>\n",
       "      <th></th>\n",
       "      <th></th>\n",
       "      <th></th>\n",
       "    </tr>\n",
       "  </thead>\n",
       "  <tbody>\n",
       "    <tr>\n",
       "      <th>413.0</th>\n",
       "      <td>El anciano rey de los vinos</td>\n",
       "      <td>Calle Bailén 19, 28013 Madrid España</td>\n",
       "      <td>Mediterránea</td>\n",
       "      <td>549 de 10.409</td>\n",
       "      <td>€€ - €€€</td>\n",
       "      <td>Calle Bailén 19</td>\n",
       "      <td>Madrid España</td>\n",
       "      <td>Calle Bailén 19</td>\n",
       "      <td>Calle Bailén 19, Madrid España</td>\n",
       "      <td>(40.028851, -3.606505)</td>\n",
       "      <td>Calle Bailén 19, Madrid España</td>\n",
       "      <td>[-3.606505, 40.028851]</td>\n",
       "      <td>{'type': 'Point', 'coordinates': [-3.606505, 4...</td>\n",
       "      <td>-3.606505</td>\n",
       "      <td>40.028851</td>\n",
       "    </tr>\n",
       "    <tr>\n",
       "      <th>76.0</th>\n",
       "      <td>Taberna Más Al Sur</td>\n",
       "      <td>Calle Santa Isabel Nº 35, 28012 Madrid España</td>\n",
       "      <td>Mediterránea</td>\n",
       "      <td>34 de 10.414</td>\n",
       "      <td>€€ - €€€</td>\n",
       "      <td>Calle Santa Isabel Nº 35</td>\n",
       "      <td>Madrid España</td>\n",
       "      <td>Calle Santa Isabel 35</td>\n",
       "      <td>Calle Santa Isabel 35, Madrid España</td>\n",
       "      <td>(40.0316837, -3.5908706)</td>\n",
       "      <td>Calle Santa Isabel 35, Madrid España</td>\n",
       "      <td>[-3.5908706, 40.0316837]</td>\n",
       "      <td>{'type': 'Point', 'coordinates': [-3.5908706, ...</td>\n",
       "      <td>-3.590871</td>\n",
       "      <td>40.031684</td>\n",
       "    </tr>\n",
       "    <tr>\n",
       "      <th>95.0</th>\n",
       "      <td>Casa Labra</td>\n",
       "      <td>Calle Tetuan 12, 28013 Madrid España</td>\n",
       "      <td>Bar</td>\n",
       "      <td>650 de 10.414</td>\n",
       "      <td>€</td>\n",
       "      <td>Calle Tetuan 12</td>\n",
       "      <td>Madrid España</td>\n",
       "      <td>Calle Tetuan 12</td>\n",
       "      <td>Calle Tetuan 12, Madrid España</td>\n",
       "      <td>(40.0395885, -3.6142713)</td>\n",
       "      <td>Calle Tetuan 12, Madrid España</td>\n",
       "      <td>[-3.6142713, 40.0395885]</td>\n",
       "      <td>{'type': 'Point', 'coordinates': [-3.6142713, ...</td>\n",
       "      <td>-3.614271</td>\n",
       "      <td>40.039589</td>\n",
       "    </tr>\n",
       "    <tr>\n",
       "      <th>134.0</th>\n",
       "      <td>Parrilla El Gaucho</td>\n",
       "      <td>Calle Tetuan 34, 28013 Madrid España</td>\n",
       "      <td>Restaurante de carne</td>\n",
       "      <td>311 de 10.414</td>\n",
       "      <td>€€ - €€€</td>\n",
       "      <td>Calle Tetuan 34</td>\n",
       "      <td>Madrid España</td>\n",
       "      <td>Calle Tetuan 34</td>\n",
       "      <td>Calle Tetuan 34, Madrid España</td>\n",
       "      <td>(40.0395885, -3.6142713)</td>\n",
       "      <td>Calle Tetuan 34, Madrid España</td>\n",
       "      <td>[-3.6142713, 40.0395885]</td>\n",
       "      <td>{'type': 'Point', 'coordinates': [-3.6142713, ...</td>\n",
       "      <td>-3.614271</td>\n",
       "      <td>40.039589</td>\n",
       "    </tr>\n",
       "    <tr>\n",
       "      <th>279.0</th>\n",
       "      <td>Santa Eulalia Boulangerie</td>\n",
       "      <td>Calle Espejo 12, 28013 Madrid España</td>\n",
       "      <td>Confiterías/panaderías</td>\n",
       "      <td>N.º 23 de 477 cafeterías y teterías en Madrid</td>\n",
       "      <td>€€ - €€€</td>\n",
       "      <td>Calle Espejo 12</td>\n",
       "      <td>Madrid España</td>\n",
       "      <td>Calle Espejo 12</td>\n",
       "      <td>Calle Espejo 12, Madrid España</td>\n",
       "      <td>(40.1384846, -3.4252641)</td>\n",
       "      <td>Calle Espejo 12, Madrid España</td>\n",
       "      <td>[-3.4252641, 40.1384846]</td>\n",
       "      <td>{'type': 'Point', 'coordinates': [-3.4252641, ...</td>\n",
       "      <td>-3.425264</td>\n",
       "      <td>40.138485</td>\n",
       "    </tr>\n",
       "    <tr>\n",
       "      <th>...</th>\n",
       "      <td>...</td>\n",
       "      <td>...</td>\n",
       "      <td>...</td>\n",
       "      <td>...</td>\n",
       "      <td>...</td>\n",
       "      <td>...</td>\n",
       "      <td>...</td>\n",
       "      <td>...</td>\n",
       "      <td>...</td>\n",
       "      <td>...</td>\n",
       "      <td>...</td>\n",
       "      <td>...</td>\n",
       "      <td>...</td>\n",
       "      <td>...</td>\n",
       "      <td>...</td>\n",
       "    </tr>\n",
       "    <tr>\n",
       "      <th>199.0</th>\n",
       "      <td>Restaurante El Senador</td>\n",
       "      <td>Plaza Marina Espanola 2, 28013 Madrid España</td>\n",
       "      <td>Mediterránea</td>\n",
       "      <td>772 de 10.409</td>\n",
       "      <td>€€ - €€€</td>\n",
       "      <td>Plaza Marina Espanola 2</td>\n",
       "      <td>Madrid España</td>\n",
       "      <td>Plaza Marina Espanola 2</td>\n",
       "      <td>Plaza Marina Espanola 2, Madrid España</td>\n",
       "      <td>(40.4206521, -3.7114917)</td>\n",
       "      <td>Plaza de la Marina Espanola 2, Madrid España</td>\n",
       "      <td>[-3.7114917, 40.4206521]</td>\n",
       "      <td>{'type': 'Point', 'coordinates': [-3.7114917, ...</td>\n",
       "      <td>-3.711492</td>\n",
       "      <td>40.420652</td>\n",
       "    </tr>\n",
       "    <tr>\n",
       "      <th>415.0</th>\n",
       "      <td>Bar Cerveriz</td>\n",
       "      <td>Plaza San Miguel 2 Frente al Mercado de San Mi...</td>\n",
       "      <td>Mediterránea</td>\n",
       "      <td>674 de 10.409</td>\n",
       "      <td>€</td>\n",
       "      <td>Plaza San Miguel 2 Frente al Mercado de San Mi...</td>\n",
       "      <td>Madrid España</td>\n",
       "      <td>Plaza San Miguel 2</td>\n",
       "      <td>Plaza San Miguel 2, Madrid España</td>\n",
       "      <td>(40.4156034, -3.7092267)</td>\n",
       "      <td>Plaza San Miguel 2, Madrid</td>\n",
       "      <td>[-3.7092267, 40.4156034]</td>\n",
       "      <td>{'type': 'Point', 'coordinates': [-3.7092267, ...</td>\n",
       "      <td>-3.709227</td>\n",
       "      <td>40.415603</td>\n",
       "    </tr>\n",
       "    <tr>\n",
       "      <th>292.0</th>\n",
       "      <td>Cerveceria Alemana</td>\n",
       "      <td>Plaza Santa Ana 6, 28012 Madrid España</td>\n",
       "      <td>Bar</td>\n",
       "      <td>1.323 de 10.409</td>\n",
       "      <td>€€ - €€€</td>\n",
       "      <td>Plaza Santa Ana 6</td>\n",
       "      <td>Madrid España</td>\n",
       "      <td>Plaza Santa Ana 6</td>\n",
       "      <td>Plaza Santa Ana 6, Madrid España</td>\n",
       "      <td>(40.38191525, -3.40964182827173)</td>\n",
       "      <td>Plaza Santa Ana 6, Madrid'</td>\n",
       "      <td>[-3.40964182827173, 40.38191525]</td>\n",
       "      <td>{'type': 'Point', 'coordinates': [-3.409641828...</td>\n",
       "      <td>-3.409642</td>\n",
       "      <td>40.381915</td>\n",
       "    </tr>\n",
       "    <tr>\n",
       "      <th>247.0</th>\n",
       "      <td>Nipponsei Sushi &amp; Club Experience</td>\n",
       "      <td>Plaza Santo Domingo Calle Veneras, 28013 Madri...</td>\n",
       "      <td>Japonesa</td>\n",
       "      <td>2.852 de 10.409</td>\n",
       "      <td>€€ - €€€</td>\n",
       "      <td>Plaza Santo Domingo Calle Veneras</td>\n",
       "      <td>Madrid España</td>\n",
       "      <td>Plaza Santo Domingo Calle Veneras</td>\n",
       "      <td>Plaza Santo Domingo Calle Veneras , Madrid España</td>\n",
       "      <td>(40.420003699999995, -3.7086054878361954)</td>\n",
       "      <td>Plaza de Santo Domingo, Madrid España</td>\n",
       "      <td>[-3.7086054878361954, 40.420003699999995]</td>\n",
       "      <td>{'type': 'Point', 'coordinates': [-3.708605487...</td>\n",
       "      <td>-3.708605</td>\n",
       "      <td>40.420004</td>\n",
       "    </tr>\n",
       "    <tr>\n",
       "      <th>408.0</th>\n",
       "      <td>Arbonaida Bar</td>\n",
       "      <td>Santiago 11, 28013 Madrid España</td>\n",
       "      <td>Mediterránea</td>\n",
       "      <td>101 de 10.409</td>\n",
       "      <td>€€ - €€€</td>\n",
       "      <td>Santiago 11</td>\n",
       "      <td>Madrid España</td>\n",
       "      <td>Santiago 11</td>\n",
       "      <td>Santiago 11, Madrid España</td>\n",
       "      <td>(40.4164826, -3.7106873)</td>\n",
       "      <td>Calle de Santiago 11, Madrid</td>\n",
       "      <td>[-3.7106873, 40.4164826]</td>\n",
       "      <td>{'type': 'Point', 'coordinates': [-3.7106873, ...</td>\n",
       "      <td>-3.710687</td>\n",
       "      <td>40.416483</td>\n",
       "    </tr>\n",
       "  </tbody>\n",
       "</table>\n",
       "<p>500 rows × 15 columns</p>\n",
       "</div>"
      ],
      "text/plain": [
       "                                     name  \\\n",
       "indice                                      \n",
       "413.0         El anciano rey de los vinos   \n",
       "76.0                   Taberna Más Al Sur   \n",
       "95.0                           Casa Labra   \n",
       "134.0                  Parrilla El Gaucho   \n",
       "279.0           Santa Eulalia Boulangerie   \n",
       "...                                   ...   \n",
       "199.0              Restaurante El Senador   \n",
       "415.0                        Bar Cerveriz   \n",
       "292.0                  Cerveceria Alemana   \n",
       "247.0   Nipponsei Sushi & Club Experience   \n",
       "408.0                       Arbonaida Bar   \n",
       "\n",
       "                                                  address  \\\n",
       "indice                                                      \n",
       "413.0                Calle Bailén 19, 28013 Madrid España   \n",
       "76.0        Calle Santa Isabel Nº 35, 28012 Madrid España   \n",
       "95.0                 Calle Tetuan 12, 28013 Madrid España   \n",
       "134.0                Calle Tetuan 34, 28013 Madrid España   \n",
       "279.0                Calle Espejo 12, 28013 Madrid España   \n",
       "...                                                   ...   \n",
       "199.0        Plaza Marina Espanola 2, 28013 Madrid España   \n",
       "415.0   Plaza San Miguel 2 Frente al Mercado de San Mi...   \n",
       "292.0              Plaza Santa Ana 6, 28012 Madrid España   \n",
       "247.0   Plaza Santo Domingo Calle Veneras, 28013 Madri...   \n",
       "408.0                    Santiago 11, 28013 Madrid España   \n",
       "\n",
       "                          type                                        ranking  \\\n",
       "indice                                                                          \n",
       "413.0             Mediterránea                                 549 de 10.409    \n",
       "76.0              Mediterránea                                  34 de 10.414    \n",
       "95.0                       Bar                                 650 de 10.414    \n",
       "134.0     Restaurante de carne                                 311 de 10.414    \n",
       "279.0   Confiterías/panaderías  N.º 23 de 477 cafeterías y teterías en Madrid   \n",
       "...                        ...                                            ...   \n",
       "199.0             Mediterránea                                 772 de 10.409    \n",
       "415.0             Mediterránea                                 674 de 10.409    \n",
       "292.0                      Bar                               1.323 de 10.409    \n",
       "247.0                 Japonesa                               2.852 de 10.409    \n",
       "408.0             Mediterránea                                 101 de 10.409    \n",
       "\n",
       "           price                                          direccion  \\\n",
       "indice                                                                \n",
       "413.0   €€ - €€€                                    Calle Bailén 19   \n",
       "76.0    €€ - €€€                           Calle Santa Isabel Nº 35   \n",
       "95.0           €                                    Calle Tetuan 12   \n",
       "134.0   €€ - €€€                                    Calle Tetuan 34   \n",
       "279.0   €€ - €€€                                    Calle Espejo 12   \n",
       "...          ...                                                ...   \n",
       "199.0   €€ - €€€                            Plaza Marina Espanola 2   \n",
       "415.0          €  Plaza San Miguel 2 Frente al Mercado de San Mi...   \n",
       "292.0   €€ - €€€                                  Plaza Santa Ana 6   \n",
       "247.0   €€ - €€€                  Plaza Santo Domingo Calle Veneras   \n",
       "408.0   €€ - €€€                                        Santiago 11   \n",
       "\n",
       "            comunidad                             street  \\\n",
       "indice                                                     \n",
       "413.0   Madrid España                    Calle Bailén 19   \n",
       "76.0    Madrid España              Calle Santa Isabel 35   \n",
       "95.0    Madrid España                    Calle Tetuan 12   \n",
       "134.0   Madrid España                    Calle Tetuan 34   \n",
       "279.0   Madrid España                    Calle Espejo 12   \n",
       "...               ...                                ...   \n",
       "199.0   Madrid España            Plaza Marina Espanola 2   \n",
       "415.0   Madrid España                 Plaza San Miguel 2   \n",
       "292.0   Madrid España                  Plaza Santa Ana 6   \n",
       "247.0   Madrid España  Plaza Santo Domingo Calle Veneras   \n",
       "408.0   Madrid España                        Santiago 11   \n",
       "\n",
       "                                                 street_2  \\\n",
       "indice                                                      \n",
       "413.0                      Calle Bailén 19, Madrid España   \n",
       "76.0                 Calle Santa Isabel 35, Madrid España   \n",
       "95.0                       Calle Tetuan 12, Madrid España   \n",
       "134.0                      Calle Tetuan 34, Madrid España   \n",
       "279.0                      Calle Espejo 12, Madrid España   \n",
       "...                                                   ...   \n",
       "199.0              Plaza Marina Espanola 2, Madrid España   \n",
       "415.0                   Plaza San Miguel 2, Madrid España   \n",
       "292.0                    Plaza Santa Ana 6, Madrid España   \n",
       "247.0   Plaza Santo Domingo Calle Veneras , Madrid España   \n",
       "408.0                          Santiago 11, Madrid España   \n",
       "\n",
       "                                      coordinates  \\\n",
       "indice                                              \n",
       "413.0                      (40.028851, -3.606505)   \n",
       "76.0                     (40.0316837, -3.5908706)   \n",
       "95.0                     (40.0395885, -3.6142713)   \n",
       "134.0                    (40.0395885, -3.6142713)   \n",
       "279.0                    (40.1384846, -3.4252641)   \n",
       "...                                           ...   \n",
       "199.0                    (40.4206521, -3.7114917)   \n",
       "415.0                    (40.4156034, -3.7092267)   \n",
       "292.0            (40.38191525, -3.40964182827173)   \n",
       "247.0   (40.420003699999995, -3.7086054878361954)   \n",
       "408.0                    (40.4164826, -3.7106873)   \n",
       "\n",
       "                                            street_3  \\\n",
       "indice                                                 \n",
       "413.0                 Calle Bailén 19, Madrid España   \n",
       "76.0            Calle Santa Isabel 35, Madrid España   \n",
       "95.0                  Calle Tetuan 12, Madrid España   \n",
       "134.0                 Calle Tetuan 34, Madrid España   \n",
       "279.0                 Calle Espejo 12, Madrid España   \n",
       "...                                              ...   \n",
       "199.0   Plaza de la Marina Espanola 2, Madrid España   \n",
       "415.0                     Plaza San Miguel 2, Madrid   \n",
       "292.0                     Plaza Santa Ana 6, Madrid'   \n",
       "247.0          Plaza de Santo Domingo, Madrid España   \n",
       "408.0                   Calle de Santiago 11, Madrid   \n",
       "\n",
       "                                   coordinates_v2  \\\n",
       "indice                                              \n",
       "413.0                      [-3.606505, 40.028851]   \n",
       "76.0                     [-3.5908706, 40.0316837]   \n",
       "95.0                     [-3.6142713, 40.0395885]   \n",
       "134.0                    [-3.6142713, 40.0395885]   \n",
       "279.0                    [-3.4252641, 40.1384846]   \n",
       "...                                           ...   \n",
       "199.0                    [-3.7114917, 40.4206521]   \n",
       "415.0                    [-3.7092267, 40.4156034]   \n",
       "292.0            [-3.40964182827173, 40.38191525]   \n",
       "247.0   [-3.7086054878361954, 40.420003699999995]   \n",
       "408.0                    [-3.7106873, 40.4164826]   \n",
       "\n",
       "                                               type_point  longitude  \\\n",
       "indice                                                                 \n",
       "413.0   {'type': 'Point', 'coordinates': [-3.606505, 4...  -3.606505   \n",
       "76.0    {'type': 'Point', 'coordinates': [-3.5908706, ...  -3.590871   \n",
       "95.0    {'type': 'Point', 'coordinates': [-3.6142713, ...  -3.614271   \n",
       "134.0   {'type': 'Point', 'coordinates': [-3.6142713, ...  -3.614271   \n",
       "279.0   {'type': 'Point', 'coordinates': [-3.4252641, ...  -3.425264   \n",
       "...                                                   ...        ...   \n",
       "199.0   {'type': 'Point', 'coordinates': [-3.7114917, ...  -3.711492   \n",
       "415.0   {'type': 'Point', 'coordinates': [-3.7092267, ...  -3.709227   \n",
       "292.0   {'type': 'Point', 'coordinates': [-3.409641828...  -3.409642   \n",
       "247.0   {'type': 'Point', 'coordinates': [-3.708605487...  -3.708605   \n",
       "408.0   {'type': 'Point', 'coordinates': [-3.7106873, ...  -3.710687   \n",
       "\n",
       "         latitude  \n",
       "indice             \n",
       "413.0   40.028851  \n",
       "76.0    40.031684  \n",
       "95.0    40.039589  \n",
       "134.0   40.039589  \n",
       "279.0   40.138485  \n",
       "...           ...  \n",
       "199.0   40.420652  \n",
       "415.0   40.415603  \n",
       "292.0   40.381915  \n",
       "247.0   40.420004  \n",
       "408.0   40.416483  \n",
       "\n",
       "[500 rows x 15 columns]"
      ]
     },
     "execution_count": 26,
     "metadata": {},
     "output_type": "execute_result"
    }
   ],
   "source": [
    "df\n"
   ]
  },
  {
   "cell_type": "code",
   "execution_count": 27,
   "id": "4ca294dc",
   "metadata": {},
   "outputs": [],
   "source": [
    "\n",
    "df = df.dropna(how = \"any\")"
   ]
  },
  {
   "cell_type": "code",
   "execution_count": 28,
   "id": "b66986c4",
   "metadata": {},
   "outputs": [
    {
     "data": {
      "text/plain": [
       "name              0\n",
       "address           0\n",
       "type              0\n",
       "ranking           0\n",
       "price             0\n",
       "direccion         0\n",
       "comunidad         0\n",
       "street            0\n",
       "street_2          0\n",
       "coordinates       0\n",
       "street_3          0\n",
       "coordinates_v2    0\n",
       "type_point        0\n",
       "longitude         0\n",
       "latitude          0\n",
       "dtype: int64"
      ]
     },
     "execution_count": 28,
     "metadata": {},
     "output_type": "execute_result"
    }
   ],
   "source": [
    "df.isnull().sum()"
   ]
  },
  {
   "cell_type": "code",
   "execution_count": 29,
   "id": "7efc44a0",
   "metadata": {},
   "outputs": [
    {
     "data": {
      "text/plain": [
       "array(['€€ - €€€', '€', '€€€€', 'Europea', 'Italiana'], dtype=object)"
      ]
     },
     "execution_count": 29,
     "metadata": {},
     "output_type": "execute_result"
    }
   ],
   "source": [
    "df.price.unique()"
   ]
  },
  {
   "cell_type": "code",
   "execution_count": 30,
   "id": "7fcf3e92",
   "metadata": {},
   "outputs": [],
   "source": [
    "dic_for_price = {\n",
    "    \"€\": \"Barato\",\n",
    "    \"€€ - €€€\": \"Medio\",\n",
    "    \"€€€€\": \"Caro\",\n",
    "}"
   ]
  },
  {
   "cell_type": "code",
   "execution_count": 31,
   "id": "a6ceb76e",
   "metadata": {},
   "outputs": [
    {
     "name": "stderr",
     "output_type": "stream",
     "text": [
      "<ipython-input-31-8d0abb0c6806>:1: SettingWithCopyWarning: \n",
      "A value is trying to be set on a copy of a slice from a DataFrame.\n",
      "Try using .loc[row_indexer,col_indexer] = value instead\n",
      "\n",
      "See the caveats in the documentation: https://pandas.pydata.org/pandas-docs/stable/user_guide/indexing.html#returning-a-view-versus-a-copy\n",
      "  df['price_2'] = df.price.map(dic_for_price)\n"
     ]
    }
   ],
   "source": [
    "df['price_2'] = df.price.map(dic_for_price)"
   ]
  },
  {
   "cell_type": "code",
   "execution_count": 32,
   "id": "20cc3677",
   "metadata": {},
   "outputs": [
    {
     "data": {
      "text/html": [
       "<div>\n",
       "<style scoped>\n",
       "    .dataframe tbody tr th:only-of-type {\n",
       "        vertical-align: middle;\n",
       "    }\n",
       "\n",
       "    .dataframe tbody tr th {\n",
       "        vertical-align: top;\n",
       "    }\n",
       "\n",
       "    .dataframe thead th {\n",
       "        text-align: right;\n",
       "    }\n",
       "</style>\n",
       "<table border=\"1\" class=\"dataframe\">\n",
       "  <thead>\n",
       "    <tr style=\"text-align: right;\">\n",
       "      <th></th>\n",
       "      <th>name</th>\n",
       "      <th>address</th>\n",
       "      <th>type</th>\n",
       "      <th>ranking</th>\n",
       "      <th>price</th>\n",
       "      <th>direccion</th>\n",
       "      <th>comunidad</th>\n",
       "      <th>street</th>\n",
       "      <th>street_2</th>\n",
       "      <th>coordinates</th>\n",
       "      <th>street_3</th>\n",
       "      <th>coordinates_v2</th>\n",
       "      <th>type_point</th>\n",
       "      <th>longitude</th>\n",
       "      <th>latitude</th>\n",
       "      <th>price_2</th>\n",
       "    </tr>\n",
       "    <tr>\n",
       "      <th>indice</th>\n",
       "      <th></th>\n",
       "      <th></th>\n",
       "      <th></th>\n",
       "      <th></th>\n",
       "      <th></th>\n",
       "      <th></th>\n",
       "      <th></th>\n",
       "      <th></th>\n",
       "      <th></th>\n",
       "      <th></th>\n",
       "      <th></th>\n",
       "      <th></th>\n",
       "      <th></th>\n",
       "      <th></th>\n",
       "      <th></th>\n",
       "      <th></th>\n",
       "    </tr>\n",
       "  </thead>\n",
       "  <tbody>\n",
       "    <tr>\n",
       "      <th>413.0</th>\n",
       "      <td>El anciano rey de los vinos</td>\n",
       "      <td>Calle Bailén 19, 28013 Madrid España</td>\n",
       "      <td>Mediterránea</td>\n",
       "      <td>549 de 10.409</td>\n",
       "      <td>€€ - €€€</td>\n",
       "      <td>Calle Bailén 19</td>\n",
       "      <td>Madrid España</td>\n",
       "      <td>Calle Bailén 19</td>\n",
       "      <td>Calle Bailén 19, Madrid España</td>\n",
       "      <td>(40.028851, -3.606505)</td>\n",
       "      <td>Calle Bailén 19, Madrid España</td>\n",
       "      <td>[-3.606505, 40.028851]</td>\n",
       "      <td>{'type': 'Point', 'coordinates': [-3.606505, 4...</td>\n",
       "      <td>-3.606505</td>\n",
       "      <td>40.028851</td>\n",
       "      <td>Medio</td>\n",
       "    </tr>\n",
       "    <tr>\n",
       "      <th>76.0</th>\n",
       "      <td>Taberna Más Al Sur</td>\n",
       "      <td>Calle Santa Isabel Nº 35, 28012 Madrid España</td>\n",
       "      <td>Mediterránea</td>\n",
       "      <td>34 de 10.414</td>\n",
       "      <td>€€ - €€€</td>\n",
       "      <td>Calle Santa Isabel Nº 35</td>\n",
       "      <td>Madrid España</td>\n",
       "      <td>Calle Santa Isabel 35</td>\n",
       "      <td>Calle Santa Isabel 35, Madrid España</td>\n",
       "      <td>(40.0316837, -3.5908706)</td>\n",
       "      <td>Calle Santa Isabel 35, Madrid España</td>\n",
       "      <td>[-3.5908706, 40.0316837]</td>\n",
       "      <td>{'type': 'Point', 'coordinates': [-3.5908706, ...</td>\n",
       "      <td>-3.590871</td>\n",
       "      <td>40.031684</td>\n",
       "      <td>Medio</td>\n",
       "    </tr>\n",
       "    <tr>\n",
       "      <th>95.0</th>\n",
       "      <td>Casa Labra</td>\n",
       "      <td>Calle Tetuan 12, 28013 Madrid España</td>\n",
       "      <td>Bar</td>\n",
       "      <td>650 de 10.414</td>\n",
       "      <td>€</td>\n",
       "      <td>Calle Tetuan 12</td>\n",
       "      <td>Madrid España</td>\n",
       "      <td>Calle Tetuan 12</td>\n",
       "      <td>Calle Tetuan 12, Madrid España</td>\n",
       "      <td>(40.0395885, -3.6142713)</td>\n",
       "      <td>Calle Tetuan 12, Madrid España</td>\n",
       "      <td>[-3.6142713, 40.0395885]</td>\n",
       "      <td>{'type': 'Point', 'coordinates': [-3.6142713, ...</td>\n",
       "      <td>-3.614271</td>\n",
       "      <td>40.039589</td>\n",
       "      <td>Barato</td>\n",
       "    </tr>\n",
       "    <tr>\n",
       "      <th>134.0</th>\n",
       "      <td>Parrilla El Gaucho</td>\n",
       "      <td>Calle Tetuan 34, 28013 Madrid España</td>\n",
       "      <td>Restaurante de carne</td>\n",
       "      <td>311 de 10.414</td>\n",
       "      <td>€€ - €€€</td>\n",
       "      <td>Calle Tetuan 34</td>\n",
       "      <td>Madrid España</td>\n",
       "      <td>Calle Tetuan 34</td>\n",
       "      <td>Calle Tetuan 34, Madrid España</td>\n",
       "      <td>(40.0395885, -3.6142713)</td>\n",
       "      <td>Calle Tetuan 34, Madrid España</td>\n",
       "      <td>[-3.6142713, 40.0395885]</td>\n",
       "      <td>{'type': 'Point', 'coordinates': [-3.6142713, ...</td>\n",
       "      <td>-3.614271</td>\n",
       "      <td>40.039589</td>\n",
       "      <td>Medio</td>\n",
       "    </tr>\n",
       "    <tr>\n",
       "      <th>279.0</th>\n",
       "      <td>Santa Eulalia Boulangerie</td>\n",
       "      <td>Calle Espejo 12, 28013 Madrid España</td>\n",
       "      <td>Confiterías/panaderías</td>\n",
       "      <td>N.º 23 de 477 cafeterías y teterías en Madrid</td>\n",
       "      <td>€€ - €€€</td>\n",
       "      <td>Calle Espejo 12</td>\n",
       "      <td>Madrid España</td>\n",
       "      <td>Calle Espejo 12</td>\n",
       "      <td>Calle Espejo 12, Madrid España</td>\n",
       "      <td>(40.1384846, -3.4252641)</td>\n",
       "      <td>Calle Espejo 12, Madrid España</td>\n",
       "      <td>[-3.4252641, 40.1384846]</td>\n",
       "      <td>{'type': 'Point', 'coordinates': [-3.4252641, ...</td>\n",
       "      <td>-3.425264</td>\n",
       "      <td>40.138485</td>\n",
       "      <td>Medio</td>\n",
       "    </tr>\n",
       "  </tbody>\n",
       "</table>\n",
       "</div>"
      ],
      "text/plain": [
       "                               name  \\\n",
       "indice                                \n",
       "413.0   El anciano rey de los vinos   \n",
       "76.0             Taberna Más Al Sur   \n",
       "95.0                     Casa Labra   \n",
       "134.0            Parrilla El Gaucho   \n",
       "279.0     Santa Eulalia Boulangerie   \n",
       "\n",
       "                                              address                    type  \\\n",
       "indice                                                                          \n",
       "413.0            Calle Bailén 19, 28013 Madrid España            Mediterránea   \n",
       "76.0    Calle Santa Isabel Nº 35, 28012 Madrid España            Mediterránea   \n",
       "95.0             Calle Tetuan 12, 28013 Madrid España                     Bar   \n",
       "134.0            Calle Tetuan 34, 28013 Madrid España    Restaurante de carne   \n",
       "279.0            Calle Espejo 12, 28013 Madrid España  Confiterías/panaderías   \n",
       "\n",
       "                                              ranking     price  \\\n",
       "indice                                                            \n",
       "413.0                                  549 de 10.409   €€ - €€€   \n",
       "76.0                                    34 de 10.414   €€ - €€€   \n",
       "95.0                                   650 de 10.414          €   \n",
       "134.0                                  311 de 10.414   €€ - €€€   \n",
       "279.0   N.º 23 de 477 cafeterías y teterías en Madrid  €€ - €€€   \n",
       "\n",
       "                       direccion      comunidad                 street  \\\n",
       "indice                                                                   \n",
       "413.0            Calle Bailén 19  Madrid España        Calle Bailén 19   \n",
       "76.0    Calle Santa Isabel Nº 35  Madrid España  Calle Santa Isabel 35   \n",
       "95.0             Calle Tetuan 12  Madrid España        Calle Tetuan 12   \n",
       "134.0            Calle Tetuan 34  Madrid España        Calle Tetuan 34   \n",
       "279.0            Calle Espejo 12  Madrid España        Calle Espejo 12   \n",
       "\n",
       "                                    street_2               coordinates  \\\n",
       "indice                                                                   \n",
       "413.0         Calle Bailén 19, Madrid España    (40.028851, -3.606505)   \n",
       "76.0    Calle Santa Isabel 35, Madrid España  (40.0316837, -3.5908706)   \n",
       "95.0          Calle Tetuan 12, Madrid España  (40.0395885, -3.6142713)   \n",
       "134.0         Calle Tetuan 34, Madrid España  (40.0395885, -3.6142713)   \n",
       "279.0         Calle Espejo 12, Madrid España  (40.1384846, -3.4252641)   \n",
       "\n",
       "                                    street_3            coordinates_v2  \\\n",
       "indice                                                                   \n",
       "413.0         Calle Bailén 19, Madrid España    [-3.606505, 40.028851]   \n",
       "76.0    Calle Santa Isabel 35, Madrid España  [-3.5908706, 40.0316837]   \n",
       "95.0          Calle Tetuan 12, Madrid España  [-3.6142713, 40.0395885]   \n",
       "134.0         Calle Tetuan 34, Madrid España  [-3.6142713, 40.0395885]   \n",
       "279.0         Calle Espejo 12, Madrid España  [-3.4252641, 40.1384846]   \n",
       "\n",
       "                                               type_point  longitude  \\\n",
       "indice                                                                 \n",
       "413.0   {'type': 'Point', 'coordinates': [-3.606505, 4...  -3.606505   \n",
       "76.0    {'type': 'Point', 'coordinates': [-3.5908706, ...  -3.590871   \n",
       "95.0    {'type': 'Point', 'coordinates': [-3.6142713, ...  -3.614271   \n",
       "134.0   {'type': 'Point', 'coordinates': [-3.6142713, ...  -3.614271   \n",
       "279.0   {'type': 'Point', 'coordinates': [-3.4252641, ...  -3.425264   \n",
       "\n",
       "         latitude price_2  \n",
       "indice                     \n",
       "413.0   40.028851   Medio  \n",
       "76.0    40.031684   Medio  \n",
       "95.0    40.039589  Barato  \n",
       "134.0   40.039589   Medio  \n",
       "279.0   40.138485   Medio  "
      ]
     },
     "execution_count": 32,
     "metadata": {},
     "output_type": "execute_result"
    }
   ],
   "source": [
    "df.head()"
   ]
  },
  {
   "cell_type": "code",
   "execution_count": 33,
   "id": "f0f8122e",
   "metadata": {},
   "outputs": [
    {
     "data": {
      "text/plain": [
       "array(['Mediterránea', 'Bar', 'Restaurante de carne',\n",
       "       'Confiterías/panaderías', 'Española', 'Europea', 'Argentina',\n",
       "       'Internacional', 'Italiana', 'Asiática', 'Marisco', 'Caribeña',\n",
       "       'Japonesa', 'Alemana', 'Americana', 'India', 'Postres',\n",
       "       'Saludable', 'Café', 'Latina', 'Mexicana', 'Peruana', 'Tentempiés',\n",
       "       'Belga', 'Filipina', 'Pizza', 'Comida rápida', 'Marroquí',\n",
       "       'Cubana', 'Pub con cerveza artesanal', 'Fusión', 'Portuguesa',\n",
       "       'Libanesa', 'Francesa', 'Brasileña', 'China', 'Salvadoreña'],\n",
       "      dtype=object)"
      ]
     },
     "execution_count": 33,
     "metadata": {},
     "output_type": "execute_result"
    }
   ],
   "source": [
    "df.type.unique()"
   ]
  },
  {
   "cell_type": "code",
   "execution_count": 34,
   "id": "736318fc",
   "metadata": {},
   "outputs": [
    {
     "data": {
      "text/plain": [
       "Mediterránea                 142\n",
       "Italiana                      53\n",
       "Bar                           35\n",
       "Española                      34\n",
       "Japonesa                      28\n",
       "Internacional                 24\n",
       "Restaurante de carne          22\n",
       "Postres                       20\n",
       "Americana                     19\n",
       "Marisco                       18\n",
       "Mexicana                      17\n",
       "Café                          12\n",
       "India                          9\n",
       "Europea                        9\n",
       "Tentempiés                     8\n",
       "Confiterías/panaderías         7\n",
       "Comida rápida                  6\n",
       "Latina                         5\n",
       "Asiática                       4\n",
       "Peruana                        4\n",
       "Caribeña                       3\n",
       "Pub con cerveza artesanal      2\n",
       "Francesa                       2\n",
       "Fusión                         2\n",
       "China                          1\n",
       "Brasileña                      1\n",
       "Libanesa                       1\n",
       "Portuguesa                     1\n",
       "Filipina                       1\n",
       "Cubana                         1\n",
       "Marroquí                       1\n",
       "Pizza                          1\n",
       "Alemana                        1\n",
       "Belga                          1\n",
       "Saludable                      1\n",
       "Argentina                      1\n",
       "Salvadoreña                    1\n",
       "Name: type, dtype: int64"
      ]
     },
     "execution_count": 34,
     "metadata": {},
     "output_type": "execute_result"
    }
   ],
   "source": [
    "df.type.value_counts()"
   ]
  },
  {
   "cell_type": "code",
   "execution_count": 35,
   "id": "c7c50ea9",
   "metadata": {},
   "outputs": [
    {
     "name": "stderr",
     "output_type": "stream",
     "text": [
      "<ipython-input-35-39beb05f1709>:1: SettingWithCopyWarning: \n",
      "A value is trying to be set on a copy of a slice from a DataFrame.\n",
      "Try using .loc[row_indexer,col_indexer] = value instead\n",
      "\n",
      "See the caveats in the documentation: https://pandas.pydata.org/pandas-docs/stable/user_guide/indexing.html#returning-a-view-versus-a-copy\n",
      "  df[\"type\"] = df[\"type\"].str.replace(\"Pub con cerveza artesanal\", \"Bar\")\n",
      "<ipython-input-35-39beb05f1709>:2: SettingWithCopyWarning: \n",
      "A value is trying to be set on a copy of a slice from a DataFrame.\n",
      "Try using .loc[row_indexer,col_indexer] = value instead\n",
      "\n",
      "See the caveats in the documentation: https://pandas.pydata.org/pandas-docs/stable/user_guide/indexing.html#returning-a-view-versus-a-copy\n",
      "  df[\"type\"] = df[\"type\"].str.replace(\"Restaurante de carne\", \"Asador\")\n",
      "<ipython-input-35-39beb05f1709>:3: SettingWithCopyWarning: \n",
      "A value is trying to be set on a copy of a slice from a DataFrame.\n",
      "Try using .loc[row_indexer,col_indexer] = value instead\n",
      "\n",
      "See the caveats in the documentation: https://pandas.pydata.org/pandas-docs/stable/user_guide/indexing.html#returning-a-view-versus-a-copy\n",
      "  df[\"type\"] = df[\"type\"].str.replace(\"Comida rápida\", \"Americana\")\n",
      "<ipython-input-35-39beb05f1709>:4: SettingWithCopyWarning: \n",
      "A value is trying to be set on a copy of a slice from a DataFrame.\n",
      "Try using .loc[row_indexer,col_indexer] = value instead\n",
      "\n",
      "See the caveats in the documentation: https://pandas.pydata.org/pandas-docs/stable/user_guide/indexing.html#returning-a-view-versus-a-copy\n",
      "  df[\"type\"] = df[\"type\"].str.replace(\"Pizza\", \"Italiana\")\n",
      "<ipython-input-35-39beb05f1709>:6: SettingWithCopyWarning: \n",
      "A value is trying to be set on a copy of a slice from a DataFrame.\n",
      "Try using .loc[row_indexer,col_indexer] = value instead\n",
      "\n",
      "See the caveats in the documentation: https://pandas.pydata.org/pandas-docs/stable/user_guide/indexing.html#returning-a-view-versus-a-copy\n",
      "  df[\"type\"] = df[\"type\"].str.replace(\"Café\", \"Café y postres\")\n",
      "<ipython-input-35-39beb05f1709>:7: SettingWithCopyWarning: \n",
      "A value is trying to be set on a copy of a slice from a DataFrame.\n",
      "Try using .loc[row_indexer,col_indexer] = value instead\n",
      "\n",
      "See the caveats in the documentation: https://pandas.pydata.org/pandas-docs/stable/user_guide/indexing.html#returning-a-view-versus-a-copy\n",
      "  df[\"type\"] = df[\"type\"].str.replace(\"Confiterías/panaderías\", \"Café y postres\")\n",
      "<ipython-input-35-39beb05f1709>:8: SettingWithCopyWarning: \n",
      "A value is trying to be set on a copy of a slice from a DataFrame.\n",
      "Try using .loc[row_indexer,col_indexer] = value instead\n",
      "\n",
      "See the caveats in the documentation: https://pandas.pydata.org/pandas-docs/stable/user_guide/indexing.html#returning-a-view-versus-a-copy\n",
      "  df[\"type\"] = df[\"type\"].str.replace(\"Postres\", \"Café y postres\")\n",
      "<ipython-input-35-39beb05f1709>:10: SettingWithCopyWarning: \n",
      "A value is trying to be set on a copy of a slice from a DataFrame.\n",
      "Try using .loc[row_indexer,col_indexer] = value instead\n",
      "\n",
      "See the caveats in the documentation: https://pandas.pydata.org/pandas-docs/stable/user_guide/indexing.html#returning-a-view-versus-a-copy\n",
      "  df[\"type\"] = df[\"type\"].str.replace(\"Española\", \"Mediterránea\")\n",
      "<ipython-input-35-39beb05f1709>:11: SettingWithCopyWarning: \n",
      "A value is trying to be set on a copy of a slice from a DataFrame.\n",
      "Try using .loc[row_indexer,col_indexer] = value instead\n",
      "\n",
      "See the caveats in the documentation: https://pandas.pydata.org/pandas-docs/stable/user_guide/indexing.html#returning-a-view-versus-a-copy\n",
      "  df[\"type\"] = df[\"type\"].str.replace(\"Portuguesa\", \"Mediterránea\")\n",
      "<ipython-input-35-39beb05f1709>:12: SettingWithCopyWarning: \n",
      "A value is trying to be set on a copy of a slice from a DataFrame.\n",
      "Try using .loc[row_indexer,col_indexer] = value instead\n",
      "\n",
      "See the caveats in the documentation: https://pandas.pydata.org/pandas-docs/stable/user_guide/indexing.html#returning-a-view-versus-a-copy\n",
      "  df[\"type\"] = df[\"type\"].str.replace(\"Libanesa\", \"Mediterránea\")\n",
      "<ipython-input-35-39beb05f1709>:14: SettingWithCopyWarning: \n",
      "A value is trying to be set on a copy of a slice from a DataFrame.\n",
      "Try using .loc[row_indexer,col_indexer] = value instead\n",
      "\n",
      "See the caveats in the documentation: https://pandas.pydata.org/pandas-docs/stable/user_guide/indexing.html#returning-a-view-versus-a-copy\n",
      "  df[\"type\"] = df[\"type\"].str.replace(\"China\", \"Asiática\")\n",
      "<ipython-input-35-39beb05f1709>:15: SettingWithCopyWarning: \n",
      "A value is trying to be set on a copy of a slice from a DataFrame.\n",
      "Try using .loc[row_indexer,col_indexer] = value instead\n",
      "\n",
      "See the caveats in the documentation: https://pandas.pydata.org/pandas-docs/stable/user_guide/indexing.html#returning-a-view-versus-a-copy\n",
      "  df[\"type\"] = df[\"type\"].str.replace(\"Japonesa\", \"Asiática\")\n",
      "<ipython-input-35-39beb05f1709>:17: SettingWithCopyWarning: \n",
      "A value is trying to be set on a copy of a slice from a DataFrame.\n",
      "Try using .loc[row_indexer,col_indexer] = value instead\n",
      "\n",
      "See the caveats in the documentation: https://pandas.pydata.org/pandas-docs/stable/user_guide/indexing.html#returning-a-view-versus-a-copy\n",
      "  df[\"type\"] = df[\"type\"].str.replace(\"Tentempiés\", \"Otros\")\n",
      "<ipython-input-35-39beb05f1709>:18: SettingWithCopyWarning: \n",
      "A value is trying to be set on a copy of a slice from a DataFrame.\n",
      "Try using .loc[row_indexer,col_indexer] = value instead\n",
      "\n",
      "See the caveats in the documentation: https://pandas.pydata.org/pandas-docs/stable/user_guide/indexing.html#returning-a-view-versus-a-copy\n",
      "  df[\"type\"] = df[\"type\"].str.replace(\"Saludable\", \"Otros\")\n",
      "<ipython-input-35-39beb05f1709>:20: SettingWithCopyWarning: \n",
      "A value is trying to be set on a copy of a slice from a DataFrame.\n",
      "Try using .loc[row_indexer,col_indexer] = value instead\n",
      "\n",
      "See the caveats in the documentation: https://pandas.pydata.org/pandas-docs/stable/user_guide/indexing.html#returning-a-view-versus-a-copy\n",
      "  df[\"type\"] = df[\"type\"].str.replace(\"Francesa\", \"Europea\")\n",
      "<ipython-input-35-39beb05f1709>:21: SettingWithCopyWarning: \n",
      "A value is trying to be set on a copy of a slice from a DataFrame.\n",
      "Try using .loc[row_indexer,col_indexer] = value instead\n",
      "\n",
      "See the caveats in the documentation: https://pandas.pydata.org/pandas-docs/stable/user_guide/indexing.html#returning-a-view-versus-a-copy\n",
      "  df[\"type\"] = df[\"type\"].str.replace(\"Alemana\", \"Europea\")\n",
      "<ipython-input-35-39beb05f1709>:22: SettingWithCopyWarning: \n",
      "A value is trying to be set on a copy of a slice from a DataFrame.\n",
      "Try using .loc[row_indexer,col_indexer] = value instead\n",
      "\n",
      "See the caveats in the documentation: https://pandas.pydata.org/pandas-docs/stable/user_guide/indexing.html#returning-a-view-versus-a-copy\n",
      "  df[\"type\"] = df[\"type\"].str.replace(\"Belga\", \"Europea\")\n",
      "<ipython-input-35-39beb05f1709>:24: SettingWithCopyWarning: \n",
      "A value is trying to be set on a copy of a slice from a DataFrame.\n",
      "Try using .loc[row_indexer,col_indexer] = value instead\n",
      "\n",
      "See the caveats in the documentation: https://pandas.pydata.org/pandas-docs/stable/user_guide/indexing.html#returning-a-view-versus-a-copy\n",
      "  df[\"type\"] = df[\"type\"].str.replace(\"Peruana\", \"Latina\")\n",
      "<ipython-input-35-39beb05f1709>:25: SettingWithCopyWarning: \n",
      "A value is trying to be set on a copy of a slice from a DataFrame.\n",
      "Try using .loc[row_indexer,col_indexer] = value instead\n",
      "\n",
      "See the caveats in the documentation: https://pandas.pydata.org/pandas-docs/stable/user_guide/indexing.html#returning-a-view-versus-a-copy\n",
      "  df[\"type\"] = df[\"type\"].str.replace(\"Caribeña\", \"Latina\")\n",
      "<ipython-input-35-39beb05f1709>:26: SettingWithCopyWarning: \n",
      "A value is trying to be set on a copy of a slice from a DataFrame.\n",
      "Try using .loc[row_indexer,col_indexer] = value instead\n",
      "\n",
      "See the caveats in the documentation: https://pandas.pydata.org/pandas-docs/stable/user_guide/indexing.html#returning-a-view-versus-a-copy\n",
      "  df[\"type\"] = df[\"type\"].str.replace(\"Brasileña\", \"Latina\")\n",
      "<ipython-input-35-39beb05f1709>:27: SettingWithCopyWarning: \n",
      "A value is trying to be set on a copy of a slice from a DataFrame.\n",
      "Try using .loc[row_indexer,col_indexer] = value instead\n",
      "\n",
      "See the caveats in the documentation: https://pandas.pydata.org/pandas-docs/stable/user_guide/indexing.html#returning-a-view-versus-a-copy\n",
      "  df[\"type\"] = df[\"type\"].str.replace(\"Argentina\", \"Latina\")\n",
      "<ipython-input-35-39beb05f1709>:28: SettingWithCopyWarning: \n",
      "A value is trying to be set on a copy of a slice from a DataFrame.\n",
      "Try using .loc[row_indexer,col_indexer] = value instead\n",
      "\n",
      "See the caveats in the documentation: https://pandas.pydata.org/pandas-docs/stable/user_guide/indexing.html#returning-a-view-versus-a-copy\n",
      "  df[\"type\"] = df[\"type\"].str.replace(\"Salvadoreña\", \"Latina\")\n",
      "<ipython-input-35-39beb05f1709>:29: SettingWithCopyWarning: \n",
      "A value is trying to be set on a copy of a slice from a DataFrame.\n",
      "Try using .loc[row_indexer,col_indexer] = value instead\n",
      "\n",
      "See the caveats in the documentation: https://pandas.pydata.org/pandas-docs/stable/user_guide/indexing.html#returning-a-view-versus-a-copy\n",
      "  df[\"type\"] = df[\"type\"].str.replace(\"Cubana\", \"Latina\")\n"
     ]
    }
   ],
   "source": [
    "df[\"type\"] = df[\"type\"].str.replace(\"Pub con cerveza artesanal\", \"Bar\")\n",
    "df[\"type\"] = df[\"type\"].str.replace(\"Restaurante de carne\", \"Asador\")\n",
    "df[\"type\"] = df[\"type\"].str.replace(\"Comida rápida\", \"Americana\")\n",
    "df[\"type\"] = df[\"type\"].str.replace(\"Pizza\", \"Italiana\")\n",
    "\n",
    "df[\"type\"] = df[\"type\"].str.replace(\"Café\", \"Café y postres\")\n",
    "df[\"type\"] = df[\"type\"].str.replace(\"Confiterías/panaderías\", \"Café y postres\")\n",
    "df[\"type\"] = df[\"type\"].str.replace(\"Postres\", \"Café y postres\")\n",
    "\n",
    "df[\"type\"] = df[\"type\"].str.replace(\"Española\", \"Mediterránea\")\n",
    "df[\"type\"] = df[\"type\"].str.replace(\"Portuguesa\", \"Mediterránea\")\n",
    "df[\"type\"] = df[\"type\"].str.replace(\"Libanesa\", \"Mediterránea\")\n",
    "\n",
    "df[\"type\"] = df[\"type\"].str.replace(\"China\", \"Asiática\")\n",
    "df[\"type\"] = df[\"type\"].str.replace(\"Japonesa\", \"Asiática\")\n",
    "\n",
    "df[\"type\"] = df[\"type\"].str.replace(\"Tentempiés\", \"Otros\")\n",
    "df[\"type\"] = df[\"type\"].str.replace(\"Saludable\", \"Otros\")\n",
    "\n",
    "df[\"type\"] = df[\"type\"].str.replace(\"Francesa\", \"Europea\")\n",
    "df[\"type\"] = df[\"type\"].str.replace(\"Alemana\", \"Europea\")\n",
    "df[\"type\"] = df[\"type\"].str.replace(\"Belga\", \"Europea\")\n",
    "\n",
    "df[\"type\"] = df[\"type\"].str.replace(\"Peruana\", \"Latina\")\n",
    "df[\"type\"] = df[\"type\"].str.replace(\"Caribeña\", \"Latina\")\n",
    "df[\"type\"] = df[\"type\"].str.replace(\"Brasileña\", \"Latina\")\n",
    "df[\"type\"] = df[\"type\"].str.replace(\"Argentina\", \"Latina\")\n",
    "df[\"type\"] = df[\"type\"].str.replace(\"Salvadoreña\", \"Latina\")\n",
    "df[\"type\"] = df[\"type\"].str.replace(\"Cubana\", \"Latina\")"
   ]
  },
  {
   "cell_type": "code",
   "execution_count": 36,
   "id": "a0f5abf7",
   "metadata": {},
   "outputs": [
    {
     "data": {
      "text/plain": [
       "array(['Mediterránea', 'Bar', 'Asador', 'Café y postres', 'Europea',\n",
       "       'Latina', 'Internacional', 'Italiana', 'Asiática', 'Marisco',\n",
       "       'Americana', 'India', 'Otros', 'Mexicana', 'Filipina', 'Marroquí',\n",
       "       'Fusión'], dtype=object)"
      ]
     },
     "execution_count": 36,
     "metadata": {},
     "output_type": "execute_result"
    }
   ],
   "source": [
    "df.type.unique()"
   ]
  },
  {
   "cell_type": "code",
   "execution_count": null,
   "id": "581c2be1",
   "metadata": {},
   "outputs": [],
   "source": [
    "#df.to_csv('tripadvisor_latlon.csv')"
   ]
  },
  {
   "cell_type": "code",
   "execution_count": 39,
   "id": "d604f03a",
   "metadata": {},
   "outputs": [
    {
     "name": "stdout",
     "output_type": "stream",
     "text": [
      "/Users/awalsh/IRONHACK/PROJECT2/Notebooks\r\n"
     ]
    }
   ],
   "source": [
    "!pwd"
   ]
  },
  {
   "cell_type": "code",
   "execution_count": 38,
   "id": "7710a706",
   "metadata": {},
   "outputs": [],
   "source": [
    "df.to_csv('tripadvisor_latlon_v2.csv')"
   ]
  },
  {
   "cell_type": "code",
   "execution_count": 49,
   "id": "696dbf2f",
   "metadata": {},
   "outputs": [
    {
     "data": {
      "text/plain": [
       "array(['Mediterránea', 'Bar', 'Asador', 'Café y postres', 'Europea',\n",
       "       'Latina', 'Internacional', 'Italiana', 'Asiática', 'Marisco',\n",
       "       'Americana', 'India', 'Otros', 'Mexicana', 'Filipina', 'Marroquí',\n",
       "       'Fusión'], dtype=object)"
      ]
     },
     "execution_count": 49,
     "metadata": {},
     "output_type": "execute_result"
    }
   ],
   "source": [
    "df.type.unique()"
   ]
  },
  {
   "cell_type": "markdown",
   "id": "5dea8ad1",
   "metadata": {},
   "source": [
    "## Exportar a Mongo"
   ]
  },
  {
   "cell_type": "code",
   "execution_count": 40,
   "id": "a5dc6f06",
   "metadata": {},
   "outputs": [],
   "source": [
    "client = MongoClient(\"localhost:27017\")"
   ]
  },
  {
   "cell_type": "code",
   "execution_count": 41,
   "id": "0050e196",
   "metadata": {},
   "outputs": [
    {
     "data": {
      "text/plain": [
       "Database(MongoClient(host=['localhost:27017'], document_class=dict, tz_aware=False, connect=True), 'PROJECT')"
      ]
     },
     "execution_count": 41,
     "metadata": {},
     "output_type": "execute_result"
    }
   ],
   "source": [
    "db = client.get_database(\"PROJECT\")\n",
    "db"
   ]
  },
  {
   "cell_type": "code",
   "execution_count": 42,
   "id": "77ce175b",
   "metadata": {},
   "outputs": [],
   "source": [
    "collection = db[\"Restaurants\"]"
   ]
  },
  {
   "cell_type": "code",
   "execution_count": null,
   "id": "4d6709bf",
   "metadata": {},
   "outputs": [],
   "source": [
    "collection.create_index([(\"type_point_\", \"2dsphere\")])"
   ]
  },
  {
   "cell_type": "code",
   "execution_count": 44,
   "id": "548b0bfe",
   "metadata": {},
   "outputs": [],
   "source": [
    "data = df.to_dict(orient='records')"
   ]
  },
  {
   "cell_type": "code",
   "execution_count": 45,
   "id": "0f329086",
   "metadata": {},
   "outputs": [
    {
     "data": {
      "text/plain": [
       "{'type': 'Point', 'coordinates': [-3.679035, 40.4243394]}"
      ]
     },
     "execution_count": 45,
     "metadata": {},
     "output_type": "execute_result"
    }
   ],
   "source": [
    "df.type_point[0]"
   ]
  },
  {
   "cell_type": "code",
   "execution_count": 46,
   "id": "40710119",
   "metadata": {
    "scrolled": true
   },
   "outputs": [
    {
     "data": {
      "text/plain": [
       "<pymongo.results.InsertManyResult at 0x7fa2dc998900>"
      ]
     },
     "execution_count": 46,
     "metadata": {},
     "output_type": "execute_result"
    }
   ],
   "source": [
    "#collection.insert_many(data)"
   ]
  },
  {
   "cell_type": "code",
   "execution_count": null,
   "id": "bf9399c1",
   "metadata": {},
   "outputs": [],
   "source": [
    "ubicacion = input(\"¿Dónde estás?: \")\n",
    "print(ubicacion)"
   ]
  },
  {
   "cell_type": "code",
   "execution_count": null,
   "id": "33e85cd6",
   "metadata": {},
   "outputs": [],
   "source": [
    "tipo = input(\"¿Qué tipo de comida te apetece?: \")\n",
    "print(tipo)"
   ]
  },
  {
   "cell_type": "code",
   "execution_count": null,
   "id": "bb285f80",
   "metadata": {},
   "outputs": [],
   "source": [
    "distance = int(input(\"¿Cuántos metros quieres desplazarte?: \"))\n",
    "print(distance)"
   ]
  },
  {
   "cell_type": "code",
   "execution_count": null,
   "id": "0e9e09a0",
   "metadata": {},
   "outputs": [],
   "source": [
    "def get_coordenadas(address):\n",
    "    \"\"\"\n",
    "    Esta función saca las coordenadas de la ciudad que le pases.\n",
    "    Args: una ciudad (string).\n",
    "    Return: Las coordeandas de la ciudad que le paso como argumento (latitud y longitud).\n",
    "    \"\"\"\n",
    "    geolocator = Nominatim(user_agent=\"Ana\")\n",
    "    location = geolocator.geocode(query=address, exactly_one=True)\n",
    "    localizacion = location[1]\n",
    "    return [localizacion[1], localizacion[0]]"
   ]
  },
  {
   "cell_type": "code",
   "execution_count": null,
   "id": "eca7badd",
   "metadata": {},
   "outputs": [],
   "source": [
    "coordinate = get_coordenadas(ubicacion)"
   ]
  },
  {
   "cell_type": "code",
   "execution_count": null,
   "id": "6ef0d9d7",
   "metadata": {},
   "outputs": [],
   "source": [
    "coordinate"
   ]
  },
  {
   "cell_type": "code",
   "execution_count": null,
   "id": "70156d4c",
   "metadata": {},
   "outputs": [],
   "source": [
    "inicial_lat = coordinate[1]\n",
    "print(inicial_lat)\n",
    "inicial_long =  coordinate[0]"
   ]
  },
  {
   "cell_type": "code",
   "execution_count": null,
   "id": "610fb0fc",
   "metadata": {},
   "outputs": [],
   "source": [
    "def type_point(lista):\n",
    "    return {\"type\":\"Point\", \"coordinates\": lista}"
   ]
  },
  {
   "cell_type": "code",
   "execution_count": null,
   "id": "b9efb1a2",
   "metadata": {},
   "outputs": [],
   "source": [
    "db"
   ]
  },
  {
   "cell_type": "markdown",
   "id": "6b80f786",
   "metadata": {},
   "source": [
    "## Restaurantes a 500 m"
   ]
  },
  {
   "cell_type": "code",
   "execution_count": 50,
   "id": "0a117e9f",
   "metadata": {},
   "outputs": [],
   "source": [
    "restaurants = db.get_collection(\"Restaurants\")"
   ]
  },
  {
   "cell_type": "code",
   "execution_count": 51,
   "id": "34e47ab9",
   "metadata": {},
   "outputs": [
    {
     "ename": "NameError",
     "evalue": "name 'coordinate' is not defined",
     "output_type": "error",
     "traceback": [
      "\u001b[0;31m---------------------------------------------------------------------------\u001b[0m",
      "\u001b[0;31mNameError\u001b[0m                                 Traceback (most recent call last)",
      "\u001b[0;32m<ipython-input-51-038f2750666d>\u001b[0m in \u001b[0;36m<module>\u001b[0;34m\u001b[0m\n\u001b[0;32m----> 1\u001b[0;31m all_restaurants = {\"coordinates_v2\": {\"$near\": {\"$geometry\":{'type': 'Point', 'coordinates':coordinate},\n\u001b[0m\u001b[1;32m      2\u001b[0m                                                   \"$maxDistance\": distance}}}\n",
      "\u001b[0;31mNameError\u001b[0m: name 'coordinate' is not defined"
     ]
    }
   ],
   "source": [
    "all_restaurants = {\"coordinates_v2\": {\"$near\": {\"$geometry\":{'type': 'Point', 'coordinates':coordinate},\n",
    "                                                  \"$maxDistance\": distance}}}"
   ]
  },
  {
   "cell_type": "code",
   "execution_count": 52,
   "id": "455ec177",
   "metadata": {},
   "outputs": [
    {
     "ename": "NameError",
     "evalue": "name 'all_restaurants' is not defined",
     "output_type": "error",
     "traceback": [
      "\u001b[0;31m---------------------------------------------------------------------------\u001b[0m",
      "\u001b[0;31mNameError\u001b[0m                                 Traceback (most recent call last)",
      "\u001b[0;32m<ipython-input-52-0034727fcea0>\u001b[0m in \u001b[0;36m<module>\u001b[0;34m\u001b[0m\n\u001b[0;32m----> 1\u001b[0;31m \u001b[0;34m(\u001b[0m\u001b[0mlist\u001b[0m\u001b[0;34m(\u001b[0m\u001b[0mrestaurants\u001b[0m\u001b[0;34m.\u001b[0m\u001b[0mfind\u001b[0m\u001b[0;34m(\u001b[0m\u001b[0mall_restaurants\u001b[0m\u001b[0;34m)\u001b[0m\u001b[0;34m)\u001b[0m\u001b[0;34m)\u001b[0m\u001b[0;34m\u001b[0m\u001b[0;34m\u001b[0m\u001b[0m\n\u001b[0m",
      "\u001b[0;31mNameError\u001b[0m: name 'all_restaurants' is not defined"
     ]
    }
   ],
   "source": [
    "(list(restaurants.find(all_restaurants)))"
   ]
  },
  {
   "cell_type": "code",
   "execution_count": null,
   "id": "d6f0fbec",
   "metadata": {},
   "outputs": [],
   "source": [
    "df_restaurantes= pd.DataFrame(list(restaurants.find(all_restaurants)))"
   ]
  },
  {
   "cell_type": "code",
   "execution_count": null,
   "id": "4c3d931e",
   "metadata": {},
   "outputs": [],
   "source": [
    "df_restaurantes"
   ]
  },
  {
   "cell_type": "code",
   "execution_count": null,
   "id": "8cf939ea",
   "metadata": {},
   "outputs": [],
   "source": [
    "df_restaurantes.type.unique()"
   ]
  },
  {
   "cell_type": "markdown",
   "id": "fe1ffb90",
   "metadata": {},
   "source": [
    "## Restaurantes Mediterraneos"
   ]
  },
  {
   "cell_type": "code",
   "execution_count": null,
   "id": "128d6b88",
   "metadata": {},
   "outputs": [],
   "source": [
    "rest_mediterraneos = {\"coordinates_v2\": {\"$near\": {\"$geometry\":{'type': 'Point', 'coordinates':coordinate},\n",
    "                                                  \"$maxDistance\": distance}},'type': \"Mediterránea\"}"
   ]
  },
  {
   "cell_type": "code",
   "execution_count": null,
   "id": "a3694d3c",
   "metadata": {},
   "outputs": [],
   "source": [
    "rest_mediterraneos"
   ]
  },
  {
   "cell_type": "code",
   "execution_count": null,
   "id": "49a78a40",
   "metadata": {},
   "outputs": [],
   "source": [
    "len(list(restaurants.find(query_restaurants)))"
   ]
  },
  {
   "cell_type": "code",
   "execution_count": null,
   "id": "199b491f",
   "metadata": {},
   "outputs": [],
   "source": [
    "df_medit = pd.DataFrame(list(restaurants.find(query_restaurants)))"
   ]
  },
  {
   "cell_type": "code",
   "execution_count": null,
   "id": "01d5fc9a",
   "metadata": {},
   "outputs": [],
   "source": [
    "df_medit"
   ]
  },
  {
   "cell_type": "markdown",
   "id": "ddf5ce2c",
   "metadata": {},
   "source": [
    "## Restaurantes Española"
   ]
  },
  {
   "cell_type": "code",
   "execution_count": null,
   "id": "2c064fbf",
   "metadata": {},
   "outputs": [],
   "source": [
    "rest_internacional = {\"coordinates_v2\": {\"$near\": {\"$geometry\":{'type': 'Point', 'coordinates':coordinate},\n",
    "                                                  \"$maxDistance\": distance}},'type': \"Internacional\"}"
   ]
  },
  {
   "cell_type": "code",
   "execution_count": null,
   "id": "210c3ede",
   "metadata": {},
   "outputs": [],
   "source": [
    "rest_internacional"
   ]
  },
  {
   "cell_type": "code",
   "execution_count": null,
   "id": "bd991af3",
   "metadata": {},
   "outputs": [],
   "source": [
    "len(list(restaurants.find(rest_internacional)))"
   ]
  },
  {
   "cell_type": "code",
   "execution_count": null,
   "id": "d9b61236",
   "metadata": {},
   "outputs": [],
   "source": [
    "df_intern = pd.DataFrame(list(restaurants.find(rest_internacional)))"
   ]
  },
  {
   "cell_type": "code",
   "execution_count": null,
   "id": "a3321e5e",
   "metadata": {},
   "outputs": [],
   "source": [
    "df_intern"
   ]
  },
  {
   "cell_type": "markdown",
   "id": "f4d2ee76",
   "metadata": {},
   "source": [
    "## Maps"
   ]
  },
  {
   "cell_type": "code",
   "execution_count": null,
   "id": "5d081aa5",
   "metadata": {},
   "outputs": [],
   "source": [
    "df_restaurantes.head()"
   ]
  },
  {
   "cell_type": "code",
   "execution_count": null,
   "id": "82d5ed71",
   "metadata": {},
   "outputs": [],
   "source": [
    "def get_latitude (x):\n",
    "    return x[0]"
   ]
  },
  {
   "cell_type": "code",
   "execution_count": null,
   "id": "35e3412b",
   "metadata": {},
   "outputs": [],
   "source": [
    "def get_longitude (x):\n",
    "    return x[1]"
   ]
  },
  {
   "cell_type": "code",
   "execution_count": null,
   "id": "e1855577",
   "metadata": {},
   "outputs": [],
   "source": [
    "df_restaurantes[\"latitud\"] = df_restaurantes[\"coordinates\"].apply(get_latitude)"
   ]
  },
  {
   "cell_type": "code",
   "execution_count": null,
   "id": "182e9c75",
   "metadata": {},
   "outputs": [],
   "source": [
    "df_restaurantes[\"longitude\"] = df_restaurantes[\"coordinates\"].apply(get_longitude)"
   ]
  },
  {
   "cell_type": "code",
   "execution_count": null,
   "id": "40be907d",
   "metadata": {},
   "outputs": [],
   "source": [
    "df_restaurantes"
   ]
  },
  {
   "cell_type": "code",
   "execution_count": null,
   "id": "021a9b38",
   "metadata": {},
   "outputs": [],
   "source": [
    "map_1 = folium.Map(location=[inicial_lat,inicial_long], zoom_start=15)\n",
    "\n",
    "dic = {\"location\": [inicial_lat, inicial_long], \"tooltip\": \"ubicacion\"}\n",
    "\n",
    "icono = Icon(color = \"red\",\n",
    "                     prefix=\"fa\",\n",
    "                     icon=\"map-marker\",\n",
    "                     icon_color=\"black\")\n",
    "\n",
    "mark = Marker(**dic, icon=icono)\n",
    "mark.add_to(map_1)"
   ]
  },
  {
   "cell_type": "code",
   "execution_count": null,
   "id": "d76ccca7",
   "metadata": {},
   "outputs": [],
   "source": [
    "map_1"
   ]
  },
  {
   "cell_type": "code",
   "execution_count": null,
   "id": "505032fe",
   "metadata": {},
   "outputs": [],
   "source": [
    "df_restaurantes.type.unique()"
   ]
  },
  {
   "cell_type": "code",
   "execution_count": null,
   "id": "e71eea21",
   "metadata": {},
   "outputs": [],
   "source": [
    "for i,row in df_restaurantes.iterrows():\n",
    "\n",
    "    #dic = {\"location\": [row[\"latitud\"], row[\"longitud\"]], \"tooltip\": row[\"nombre\"]}\n",
    "    dic = {\"location\": [row[\"latitud\"], row[\"longitude\"]], \"tooltip\": row[\"name\"]}\n",
    "\n",
    "    if row[\"type\"] == \"Mediterránea\":\n",
    "        icono = Icon(color = \"green\",\n",
    "                     prefix=\"fa\",\n",
    "                     icon=\"circle\",\n",
    "                     icon_color=\"black\")\n",
    "\n",
    "    elif row[\"type\"] == 'Italiana':\n",
    "        icono = Icon(color = \"lightblue\",\n",
    "                     prefix=\"fa\",\n",
    "                     icon=\"circle\",\n",
    "                     icon_color=\"black\")\n",
    "\n",
    "        \n",
    "    elif row[\"type\"] == \"Internacional\":        \n",
    "        icono = Icon(color = \"orange\",\n",
    "                     prefix=\"fa\",\n",
    "                     icon=\"circle\",\n",
    "                     icon_color=\"black\")\n",
    "           \n",
    "    elif row[\"type\"] == \"Confiterías/panaderías\":        \n",
    "        icono = Icon(color = \"gray\",\n",
    "                     prefix=\"fa\",\n",
    "                     icon=\"circle\",\n",
    "                     icon_color=\"black\")\n",
    "           \n",
    "    elif row[\"type\"] == \"Japonesa\":        \n",
    "        icono = Icon(color = \"cadetblue\",\n",
    "                     prefix=\"fa\",\n",
    "                     icon=\"circle\",\n",
    "                     icon_color=\"black\")\n",
    "           \n",
    "           \n",
    "    elif row[\"type\"] == \"Bar\":        \n",
    "        icono = Icon(color = \"lightgreen\",\n",
    "                     prefix=\"fa\",\n",
    "                     icon=\"circle\",\n",
    "                     icon_color=\"black\")\n",
    "           \n",
    "           \n",
    "    elif row[\"type\"] == \"India\":        \n",
    "        icono = Icon(color = \"lightblue\",\n",
    "                     prefix=\"fa\",\n",
    "                     icon=\"circle\",\n",
    "                     icon_color=\"black\")\n",
    "           \n",
    "                 \n",
    "           \n",
    "    elif row[\"type\"] == \"Mexicana\":        \n",
    "        icono = Icon(color = \"pink\",\n",
    "                     prefix=\"fa\",\n",
    "                     icon=\"circle\",\n",
    "                     icon_color=\"black\")\n",
    "           \n",
    "           \n",
    "    elif row[\"type\"] == \"Pub con cerveza artesanal\":        \n",
    "        icono = Icon(color = \"purple\",\n",
    "                     prefix=\"fa\",\n",
    "                     icon=\"circle\",\n",
    "                     icon_color=\"black\")\n",
    "           \n",
    "    \n",
    "    mark = Marker(**dic, icon=icono)\n",
    "    mark.add_to(map_1)   "
   ]
  },
  {
   "cell_type": "code",
   "execution_count": null,
   "id": "cde63cc5",
   "metadata": {},
   "outputs": [],
   "source": [
    "map_1"
   ]
  },
  {
   "cell_type": "markdown",
   "id": "d1cd4e06",
   "metadata": {},
   "source": [
    "1- Input preguntando donde estas\n",
    "2- Input preguntando que radio quieren\n",
    "3- Funcion que pasa de direccion a coordenadas (coordenadas al reves)\n",
    "4- Funcion que me haga una query near a moongo y me devuelva todos los restaurantes en el radio  \n",
    "\n",
    "\n",
    "\n",
    "\n",
    "streamlit : parte del csv, estoy en tal sitio y quiero tal tipo de comida en esta distancia.\n",
    "\n",
    "- tendre una funcion que haga la query y saque un pandas. support\n",
    "- tendre una función que haga un mapa con un pd. return map. spport\n",
    "\n",
    "\n",
    "- df = función(input del usuario)\n",
    "- map (df)\n",
    "\n",
    "\n",
    "\n",
    "\n",
    "mañana hay que tener la presentación.\n",
    "\n",
    "1- mapas (aqui va el input del usuario)\n",
    "para la distancia hago un sidebar. esta en iris_prediction/src/ support.py /\n",
    "\n",
    "2 - graficos\n",
    "\n",
    "\n",
    "3- diccionario map sobre el pd.\n",
    "\n",
    "\n",
    "\n",
    "\n",
    "\n"
   ]
  },
  {
   "cell_type": "code",
   "execution_count": null,
   "id": "de379df9",
   "metadata": {},
   "outputs": [],
   "source": []
  }
 ],
 "metadata": {
  "kernelspec": {
   "display_name": "ironhack",
   "language": "python",
   "name": "ironhack"
  },
  "language_info": {
   "codemirror_mode": {
    "name": "ipython",
    "version": 3
   },
   "file_extension": ".py",
   "mimetype": "text/x-python",
   "name": "python",
   "nbconvert_exporter": "python",
   "pygments_lexer": "ipython3",
   "version": "3.8.5"
  }
 },
 "nbformat": 4,
 "nbformat_minor": 5
}
