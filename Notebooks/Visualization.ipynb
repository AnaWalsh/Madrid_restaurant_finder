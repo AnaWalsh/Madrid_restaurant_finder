{
 "cells": [
  {
   "cell_type": "code",
   "execution_count": 56,
   "id": "93ba1406",
   "metadata": {},
   "outputs": [],
   "source": [
    "import pandas as pd"
   ]
  },
  {
   "cell_type": "code",
   "execution_count": 98,
   "id": "0d9c4d1a",
   "metadata": {},
   "outputs": [],
   "source": [
    "df_visual = pd.read_csv('../data/tripadvisor_latlon_v2.csv')"
   ]
  },
  {
   "cell_type": "code",
   "execution_count": 99,
   "id": "7e135662",
   "metadata": {},
   "outputs": [],
   "source": [
    "import plotly.express as px\n",
    "import seaborn as sns\n",
    "import pandas as pd\n",
    "import plotly.graph_objects as go"
   ]
  },
  {
   "cell_type": "code",
   "execution_count": 100,
   "id": "45bd678c",
   "metadata": {},
   "outputs": [
    {
     "data": {
      "text/html": [
       "<div>\n",
       "<style scoped>\n",
       "    .dataframe tbody tr th:only-of-type {\n",
       "        vertical-align: middle;\n",
       "    }\n",
       "\n",
       "    .dataframe tbody tr th {\n",
       "        vertical-align: top;\n",
       "    }\n",
       "\n",
       "    .dataframe thead th {\n",
       "        text-align: right;\n",
       "    }\n",
       "</style>\n",
       "<table border=\"1\" class=\"dataframe\">\n",
       "  <thead>\n",
       "    <tr style=\"text-align: right;\">\n",
       "      <th></th>\n",
       "      <th>indice</th>\n",
       "      <th>name</th>\n",
       "      <th>address</th>\n",
       "      <th>type</th>\n",
       "      <th>ranking</th>\n",
       "      <th>price</th>\n",
       "      <th>direccion</th>\n",
       "      <th>comunidad</th>\n",
       "      <th>street</th>\n",
       "      <th>street_2</th>\n",
       "      <th>coordinates</th>\n",
       "      <th>street_3</th>\n",
       "      <th>coordinates_v2</th>\n",
       "      <th>type_point</th>\n",
       "      <th>longitude</th>\n",
       "      <th>latitude</th>\n",
       "      <th>price_2</th>\n",
       "    </tr>\n",
       "  </thead>\n",
       "  <tbody>\n",
       "    <tr>\n",
       "      <th>0</th>\n",
       "      <td>413.0</td>\n",
       "      <td>El anciano rey de los vinos</td>\n",
       "      <td>Calle Bailén 19, 28013 Madrid España</td>\n",
       "      <td>Mediterránea</td>\n",
       "      <td>549 de 10.409</td>\n",
       "      <td>€€ - €€€</td>\n",
       "      <td>Calle Bailén 19</td>\n",
       "      <td>Madrid España</td>\n",
       "      <td>Calle Bailén 19</td>\n",
       "      <td>Calle Bailén 19, Madrid España</td>\n",
       "      <td>(40.028851, -3.606505)</td>\n",
       "      <td>Calle Bailén 19, Madrid España</td>\n",
       "      <td>[-3.606505, 40.028851]</td>\n",
       "      <td>{'type': 'Point', 'coordinates': [-3.606505, 4...</td>\n",
       "      <td>-3.606505</td>\n",
       "      <td>40.028851</td>\n",
       "      <td>Medio</td>\n",
       "    </tr>\n",
       "    <tr>\n",
       "      <th>1</th>\n",
       "      <td>76.0</td>\n",
       "      <td>Taberna Más Al Sur</td>\n",
       "      <td>Calle Santa Isabel Nº 35, 28012 Madrid España</td>\n",
       "      <td>Mediterránea</td>\n",
       "      <td>34 de 10.414</td>\n",
       "      <td>€€ - €€€</td>\n",
       "      <td>Calle Santa Isabel Nº 35</td>\n",
       "      <td>Madrid España</td>\n",
       "      <td>Calle Santa Isabel 35</td>\n",
       "      <td>Calle Santa Isabel 35, Madrid España</td>\n",
       "      <td>(40.0316837, -3.5908706)</td>\n",
       "      <td>Calle Santa Isabel 35, Madrid España</td>\n",
       "      <td>[-3.5908706, 40.0316837]</td>\n",
       "      <td>{'type': 'Point', 'coordinates': [-3.5908706, ...</td>\n",
       "      <td>-3.590871</td>\n",
       "      <td>40.031684</td>\n",
       "      <td>Medio</td>\n",
       "    </tr>\n",
       "    <tr>\n",
       "      <th>2</th>\n",
       "      <td>95.0</td>\n",
       "      <td>Casa Labra</td>\n",
       "      <td>Calle Tetuan 12, 28013 Madrid España</td>\n",
       "      <td>Bar</td>\n",
       "      <td>650 de 10.414</td>\n",
       "      <td>€</td>\n",
       "      <td>Calle Tetuan 12</td>\n",
       "      <td>Madrid España</td>\n",
       "      <td>Calle Tetuan 12</td>\n",
       "      <td>Calle Tetuan 12, Madrid España</td>\n",
       "      <td>(40.0395885, -3.6142713)</td>\n",
       "      <td>Calle Tetuan 12, Madrid España</td>\n",
       "      <td>[-3.6142713, 40.0395885]</td>\n",
       "      <td>{'type': 'Point', 'coordinates': [-3.6142713, ...</td>\n",
       "      <td>-3.614271</td>\n",
       "      <td>40.039589</td>\n",
       "      <td>Barato</td>\n",
       "    </tr>\n",
       "    <tr>\n",
       "      <th>3</th>\n",
       "      <td>134.0</td>\n",
       "      <td>Parrilla El Gaucho</td>\n",
       "      <td>Calle Tetuan 34, 28013 Madrid España</td>\n",
       "      <td>Asador</td>\n",
       "      <td>311 de 10.414</td>\n",
       "      <td>€€ - €€€</td>\n",
       "      <td>Calle Tetuan 34</td>\n",
       "      <td>Madrid España</td>\n",
       "      <td>Calle Tetuan 34</td>\n",
       "      <td>Calle Tetuan 34, Madrid España</td>\n",
       "      <td>(40.0395885, -3.6142713)</td>\n",
       "      <td>Calle Tetuan 34, Madrid España</td>\n",
       "      <td>[-3.6142713, 40.0395885]</td>\n",
       "      <td>{'type': 'Point', 'coordinates': [-3.6142713, ...</td>\n",
       "      <td>-3.614271</td>\n",
       "      <td>40.039589</td>\n",
       "      <td>Medio</td>\n",
       "    </tr>\n",
       "    <tr>\n",
       "      <th>4</th>\n",
       "      <td>279.0</td>\n",
       "      <td>Santa Eulalia Boulangerie</td>\n",
       "      <td>Calle Espejo 12, 28013 Madrid España</td>\n",
       "      <td>Café y postres</td>\n",
       "      <td>N.º 23 de 477 cafeterías y teterías en Madrid</td>\n",
       "      <td>€€ - €€€</td>\n",
       "      <td>Calle Espejo 12</td>\n",
       "      <td>Madrid España</td>\n",
       "      <td>Calle Espejo 12</td>\n",
       "      <td>Calle Espejo 12, Madrid España</td>\n",
       "      <td>(40.1384846, -3.4252641)</td>\n",
       "      <td>Calle Espejo 12, Madrid España</td>\n",
       "      <td>[-3.4252641, 40.1384846]</td>\n",
       "      <td>{'type': 'Point', 'coordinates': [-3.4252641, ...</td>\n",
       "      <td>-3.425264</td>\n",
       "      <td>40.138485</td>\n",
       "      <td>Medio</td>\n",
       "    </tr>\n",
       "  </tbody>\n",
       "</table>\n",
       "</div>"
      ],
      "text/plain": [
       "   indice                         name  \\\n",
       "0   413.0  El anciano rey de los vinos   \n",
       "1    76.0           Taberna Más Al Sur   \n",
       "2    95.0                   Casa Labra   \n",
       "3   134.0           Parrilla El Gaucho   \n",
       "4   279.0    Santa Eulalia Boulangerie   \n",
       "\n",
       "                                         address            type  \\\n",
       "0           Calle Bailén 19, 28013 Madrid España    Mediterránea   \n",
       "1  Calle Santa Isabel Nº 35, 28012 Madrid España    Mediterránea   \n",
       "2           Calle Tetuan 12, 28013 Madrid España             Bar   \n",
       "3           Calle Tetuan 34, 28013 Madrid España          Asador   \n",
       "4           Calle Espejo 12, 28013 Madrid España  Café y postres   \n",
       "\n",
       "                                         ranking     price  \\\n",
       "0                                 549 de 10.409   €€ - €€€   \n",
       "1                                  34 de 10.414   €€ - €€€   \n",
       "2                                 650 de 10.414          €   \n",
       "3                                 311 de 10.414   €€ - €€€   \n",
       "4  N.º 23 de 477 cafeterías y teterías en Madrid  €€ - €€€   \n",
       "\n",
       "                  direccion      comunidad                 street  \\\n",
       "0           Calle Bailén 19  Madrid España        Calle Bailén 19   \n",
       "1  Calle Santa Isabel Nº 35  Madrid España  Calle Santa Isabel 35   \n",
       "2           Calle Tetuan 12  Madrid España        Calle Tetuan 12   \n",
       "3           Calle Tetuan 34  Madrid España        Calle Tetuan 34   \n",
       "4           Calle Espejo 12  Madrid España        Calle Espejo 12   \n",
       "\n",
       "                               street_2               coordinates  \\\n",
       "0        Calle Bailén 19, Madrid España    (40.028851, -3.606505)   \n",
       "1  Calle Santa Isabel 35, Madrid España  (40.0316837, -3.5908706)   \n",
       "2        Calle Tetuan 12, Madrid España  (40.0395885, -3.6142713)   \n",
       "3        Calle Tetuan 34, Madrid España  (40.0395885, -3.6142713)   \n",
       "4        Calle Espejo 12, Madrid España  (40.1384846, -3.4252641)   \n",
       "\n",
       "                               street_3            coordinates_v2  \\\n",
       "0        Calle Bailén 19, Madrid España    [-3.606505, 40.028851]   \n",
       "1  Calle Santa Isabel 35, Madrid España  [-3.5908706, 40.0316837]   \n",
       "2        Calle Tetuan 12, Madrid España  [-3.6142713, 40.0395885]   \n",
       "3        Calle Tetuan 34, Madrid España  [-3.6142713, 40.0395885]   \n",
       "4        Calle Espejo 12, Madrid España  [-3.4252641, 40.1384846]   \n",
       "\n",
       "                                          type_point  longitude   latitude  \\\n",
       "0  {'type': 'Point', 'coordinates': [-3.606505, 4...  -3.606505  40.028851   \n",
       "1  {'type': 'Point', 'coordinates': [-3.5908706, ...  -3.590871  40.031684   \n",
       "2  {'type': 'Point', 'coordinates': [-3.6142713, ...  -3.614271  40.039589   \n",
       "3  {'type': 'Point', 'coordinates': [-3.6142713, ...  -3.614271  40.039589   \n",
       "4  {'type': 'Point', 'coordinates': [-3.4252641, ...  -3.425264  40.138485   \n",
       "\n",
       "  price_2  \n",
       "0   Medio  \n",
       "1   Medio  \n",
       "2  Barato  \n",
       "3   Medio  \n",
       "4   Medio  "
      ]
     },
     "execution_count": 100,
     "metadata": {},
     "output_type": "execute_result"
    }
   ],
   "source": [
    "df_visual.head()"
   ]
  },
  {
   "cell_type": "code",
   "execution_count": 101,
   "id": "85d4d3a8",
   "metadata": {},
   "outputs": [],
   "source": [
    "def delete_string(x):\n",
    "    x = str(x).replace('cafeterías y teterías en Madrid', \"\")\n",
    "    x = str(x).replace('N.º', \"\")\n",
    "    x = str(x).replace(' de 10.409', \"\")\n",
    "    x = str(x).replace(' de 447', \"\")\n",
    "    return x"
   ]
  },
  {
   "cell_type": "code",
   "execution_count": 102,
   "id": "1c857985",
   "metadata": {},
   "outputs": [],
   "source": [
    "df[\"ranking_2\"] = df.ranking.apply(delete_string)"
   ]
  },
  {
   "cell_type": "code",
   "execution_count": 103,
   "id": "646c21b3",
   "metadata": {},
   "outputs": [
    {
     "data": {
      "text/plain": [
       "array(['549 ', '34 de 10.414 ', '650 de 10.414 ', '311 de 10.414 ',\n",
       "       ' 23 de 477 ', '478 ', '1.547 ', '186 ', '37 ', '2.013 ', '1.016 ',\n",
       "       '1.069 de 10.414 ', '53 de 10.414 ', '2.201 ', '2.578 ', '1.020 ',\n",
       "       '1.557 ', '10.375 ', '624 ', '911 ', '97 de 10.414 ', '124 ',\n",
       "       '563 ', '735 ', '472 de 10.414 ', '543 ', '671 ', '1.076 ', '872 ',\n",
       "       '2.473 de 10.414 ', '427 de 10.414 ', '413 de 10.414 ', '800 ',\n",
       "       '305 ', '365 ', '1.600 ', '889 de 10.414 ', '6.410 ',\n",
       "       '556 de 10.414 ', '1.695 ', '1.707 ', '3.895 ', '87 ', '2.223 ',\n",
       "       '832 ', '1.424 ', '547 ', '660 ', '143 ',\n",
       "       ' 16 de 152 panaderías en Madrid', '1.342 ', '10.389 ', '916 ',\n",
       "       ' 14 de 477 ', '2.279 ', '10.231 ', '1.525 de 10.414 ', '270 ',\n",
       "       '227 ', '955 ', '936 ', '5.464 ', ' 4 de 477 ', '30 de 10.414 ',\n",
       "       '1.999 ', '368 ', '184 ', '356 ', '257 ', ' 2 de 477 ', '1.037 ',\n",
       "       '2.436 de 10.414 ', '5.706 ', '114 ', '117 ', ' 72 de 477 ',\n",
       "       '2.859 ', '4 ', '100 de 10.414 ', '325 ', '462 ', '410 de 10.414 ',\n",
       "       ' 24 de 125 bares de comida rápida en Madrid', '2.094 ', '2.842 ',\n",
       "       '366 ', '2.606 ', '362 ', '2.559 ', '2.678 ', '811 ', '623 ',\n",
       "       '139 ', '2.108 ', '1.813 ',\n",
       "       ' 4 de 125 bares de comida rápida en Madrid', '208 ', '425 ',\n",
       "       '2.103 ', '430 ', '10.385 ', '56 de 10.414 ', '1.508 ', '3.041 ',\n",
       "       '387 ', ' 34 de 319 postres en Madrid', '1.217 ', '164 de 10.414 ',\n",
       "       '22 de 10.414 ', '36 de 10.414 ', '9.582 ', '96 ',\n",
       "       '525 de 10.414 ', '44 de 10.414 ', '339 de 10.414 ', '824 ',\n",
       "       '3.380 ', '513 ', '278 de 10.414 ', '282 ', '93 de 10.414 ',\n",
       "       '369 ', '555 ', '61 ', '2.172 ', '221 ', '939 ', '1.401 ',\n",
       "       ' 28 de 477 ', '1.421 de 10.414 ', '3.308 ', ' 18 de 477 ', '60 ',\n",
       "       '293 ', '9.097 ', '350 ', '459 ', ' 15 de 477 ', '297 ', '1.956 ',\n",
       "       '258 ', '879 ', '732 ', '455 ', '31 de 10.414 ', '1.028 ',\n",
       "       '1.075 de 10.414 ', '2.621 ', '2.238 ', '2.282 ',\n",
       "       '1.129 de 10.414 ', '8.886 ', '2.893 ', '722 ', '1.729 ', '995 ',\n",
       "       '332 de 10.414 ', '1.629 ',\n",
       "       ' 3 de 125 bares de comida rápida en Madrid', '191 ', '521 ',\n",
       "       '2.575 de 10.414 ', '608 ', '51 ', '587 ', '629 ', '1.175 ',\n",
       "       '535 ', '1.616 ', '1.839 ', '666 ', '1.897 de 10.414 ', '2.796 ',\n",
       "       '55 de 10.414 ', '1.138 ', '2.205 ', '1.450 ', '2.879 ',\n",
       "       '924 de 10.414 ', '266 ', '11 ', '276 de 10.414 ',\n",
       "       ' 32 de 319 postres en Madrid', ' 436 de 477 ', '1.062 ', '4.961 ',\n",
       "       '504 ', '1.932 ', '1.588 ', '8.914 ', '2.060 de 10.414 ', '269 ',\n",
       "       '145 de 10.414 ', '103 ', '147 ', '20 de 10.414 ', '967 ', '197 ',\n",
       "       '691 ', '845 de 10.414 ', '1.552 ', '102 de 10.414 ', '559 ',\n",
       "       '398 de 10.414 ', '313 ', '1.235 ', ' 46 de 319 postres en Madrid',\n",
       "       '1.199 ', '43 de 10.414 ', ' 29 de 477 ', '1.141 ', '1.073 ',\n",
       "       '1.744 ', '41 de 10.414 ', '243 de 10.414 ', '231 ',\n",
       "       '1.451 de 10.414 ', ' 17 de 125 bares de comida rápida en Madrid',\n",
       "       '9.689 ', '2.459 de 10.414 ', '4.112 ', '1.788 ', '571 ', '8.951 ',\n",
       "       '507 de 10.414 ', '14 de 10.414 ', '146 ', '148 ', '1.659 ',\n",
       "       '91 de 10.414 ', '1.645 de 10.414 ', '930 ', '1.666 de 10.414 ',\n",
       "       '3.263 ', '71 de 10.414 ', ' 20 de 152 panaderías en Madrid',\n",
       "       '988 ', '1.496 ', '477 ', '460 ', '637 ', '703 ', '840 ', '1.083 ',\n",
       "       '1.541 ', '123 de 10.414 ', '106 ', '4.004 ', '9.649 ',\n",
       "       '539 de 10.414 ', '1.021 ', '716 ', '113 ',\n",
       "       ' 41 de 319 postres en Madrid', '255 ', '422 ', '21 ', '992 ',\n",
       "       '1.642 ', '769 ', '3.543 ', '173 ', '446 ', '3.661 ', '614 ',\n",
       "       ' 6 de 477 ', '2.349 ', '1.716 ', '107 ',\n",
       "       ' 11 de 319 postres en Madrid', '1.384 ', '2.872 ',\n",
       "       ' 64 de 319 postres en Madrid', '1.291 de 10.414 ', '502 ',\n",
       "       '1 de 10.414 ', '1.319 ', '9.983 ', '3.231 ', '1.178 ', '301 ',\n",
       "       '657 ', '391 ', '1.272 ', '3.064 ', '223 de 10.414 ',\n",
       "       '742 de 10.414 ', ' 1 de 477 ', '396 ', '429 de 10.414 ', '1.427 ',\n",
       "       '1.111 de 10.414 ', '597 ', '1.245 ', '3.829 ', '342 de 10.414 ',\n",
       "       '237 ', '32 ', '892 ', '616 ', '697 ', '533 ', '736 ',\n",
       "       '24 de 10.414 ', '517 de 10.414 ', '496 ', '5.324 ', '1.196 ',\n",
       "       '838 ', '2.788 ', '3.186 ', '814 ', '603 ', '84 de 10.414 ', '83 ',\n",
       "       '314 de 10.414 ', '639 ', '2.375 ', '574 de 10.414 ',\n",
       "       ' 15 de 125 bares de comida rápida en Madrid', '621 ', '1.170 ',\n",
       "       '239 ', '1.456 ', '443 ', ' 14 de 319 postres en Madrid', '2.594 ',\n",
       "       '403 de 10.414 ', '545 ', '1.478 ', '2.278 ', '531 ', '392 ',\n",
       "       '1.479 ', '3.371 ', '708 ', '214 ', '976 ', '385 ', '187 ',\n",
       "       ' 101 de 477 ', '1.448 ', '2.107 ', '749 ', '4.236 ', '5.001 ',\n",
       "       '2.071 ', '606 ', '4.453 ', '104 ',\n",
       "       ' 41 de 125 bares de comida rápida en Madrid', '2.224 ', '2.033 ',\n",
       "       '520 ', '709 ', '3.808 ', '1.633 ', '436 ', '761 ',\n",
       "       '522 de 10.414 ', '384 ', '610 ', '434 ', '252 ', '49 ', '767 ',\n",
       "       '721 ', '295 ', '1.676 ', '693 ', '203 ', '2.812 ', '2.339 ',\n",
       "       '2.228 ', '527 ', '866 ', '417 ', ' 8 de 477 ', '1.876 ',\n",
       "       '1.705 de 10.414 ', '72 de 10.414 ', '909 ', '218 ', '236 ',\n",
       "       '345 ', '1.176 ', '669 ', '998 ', '1.696 ', ' 16 de 477 ',\n",
       "       ' 38 de 477 ', '770 ', '506 ', '1.369 ', '751 ', '2.003 ',\n",
       "       '110 de 10.414 ', '1.685 de 10.414 ', '875 de 10.414 ', '958 ',\n",
       "       '108 de 10.414 ', '412 de 10.414 ', '1.485 ', '654 de 10.414 ',\n",
       "       '773 ', '685 ', '837 ', '9 de 10.414 ', '903 de 10.414 ',\n",
       "       '116 de 10.414 ', '1.796 ', '327 de 10.414 ', '2.164 ', '536 ',\n",
       "       '40 ', '3.057 ', '157 de 10.414 ', '1.276 ', '158 ', '161 ',\n",
       "       '2.269 ', '4.384 ', ' 49 de 319 postres en Madrid', '2.078 ',\n",
       "       '1.380 ', '1.140 ', '784 ', '683 ', '374 ', '457 ', '195 ',\n",
       "       '3.317 ', '512 ', '4.491 ', '375 ', '795 ', '217 ', '1.362 ',\n",
       "       ' 21 de 125 bares de comida rápida en Madrid', '335 ', '530 ',\n",
       "       '625 ', '2.466 ', '1.563 ', '917 ', '1.852 ', '440 ', '1.325 ',\n",
       "       '1.137 ', '1.079 ', '822 ', '1.398 ', '2.319 ', '2.153 ',\n",
       "       ' 452 de 477 ', '77 ', '1.029 ', '978 ', '286 ', '353 ', '734 ',\n",
       "       ' 26 de 319 postres en Madrid', '651 ', '2.242 ', '542 ', '929 ',\n",
       "       '947 ', '238 ', '9.480 ', '1.250 ', '63 ', '802 ', '322 ', '489 ',\n",
       "       '2.027 ', '524 ', '705 ', '1.585 ', '678 ', '1.443 ',\n",
       "       ' 4 de 319 postres en Madrid', '3.448 ', '1.033 ', '3.137 ',\n",
       "       '450 ', '900 ', '10.335 ', '1.293 ', '2.769 ', '1.225 ',\n",
       "       ' 91 de 477 ', '633 ', '4.730 ', '772 ', '674 ', '1.323 ',\n",
       "       '2.852 ', '101 '], dtype=object)"
      ]
     },
     "execution_count": 103,
     "metadata": {},
     "output_type": "execute_result"
    }
   ],
   "source": [
    "df.ranking_2.unique()"
   ]
  },
  {
   "cell_type": "code",
   "execution_count": 78,
   "id": "c4aa3fb5",
   "metadata": {},
   "outputs": [],
   "source": [
    "dic_for_price = {\n",
    "    \"€\": \"1\",\n",
    "    \"€€ - €€€\": \"2\",\n",
    "    \"€€€€\": \"3\",\n",
    "}"
   ]
  },
  {
   "cell_type": "code",
   "execution_count": 89,
   "id": "107d59aa",
   "metadata": {},
   "outputs": [
    {
     "data": {
      "application/vnd.plotly.v1+json": {
       "config": {
        "plotlyServerURL": "https://plot.ly"
       },
       "data": [
        {
         "hovertemplate": "ranking=%{x}<br>price_2=%{y}<extra></extra>",
         "legendgroup": "",
         "marker": {
          "color": "#636efa",
          "symbol": "circle"
         },
         "mode": "markers",
         "name": "",
         "orientation": "v",
         "showlegend": false,
         "type": "scatter",
         "x": [
          "549 de 10.409 ",
          "34 de 10.414 ",
          "650 de 10.414 ",
          "311 de 10.414 ",
          "N.º 23 de 477 cafeterías y teterías en Madrid",
          "478 de 10.409 ",
          "1.547 de 10.409 ",
          "186 de 10.409 ",
          "37 de 10.409 ",
          "2.013 de 10.409 ",
          "1.016 de 10.409 ",
          "1.069 de 10.414 ",
          "53 de 10.414 ",
          "2.201 de 10.409 ",
          "2.578 de 10.409 ",
          "1.020 de 10.409 ",
          "1.557 de 10.409 ",
          "10.375 de 10.409 ",
          "624 de 10.409 ",
          "911 de 10.409 ",
          "97 de 10.414 ",
          "124 de 10.409 ",
          "563 de 10.409 ",
          "735 de 10.409 ",
          "472 de 10.414 ",
          "543 de 10.409 ",
          "671 de 10.409 ",
          "1.076 de 10.409 ",
          "872 de 10.409 ",
          "2.473 de 10.414 ",
          "427 de 10.414 ",
          "413 de 10.414 ",
          "800 de 10.409 ",
          "305 de 10.409 ",
          "365 de 10.409 ",
          "1.600 de 10.409 ",
          "889 de 10.414 ",
          "6.410 de 10.409 ",
          "556 de 10.414 ",
          "1.695 de 10.409 ",
          "1.707 de 10.409 ",
          "3.895 de 10.409 ",
          "87 de 10.409 ",
          "2.223 de 10.409 ",
          "832 de 10.409 ",
          "1.424 de 10.409 ",
          "547 de 10.409 ",
          "660 de 10.409 ",
          "143 de 10.409 ",
          "N.º 16 de 152 panaderías en Madrid",
          "1.342 de 10.409 ",
          "10.389 de 10.409 ",
          "916 de 10.409 ",
          "N.º 14 de 477 cafeterías y teterías en Madrid",
          "2.279 de 10.409 ",
          "10.231 de 10.409 ",
          "1.525 de 10.414 ",
          "270 de 10.409 ",
          "227 de 10.409 ",
          "955 de 10.409 ",
          "936 de 10.409 ",
          "5.464 de 10.409 ",
          "N.º 4 de 477 cafeterías y teterías en Madrid",
          "30 de 10.414 ",
          "1.999 de 10.409 ",
          "368 de 10.409 ",
          "184 de 10.409 ",
          "356 de 10.409 ",
          "257 de 10.409 ",
          "N.º 2 de 477 cafeterías y teterías en Madrid",
          "1.037 de 10.409 ",
          "2.436 de 10.414 ",
          "5.706 de 10.409 ",
          "114 de 10.409 ",
          "117 de 10.409 ",
          "N.º 72 de 477 cafeterías y teterías en Madrid",
          "2.859 de 10.409 ",
          "4 de 10.409 ",
          "100 de 10.414 ",
          "325 de 10.409 ",
          "462 de 10.409 ",
          "410 de 10.414 ",
          "N.º 24 de 125 bares de comida rápida en Madrid",
          "2.094 de 10.409 ",
          "2.842 de 10.409 ",
          "366 de 10.409 ",
          "2.606 de 10.409 ",
          "362 de 10.409 ",
          "2.559 de 10.409 ",
          "2.678 de 10.409 ",
          "811 de 10.409 ",
          "623 de 10.409 ",
          "139 de 10.409 ",
          "2.108 de 10.409 ",
          "1.813 de 10.409 ",
          "N.º 4 de 125 bares de comida rápida en Madrid",
          "208 de 10.409 ",
          "425 de 10.409 ",
          "2.103 de 10.409 ",
          "430 de 10.409 ",
          "10.385 de 10.409 ",
          "56 de 10.414 ",
          "1.508 de 10.409 ",
          "3.041 de 10.409 ",
          "387 de 10.409 ",
          "N.º 34 de 319 postres en Madrid",
          "1.217 de 10.409 ",
          "164 de 10.414 ",
          "22 de 10.414 ",
          "36 de 10.414 ",
          "9.582 de 10.409 ",
          "96 de 10.409 ",
          "525 de 10.414 ",
          "44 de 10.414 ",
          "339 de 10.414 ",
          "824 de 10.409 ",
          "3.380 de 10.409 ",
          "513 de 10.409 ",
          "278 de 10.414 ",
          "282 de 10.409 ",
          "93 de 10.414 ",
          "369 de 10.409 ",
          "555 de 10.409 ",
          "61 de 10.409 ",
          "2.172 de 10.409 ",
          "221 de 10.409 ",
          "939 de 10.409 ",
          "1.401 de 10.409 ",
          "N.º 28 de 477 cafeterías y teterías en Madrid",
          "1.421 de 10.414 ",
          "3.308 de 10.409 ",
          "N.º 18 de 477 cafeterías y teterías en Madrid",
          "60 de 10.409 ",
          "293 de 10.409 ",
          "9.097 de 10.409 ",
          "350 de 10.409 ",
          "459 de 10.409 ",
          "N.º 15 de 477 cafeterías y teterías en Madrid",
          "297 de 10.409 ",
          "1.956 de 10.409 ",
          "258 de 10.409 ",
          "879 de 10.409 ",
          "732 de 10.409 ",
          "455 de 10.409 ",
          "31 de 10.414 ",
          "1.028 de 10.409 ",
          "1.075 de 10.414 ",
          "2.621 de 10.409 ",
          "2.238 de 10.409 ",
          "2.282 de 10.409 ",
          "1.129 de 10.414 ",
          "8.886 de 10.409 ",
          "2.893 de 10.409 ",
          "722 de 10.409 ",
          "1.729 de 10.409 ",
          "995 de 10.409 ",
          "332 de 10.414 ",
          "1.629 de 10.409 ",
          "N.º 3 de 125 bares de comida rápida en Madrid",
          "191 de 10.409 ",
          "521 de 10.409 ",
          "2.575 de 10.414 ",
          "608 de 10.409 ",
          "51 de 10.409 ",
          "587 de 10.409 ",
          "629 de 10.409 ",
          "1.175 de 10.409 ",
          "535 de 10.409 ",
          "1.616 de 10.409 ",
          "1.839 de 10.409 ",
          "666 de 10.409 ",
          "1.897 de 10.414 ",
          "2.796 de 10.409 ",
          "55 de 10.414 ",
          "1.138 de 10.409 ",
          "2.205 de 10.409 ",
          "1.450 de 10.409 ",
          "2.879 de 10.409 ",
          "924 de 10.414 ",
          "266 de 10.409 ",
          "11 de 10.409 ",
          "276 de 10.414 ",
          "N.º 32 de 319 postres en Madrid",
          "N.º 436 de 477 cafeterías y teterías en Madrid",
          "1.062 de 10.409 ",
          "4.961 de 10.409 ",
          "504 de 10.409 ",
          "1.932 de 10.409 ",
          "1.588 de 10.409 ",
          "8.914 de 10.409 ",
          "2.060 de 10.414 ",
          "269 de 10.409 ",
          "145 de 10.414 ",
          "103 de 10.409 ",
          "147 de 10.409 ",
          "20 de 10.414 ",
          "967 de 10.409 ",
          "197 de 10.409 ",
          "691 de 10.409 ",
          "845 de 10.414 ",
          "1.552 de 10.409 ",
          "102 de 10.414 ",
          "559 de 10.409 ",
          "398 de 10.414 ",
          "313 de 10.409 ",
          "1.235 de 10.409 ",
          "N.º 46 de 319 postres en Madrid",
          "1.199 de 10.409 ",
          "43 de 10.414 ",
          "N.º 29 de 477 cafeterías y teterías en Madrid",
          "1.141 de 10.409 ",
          "1.073 de 10.409 ",
          "1.744 de 10.409 ",
          "41 de 10.414 ",
          "243 de 10.414 ",
          "231 de 10.409 ",
          "1.451 de 10.414 ",
          "N.º 17 de 125 bares de comida rápida en Madrid",
          "9.689 de 10.409 ",
          "2.459 de 10.414 ",
          "4.112 de 10.409 ",
          "1.788 de 10.409 ",
          "571 de 10.409 ",
          "8.951 de 10.409 ",
          "507 de 10.414 ",
          "14 de 10.414 ",
          "146 de 10.409 ",
          "148 de 10.409 ",
          "1.659 de 10.409 ",
          "91 de 10.414 ",
          "1.645 de 10.414 ",
          "930 de 10.409 ",
          "1.666 de 10.414 ",
          "3.263 de 10.409 ",
          "71 de 10.414 ",
          "N.º 20 de 152 panaderías en Madrid",
          "988 de 10.409 ",
          "1.496 de 10.409 ",
          "477 de 10.409 ",
          "460 de 10.409 ",
          "637 de 10.409 ",
          "703 de 10.409 ",
          "840 de 10.409 ",
          "1.083 de 10.409 ",
          "1.541 de 10.409 ",
          "123 de 10.414 ",
          "106 de 10.409 ",
          "4.004 de 10.409 ",
          "9.649 de 10.409 ",
          "539 de 10.414 ",
          "1.021 de 10.409 ",
          "716 de 10.409 ",
          "113 de 10.409 ",
          "N.º 41 de 319 postres en Madrid",
          "255 de 10.409 ",
          "422 de 10.409 ",
          "21 de 10.409 ",
          "992 de 10.409 ",
          "1.642 de 10.409 ",
          "769 de 10.409 ",
          "3.543 de 10.409 ",
          "173 de 10.409 ",
          "446 de 10.409 ",
          "3.661 de 10.409 ",
          "614 de 10.409 ",
          "N.º 6 de 477 cafeterías y teterías en Madrid",
          "2.349 de 10.409 ",
          "1.716 de 10.409 ",
          "107 de 10.409 ",
          "N.º 11 de 319 postres en Madrid",
          "1.384 de 10.409 ",
          "2.872 de 10.409 ",
          "N.º 64 de 319 postres en Madrid",
          "1.291 de 10.414 ",
          "502 de 10.409 ",
          "1 de 10.414 ",
          "1.319 de 10.409 ",
          "9.983 de 10.409 ",
          "3.231 de 10.409 ",
          "1.178 de 10.409 ",
          "301 de 10.409 ",
          "657 de 10.409 ",
          "391 de 10.409 ",
          "1.272 de 10.409 ",
          "3.064 de 10.409 ",
          "223 de 10.414 ",
          "742 de 10.414 ",
          "N.º 1 de 477 cafeterías y teterías en Madrid",
          "396 de 10.409 ",
          "429 de 10.414 ",
          "1.427 de 10.409 ",
          "1.111 de 10.414 ",
          "597 de 10.409 ",
          "1.245 de 10.409 ",
          "3.829 de 10.409 ",
          "342 de 10.414 ",
          "237 de 10.409 ",
          "32 de 10.409 ",
          "892 de 10.409 ",
          "616 de 10.409 ",
          "697 de 10.409 ",
          "533 de 10.409 ",
          "736 de 10.409 ",
          "24 de 10.414 ",
          "517 de 10.414 ",
          "496 de 10.409 ",
          "5.324 de 10.409 ",
          "1.196 de 10.409 ",
          "838 de 10.409 ",
          "2.788 de 10.409 ",
          "3.186 de 10.409 ",
          "814 de 10.409 ",
          "603 de 10.409 ",
          "84 de 10.414 ",
          "83 de 10.409 ",
          "314 de 10.414 ",
          "639 de 10.409 ",
          "2.375 de 10.409 ",
          "574 de 10.414 ",
          "N.º 15 de 125 bares de comida rápida en Madrid",
          "621 de 10.409 ",
          "1.170 de 10.409 ",
          "239 de 10.409 ",
          "1.456 de 10.409 ",
          "443 de 10.409 ",
          "N.º 14 de 319 postres en Madrid",
          "2.594 de 10.409 ",
          "403 de 10.414 ",
          "545 de 10.409 ",
          "1.478 de 10.409 ",
          "2.278 de 10.409 ",
          "531 de 10.409 ",
          "392 de 10.409 ",
          "1.479 de 10.409 ",
          "3.371 de 10.409 ",
          "708 de 10.409 ",
          "214 de 10.409 ",
          "976 de 10.409 ",
          "385 de 10.409 ",
          "187 de 10.409 ",
          "N.º 101 de 477 cafeterías y teterías en Madrid",
          "1.448 de 10.409 ",
          "2.107 de 10.409 ",
          "749 de 10.409 ",
          "4.236 de 10.409 ",
          "5.001 de 10.409 ",
          "2.071 de 10.409 ",
          "606 de 10.409 ",
          "4.453 de 10.409 ",
          "104 de 10.409 ",
          "N.º 41 de 125 bares de comida rápida en Madrid",
          "2.224 de 10.409 ",
          "2.033 de 10.409 ",
          "520 de 10.409 ",
          "709 de 10.409 ",
          "3.808 de 10.409 ",
          "1.633 de 10.409 ",
          "436 de 10.409 ",
          "761 de 10.409 ",
          "522 de 10.414 ",
          "384 de 10.409 ",
          "610 de 10.409 ",
          "434 de 10.409 ",
          "252 de 10.409 ",
          "49 de 10.409 ",
          "767 de 10.409 ",
          "721 de 10.409 ",
          "295 de 10.409 ",
          "1.676 de 10.409 ",
          "693 de 10.409 ",
          "203 de 10.409 ",
          "2.812 de 10.409 ",
          "2.339 de 10.409 ",
          "2.228 de 10.409 ",
          "527 de 10.409 ",
          "866 de 10.409 ",
          "417 de 10.409 ",
          "N.º 8 de 477 cafeterías y teterías en Madrid",
          "1.876 de 10.409 ",
          "1.705 de 10.414 ",
          "72 de 10.414 ",
          "909 de 10.409 ",
          "218 de 10.409 ",
          "236 de 10.409 ",
          "345 de 10.409 ",
          "1.176 de 10.409 ",
          "669 de 10.409 ",
          "998 de 10.409 ",
          "1.696 de 10.409 ",
          "N.º 16 de 477 cafeterías y teterías en Madrid",
          "N.º 38 de 477 cafeterías y teterías en Madrid",
          "770 de 10.409 ",
          "506 de 10.409 ",
          "1.369 de 10.409 ",
          "751 de 10.409 ",
          "2.003 de 10.409 ",
          "110 de 10.414 ",
          "1.685 de 10.414 ",
          "875 de 10.414 ",
          "958 de 10.409 ",
          "108 de 10.414 ",
          "412 de 10.414 ",
          "1.485 de 10.409 ",
          "654 de 10.414 ",
          "773 de 10.409 ",
          "685 de 10.409 ",
          "837 de 10.409 ",
          "9 de 10.414 ",
          "903 de 10.414 ",
          "116 de 10.414 ",
          "1.796 de 10.409 ",
          "327 de 10.414 ",
          "2.164 de 10.409 ",
          "536 de 10.409 ",
          "40 de 10.409 ",
          "3.057 de 10.409 ",
          "157 de 10.414 ",
          "1.276 de 10.409 ",
          "158 de 10.409 ",
          "161 de 10.409 ",
          "2.269 de 10.409 ",
          "4.384 de 10.409 ",
          "N.º 49 de 319 postres en Madrid",
          "2.078 de 10.409 ",
          "1.380 de 10.409 ",
          "1.140 de 10.409 ",
          "784 de 10.409 ",
          "683 de 10.409 ",
          "374 de 10.409 ",
          "457 de 10.409 ",
          "195 de 10.409 ",
          "3.317 de 10.409 ",
          "512 de 10.409 ",
          "4.491 de 10.409 ",
          "375 de 10.409 ",
          "795 de 10.409 ",
          "217 de 10.409 ",
          "1.362 de 10.409 ",
          "N.º 21 de 125 bares de comida rápida en Madrid",
          "335 de 10.409 ",
          "530 de 10.409 ",
          "625 de 10.409 ",
          "2.466 de 10.409 ",
          "1.563 de 10.409 ",
          "917 de 10.409 ",
          "1.852 de 10.409 ",
          "440 de 10.409 ",
          "1.325 de 10.409 ",
          "1.137 de 10.409 ",
          "1.079 de 10.409 ",
          "822 de 10.409 ",
          "1.398 de 10.409 ",
          "2.319 de 10.409 ",
          "2.153 de 10.409 ",
          "N.º 452 de 477 cafeterías y teterías en Madrid",
          "77 de 10.409 ",
          "1.029 de 10.409 ",
          "978 de 10.409 ",
          "286 de 10.409 ",
          "353 de 10.409 ",
          "734 de 10.409 ",
          "N.º 26 de 319 postres en Madrid",
          "651 de 10.409 ",
          "2.242 de 10.409 ",
          "542 de 10.409 ",
          "929 de 10.409 ",
          "947 de 10.409 ",
          "238 de 10.409 ",
          "9.480 de 10.409 ",
          "1.250 de 10.409 ",
          "63 de 10.409 ",
          "802 de 10.409 ",
          "322 de 10.409 ",
          "489 de 10.409 ",
          "2.027 de 10.409 ",
          "524 de 10.409 ",
          "705 de 10.409 ",
          "1.585 de 10.409 ",
          "678 de 10.409 ",
          "1.443 de 10.409 ",
          "N.º 4 de 319 postres en Madrid",
          "3.448 de 10.409 ",
          "1.033 de 10.409 ",
          "3.137 de 10.409 ",
          "450 de 10.409 ",
          "900 de 10.409 ",
          "10.335 de 10.409 ",
          "1.293 de 10.409 ",
          "2.769 de 10.409 ",
          "1.225 de 10.409 ",
          "N.º 91 de 477 cafeterías y teterías en Madrid",
          "633 de 10.409 ",
          "4.730 de 10.409 ",
          "772 de 10.409 ",
          "674 de 10.409 ",
          "1.323 de 10.409 ",
          "2.852 de 10.409 ",
          "101 de 10.409 "
         ],
         "xaxis": "x",
         "y": [
          "Medio",
          "Medio",
          "Barato",
          "Medio",
          "Medio",
          "Medio",
          "Medio",
          "Medio",
          "Medio",
          "Medio",
          "Medio",
          "Medio",
          "Medio",
          "Medio",
          "Medio",
          "Medio",
          "Caro",
          null,
          "Medio",
          "Medio",
          "Medio",
          "Medio",
          "Medio",
          "Medio",
          "Medio",
          "Barato",
          "Medio",
          "Medio",
          "Medio",
          "Medio",
          "Medio",
          "Medio",
          "Medio",
          "Medio",
          "Medio",
          "Medio",
          "Medio",
          "Medio",
          "Medio",
          "Medio",
          "Medio",
          "Barato",
          "Medio",
          "Medio",
          "Caro",
          "Medio",
          "Medio",
          "Medio",
          "Medio",
          "Barato",
          "Medio",
          "Medio",
          "Medio",
          "Barato",
          "Medio",
          "Medio",
          "Medio",
          "Medio",
          "Barato",
          "Medio",
          "Barato",
          "Medio",
          "Barato",
          "Medio",
          "Medio",
          "Medio",
          "Barato",
          "Medio",
          "Medio",
          "Medio",
          "Medio",
          "Medio",
          "Caro",
          "Medio",
          "Medio",
          "Medio",
          "Medio",
          "Medio",
          "Medio",
          "Medio",
          "Medio",
          "Medio",
          "Medio",
          "Medio",
          "Medio",
          "Medio",
          "Medio",
          "Medio",
          "Medio",
          "Medio",
          "Medio",
          "Medio",
          "Medio",
          "Medio",
          "Barato",
          "Barato",
          "Medio",
          "Medio",
          null,
          "Medio",
          "Medio",
          "Medio",
          "Barato",
          "Barato",
          "Medio",
          "Barato",
          "Medio",
          "Medio",
          "Medio",
          "Medio",
          "Medio",
          "Medio",
          "Medio",
          "Medio",
          "Medio",
          "Medio",
          "Medio",
          "Medio",
          "Medio",
          "Medio",
          "Barato",
          "Medio",
          "Medio",
          "Caro",
          "Medio",
          "Medio",
          "Caro",
          "Medio",
          "Barato",
          "Caro",
          "Medio",
          "Barato",
          "Barato",
          "Medio",
          "Medio",
          "Medio",
          "Caro",
          "Medio",
          "Barato",
          "Medio",
          "Medio",
          "Medio",
          "Medio",
          "Medio",
          "Medio",
          "Medio",
          "Medio",
          "Medio",
          "Medio",
          "Medio",
          "Medio",
          "Medio",
          "Medio",
          "Medio",
          "Medio",
          "Medio",
          "Medio",
          "Medio",
          "Barato",
          "Medio",
          "Medio",
          "Medio",
          "Medio",
          "Barato",
          "Medio",
          "Medio",
          "Medio",
          "Medio",
          "Medio",
          "Medio",
          "Medio",
          "Medio",
          "Barato",
          "Medio",
          "Medio",
          "Medio",
          "Caro",
          "Caro",
          "Barato",
          "Caro",
          "Medio",
          "Caro",
          "Medio",
          "Barato",
          "Medio",
          "Medio",
          "Medio",
          "Caro",
          "Medio",
          "Barato",
          "Medio",
          "Barato",
          "Medio",
          "Medio",
          "Medio",
          "Medio",
          "Medio",
          "Medio",
          "Caro",
          "Medio",
          "Medio",
          "Medio",
          "Medio",
          "Medio",
          "Medio",
          "Medio",
          "Barato",
          "Medio",
          "Medio",
          "Medio",
          "Medio",
          "Medio",
          "Medio",
          "Medio",
          "Caro",
          "Barato",
          "Caro",
          "Barato",
          "Medio",
          "Caro",
          "Caro",
          "Medio",
          "Medio",
          "Barato",
          "Barato",
          "Medio",
          "Medio",
          "Medio",
          "Medio",
          "Medio",
          "Medio",
          "Medio",
          "Medio",
          "Medio",
          "Medio",
          "Medio",
          "Medio",
          "Medio",
          "Medio",
          "Medio",
          "Medio",
          "Barato",
          "Caro",
          "Medio",
          "Medio",
          "Medio",
          "Medio",
          "Medio",
          "Medio",
          "Barato",
          "Medio",
          "Medio",
          "Caro",
          "Medio",
          "Medio",
          "Medio",
          "Medio",
          "Medio",
          "Medio",
          "Medio",
          "Medio",
          "Caro",
          "Barato",
          "Medio",
          "Medio",
          "Barato",
          "Barato",
          "Medio",
          "Medio",
          "Barato",
          "Medio",
          "Medio",
          "Barato",
          "Caro",
          "Medio",
          "Medio",
          "Barato",
          "Medio",
          "Medio",
          "Caro",
          "Medio",
          "Medio",
          "Medio",
          "Medio",
          "Medio",
          "Caro",
          "Caro",
          "Barato",
          "Caro",
          "Caro",
          "Medio",
          "Medio",
          "Medio",
          "Barato",
          "Medio",
          "Medio",
          "Medio",
          "Barato",
          "Caro",
          "Caro",
          "Medio",
          "Medio",
          "Medio",
          "Medio",
          "Medio",
          "Medio",
          "Medio",
          "Medio",
          "Medio",
          "Medio",
          "Medio",
          "Medio",
          "Medio",
          "Medio",
          "Medio",
          "Caro",
          "Caro",
          "Medio",
          "Medio",
          "Medio",
          "Caro",
          "Medio",
          "Medio",
          "Medio",
          "Medio",
          "Barato",
          "Medio",
          "Caro",
          "Medio",
          "Medio",
          "Medio",
          "Medio",
          "Caro",
          "Medio",
          "Medio",
          "Medio",
          "Medio",
          "Medio",
          "Caro",
          "Caro",
          "Barato",
          "Medio",
          "Medio",
          "Medio",
          "Medio",
          "Medio",
          "Medio",
          "Medio",
          "Medio",
          "Barato",
          "Medio",
          "Barato",
          "Medio",
          "Barato",
          "Caro",
          "Medio",
          "Medio",
          "Caro",
          "Caro",
          "Medio",
          "Medio",
          "Medio",
          "Medio",
          "Caro",
          "Medio",
          "Medio",
          "Medio",
          "Caro",
          "Barato",
          "Medio",
          "Medio",
          "Caro",
          "Medio",
          "Medio",
          "Caro",
          "Medio",
          "Medio",
          "Medio",
          "Barato",
          "Caro",
          "Medio",
          "Medio",
          "Medio",
          "Caro",
          "Medio",
          "Medio",
          "Medio",
          "Medio",
          "Medio",
          "Medio",
          "Medio",
          "Medio",
          "Medio",
          "Barato",
          "Caro",
          "Caro",
          "Medio",
          "Medio",
          "Caro",
          "Medio",
          "Caro",
          "Barato",
          "Medio",
          "Medio",
          "Medio",
          "Medio",
          "Medio",
          "Medio",
          "Medio",
          "Medio",
          "Barato",
          "Medio",
          "Barato",
          "Medio",
          "Barato",
          "Medio",
          "Medio",
          "Medio",
          "Medio",
          "Barato",
          "Medio",
          "Barato",
          "Barato",
          "Barato",
          "Caro",
          "Medio",
          "Caro",
          "Medio",
          "Barato",
          "Barato",
          "Medio",
          "Medio",
          "Medio",
          "Medio",
          "Medio",
          "Medio",
          "Medio",
          "Medio",
          "Medio",
          "Medio",
          "Medio",
          "Barato",
          "Medio",
          "Medio",
          "Caro",
          "Medio",
          "Medio",
          "Medio",
          "Medio",
          "Barato",
          "Medio",
          "Medio",
          "Barato",
          "Medio",
          "Medio",
          "Medio",
          "Medio",
          "Medio",
          "Medio",
          "Medio",
          "Medio",
          "Medio",
          "Caro",
          "Medio",
          "Caro",
          "Medio",
          "Medio",
          "Medio",
          "Medio",
          "Barato",
          "Medio",
          "Caro",
          "Medio",
          "Medio",
          "Medio",
          "Medio",
          "Caro",
          "Medio",
          "Medio",
          "Barato",
          "Barato",
          "Medio",
          "Medio",
          "Caro",
          "Medio",
          "Caro",
          "Medio",
          "Medio",
          "Medio",
          "Medio",
          "Barato",
          "Medio",
          "Medio",
          "Medio",
          "Barato",
          "Medio",
          "Medio",
          "Medio"
         ],
         "yaxis": "y"
        }
       ],
       "layout": {
        "legend": {
         "tracegroupgap": 0
        },
        "margin": {
         "t": 60
        },
        "template": {
         "data": {
          "bar": [
           {
            "error_x": {
             "color": "#2a3f5f"
            },
            "error_y": {
             "color": "#2a3f5f"
            },
            "marker": {
             "line": {
              "color": "#E5ECF6",
              "width": 0.5
             },
             "pattern": {
              "fillmode": "overlay",
              "size": 10,
              "solidity": 0.2
             }
            },
            "type": "bar"
           }
          ],
          "barpolar": [
           {
            "marker": {
             "line": {
              "color": "#E5ECF6",
              "width": 0.5
             },
             "pattern": {
              "fillmode": "overlay",
              "size": 10,
              "solidity": 0.2
             }
            },
            "type": "barpolar"
           }
          ],
          "carpet": [
           {
            "aaxis": {
             "endlinecolor": "#2a3f5f",
             "gridcolor": "white",
             "linecolor": "white",
             "minorgridcolor": "white",
             "startlinecolor": "#2a3f5f"
            },
            "baxis": {
             "endlinecolor": "#2a3f5f",
             "gridcolor": "white",
             "linecolor": "white",
             "minorgridcolor": "white",
             "startlinecolor": "#2a3f5f"
            },
            "type": "carpet"
           }
          ],
          "choropleth": [
           {
            "colorbar": {
             "outlinewidth": 0,
             "ticks": ""
            },
            "type": "choropleth"
           }
          ],
          "contour": [
           {
            "colorbar": {
             "outlinewidth": 0,
             "ticks": ""
            },
            "colorscale": [
             [
              0,
              "#0d0887"
             ],
             [
              0.1111111111111111,
              "#46039f"
             ],
             [
              0.2222222222222222,
              "#7201a8"
             ],
             [
              0.3333333333333333,
              "#9c179e"
             ],
             [
              0.4444444444444444,
              "#bd3786"
             ],
             [
              0.5555555555555556,
              "#d8576b"
             ],
             [
              0.6666666666666666,
              "#ed7953"
             ],
             [
              0.7777777777777778,
              "#fb9f3a"
             ],
             [
              0.8888888888888888,
              "#fdca26"
             ],
             [
              1,
              "#f0f921"
             ]
            ],
            "type": "contour"
           }
          ],
          "contourcarpet": [
           {
            "colorbar": {
             "outlinewidth": 0,
             "ticks": ""
            },
            "type": "contourcarpet"
           }
          ],
          "heatmap": [
           {
            "colorbar": {
             "outlinewidth": 0,
             "ticks": ""
            },
            "colorscale": [
             [
              0,
              "#0d0887"
             ],
             [
              0.1111111111111111,
              "#46039f"
             ],
             [
              0.2222222222222222,
              "#7201a8"
             ],
             [
              0.3333333333333333,
              "#9c179e"
             ],
             [
              0.4444444444444444,
              "#bd3786"
             ],
             [
              0.5555555555555556,
              "#d8576b"
             ],
             [
              0.6666666666666666,
              "#ed7953"
             ],
             [
              0.7777777777777778,
              "#fb9f3a"
             ],
             [
              0.8888888888888888,
              "#fdca26"
             ],
             [
              1,
              "#f0f921"
             ]
            ],
            "type": "heatmap"
           }
          ],
          "heatmapgl": [
           {
            "colorbar": {
             "outlinewidth": 0,
             "ticks": ""
            },
            "colorscale": [
             [
              0,
              "#0d0887"
             ],
             [
              0.1111111111111111,
              "#46039f"
             ],
             [
              0.2222222222222222,
              "#7201a8"
             ],
             [
              0.3333333333333333,
              "#9c179e"
             ],
             [
              0.4444444444444444,
              "#bd3786"
             ],
             [
              0.5555555555555556,
              "#d8576b"
             ],
             [
              0.6666666666666666,
              "#ed7953"
             ],
             [
              0.7777777777777778,
              "#fb9f3a"
             ],
             [
              0.8888888888888888,
              "#fdca26"
             ],
             [
              1,
              "#f0f921"
             ]
            ],
            "type": "heatmapgl"
           }
          ],
          "histogram": [
           {
            "marker": {
             "pattern": {
              "fillmode": "overlay",
              "size": 10,
              "solidity": 0.2
             }
            },
            "type": "histogram"
           }
          ],
          "histogram2d": [
           {
            "colorbar": {
             "outlinewidth": 0,
             "ticks": ""
            },
            "colorscale": [
             [
              0,
              "#0d0887"
             ],
             [
              0.1111111111111111,
              "#46039f"
             ],
             [
              0.2222222222222222,
              "#7201a8"
             ],
             [
              0.3333333333333333,
              "#9c179e"
             ],
             [
              0.4444444444444444,
              "#bd3786"
             ],
             [
              0.5555555555555556,
              "#d8576b"
             ],
             [
              0.6666666666666666,
              "#ed7953"
             ],
             [
              0.7777777777777778,
              "#fb9f3a"
             ],
             [
              0.8888888888888888,
              "#fdca26"
             ],
             [
              1,
              "#f0f921"
             ]
            ],
            "type": "histogram2d"
           }
          ],
          "histogram2dcontour": [
           {
            "colorbar": {
             "outlinewidth": 0,
             "ticks": ""
            },
            "colorscale": [
             [
              0,
              "#0d0887"
             ],
             [
              0.1111111111111111,
              "#46039f"
             ],
             [
              0.2222222222222222,
              "#7201a8"
             ],
             [
              0.3333333333333333,
              "#9c179e"
             ],
             [
              0.4444444444444444,
              "#bd3786"
             ],
             [
              0.5555555555555556,
              "#d8576b"
             ],
             [
              0.6666666666666666,
              "#ed7953"
             ],
             [
              0.7777777777777778,
              "#fb9f3a"
             ],
             [
              0.8888888888888888,
              "#fdca26"
             ],
             [
              1,
              "#f0f921"
             ]
            ],
            "type": "histogram2dcontour"
           }
          ],
          "mesh3d": [
           {
            "colorbar": {
             "outlinewidth": 0,
             "ticks": ""
            },
            "type": "mesh3d"
           }
          ],
          "parcoords": [
           {
            "line": {
             "colorbar": {
              "outlinewidth": 0,
              "ticks": ""
             }
            },
            "type": "parcoords"
           }
          ],
          "pie": [
           {
            "automargin": true,
            "type": "pie"
           }
          ],
          "scatter": [
           {
            "marker": {
             "colorbar": {
              "outlinewidth": 0,
              "ticks": ""
             }
            },
            "type": "scatter"
           }
          ],
          "scatter3d": [
           {
            "line": {
             "colorbar": {
              "outlinewidth": 0,
              "ticks": ""
             }
            },
            "marker": {
             "colorbar": {
              "outlinewidth": 0,
              "ticks": ""
             }
            },
            "type": "scatter3d"
           }
          ],
          "scattercarpet": [
           {
            "marker": {
             "colorbar": {
              "outlinewidth": 0,
              "ticks": ""
             }
            },
            "type": "scattercarpet"
           }
          ],
          "scattergeo": [
           {
            "marker": {
             "colorbar": {
              "outlinewidth": 0,
              "ticks": ""
             }
            },
            "type": "scattergeo"
           }
          ],
          "scattergl": [
           {
            "marker": {
             "colorbar": {
              "outlinewidth": 0,
              "ticks": ""
             }
            },
            "type": "scattergl"
           }
          ],
          "scattermapbox": [
           {
            "marker": {
             "colorbar": {
              "outlinewidth": 0,
              "ticks": ""
             }
            },
            "type": "scattermapbox"
           }
          ],
          "scatterpolar": [
           {
            "marker": {
             "colorbar": {
              "outlinewidth": 0,
              "ticks": ""
             }
            },
            "type": "scatterpolar"
           }
          ],
          "scatterpolargl": [
           {
            "marker": {
             "colorbar": {
              "outlinewidth": 0,
              "ticks": ""
             }
            },
            "type": "scatterpolargl"
           }
          ],
          "scatterternary": [
           {
            "marker": {
             "colorbar": {
              "outlinewidth": 0,
              "ticks": ""
             }
            },
            "type": "scatterternary"
           }
          ],
          "surface": [
           {
            "colorbar": {
             "outlinewidth": 0,
             "ticks": ""
            },
            "colorscale": [
             [
              0,
              "#0d0887"
             ],
             [
              0.1111111111111111,
              "#46039f"
             ],
             [
              0.2222222222222222,
              "#7201a8"
             ],
             [
              0.3333333333333333,
              "#9c179e"
             ],
             [
              0.4444444444444444,
              "#bd3786"
             ],
             [
              0.5555555555555556,
              "#d8576b"
             ],
             [
              0.6666666666666666,
              "#ed7953"
             ],
             [
              0.7777777777777778,
              "#fb9f3a"
             ],
             [
              0.8888888888888888,
              "#fdca26"
             ],
             [
              1,
              "#f0f921"
             ]
            ],
            "type": "surface"
           }
          ],
          "table": [
           {
            "cells": {
             "fill": {
              "color": "#EBF0F8"
             },
             "line": {
              "color": "white"
             }
            },
            "header": {
             "fill": {
              "color": "#C8D4E3"
             },
             "line": {
              "color": "white"
             }
            },
            "type": "table"
           }
          ]
         },
         "layout": {
          "annotationdefaults": {
           "arrowcolor": "#2a3f5f",
           "arrowhead": 0,
           "arrowwidth": 1
          },
          "autotypenumbers": "strict",
          "coloraxis": {
           "colorbar": {
            "outlinewidth": 0,
            "ticks": ""
           }
          },
          "colorscale": {
           "diverging": [
            [
             0,
             "#8e0152"
            ],
            [
             0.1,
             "#c51b7d"
            ],
            [
             0.2,
             "#de77ae"
            ],
            [
             0.3,
             "#f1b6da"
            ],
            [
             0.4,
             "#fde0ef"
            ],
            [
             0.5,
             "#f7f7f7"
            ],
            [
             0.6,
             "#e6f5d0"
            ],
            [
             0.7,
             "#b8e186"
            ],
            [
             0.8,
             "#7fbc41"
            ],
            [
             0.9,
             "#4d9221"
            ],
            [
             1,
             "#276419"
            ]
           ],
           "sequential": [
            [
             0,
             "#0d0887"
            ],
            [
             0.1111111111111111,
             "#46039f"
            ],
            [
             0.2222222222222222,
             "#7201a8"
            ],
            [
             0.3333333333333333,
             "#9c179e"
            ],
            [
             0.4444444444444444,
             "#bd3786"
            ],
            [
             0.5555555555555556,
             "#d8576b"
            ],
            [
             0.6666666666666666,
             "#ed7953"
            ],
            [
             0.7777777777777778,
             "#fb9f3a"
            ],
            [
             0.8888888888888888,
             "#fdca26"
            ],
            [
             1,
             "#f0f921"
            ]
           ],
           "sequentialminus": [
            [
             0,
             "#0d0887"
            ],
            [
             0.1111111111111111,
             "#46039f"
            ],
            [
             0.2222222222222222,
             "#7201a8"
            ],
            [
             0.3333333333333333,
             "#9c179e"
            ],
            [
             0.4444444444444444,
             "#bd3786"
            ],
            [
             0.5555555555555556,
             "#d8576b"
            ],
            [
             0.6666666666666666,
             "#ed7953"
            ],
            [
             0.7777777777777778,
             "#fb9f3a"
            ],
            [
             0.8888888888888888,
             "#fdca26"
            ],
            [
             1,
             "#f0f921"
            ]
           ]
          },
          "colorway": [
           "#636efa",
           "#EF553B",
           "#00cc96",
           "#ab63fa",
           "#FFA15A",
           "#19d3f3",
           "#FF6692",
           "#B6E880",
           "#FF97FF",
           "#FECB52"
          ],
          "font": {
           "color": "#2a3f5f"
          },
          "geo": {
           "bgcolor": "white",
           "lakecolor": "white",
           "landcolor": "#E5ECF6",
           "showlakes": true,
           "showland": true,
           "subunitcolor": "white"
          },
          "hoverlabel": {
           "align": "left"
          },
          "hovermode": "closest",
          "mapbox": {
           "style": "light"
          },
          "paper_bgcolor": "white",
          "plot_bgcolor": "#E5ECF6",
          "polar": {
           "angularaxis": {
            "gridcolor": "white",
            "linecolor": "white",
            "ticks": ""
           },
           "bgcolor": "#E5ECF6",
           "radialaxis": {
            "gridcolor": "white",
            "linecolor": "white",
            "ticks": ""
           }
          },
          "scene": {
           "xaxis": {
            "backgroundcolor": "#E5ECF6",
            "gridcolor": "white",
            "gridwidth": 2,
            "linecolor": "white",
            "showbackground": true,
            "ticks": "",
            "zerolinecolor": "white"
           },
           "yaxis": {
            "backgroundcolor": "#E5ECF6",
            "gridcolor": "white",
            "gridwidth": 2,
            "linecolor": "white",
            "showbackground": true,
            "ticks": "",
            "zerolinecolor": "white"
           },
           "zaxis": {
            "backgroundcolor": "#E5ECF6",
            "gridcolor": "white",
            "gridwidth": 2,
            "linecolor": "white",
            "showbackground": true,
            "ticks": "",
            "zerolinecolor": "white"
           }
          },
          "shapedefaults": {
           "line": {
            "color": "#2a3f5f"
           }
          },
          "ternary": {
           "aaxis": {
            "gridcolor": "white",
            "linecolor": "white",
            "ticks": ""
           },
           "baxis": {
            "gridcolor": "white",
            "linecolor": "white",
            "ticks": ""
           },
           "bgcolor": "#E5ECF6",
           "caxis": {
            "gridcolor": "white",
            "linecolor": "white",
            "ticks": ""
           }
          },
          "title": {
           "x": 0.05
          },
          "xaxis": {
           "automargin": true,
           "gridcolor": "white",
           "linecolor": "white",
           "ticks": "",
           "title": {
            "standoff": 15
           },
           "zerolinecolor": "white",
           "zerolinewidth": 2
          },
          "yaxis": {
           "automargin": true,
           "gridcolor": "white",
           "linecolor": "white",
           "ticks": "",
           "title": {
            "standoff": 15
           },
           "zerolinecolor": "white",
           "zerolinewidth": 2
          }
         }
        },
        "xaxis": {
         "anchor": "y",
         "domain": [
          0,
          1
         ],
         "title": {
          "text": "ranking"
         }
        },
        "yaxis": {
         "anchor": "x",
         "domain": [
          0,
          1
         ],
         "title": {
          "text": "price_2"
         }
        }
       }
      },
      "text/html": [
       "<div>                            <div id=\"053d1fb5-9919-4796-867b-5f950af69177\" class=\"plotly-graph-div\" style=\"height:525px; width:100%;\"></div>            <script type=\"text/javascript\">                require([\"plotly\"], function(Plotly) {                    window.PLOTLYENV=window.PLOTLYENV || {};                                    if (document.getElementById(\"053d1fb5-9919-4796-867b-5f950af69177\")) {                    Plotly.newPlot(                        \"053d1fb5-9919-4796-867b-5f950af69177\",                        [{\"hovertemplate\":\"ranking=%{x}<br>price_2=%{y}<extra></extra>\",\"legendgroup\":\"\",\"marker\":{\"color\":\"#636efa\",\"symbol\":\"circle\"},\"mode\":\"markers\",\"name\":\"\",\"orientation\":\"v\",\"showlegend\":false,\"type\":\"scatter\",\"x\":[\"549 de 10.409 \",\"34 de 10.414 \",\"650 de 10.414 \",\"311 de 10.414 \",\"N.\\u00ba 23 de 477 cafeter\\u00edas y teter\\u00edas en Madrid\",\"478 de 10.409 \",\"1.547 de 10.409 \",\"186 de 10.409 \",\"37 de 10.409 \",\"2.013 de 10.409 \",\"1.016 de 10.409 \",\"1.069 de 10.414 \",\"53 de 10.414 \",\"2.201 de 10.409 \",\"2.578 de 10.409 \",\"1.020 de 10.409 \",\"1.557 de 10.409 \",\"10.375 de 10.409 \",\"624 de 10.409 \",\"911 de 10.409 \",\"97 de 10.414 \",\"124 de 10.409 \",\"563 de 10.409 \",\"735 de 10.409 \",\"472 de 10.414 \",\"543 de 10.409 \",\"671 de 10.409 \",\"1.076 de 10.409 \",\"872 de 10.409 \",\"2.473 de 10.414 \",\"427 de 10.414 \",\"413 de 10.414 \",\"800 de 10.409 \",\"305 de 10.409 \",\"365 de 10.409 \",\"1.600 de 10.409 \",\"889 de 10.414 \",\"6.410 de 10.409 \",\"556 de 10.414 \",\"1.695 de 10.409 \",\"1.707 de 10.409 \",\"3.895 de 10.409 \",\"87 de 10.409 \",\"2.223 de 10.409 \",\"832 de 10.409 \",\"1.424 de 10.409 \",\"547 de 10.409 \",\"660 de 10.409 \",\"143 de 10.409 \",\"N.\\u00ba 16 de 152 panader\\u00edas en Madrid\",\"1.342 de 10.409 \",\"10.389 de 10.409 \",\"916 de 10.409 \",\"N.\\u00ba 14 de 477 cafeter\\u00edas y teter\\u00edas en Madrid\",\"2.279 de 10.409 \",\"10.231 de 10.409 \",\"1.525 de 10.414 \",\"270 de 10.409 \",\"227 de 10.409 \",\"955 de 10.409 \",\"936 de 10.409 \",\"5.464 de 10.409 \",\"N.\\u00ba 4 de 477 cafeter\\u00edas y teter\\u00edas en Madrid\",\"30 de 10.414 \",\"1.999 de 10.409 \",\"368 de 10.409 \",\"184 de 10.409 \",\"356 de 10.409 \",\"257 de 10.409 \",\"N.\\u00ba 2 de 477 cafeter\\u00edas y teter\\u00edas en Madrid\",\"1.037 de 10.409 \",\"2.436 de 10.414 \",\"5.706 de 10.409 \",\"114 de 10.409 \",\"117 de 10.409 \",\"N.\\u00ba 72 de 477 cafeter\\u00edas y teter\\u00edas en Madrid\",\"2.859 de 10.409 \",\"4 de 10.409 \",\"100 de 10.414 \",\"325 de 10.409 \",\"462 de 10.409 \",\"410 de 10.414 \",\"N.\\u00ba 24 de 125 bares de comida r\\u00e1pida en Madrid\",\"2.094 de 10.409 \",\"2.842 de 10.409 \",\"366 de 10.409 \",\"2.606 de 10.409 \",\"362 de 10.409 \",\"2.559 de 10.409 \",\"2.678 de 10.409 \",\"811 de 10.409 \",\"623 de 10.409 \",\"139 de 10.409 \",\"2.108 de 10.409 \",\"1.813 de 10.409 \",\"N.\\u00ba 4 de 125 bares de comida r\\u00e1pida en Madrid\",\"208 de 10.409 \",\"425 de 10.409 \",\"2.103 de 10.409 \",\"430 de 10.409 \",\"10.385 de 10.409 \",\"56 de 10.414 \",\"1.508 de 10.409 \",\"3.041 de 10.409 \",\"387 de 10.409 \",\"N.\\u00ba 34 de 319 postres en Madrid\",\"1.217 de 10.409 \",\"164 de 10.414 \",\"22 de 10.414 \",\"36 de 10.414 \",\"9.582 de 10.409 \",\"96 de 10.409 \",\"525 de 10.414 \",\"44 de 10.414 \",\"339 de 10.414 \",\"824 de 10.409 \",\"3.380 de 10.409 \",\"513 de 10.409 \",\"278 de 10.414 \",\"282 de 10.409 \",\"93 de 10.414 \",\"369 de 10.409 \",\"555 de 10.409 \",\"61 de 10.409 \",\"2.172 de 10.409 \",\"221 de 10.409 \",\"939 de 10.409 \",\"1.401 de 10.409 \",\"N.\\u00ba 28 de 477 cafeter\\u00edas y teter\\u00edas en Madrid\",\"1.421 de 10.414 \",\"3.308 de 10.409 \",\"N.\\u00ba 18 de 477 cafeter\\u00edas y teter\\u00edas en Madrid\",\"60 de 10.409 \",\"293 de 10.409 \",\"9.097 de 10.409 \",\"350 de 10.409 \",\"459 de 10.409 \",\"N.\\u00ba 15 de 477 cafeter\\u00edas y teter\\u00edas en Madrid\",\"297 de 10.409 \",\"1.956 de 10.409 \",\"258 de 10.409 \",\"879 de 10.409 \",\"732 de 10.409 \",\"455 de 10.409 \",\"31 de 10.414 \",\"1.028 de 10.409 \",\"1.075 de 10.414 \",\"2.621 de 10.409 \",\"2.238 de 10.409 \",\"2.282 de 10.409 \",\"1.129 de 10.414 \",\"8.886 de 10.409 \",\"2.893 de 10.409 \",\"722 de 10.409 \",\"1.729 de 10.409 \",\"995 de 10.409 \",\"332 de 10.414 \",\"1.629 de 10.409 \",\"N.\\u00ba 3 de 125 bares de comida r\\u00e1pida en Madrid\",\"191 de 10.409 \",\"521 de 10.409 \",\"2.575 de 10.414 \",\"608 de 10.409 \",\"51 de 10.409 \",\"587 de 10.409 \",\"629 de 10.409 \",\"1.175 de 10.409 \",\"535 de 10.409 \",\"1.616 de 10.409 \",\"1.839 de 10.409 \",\"666 de 10.409 \",\"1.897 de 10.414 \",\"2.796 de 10.409 \",\"55 de 10.414 \",\"1.138 de 10.409 \",\"2.205 de 10.409 \",\"1.450 de 10.409 \",\"2.879 de 10.409 \",\"924 de 10.414 \",\"266 de 10.409 \",\"11 de 10.409 \",\"276 de 10.414 \",\"N.\\u00ba 32 de 319 postres en Madrid\",\"N.\\u00ba 436 de 477 cafeter\\u00edas y teter\\u00edas en Madrid\",\"1.062 de 10.409 \",\"4.961 de 10.409 \",\"504 de 10.409 \",\"1.932 de 10.409 \",\"1.588 de 10.409 \",\"8.914 de 10.409 \",\"2.060 de 10.414 \",\"269 de 10.409 \",\"145 de 10.414 \",\"103 de 10.409 \",\"147 de 10.409 \",\"20 de 10.414 \",\"967 de 10.409 \",\"197 de 10.409 \",\"691 de 10.409 \",\"845 de 10.414 \",\"1.552 de 10.409 \",\"102 de 10.414 \",\"559 de 10.409 \",\"398 de 10.414 \",\"313 de 10.409 \",\"1.235 de 10.409 \",\"N.\\u00ba 46 de 319 postres en Madrid\",\"1.199 de 10.409 \",\"43 de 10.414 \",\"N.\\u00ba 29 de 477 cafeter\\u00edas y teter\\u00edas en Madrid\",\"1.141 de 10.409 \",\"1.073 de 10.409 \",\"1.744 de 10.409 \",\"41 de 10.414 \",\"243 de 10.414 \",\"231 de 10.409 \",\"1.451 de 10.414 \",\"N.\\u00ba 17 de 125 bares de comida r\\u00e1pida en Madrid\",\"9.689 de 10.409 \",\"2.459 de 10.414 \",\"4.112 de 10.409 \",\"1.788 de 10.409 \",\"571 de 10.409 \",\"8.951 de 10.409 \",\"507 de 10.414 \",\"14 de 10.414 \",\"146 de 10.409 \",\"148 de 10.409 \",\"1.659 de 10.409 \",\"91 de 10.414 \",\"1.645 de 10.414 \",\"930 de 10.409 \",\"1.666 de 10.414 \",\"3.263 de 10.409 \",\"71 de 10.414 \",\"N.\\u00ba 20 de 152 panader\\u00edas en Madrid\",\"988 de 10.409 \",\"1.496 de 10.409 \",\"477 de 10.409 \",\"460 de 10.409 \",\"637 de 10.409 \",\"703 de 10.409 \",\"840 de 10.409 \",\"1.083 de 10.409 \",\"1.541 de 10.409 \",\"123 de 10.414 \",\"106 de 10.409 \",\"4.004 de 10.409 \",\"9.649 de 10.409 \",\"539 de 10.414 \",\"1.021 de 10.409 \",\"716 de 10.409 \",\"113 de 10.409 \",\"N.\\u00ba 41 de 319 postres en Madrid\",\"255 de 10.409 \",\"422 de 10.409 \",\"21 de 10.409 \",\"992 de 10.409 \",\"1.642 de 10.409 \",\"769 de 10.409 \",\"3.543 de 10.409 \",\"173 de 10.409 \",\"446 de 10.409 \",\"3.661 de 10.409 \",\"614 de 10.409 \",\"N.\\u00ba 6 de 477 cafeter\\u00edas y teter\\u00edas en Madrid\",\"2.349 de 10.409 \",\"1.716 de 10.409 \",\"107 de 10.409 \",\"N.\\u00ba 11 de 319 postres en Madrid\",\"1.384 de 10.409 \",\"2.872 de 10.409 \",\"N.\\u00ba 64 de 319 postres en Madrid\",\"1.291 de 10.414 \",\"502 de 10.409 \",\"1 de 10.414 \",\"1.319 de 10.409 \",\"9.983 de 10.409 \",\"3.231 de 10.409 \",\"1.178 de 10.409 \",\"301 de 10.409 \",\"657 de 10.409 \",\"391 de 10.409 \",\"1.272 de 10.409 \",\"3.064 de 10.409 \",\"223 de 10.414 \",\"742 de 10.414 \",\"N.\\u00ba 1 de 477 cafeter\\u00edas y teter\\u00edas en Madrid\",\"396 de 10.409 \",\"429 de 10.414 \",\"1.427 de 10.409 \",\"1.111 de 10.414 \",\"597 de 10.409 \",\"1.245 de 10.409 \",\"3.829 de 10.409 \",\"342 de 10.414 \",\"237 de 10.409 \",\"32 de 10.409 \",\"892 de 10.409 \",\"616 de 10.409 \",\"697 de 10.409 \",\"533 de 10.409 \",\"736 de 10.409 \",\"24 de 10.414 \",\"517 de 10.414 \",\"496 de 10.409 \",\"5.324 de 10.409 \",\"1.196 de 10.409 \",\"838 de 10.409 \",\"2.788 de 10.409 \",\"3.186 de 10.409 \",\"814 de 10.409 \",\"603 de 10.409 \",\"84 de 10.414 \",\"83 de 10.409 \",\"314 de 10.414 \",\"639 de 10.409 \",\"2.375 de 10.409 \",\"574 de 10.414 \",\"N.\\u00ba 15 de 125 bares de comida r\\u00e1pida en Madrid\",\"621 de 10.409 \",\"1.170 de 10.409 \",\"239 de 10.409 \",\"1.456 de 10.409 \",\"443 de 10.409 \",\"N.\\u00ba 14 de 319 postres en Madrid\",\"2.594 de 10.409 \",\"403 de 10.414 \",\"545 de 10.409 \",\"1.478 de 10.409 \",\"2.278 de 10.409 \",\"531 de 10.409 \",\"392 de 10.409 \",\"1.479 de 10.409 \",\"3.371 de 10.409 \",\"708 de 10.409 \",\"214 de 10.409 \",\"976 de 10.409 \",\"385 de 10.409 \",\"187 de 10.409 \",\"N.\\u00ba 101 de 477 cafeter\\u00edas y teter\\u00edas en Madrid\",\"1.448 de 10.409 \",\"2.107 de 10.409 \",\"749 de 10.409 \",\"4.236 de 10.409 \",\"5.001 de 10.409 \",\"2.071 de 10.409 \",\"606 de 10.409 \",\"4.453 de 10.409 \",\"104 de 10.409 \",\"N.\\u00ba 41 de 125 bares de comida r\\u00e1pida en Madrid\",\"2.224 de 10.409 \",\"2.033 de 10.409 \",\"520 de 10.409 \",\"709 de 10.409 \",\"3.808 de 10.409 \",\"1.633 de 10.409 \",\"436 de 10.409 \",\"761 de 10.409 \",\"522 de 10.414 \",\"384 de 10.409 \",\"610 de 10.409 \",\"434 de 10.409 \",\"252 de 10.409 \",\"49 de 10.409 \",\"767 de 10.409 \",\"721 de 10.409 \",\"295 de 10.409 \",\"1.676 de 10.409 \",\"693 de 10.409 \",\"203 de 10.409 \",\"2.812 de 10.409 \",\"2.339 de 10.409 \",\"2.228 de 10.409 \",\"527 de 10.409 \",\"866 de 10.409 \",\"417 de 10.409 \",\"N.\\u00ba 8 de 477 cafeter\\u00edas y teter\\u00edas en Madrid\",\"1.876 de 10.409 \",\"1.705 de 10.414 \",\"72 de 10.414 \",\"909 de 10.409 \",\"218 de 10.409 \",\"236 de 10.409 \",\"345 de 10.409 \",\"1.176 de 10.409 \",\"669 de 10.409 \",\"998 de 10.409 \",\"1.696 de 10.409 \",\"N.\\u00ba 16 de 477 cafeter\\u00edas y teter\\u00edas en Madrid\",\"N.\\u00ba 38 de 477 cafeter\\u00edas y teter\\u00edas en Madrid\",\"770 de 10.409 \",\"506 de 10.409 \",\"1.369 de 10.409 \",\"751 de 10.409 \",\"2.003 de 10.409 \",\"110 de 10.414 \",\"1.685 de 10.414 \",\"875 de 10.414 \",\"958 de 10.409 \",\"108 de 10.414 \",\"412 de 10.414 \",\"1.485 de 10.409 \",\"654 de 10.414 \",\"773 de 10.409 \",\"685 de 10.409 \",\"837 de 10.409 \",\"9 de 10.414 \",\"903 de 10.414 \",\"116 de 10.414 \",\"1.796 de 10.409 \",\"327 de 10.414 \",\"2.164 de 10.409 \",\"536 de 10.409 \",\"40 de 10.409 \",\"3.057 de 10.409 \",\"157 de 10.414 \",\"1.276 de 10.409 \",\"158 de 10.409 \",\"161 de 10.409 \",\"2.269 de 10.409 \",\"4.384 de 10.409 \",\"N.\\u00ba 49 de 319 postres en Madrid\",\"2.078 de 10.409 \",\"1.380 de 10.409 \",\"1.140 de 10.409 \",\"784 de 10.409 \",\"683 de 10.409 \",\"374 de 10.409 \",\"457 de 10.409 \",\"195 de 10.409 \",\"3.317 de 10.409 \",\"512 de 10.409 \",\"4.491 de 10.409 \",\"375 de 10.409 \",\"795 de 10.409 \",\"217 de 10.409 \",\"1.362 de 10.409 \",\"N.\\u00ba 21 de 125 bares de comida r\\u00e1pida en Madrid\",\"335 de 10.409 \",\"530 de 10.409 \",\"625 de 10.409 \",\"2.466 de 10.409 \",\"1.563 de 10.409 \",\"917 de 10.409 \",\"1.852 de 10.409 \",\"440 de 10.409 \",\"1.325 de 10.409 \",\"1.137 de 10.409 \",\"1.079 de 10.409 \",\"822 de 10.409 \",\"1.398 de 10.409 \",\"2.319 de 10.409 \",\"2.153 de 10.409 \",\"N.\\u00ba 452 de 477 cafeter\\u00edas y teter\\u00edas en Madrid\",\"77 de 10.409 \",\"1.029 de 10.409 \",\"978 de 10.409 \",\"286 de 10.409 \",\"353 de 10.409 \",\"734 de 10.409 \",\"N.\\u00ba 26 de 319 postres en Madrid\",\"651 de 10.409 \",\"2.242 de 10.409 \",\"542 de 10.409 \",\"929 de 10.409 \",\"947 de 10.409 \",\"238 de 10.409 \",\"9.480 de 10.409 \",\"1.250 de 10.409 \",\"63 de 10.409 \",\"802 de 10.409 \",\"322 de 10.409 \",\"489 de 10.409 \",\"2.027 de 10.409 \",\"524 de 10.409 \",\"705 de 10.409 \",\"1.585 de 10.409 \",\"678 de 10.409 \",\"1.443 de 10.409 \",\"N.\\u00ba 4 de 319 postres en Madrid\",\"3.448 de 10.409 \",\"1.033 de 10.409 \",\"3.137 de 10.409 \",\"450 de 10.409 \",\"900 de 10.409 \",\"10.335 de 10.409 \",\"1.293 de 10.409 \",\"2.769 de 10.409 \",\"1.225 de 10.409 \",\"N.\\u00ba 91 de 477 cafeter\\u00edas y teter\\u00edas en Madrid\",\"633 de 10.409 \",\"4.730 de 10.409 \",\"772 de 10.409 \",\"674 de 10.409 \",\"1.323 de 10.409 \",\"2.852 de 10.409 \",\"101 de 10.409 \"],\"xaxis\":\"x\",\"y\":[\"Medio\",\"Medio\",\"Barato\",\"Medio\",\"Medio\",\"Medio\",\"Medio\",\"Medio\",\"Medio\",\"Medio\",\"Medio\",\"Medio\",\"Medio\",\"Medio\",\"Medio\",\"Medio\",\"Caro\",null,\"Medio\",\"Medio\",\"Medio\",\"Medio\",\"Medio\",\"Medio\",\"Medio\",\"Barato\",\"Medio\",\"Medio\",\"Medio\",\"Medio\",\"Medio\",\"Medio\",\"Medio\",\"Medio\",\"Medio\",\"Medio\",\"Medio\",\"Medio\",\"Medio\",\"Medio\",\"Medio\",\"Barato\",\"Medio\",\"Medio\",\"Caro\",\"Medio\",\"Medio\",\"Medio\",\"Medio\",\"Barato\",\"Medio\",\"Medio\",\"Medio\",\"Barato\",\"Medio\",\"Medio\",\"Medio\",\"Medio\",\"Barato\",\"Medio\",\"Barato\",\"Medio\",\"Barato\",\"Medio\",\"Medio\",\"Medio\",\"Barato\",\"Medio\",\"Medio\",\"Medio\",\"Medio\",\"Medio\",\"Caro\",\"Medio\",\"Medio\",\"Medio\",\"Medio\",\"Medio\",\"Medio\",\"Medio\",\"Medio\",\"Medio\",\"Medio\",\"Medio\",\"Medio\",\"Medio\",\"Medio\",\"Medio\",\"Medio\",\"Medio\",\"Medio\",\"Medio\",\"Medio\",\"Medio\",\"Barato\",\"Barato\",\"Medio\",\"Medio\",null,\"Medio\",\"Medio\",\"Medio\",\"Barato\",\"Barato\",\"Medio\",\"Barato\",\"Medio\",\"Medio\",\"Medio\",\"Medio\",\"Medio\",\"Medio\",\"Medio\",\"Medio\",\"Medio\",\"Medio\",\"Medio\",\"Medio\",\"Medio\",\"Medio\",\"Barato\",\"Medio\",\"Medio\",\"Caro\",\"Medio\",\"Medio\",\"Caro\",\"Medio\",\"Barato\",\"Caro\",\"Medio\",\"Barato\",\"Barato\",\"Medio\",\"Medio\",\"Medio\",\"Caro\",\"Medio\",\"Barato\",\"Medio\",\"Medio\",\"Medio\",\"Medio\",\"Medio\",\"Medio\",\"Medio\",\"Medio\",\"Medio\",\"Medio\",\"Medio\",\"Medio\",\"Medio\",\"Medio\",\"Medio\",\"Medio\",\"Medio\",\"Medio\",\"Medio\",\"Barato\",\"Medio\",\"Medio\",\"Medio\",\"Medio\",\"Barato\",\"Medio\",\"Medio\",\"Medio\",\"Medio\",\"Medio\",\"Medio\",\"Medio\",\"Medio\",\"Barato\",\"Medio\",\"Medio\",\"Medio\",\"Caro\",\"Caro\",\"Barato\",\"Caro\",\"Medio\",\"Caro\",\"Medio\",\"Barato\",\"Medio\",\"Medio\",\"Medio\",\"Caro\",\"Medio\",\"Barato\",\"Medio\",\"Barato\",\"Medio\",\"Medio\",\"Medio\",\"Medio\",\"Medio\",\"Medio\",\"Caro\",\"Medio\",\"Medio\",\"Medio\",\"Medio\",\"Medio\",\"Medio\",\"Medio\",\"Barato\",\"Medio\",\"Medio\",\"Medio\",\"Medio\",\"Medio\",\"Medio\",\"Medio\",\"Caro\",\"Barato\",\"Caro\",\"Barato\",\"Medio\",\"Caro\",\"Caro\",\"Medio\",\"Medio\",\"Barato\",\"Barato\",\"Medio\",\"Medio\",\"Medio\",\"Medio\",\"Medio\",\"Medio\",\"Medio\",\"Medio\",\"Medio\",\"Medio\",\"Medio\",\"Medio\",\"Medio\",\"Medio\",\"Medio\",\"Medio\",\"Barato\",\"Caro\",\"Medio\",\"Medio\",\"Medio\",\"Medio\",\"Medio\",\"Medio\",\"Barato\",\"Medio\",\"Medio\",\"Caro\",\"Medio\",\"Medio\",\"Medio\",\"Medio\",\"Medio\",\"Medio\",\"Medio\",\"Medio\",\"Caro\",\"Barato\",\"Medio\",\"Medio\",\"Barato\",\"Barato\",\"Medio\",\"Medio\",\"Barato\",\"Medio\",\"Medio\",\"Barato\",\"Caro\",\"Medio\",\"Medio\",\"Barato\",\"Medio\",\"Medio\",\"Caro\",\"Medio\",\"Medio\",\"Medio\",\"Medio\",\"Medio\",\"Caro\",\"Caro\",\"Barato\",\"Caro\",\"Caro\",\"Medio\",\"Medio\",\"Medio\",\"Barato\",\"Medio\",\"Medio\",\"Medio\",\"Barato\",\"Caro\",\"Caro\",\"Medio\",\"Medio\",\"Medio\",\"Medio\",\"Medio\",\"Medio\",\"Medio\",\"Medio\",\"Medio\",\"Medio\",\"Medio\",\"Medio\",\"Medio\",\"Medio\",\"Medio\",\"Caro\",\"Caro\",\"Medio\",\"Medio\",\"Medio\",\"Caro\",\"Medio\",\"Medio\",\"Medio\",\"Medio\",\"Barato\",\"Medio\",\"Caro\",\"Medio\",\"Medio\",\"Medio\",\"Medio\",\"Caro\",\"Medio\",\"Medio\",\"Medio\",\"Medio\",\"Medio\",\"Caro\",\"Caro\",\"Barato\",\"Medio\",\"Medio\",\"Medio\",\"Medio\",\"Medio\",\"Medio\",\"Medio\",\"Medio\",\"Barato\",\"Medio\",\"Barato\",\"Medio\",\"Barato\",\"Caro\",\"Medio\",\"Medio\",\"Caro\",\"Caro\",\"Medio\",\"Medio\",\"Medio\",\"Medio\",\"Caro\",\"Medio\",\"Medio\",\"Medio\",\"Caro\",\"Barato\",\"Medio\",\"Medio\",\"Caro\",\"Medio\",\"Medio\",\"Caro\",\"Medio\",\"Medio\",\"Medio\",\"Barato\",\"Caro\",\"Medio\",\"Medio\",\"Medio\",\"Caro\",\"Medio\",\"Medio\",\"Medio\",\"Medio\",\"Medio\",\"Medio\",\"Medio\",\"Medio\",\"Medio\",\"Barato\",\"Caro\",\"Caro\",\"Medio\",\"Medio\",\"Caro\",\"Medio\",\"Caro\",\"Barato\",\"Medio\",\"Medio\",\"Medio\",\"Medio\",\"Medio\",\"Medio\",\"Medio\",\"Medio\",\"Barato\",\"Medio\",\"Barato\",\"Medio\",\"Barato\",\"Medio\",\"Medio\",\"Medio\",\"Medio\",\"Barato\",\"Medio\",\"Barato\",\"Barato\",\"Barato\",\"Caro\",\"Medio\",\"Caro\",\"Medio\",\"Barato\",\"Barato\",\"Medio\",\"Medio\",\"Medio\",\"Medio\",\"Medio\",\"Medio\",\"Medio\",\"Medio\",\"Medio\",\"Medio\",\"Medio\",\"Barato\",\"Medio\",\"Medio\",\"Caro\",\"Medio\",\"Medio\",\"Medio\",\"Medio\",\"Barato\",\"Medio\",\"Medio\",\"Barato\",\"Medio\",\"Medio\",\"Medio\",\"Medio\",\"Medio\",\"Medio\",\"Medio\",\"Medio\",\"Medio\",\"Caro\",\"Medio\",\"Caro\",\"Medio\",\"Medio\",\"Medio\",\"Medio\",\"Barato\",\"Medio\",\"Caro\",\"Medio\",\"Medio\",\"Medio\",\"Medio\",\"Caro\",\"Medio\",\"Medio\",\"Barato\",\"Barato\",\"Medio\",\"Medio\",\"Caro\",\"Medio\",\"Caro\",\"Medio\",\"Medio\",\"Medio\",\"Medio\",\"Barato\",\"Medio\",\"Medio\",\"Medio\",\"Barato\",\"Medio\",\"Medio\",\"Medio\"],\"yaxis\":\"y\"}],                        {\"legend\":{\"tracegroupgap\":0},\"margin\":{\"t\":60},\"template\":{\"data\":{\"bar\":[{\"error_x\":{\"color\":\"#2a3f5f\"},\"error_y\":{\"color\":\"#2a3f5f\"},\"marker\":{\"line\":{\"color\":\"#E5ECF6\",\"width\":0.5},\"pattern\":{\"fillmode\":\"overlay\",\"size\":10,\"solidity\":0.2}},\"type\":\"bar\"}],\"barpolar\":[{\"marker\":{\"line\":{\"color\":\"#E5ECF6\",\"width\":0.5},\"pattern\":{\"fillmode\":\"overlay\",\"size\":10,\"solidity\":0.2}},\"type\":\"barpolar\"}],\"carpet\":[{\"aaxis\":{\"endlinecolor\":\"#2a3f5f\",\"gridcolor\":\"white\",\"linecolor\":\"white\",\"minorgridcolor\":\"white\",\"startlinecolor\":\"#2a3f5f\"},\"baxis\":{\"endlinecolor\":\"#2a3f5f\",\"gridcolor\":\"white\",\"linecolor\":\"white\",\"minorgridcolor\":\"white\",\"startlinecolor\":\"#2a3f5f\"},\"type\":\"carpet\"}],\"choropleth\":[{\"colorbar\":{\"outlinewidth\":0,\"ticks\":\"\"},\"type\":\"choropleth\"}],\"contour\":[{\"colorbar\":{\"outlinewidth\":0,\"ticks\":\"\"},\"colorscale\":[[0.0,\"#0d0887\"],[0.1111111111111111,\"#46039f\"],[0.2222222222222222,\"#7201a8\"],[0.3333333333333333,\"#9c179e\"],[0.4444444444444444,\"#bd3786\"],[0.5555555555555556,\"#d8576b\"],[0.6666666666666666,\"#ed7953\"],[0.7777777777777778,\"#fb9f3a\"],[0.8888888888888888,\"#fdca26\"],[1.0,\"#f0f921\"]],\"type\":\"contour\"}],\"contourcarpet\":[{\"colorbar\":{\"outlinewidth\":0,\"ticks\":\"\"},\"type\":\"contourcarpet\"}],\"heatmap\":[{\"colorbar\":{\"outlinewidth\":0,\"ticks\":\"\"},\"colorscale\":[[0.0,\"#0d0887\"],[0.1111111111111111,\"#46039f\"],[0.2222222222222222,\"#7201a8\"],[0.3333333333333333,\"#9c179e\"],[0.4444444444444444,\"#bd3786\"],[0.5555555555555556,\"#d8576b\"],[0.6666666666666666,\"#ed7953\"],[0.7777777777777778,\"#fb9f3a\"],[0.8888888888888888,\"#fdca26\"],[1.0,\"#f0f921\"]],\"type\":\"heatmap\"}],\"heatmapgl\":[{\"colorbar\":{\"outlinewidth\":0,\"ticks\":\"\"},\"colorscale\":[[0.0,\"#0d0887\"],[0.1111111111111111,\"#46039f\"],[0.2222222222222222,\"#7201a8\"],[0.3333333333333333,\"#9c179e\"],[0.4444444444444444,\"#bd3786\"],[0.5555555555555556,\"#d8576b\"],[0.6666666666666666,\"#ed7953\"],[0.7777777777777778,\"#fb9f3a\"],[0.8888888888888888,\"#fdca26\"],[1.0,\"#f0f921\"]],\"type\":\"heatmapgl\"}],\"histogram\":[{\"marker\":{\"pattern\":{\"fillmode\":\"overlay\",\"size\":10,\"solidity\":0.2}},\"type\":\"histogram\"}],\"histogram2d\":[{\"colorbar\":{\"outlinewidth\":0,\"ticks\":\"\"},\"colorscale\":[[0.0,\"#0d0887\"],[0.1111111111111111,\"#46039f\"],[0.2222222222222222,\"#7201a8\"],[0.3333333333333333,\"#9c179e\"],[0.4444444444444444,\"#bd3786\"],[0.5555555555555556,\"#d8576b\"],[0.6666666666666666,\"#ed7953\"],[0.7777777777777778,\"#fb9f3a\"],[0.8888888888888888,\"#fdca26\"],[1.0,\"#f0f921\"]],\"type\":\"histogram2d\"}],\"histogram2dcontour\":[{\"colorbar\":{\"outlinewidth\":0,\"ticks\":\"\"},\"colorscale\":[[0.0,\"#0d0887\"],[0.1111111111111111,\"#46039f\"],[0.2222222222222222,\"#7201a8\"],[0.3333333333333333,\"#9c179e\"],[0.4444444444444444,\"#bd3786\"],[0.5555555555555556,\"#d8576b\"],[0.6666666666666666,\"#ed7953\"],[0.7777777777777778,\"#fb9f3a\"],[0.8888888888888888,\"#fdca26\"],[1.0,\"#f0f921\"]],\"type\":\"histogram2dcontour\"}],\"mesh3d\":[{\"colorbar\":{\"outlinewidth\":0,\"ticks\":\"\"},\"type\":\"mesh3d\"}],\"parcoords\":[{\"line\":{\"colorbar\":{\"outlinewidth\":0,\"ticks\":\"\"}},\"type\":\"parcoords\"}],\"pie\":[{\"automargin\":true,\"type\":\"pie\"}],\"scatter\":[{\"marker\":{\"colorbar\":{\"outlinewidth\":0,\"ticks\":\"\"}},\"type\":\"scatter\"}],\"scatter3d\":[{\"line\":{\"colorbar\":{\"outlinewidth\":0,\"ticks\":\"\"}},\"marker\":{\"colorbar\":{\"outlinewidth\":0,\"ticks\":\"\"}},\"type\":\"scatter3d\"}],\"scattercarpet\":[{\"marker\":{\"colorbar\":{\"outlinewidth\":0,\"ticks\":\"\"}},\"type\":\"scattercarpet\"}],\"scattergeo\":[{\"marker\":{\"colorbar\":{\"outlinewidth\":0,\"ticks\":\"\"}},\"type\":\"scattergeo\"}],\"scattergl\":[{\"marker\":{\"colorbar\":{\"outlinewidth\":0,\"ticks\":\"\"}},\"type\":\"scattergl\"}],\"scattermapbox\":[{\"marker\":{\"colorbar\":{\"outlinewidth\":0,\"ticks\":\"\"}},\"type\":\"scattermapbox\"}],\"scatterpolar\":[{\"marker\":{\"colorbar\":{\"outlinewidth\":0,\"ticks\":\"\"}},\"type\":\"scatterpolar\"}],\"scatterpolargl\":[{\"marker\":{\"colorbar\":{\"outlinewidth\":0,\"ticks\":\"\"}},\"type\":\"scatterpolargl\"}],\"scatterternary\":[{\"marker\":{\"colorbar\":{\"outlinewidth\":0,\"ticks\":\"\"}},\"type\":\"scatterternary\"}],\"surface\":[{\"colorbar\":{\"outlinewidth\":0,\"ticks\":\"\"},\"colorscale\":[[0.0,\"#0d0887\"],[0.1111111111111111,\"#46039f\"],[0.2222222222222222,\"#7201a8\"],[0.3333333333333333,\"#9c179e\"],[0.4444444444444444,\"#bd3786\"],[0.5555555555555556,\"#d8576b\"],[0.6666666666666666,\"#ed7953\"],[0.7777777777777778,\"#fb9f3a\"],[0.8888888888888888,\"#fdca26\"],[1.0,\"#f0f921\"]],\"type\":\"surface\"}],\"table\":[{\"cells\":{\"fill\":{\"color\":\"#EBF0F8\"},\"line\":{\"color\":\"white\"}},\"header\":{\"fill\":{\"color\":\"#C8D4E3\"},\"line\":{\"color\":\"white\"}},\"type\":\"table\"}]},\"layout\":{\"annotationdefaults\":{\"arrowcolor\":\"#2a3f5f\",\"arrowhead\":0,\"arrowwidth\":1},\"autotypenumbers\":\"strict\",\"coloraxis\":{\"colorbar\":{\"outlinewidth\":0,\"ticks\":\"\"}},\"colorscale\":{\"diverging\":[[0,\"#8e0152\"],[0.1,\"#c51b7d\"],[0.2,\"#de77ae\"],[0.3,\"#f1b6da\"],[0.4,\"#fde0ef\"],[0.5,\"#f7f7f7\"],[0.6,\"#e6f5d0\"],[0.7,\"#b8e186\"],[0.8,\"#7fbc41\"],[0.9,\"#4d9221\"],[1,\"#276419\"]],\"sequential\":[[0.0,\"#0d0887\"],[0.1111111111111111,\"#46039f\"],[0.2222222222222222,\"#7201a8\"],[0.3333333333333333,\"#9c179e\"],[0.4444444444444444,\"#bd3786\"],[0.5555555555555556,\"#d8576b\"],[0.6666666666666666,\"#ed7953\"],[0.7777777777777778,\"#fb9f3a\"],[0.8888888888888888,\"#fdca26\"],[1.0,\"#f0f921\"]],\"sequentialminus\":[[0.0,\"#0d0887\"],[0.1111111111111111,\"#46039f\"],[0.2222222222222222,\"#7201a8\"],[0.3333333333333333,\"#9c179e\"],[0.4444444444444444,\"#bd3786\"],[0.5555555555555556,\"#d8576b\"],[0.6666666666666666,\"#ed7953\"],[0.7777777777777778,\"#fb9f3a\"],[0.8888888888888888,\"#fdca26\"],[1.0,\"#f0f921\"]]},\"colorway\":[\"#636efa\",\"#EF553B\",\"#00cc96\",\"#ab63fa\",\"#FFA15A\",\"#19d3f3\",\"#FF6692\",\"#B6E880\",\"#FF97FF\",\"#FECB52\"],\"font\":{\"color\":\"#2a3f5f\"},\"geo\":{\"bgcolor\":\"white\",\"lakecolor\":\"white\",\"landcolor\":\"#E5ECF6\",\"showlakes\":true,\"showland\":true,\"subunitcolor\":\"white\"},\"hoverlabel\":{\"align\":\"left\"},\"hovermode\":\"closest\",\"mapbox\":{\"style\":\"light\"},\"paper_bgcolor\":\"white\",\"plot_bgcolor\":\"#E5ECF6\",\"polar\":{\"angularaxis\":{\"gridcolor\":\"white\",\"linecolor\":\"white\",\"ticks\":\"\"},\"bgcolor\":\"#E5ECF6\",\"radialaxis\":{\"gridcolor\":\"white\",\"linecolor\":\"white\",\"ticks\":\"\"}},\"scene\":{\"xaxis\":{\"backgroundcolor\":\"#E5ECF6\",\"gridcolor\":\"white\",\"gridwidth\":2,\"linecolor\":\"white\",\"showbackground\":true,\"ticks\":\"\",\"zerolinecolor\":\"white\"},\"yaxis\":{\"backgroundcolor\":\"#E5ECF6\",\"gridcolor\":\"white\",\"gridwidth\":2,\"linecolor\":\"white\",\"showbackground\":true,\"ticks\":\"\",\"zerolinecolor\":\"white\"},\"zaxis\":{\"backgroundcolor\":\"#E5ECF6\",\"gridcolor\":\"white\",\"gridwidth\":2,\"linecolor\":\"white\",\"showbackground\":true,\"ticks\":\"\",\"zerolinecolor\":\"white\"}},\"shapedefaults\":{\"line\":{\"color\":\"#2a3f5f\"}},\"ternary\":{\"aaxis\":{\"gridcolor\":\"white\",\"linecolor\":\"white\",\"ticks\":\"\"},\"baxis\":{\"gridcolor\":\"white\",\"linecolor\":\"white\",\"ticks\":\"\"},\"bgcolor\":\"#E5ECF6\",\"caxis\":{\"gridcolor\":\"white\",\"linecolor\":\"white\",\"ticks\":\"\"}},\"title\":{\"x\":0.05},\"xaxis\":{\"automargin\":true,\"gridcolor\":\"white\",\"linecolor\":\"white\",\"ticks\":\"\",\"title\":{\"standoff\":15},\"zerolinecolor\":\"white\",\"zerolinewidth\":2},\"yaxis\":{\"automargin\":true,\"gridcolor\":\"white\",\"linecolor\":\"white\",\"ticks\":\"\",\"title\":{\"standoff\":15},\"zerolinecolor\":\"white\",\"zerolinewidth\":2}}},\"xaxis\":{\"anchor\":\"y\",\"domain\":[0.0,1.0],\"title\":{\"text\":\"ranking\"}},\"yaxis\":{\"anchor\":\"x\",\"domain\":[0.0,1.0],\"title\":{\"text\":\"price_2\"}}},                        {\"responsive\": true}                    ).then(function(){\n",
       "                            \n",
       "var gd = document.getElementById('053d1fb5-9919-4796-867b-5f950af69177');\n",
       "var x = new MutationObserver(function (mutations, observer) {{\n",
       "        var display = window.getComputedStyle(gd).display;\n",
       "        if (!display || display === 'none') {{\n",
       "            console.log([gd, 'removed!']);\n",
       "            Plotly.purge(gd);\n",
       "            observer.disconnect();\n",
       "        }}\n",
       "}});\n",
       "\n",
       "// Listen for the removal of the full notebook cells\n",
       "var notebookContainer = gd.closest('#notebook-container');\n",
       "if (notebookContainer) {{\n",
       "    x.observe(notebookContainer, {childList: true});\n",
       "}}\n",
       "\n",
       "// Listen for the clearing of the current output cell\n",
       "var outputEl = gd.closest('.output');\n",
       "if (outputEl) {{\n",
       "    x.observe(outputEl, {childList: true});\n",
       "}}\n",
       "\n",
       "                        })                };                });            </script>        </div>"
      ]
     },
     "metadata": {},
     "output_type": "display_data"
    }
   ],
   "source": [
    "#scatterplot ranking/precio\n",
    "\n",
    "fig = px.scatter(df_visual, x=\"ranking\", y=\"price_2\")\n",
    "fig.show()"
   ]
  },
  {
   "cell_type": "code",
   "execution_count": null,
   "id": "3908faed",
   "metadata": {},
   "outputs": [],
   "source": [
    "# pie por precios\n",
    "fig = px.pie(df_visual, values='pop', names='country', title='Precios de restaurantes en Madrid')\n",
    "fig.show()\n"
   ]
  },
  {
   "cell_type": "code",
   "execution_count": 85,
   "id": "3438b60c",
   "metadata": {},
   "outputs": [
    {
     "data": {
      "application/vnd.plotly.v1+json": {
       "config": {
        "plotlyServerURL": "https://plot.ly"
       },
       "data": [
        {
         "alignmentgroup": "True",
         "hovertemplate": "price_2=%{x}<extra></extra>",
         "legendgroup": "",
         "marker": {
          "color": "#636efa"
         },
         "name": "",
         "notched": false,
         "offsetgroup": "",
         "orientation": "h",
         "showlegend": false,
         "type": "box",
         "x": [
          "Medio",
          "Medio",
          "Barato",
          "Medio",
          "Medio",
          "Medio",
          "Medio",
          "Medio",
          "Medio",
          "Medio",
          "Medio",
          "Medio",
          "Medio",
          "Medio",
          "Medio",
          "Medio",
          "Caro",
          null,
          "Medio",
          "Medio",
          "Medio",
          "Medio",
          "Medio",
          "Medio",
          "Medio",
          "Barato",
          "Medio",
          "Medio",
          "Medio",
          "Medio",
          "Medio",
          "Medio",
          "Medio",
          "Medio",
          "Medio",
          "Medio",
          "Medio",
          "Medio",
          "Medio",
          "Medio",
          "Medio",
          "Barato",
          "Medio",
          "Medio",
          "Caro",
          "Medio",
          "Medio",
          "Medio",
          "Medio",
          "Barato",
          "Medio",
          "Medio",
          "Medio",
          "Barato",
          "Medio",
          "Medio",
          "Medio",
          "Medio",
          "Barato",
          "Medio",
          "Barato",
          "Medio",
          "Barato",
          "Medio",
          "Medio",
          "Medio",
          "Barato",
          "Medio",
          "Medio",
          "Medio",
          "Medio",
          "Medio",
          "Caro",
          "Medio",
          "Medio",
          "Medio",
          "Medio",
          "Medio",
          "Medio",
          "Medio",
          "Medio",
          "Medio",
          "Medio",
          "Medio",
          "Medio",
          "Medio",
          "Medio",
          "Medio",
          "Medio",
          "Medio",
          "Medio",
          "Medio",
          "Medio",
          "Medio",
          "Barato",
          "Barato",
          "Medio",
          "Medio",
          null,
          "Medio",
          "Medio",
          "Medio",
          "Barato",
          "Barato",
          "Medio",
          "Barato",
          "Medio",
          "Medio",
          "Medio",
          "Medio",
          "Medio",
          "Medio",
          "Medio",
          "Medio",
          "Medio",
          "Medio",
          "Medio",
          "Medio",
          "Medio",
          "Medio",
          "Barato",
          "Medio",
          "Medio",
          "Caro",
          "Medio",
          "Medio",
          "Caro",
          "Medio",
          "Barato",
          "Caro",
          "Medio",
          "Barato",
          "Barato",
          "Medio",
          "Medio",
          "Medio",
          "Caro",
          "Medio",
          "Barato",
          "Medio",
          "Medio",
          "Medio",
          "Medio",
          "Medio",
          "Medio",
          "Medio",
          "Medio",
          "Medio",
          "Medio",
          "Medio",
          "Medio",
          "Medio",
          "Medio",
          "Medio",
          "Medio",
          "Medio",
          "Medio",
          "Medio",
          "Barato",
          "Medio",
          "Medio",
          "Medio",
          "Medio",
          "Barato",
          "Medio",
          "Medio",
          "Medio",
          "Medio",
          "Medio",
          "Medio",
          "Medio",
          "Medio",
          "Barato",
          "Medio",
          "Medio",
          "Medio",
          "Caro",
          "Caro",
          "Barato",
          "Caro",
          "Medio",
          "Caro",
          "Medio",
          "Barato",
          "Medio",
          "Medio",
          "Medio",
          "Caro",
          "Medio",
          "Barato",
          "Medio",
          "Barato",
          "Medio",
          "Medio",
          "Medio",
          "Medio",
          "Medio",
          "Medio",
          "Caro",
          "Medio",
          "Medio",
          "Medio",
          "Medio",
          "Medio",
          "Medio",
          "Medio",
          "Barato",
          "Medio",
          "Medio",
          "Medio",
          "Medio",
          "Medio",
          "Medio",
          "Medio",
          "Caro",
          "Barato",
          "Caro",
          "Barato",
          "Medio",
          "Caro",
          "Caro",
          "Medio",
          "Medio",
          "Barato",
          "Barato",
          "Medio",
          "Medio",
          "Medio",
          "Medio",
          "Medio",
          "Medio",
          "Medio",
          "Medio",
          "Medio",
          "Medio",
          "Medio",
          "Medio",
          "Medio",
          "Medio",
          "Medio",
          "Medio",
          "Barato",
          "Caro",
          "Medio",
          "Medio",
          "Medio",
          "Medio",
          "Medio",
          "Medio",
          "Barato",
          "Medio",
          "Medio",
          "Caro",
          "Medio",
          "Medio",
          "Medio",
          "Medio",
          "Medio",
          "Medio",
          "Medio",
          "Medio",
          "Caro",
          "Barato",
          "Medio",
          "Medio",
          "Barato",
          "Barato",
          "Medio",
          "Medio",
          "Barato",
          "Medio",
          "Medio",
          "Barato",
          "Caro",
          "Medio",
          "Medio",
          "Barato",
          "Medio",
          "Medio",
          "Caro",
          "Medio",
          "Medio",
          "Medio",
          "Medio",
          "Medio",
          "Caro",
          "Caro",
          "Barato",
          "Caro",
          "Caro",
          "Medio",
          "Medio",
          "Medio",
          "Barato",
          "Medio",
          "Medio",
          "Medio",
          "Barato",
          "Caro",
          "Caro",
          "Medio",
          "Medio",
          "Medio",
          "Medio",
          "Medio",
          "Medio",
          "Medio",
          "Medio",
          "Medio",
          "Medio",
          "Medio",
          "Medio",
          "Medio",
          "Medio",
          "Medio",
          "Caro",
          "Caro",
          "Medio",
          "Medio",
          "Medio",
          "Caro",
          "Medio",
          "Medio",
          "Medio",
          "Medio",
          "Barato",
          "Medio",
          "Caro",
          "Medio",
          "Medio",
          "Medio",
          "Medio",
          "Caro",
          "Medio",
          "Medio",
          "Medio",
          "Medio",
          "Medio",
          "Caro",
          "Caro",
          "Barato",
          "Medio",
          "Medio",
          "Medio",
          "Medio",
          "Medio",
          "Medio",
          "Medio",
          "Medio",
          "Barato",
          "Medio",
          "Barato",
          "Medio",
          "Barato",
          "Caro",
          "Medio",
          "Medio",
          "Caro",
          "Caro",
          "Medio",
          "Medio",
          "Medio",
          "Medio",
          "Caro",
          "Medio",
          "Medio",
          "Medio",
          "Caro",
          "Barato",
          "Medio",
          "Medio",
          "Caro",
          "Medio",
          "Medio",
          "Caro",
          "Medio",
          "Medio",
          "Medio",
          "Barato",
          "Caro",
          "Medio",
          "Medio",
          "Medio",
          "Caro",
          "Medio",
          "Medio",
          "Medio",
          "Medio",
          "Medio",
          "Medio",
          "Medio",
          "Medio",
          "Medio",
          "Barato",
          "Caro",
          "Caro",
          "Medio",
          "Medio",
          "Caro",
          "Medio",
          "Caro",
          "Barato",
          "Medio",
          "Medio",
          "Medio",
          "Medio",
          "Medio",
          "Medio",
          "Medio",
          "Medio",
          "Barato",
          "Medio",
          "Barato",
          "Medio",
          "Barato",
          "Medio",
          "Medio",
          "Medio",
          "Medio",
          "Barato",
          "Medio",
          "Barato",
          "Barato",
          "Barato",
          "Caro",
          "Medio",
          "Caro",
          "Medio",
          "Barato",
          "Barato",
          "Medio",
          "Medio",
          "Medio",
          "Medio",
          "Medio",
          "Medio",
          "Medio",
          "Medio",
          "Medio",
          "Medio",
          "Medio",
          "Barato",
          "Medio",
          "Medio",
          "Caro",
          "Medio",
          "Medio",
          "Medio",
          "Medio",
          "Barato",
          "Medio",
          "Medio",
          "Barato",
          "Medio",
          "Medio",
          "Medio",
          "Medio",
          "Medio",
          "Medio",
          "Medio",
          "Medio",
          "Medio",
          "Caro",
          "Medio",
          "Caro",
          "Medio",
          "Medio",
          "Medio",
          "Medio",
          "Barato",
          "Medio",
          "Caro",
          "Medio",
          "Medio",
          "Medio",
          "Medio",
          "Caro",
          "Medio",
          "Medio",
          "Barato",
          "Barato",
          "Medio",
          "Medio",
          "Caro",
          "Medio",
          "Caro",
          "Medio",
          "Medio",
          "Medio",
          "Medio",
          "Barato",
          "Medio",
          "Medio",
          "Medio",
          "Barato",
          "Medio",
          "Medio",
          "Medio"
         ],
         "x0": " ",
         "xaxis": "x",
         "y0": " ",
         "yaxis": "y"
        }
       ],
       "layout": {
        "boxmode": "group",
        "legend": {
         "tracegroupgap": 0
        },
        "margin": {
         "t": 60
        },
        "template": {
         "data": {
          "bar": [
           {
            "error_x": {
             "color": "#2a3f5f"
            },
            "error_y": {
             "color": "#2a3f5f"
            },
            "marker": {
             "line": {
              "color": "#E5ECF6",
              "width": 0.5
             },
             "pattern": {
              "fillmode": "overlay",
              "size": 10,
              "solidity": 0.2
             }
            },
            "type": "bar"
           }
          ],
          "barpolar": [
           {
            "marker": {
             "line": {
              "color": "#E5ECF6",
              "width": 0.5
             },
             "pattern": {
              "fillmode": "overlay",
              "size": 10,
              "solidity": 0.2
             }
            },
            "type": "barpolar"
           }
          ],
          "carpet": [
           {
            "aaxis": {
             "endlinecolor": "#2a3f5f",
             "gridcolor": "white",
             "linecolor": "white",
             "minorgridcolor": "white",
             "startlinecolor": "#2a3f5f"
            },
            "baxis": {
             "endlinecolor": "#2a3f5f",
             "gridcolor": "white",
             "linecolor": "white",
             "minorgridcolor": "white",
             "startlinecolor": "#2a3f5f"
            },
            "type": "carpet"
           }
          ],
          "choropleth": [
           {
            "colorbar": {
             "outlinewidth": 0,
             "ticks": ""
            },
            "type": "choropleth"
           }
          ],
          "contour": [
           {
            "colorbar": {
             "outlinewidth": 0,
             "ticks": ""
            },
            "colorscale": [
             [
              0,
              "#0d0887"
             ],
             [
              0.1111111111111111,
              "#46039f"
             ],
             [
              0.2222222222222222,
              "#7201a8"
             ],
             [
              0.3333333333333333,
              "#9c179e"
             ],
             [
              0.4444444444444444,
              "#bd3786"
             ],
             [
              0.5555555555555556,
              "#d8576b"
             ],
             [
              0.6666666666666666,
              "#ed7953"
             ],
             [
              0.7777777777777778,
              "#fb9f3a"
             ],
             [
              0.8888888888888888,
              "#fdca26"
             ],
             [
              1,
              "#f0f921"
             ]
            ],
            "type": "contour"
           }
          ],
          "contourcarpet": [
           {
            "colorbar": {
             "outlinewidth": 0,
             "ticks": ""
            },
            "type": "contourcarpet"
           }
          ],
          "heatmap": [
           {
            "colorbar": {
             "outlinewidth": 0,
             "ticks": ""
            },
            "colorscale": [
             [
              0,
              "#0d0887"
             ],
             [
              0.1111111111111111,
              "#46039f"
             ],
             [
              0.2222222222222222,
              "#7201a8"
             ],
             [
              0.3333333333333333,
              "#9c179e"
             ],
             [
              0.4444444444444444,
              "#bd3786"
             ],
             [
              0.5555555555555556,
              "#d8576b"
             ],
             [
              0.6666666666666666,
              "#ed7953"
             ],
             [
              0.7777777777777778,
              "#fb9f3a"
             ],
             [
              0.8888888888888888,
              "#fdca26"
             ],
             [
              1,
              "#f0f921"
             ]
            ],
            "type": "heatmap"
           }
          ],
          "heatmapgl": [
           {
            "colorbar": {
             "outlinewidth": 0,
             "ticks": ""
            },
            "colorscale": [
             [
              0,
              "#0d0887"
             ],
             [
              0.1111111111111111,
              "#46039f"
             ],
             [
              0.2222222222222222,
              "#7201a8"
             ],
             [
              0.3333333333333333,
              "#9c179e"
             ],
             [
              0.4444444444444444,
              "#bd3786"
             ],
             [
              0.5555555555555556,
              "#d8576b"
             ],
             [
              0.6666666666666666,
              "#ed7953"
             ],
             [
              0.7777777777777778,
              "#fb9f3a"
             ],
             [
              0.8888888888888888,
              "#fdca26"
             ],
             [
              1,
              "#f0f921"
             ]
            ],
            "type": "heatmapgl"
           }
          ],
          "histogram": [
           {
            "marker": {
             "pattern": {
              "fillmode": "overlay",
              "size": 10,
              "solidity": 0.2
             }
            },
            "type": "histogram"
           }
          ],
          "histogram2d": [
           {
            "colorbar": {
             "outlinewidth": 0,
             "ticks": ""
            },
            "colorscale": [
             [
              0,
              "#0d0887"
             ],
             [
              0.1111111111111111,
              "#46039f"
             ],
             [
              0.2222222222222222,
              "#7201a8"
             ],
             [
              0.3333333333333333,
              "#9c179e"
             ],
             [
              0.4444444444444444,
              "#bd3786"
             ],
             [
              0.5555555555555556,
              "#d8576b"
             ],
             [
              0.6666666666666666,
              "#ed7953"
             ],
             [
              0.7777777777777778,
              "#fb9f3a"
             ],
             [
              0.8888888888888888,
              "#fdca26"
             ],
             [
              1,
              "#f0f921"
             ]
            ],
            "type": "histogram2d"
           }
          ],
          "histogram2dcontour": [
           {
            "colorbar": {
             "outlinewidth": 0,
             "ticks": ""
            },
            "colorscale": [
             [
              0,
              "#0d0887"
             ],
             [
              0.1111111111111111,
              "#46039f"
             ],
             [
              0.2222222222222222,
              "#7201a8"
             ],
             [
              0.3333333333333333,
              "#9c179e"
             ],
             [
              0.4444444444444444,
              "#bd3786"
             ],
             [
              0.5555555555555556,
              "#d8576b"
             ],
             [
              0.6666666666666666,
              "#ed7953"
             ],
             [
              0.7777777777777778,
              "#fb9f3a"
             ],
             [
              0.8888888888888888,
              "#fdca26"
             ],
             [
              1,
              "#f0f921"
             ]
            ],
            "type": "histogram2dcontour"
           }
          ],
          "mesh3d": [
           {
            "colorbar": {
             "outlinewidth": 0,
             "ticks": ""
            },
            "type": "mesh3d"
           }
          ],
          "parcoords": [
           {
            "line": {
             "colorbar": {
              "outlinewidth": 0,
              "ticks": ""
             }
            },
            "type": "parcoords"
           }
          ],
          "pie": [
           {
            "automargin": true,
            "type": "pie"
           }
          ],
          "scatter": [
           {
            "marker": {
             "colorbar": {
              "outlinewidth": 0,
              "ticks": ""
             }
            },
            "type": "scatter"
           }
          ],
          "scatter3d": [
           {
            "line": {
             "colorbar": {
              "outlinewidth": 0,
              "ticks": ""
             }
            },
            "marker": {
             "colorbar": {
              "outlinewidth": 0,
              "ticks": ""
             }
            },
            "type": "scatter3d"
           }
          ],
          "scattercarpet": [
           {
            "marker": {
             "colorbar": {
              "outlinewidth": 0,
              "ticks": ""
             }
            },
            "type": "scattercarpet"
           }
          ],
          "scattergeo": [
           {
            "marker": {
             "colorbar": {
              "outlinewidth": 0,
              "ticks": ""
             }
            },
            "type": "scattergeo"
           }
          ],
          "scattergl": [
           {
            "marker": {
             "colorbar": {
              "outlinewidth": 0,
              "ticks": ""
             }
            },
            "type": "scattergl"
           }
          ],
          "scattermapbox": [
           {
            "marker": {
             "colorbar": {
              "outlinewidth": 0,
              "ticks": ""
             }
            },
            "type": "scattermapbox"
           }
          ],
          "scatterpolar": [
           {
            "marker": {
             "colorbar": {
              "outlinewidth": 0,
              "ticks": ""
             }
            },
            "type": "scatterpolar"
           }
          ],
          "scatterpolargl": [
           {
            "marker": {
             "colorbar": {
              "outlinewidth": 0,
              "ticks": ""
             }
            },
            "type": "scatterpolargl"
           }
          ],
          "scatterternary": [
           {
            "marker": {
             "colorbar": {
              "outlinewidth": 0,
              "ticks": ""
             }
            },
            "type": "scatterternary"
           }
          ],
          "surface": [
           {
            "colorbar": {
             "outlinewidth": 0,
             "ticks": ""
            },
            "colorscale": [
             [
              0,
              "#0d0887"
             ],
             [
              0.1111111111111111,
              "#46039f"
             ],
             [
              0.2222222222222222,
              "#7201a8"
             ],
             [
              0.3333333333333333,
              "#9c179e"
             ],
             [
              0.4444444444444444,
              "#bd3786"
             ],
             [
              0.5555555555555556,
              "#d8576b"
             ],
             [
              0.6666666666666666,
              "#ed7953"
             ],
             [
              0.7777777777777778,
              "#fb9f3a"
             ],
             [
              0.8888888888888888,
              "#fdca26"
             ],
             [
              1,
              "#f0f921"
             ]
            ],
            "type": "surface"
           }
          ],
          "table": [
           {
            "cells": {
             "fill": {
              "color": "#EBF0F8"
             },
             "line": {
              "color": "white"
             }
            },
            "header": {
             "fill": {
              "color": "#C8D4E3"
             },
             "line": {
              "color": "white"
             }
            },
            "type": "table"
           }
          ]
         },
         "layout": {
          "annotationdefaults": {
           "arrowcolor": "#2a3f5f",
           "arrowhead": 0,
           "arrowwidth": 1
          },
          "autotypenumbers": "strict",
          "coloraxis": {
           "colorbar": {
            "outlinewidth": 0,
            "ticks": ""
           }
          },
          "colorscale": {
           "diverging": [
            [
             0,
             "#8e0152"
            ],
            [
             0.1,
             "#c51b7d"
            ],
            [
             0.2,
             "#de77ae"
            ],
            [
             0.3,
             "#f1b6da"
            ],
            [
             0.4,
             "#fde0ef"
            ],
            [
             0.5,
             "#f7f7f7"
            ],
            [
             0.6,
             "#e6f5d0"
            ],
            [
             0.7,
             "#b8e186"
            ],
            [
             0.8,
             "#7fbc41"
            ],
            [
             0.9,
             "#4d9221"
            ],
            [
             1,
             "#276419"
            ]
           ],
           "sequential": [
            [
             0,
             "#0d0887"
            ],
            [
             0.1111111111111111,
             "#46039f"
            ],
            [
             0.2222222222222222,
             "#7201a8"
            ],
            [
             0.3333333333333333,
             "#9c179e"
            ],
            [
             0.4444444444444444,
             "#bd3786"
            ],
            [
             0.5555555555555556,
             "#d8576b"
            ],
            [
             0.6666666666666666,
             "#ed7953"
            ],
            [
             0.7777777777777778,
             "#fb9f3a"
            ],
            [
             0.8888888888888888,
             "#fdca26"
            ],
            [
             1,
             "#f0f921"
            ]
           ],
           "sequentialminus": [
            [
             0,
             "#0d0887"
            ],
            [
             0.1111111111111111,
             "#46039f"
            ],
            [
             0.2222222222222222,
             "#7201a8"
            ],
            [
             0.3333333333333333,
             "#9c179e"
            ],
            [
             0.4444444444444444,
             "#bd3786"
            ],
            [
             0.5555555555555556,
             "#d8576b"
            ],
            [
             0.6666666666666666,
             "#ed7953"
            ],
            [
             0.7777777777777778,
             "#fb9f3a"
            ],
            [
             0.8888888888888888,
             "#fdca26"
            ],
            [
             1,
             "#f0f921"
            ]
           ]
          },
          "colorway": [
           "#636efa",
           "#EF553B",
           "#00cc96",
           "#ab63fa",
           "#FFA15A",
           "#19d3f3",
           "#FF6692",
           "#B6E880",
           "#FF97FF",
           "#FECB52"
          ],
          "font": {
           "color": "#2a3f5f"
          },
          "geo": {
           "bgcolor": "white",
           "lakecolor": "white",
           "landcolor": "#E5ECF6",
           "showlakes": true,
           "showland": true,
           "subunitcolor": "white"
          },
          "hoverlabel": {
           "align": "left"
          },
          "hovermode": "closest",
          "mapbox": {
           "style": "light"
          },
          "paper_bgcolor": "white",
          "plot_bgcolor": "#E5ECF6",
          "polar": {
           "angularaxis": {
            "gridcolor": "white",
            "linecolor": "white",
            "ticks": ""
           },
           "bgcolor": "#E5ECF6",
           "radialaxis": {
            "gridcolor": "white",
            "linecolor": "white",
            "ticks": ""
           }
          },
          "scene": {
           "xaxis": {
            "backgroundcolor": "#E5ECF6",
            "gridcolor": "white",
            "gridwidth": 2,
            "linecolor": "white",
            "showbackground": true,
            "ticks": "",
            "zerolinecolor": "white"
           },
           "yaxis": {
            "backgroundcolor": "#E5ECF6",
            "gridcolor": "white",
            "gridwidth": 2,
            "linecolor": "white",
            "showbackground": true,
            "ticks": "",
            "zerolinecolor": "white"
           },
           "zaxis": {
            "backgroundcolor": "#E5ECF6",
            "gridcolor": "white",
            "gridwidth": 2,
            "linecolor": "white",
            "showbackground": true,
            "ticks": "",
            "zerolinecolor": "white"
           }
          },
          "shapedefaults": {
           "line": {
            "color": "#2a3f5f"
           }
          },
          "ternary": {
           "aaxis": {
            "gridcolor": "white",
            "linecolor": "white",
            "ticks": ""
           },
           "baxis": {
            "gridcolor": "white",
            "linecolor": "white",
            "ticks": ""
           },
           "bgcolor": "#E5ECF6",
           "caxis": {
            "gridcolor": "white",
            "linecolor": "white",
            "ticks": ""
           }
          },
          "title": {
           "x": 0.05
          },
          "xaxis": {
           "automargin": true,
           "gridcolor": "white",
           "linecolor": "white",
           "ticks": "",
           "title": {
            "standoff": 15
           },
           "zerolinecolor": "white",
           "zerolinewidth": 2
          },
          "yaxis": {
           "automargin": true,
           "gridcolor": "white",
           "linecolor": "white",
           "ticks": "",
           "title": {
            "standoff": 15
           },
           "zerolinecolor": "white",
           "zerolinewidth": 2
          }
         }
        },
        "xaxis": {
         "anchor": "y",
         "domain": [
          0,
          1
         ],
         "title": {
          "text": "price_2"
         }
        },
        "yaxis": {
         "anchor": "x",
         "domain": [
          0,
          1
         ]
        }
       }
      },
      "text/html": [
       "<div>                            <div id=\"59197214-1389-4250-8ecf-b2ede4bc90ca\" class=\"plotly-graph-div\" style=\"height:525px; width:100%;\"></div>            <script type=\"text/javascript\">                require([\"plotly\"], function(Plotly) {                    window.PLOTLYENV=window.PLOTLYENV || {};                                    if (document.getElementById(\"59197214-1389-4250-8ecf-b2ede4bc90ca\")) {                    Plotly.newPlot(                        \"59197214-1389-4250-8ecf-b2ede4bc90ca\",                        [{\"alignmentgroup\":\"True\",\"hovertemplate\":\"price_2=%{x}<extra></extra>\",\"legendgroup\":\"\",\"marker\":{\"color\":\"#636efa\"},\"name\":\"\",\"notched\":false,\"offsetgroup\":\"\",\"orientation\":\"h\",\"showlegend\":false,\"type\":\"box\",\"x\":[\"Medio\",\"Medio\",\"Barato\",\"Medio\",\"Medio\",\"Medio\",\"Medio\",\"Medio\",\"Medio\",\"Medio\",\"Medio\",\"Medio\",\"Medio\",\"Medio\",\"Medio\",\"Medio\",\"Caro\",null,\"Medio\",\"Medio\",\"Medio\",\"Medio\",\"Medio\",\"Medio\",\"Medio\",\"Barato\",\"Medio\",\"Medio\",\"Medio\",\"Medio\",\"Medio\",\"Medio\",\"Medio\",\"Medio\",\"Medio\",\"Medio\",\"Medio\",\"Medio\",\"Medio\",\"Medio\",\"Medio\",\"Barato\",\"Medio\",\"Medio\",\"Caro\",\"Medio\",\"Medio\",\"Medio\",\"Medio\",\"Barato\",\"Medio\",\"Medio\",\"Medio\",\"Barato\",\"Medio\",\"Medio\",\"Medio\",\"Medio\",\"Barato\",\"Medio\",\"Barato\",\"Medio\",\"Barato\",\"Medio\",\"Medio\",\"Medio\",\"Barato\",\"Medio\",\"Medio\",\"Medio\",\"Medio\",\"Medio\",\"Caro\",\"Medio\",\"Medio\",\"Medio\",\"Medio\",\"Medio\",\"Medio\",\"Medio\",\"Medio\",\"Medio\",\"Medio\",\"Medio\",\"Medio\",\"Medio\",\"Medio\",\"Medio\",\"Medio\",\"Medio\",\"Medio\",\"Medio\",\"Medio\",\"Medio\",\"Barato\",\"Barato\",\"Medio\",\"Medio\",null,\"Medio\",\"Medio\",\"Medio\",\"Barato\",\"Barato\",\"Medio\",\"Barato\",\"Medio\",\"Medio\",\"Medio\",\"Medio\",\"Medio\",\"Medio\",\"Medio\",\"Medio\",\"Medio\",\"Medio\",\"Medio\",\"Medio\",\"Medio\",\"Medio\",\"Barato\",\"Medio\",\"Medio\",\"Caro\",\"Medio\",\"Medio\",\"Caro\",\"Medio\",\"Barato\",\"Caro\",\"Medio\",\"Barato\",\"Barato\",\"Medio\",\"Medio\",\"Medio\",\"Caro\",\"Medio\",\"Barato\",\"Medio\",\"Medio\",\"Medio\",\"Medio\",\"Medio\",\"Medio\",\"Medio\",\"Medio\",\"Medio\",\"Medio\",\"Medio\",\"Medio\",\"Medio\",\"Medio\",\"Medio\",\"Medio\",\"Medio\",\"Medio\",\"Medio\",\"Barato\",\"Medio\",\"Medio\",\"Medio\",\"Medio\",\"Barato\",\"Medio\",\"Medio\",\"Medio\",\"Medio\",\"Medio\",\"Medio\",\"Medio\",\"Medio\",\"Barato\",\"Medio\",\"Medio\",\"Medio\",\"Caro\",\"Caro\",\"Barato\",\"Caro\",\"Medio\",\"Caro\",\"Medio\",\"Barato\",\"Medio\",\"Medio\",\"Medio\",\"Caro\",\"Medio\",\"Barato\",\"Medio\",\"Barato\",\"Medio\",\"Medio\",\"Medio\",\"Medio\",\"Medio\",\"Medio\",\"Caro\",\"Medio\",\"Medio\",\"Medio\",\"Medio\",\"Medio\",\"Medio\",\"Medio\",\"Barato\",\"Medio\",\"Medio\",\"Medio\",\"Medio\",\"Medio\",\"Medio\",\"Medio\",\"Caro\",\"Barato\",\"Caro\",\"Barato\",\"Medio\",\"Caro\",\"Caro\",\"Medio\",\"Medio\",\"Barato\",\"Barato\",\"Medio\",\"Medio\",\"Medio\",\"Medio\",\"Medio\",\"Medio\",\"Medio\",\"Medio\",\"Medio\",\"Medio\",\"Medio\",\"Medio\",\"Medio\",\"Medio\",\"Medio\",\"Medio\",\"Barato\",\"Caro\",\"Medio\",\"Medio\",\"Medio\",\"Medio\",\"Medio\",\"Medio\",\"Barato\",\"Medio\",\"Medio\",\"Caro\",\"Medio\",\"Medio\",\"Medio\",\"Medio\",\"Medio\",\"Medio\",\"Medio\",\"Medio\",\"Caro\",\"Barato\",\"Medio\",\"Medio\",\"Barato\",\"Barato\",\"Medio\",\"Medio\",\"Barato\",\"Medio\",\"Medio\",\"Barato\",\"Caro\",\"Medio\",\"Medio\",\"Barato\",\"Medio\",\"Medio\",\"Caro\",\"Medio\",\"Medio\",\"Medio\",\"Medio\",\"Medio\",\"Caro\",\"Caro\",\"Barato\",\"Caro\",\"Caro\",\"Medio\",\"Medio\",\"Medio\",\"Barato\",\"Medio\",\"Medio\",\"Medio\",\"Barato\",\"Caro\",\"Caro\",\"Medio\",\"Medio\",\"Medio\",\"Medio\",\"Medio\",\"Medio\",\"Medio\",\"Medio\",\"Medio\",\"Medio\",\"Medio\",\"Medio\",\"Medio\",\"Medio\",\"Medio\",\"Caro\",\"Caro\",\"Medio\",\"Medio\",\"Medio\",\"Caro\",\"Medio\",\"Medio\",\"Medio\",\"Medio\",\"Barato\",\"Medio\",\"Caro\",\"Medio\",\"Medio\",\"Medio\",\"Medio\",\"Caro\",\"Medio\",\"Medio\",\"Medio\",\"Medio\",\"Medio\",\"Caro\",\"Caro\",\"Barato\",\"Medio\",\"Medio\",\"Medio\",\"Medio\",\"Medio\",\"Medio\",\"Medio\",\"Medio\",\"Barato\",\"Medio\",\"Barato\",\"Medio\",\"Barato\",\"Caro\",\"Medio\",\"Medio\",\"Caro\",\"Caro\",\"Medio\",\"Medio\",\"Medio\",\"Medio\",\"Caro\",\"Medio\",\"Medio\",\"Medio\",\"Caro\",\"Barato\",\"Medio\",\"Medio\",\"Caro\",\"Medio\",\"Medio\",\"Caro\",\"Medio\",\"Medio\",\"Medio\",\"Barato\",\"Caro\",\"Medio\",\"Medio\",\"Medio\",\"Caro\",\"Medio\",\"Medio\",\"Medio\",\"Medio\",\"Medio\",\"Medio\",\"Medio\",\"Medio\",\"Medio\",\"Barato\",\"Caro\",\"Caro\",\"Medio\",\"Medio\",\"Caro\",\"Medio\",\"Caro\",\"Barato\",\"Medio\",\"Medio\",\"Medio\",\"Medio\",\"Medio\",\"Medio\",\"Medio\",\"Medio\",\"Barato\",\"Medio\",\"Barato\",\"Medio\",\"Barato\",\"Medio\",\"Medio\",\"Medio\",\"Medio\",\"Barato\",\"Medio\",\"Barato\",\"Barato\",\"Barato\",\"Caro\",\"Medio\",\"Caro\",\"Medio\",\"Barato\",\"Barato\",\"Medio\",\"Medio\",\"Medio\",\"Medio\",\"Medio\",\"Medio\",\"Medio\",\"Medio\",\"Medio\",\"Medio\",\"Medio\",\"Barato\",\"Medio\",\"Medio\",\"Caro\",\"Medio\",\"Medio\",\"Medio\",\"Medio\",\"Barato\",\"Medio\",\"Medio\",\"Barato\",\"Medio\",\"Medio\",\"Medio\",\"Medio\",\"Medio\",\"Medio\",\"Medio\",\"Medio\",\"Medio\",\"Caro\",\"Medio\",\"Caro\",\"Medio\",\"Medio\",\"Medio\",\"Medio\",\"Barato\",\"Medio\",\"Caro\",\"Medio\",\"Medio\",\"Medio\",\"Medio\",\"Caro\",\"Medio\",\"Medio\",\"Barato\",\"Barato\",\"Medio\",\"Medio\",\"Caro\",\"Medio\",\"Caro\",\"Medio\",\"Medio\",\"Medio\",\"Medio\",\"Barato\",\"Medio\",\"Medio\",\"Medio\",\"Barato\",\"Medio\",\"Medio\",\"Medio\"],\"x0\":\" \",\"xaxis\":\"x\",\"y0\":\" \",\"yaxis\":\"y\"}],                        {\"boxmode\":\"group\",\"legend\":{\"tracegroupgap\":0},\"margin\":{\"t\":60},\"template\":{\"data\":{\"bar\":[{\"error_x\":{\"color\":\"#2a3f5f\"},\"error_y\":{\"color\":\"#2a3f5f\"},\"marker\":{\"line\":{\"color\":\"#E5ECF6\",\"width\":0.5},\"pattern\":{\"fillmode\":\"overlay\",\"size\":10,\"solidity\":0.2}},\"type\":\"bar\"}],\"barpolar\":[{\"marker\":{\"line\":{\"color\":\"#E5ECF6\",\"width\":0.5},\"pattern\":{\"fillmode\":\"overlay\",\"size\":10,\"solidity\":0.2}},\"type\":\"barpolar\"}],\"carpet\":[{\"aaxis\":{\"endlinecolor\":\"#2a3f5f\",\"gridcolor\":\"white\",\"linecolor\":\"white\",\"minorgridcolor\":\"white\",\"startlinecolor\":\"#2a3f5f\"},\"baxis\":{\"endlinecolor\":\"#2a3f5f\",\"gridcolor\":\"white\",\"linecolor\":\"white\",\"minorgridcolor\":\"white\",\"startlinecolor\":\"#2a3f5f\"},\"type\":\"carpet\"}],\"choropleth\":[{\"colorbar\":{\"outlinewidth\":0,\"ticks\":\"\"},\"type\":\"choropleth\"}],\"contour\":[{\"colorbar\":{\"outlinewidth\":0,\"ticks\":\"\"},\"colorscale\":[[0.0,\"#0d0887\"],[0.1111111111111111,\"#46039f\"],[0.2222222222222222,\"#7201a8\"],[0.3333333333333333,\"#9c179e\"],[0.4444444444444444,\"#bd3786\"],[0.5555555555555556,\"#d8576b\"],[0.6666666666666666,\"#ed7953\"],[0.7777777777777778,\"#fb9f3a\"],[0.8888888888888888,\"#fdca26\"],[1.0,\"#f0f921\"]],\"type\":\"contour\"}],\"contourcarpet\":[{\"colorbar\":{\"outlinewidth\":0,\"ticks\":\"\"},\"type\":\"contourcarpet\"}],\"heatmap\":[{\"colorbar\":{\"outlinewidth\":0,\"ticks\":\"\"},\"colorscale\":[[0.0,\"#0d0887\"],[0.1111111111111111,\"#46039f\"],[0.2222222222222222,\"#7201a8\"],[0.3333333333333333,\"#9c179e\"],[0.4444444444444444,\"#bd3786\"],[0.5555555555555556,\"#d8576b\"],[0.6666666666666666,\"#ed7953\"],[0.7777777777777778,\"#fb9f3a\"],[0.8888888888888888,\"#fdca26\"],[1.0,\"#f0f921\"]],\"type\":\"heatmap\"}],\"heatmapgl\":[{\"colorbar\":{\"outlinewidth\":0,\"ticks\":\"\"},\"colorscale\":[[0.0,\"#0d0887\"],[0.1111111111111111,\"#46039f\"],[0.2222222222222222,\"#7201a8\"],[0.3333333333333333,\"#9c179e\"],[0.4444444444444444,\"#bd3786\"],[0.5555555555555556,\"#d8576b\"],[0.6666666666666666,\"#ed7953\"],[0.7777777777777778,\"#fb9f3a\"],[0.8888888888888888,\"#fdca26\"],[1.0,\"#f0f921\"]],\"type\":\"heatmapgl\"}],\"histogram\":[{\"marker\":{\"pattern\":{\"fillmode\":\"overlay\",\"size\":10,\"solidity\":0.2}},\"type\":\"histogram\"}],\"histogram2d\":[{\"colorbar\":{\"outlinewidth\":0,\"ticks\":\"\"},\"colorscale\":[[0.0,\"#0d0887\"],[0.1111111111111111,\"#46039f\"],[0.2222222222222222,\"#7201a8\"],[0.3333333333333333,\"#9c179e\"],[0.4444444444444444,\"#bd3786\"],[0.5555555555555556,\"#d8576b\"],[0.6666666666666666,\"#ed7953\"],[0.7777777777777778,\"#fb9f3a\"],[0.8888888888888888,\"#fdca26\"],[1.0,\"#f0f921\"]],\"type\":\"histogram2d\"}],\"histogram2dcontour\":[{\"colorbar\":{\"outlinewidth\":0,\"ticks\":\"\"},\"colorscale\":[[0.0,\"#0d0887\"],[0.1111111111111111,\"#46039f\"],[0.2222222222222222,\"#7201a8\"],[0.3333333333333333,\"#9c179e\"],[0.4444444444444444,\"#bd3786\"],[0.5555555555555556,\"#d8576b\"],[0.6666666666666666,\"#ed7953\"],[0.7777777777777778,\"#fb9f3a\"],[0.8888888888888888,\"#fdca26\"],[1.0,\"#f0f921\"]],\"type\":\"histogram2dcontour\"}],\"mesh3d\":[{\"colorbar\":{\"outlinewidth\":0,\"ticks\":\"\"},\"type\":\"mesh3d\"}],\"parcoords\":[{\"line\":{\"colorbar\":{\"outlinewidth\":0,\"ticks\":\"\"}},\"type\":\"parcoords\"}],\"pie\":[{\"automargin\":true,\"type\":\"pie\"}],\"scatter\":[{\"marker\":{\"colorbar\":{\"outlinewidth\":0,\"ticks\":\"\"}},\"type\":\"scatter\"}],\"scatter3d\":[{\"line\":{\"colorbar\":{\"outlinewidth\":0,\"ticks\":\"\"}},\"marker\":{\"colorbar\":{\"outlinewidth\":0,\"ticks\":\"\"}},\"type\":\"scatter3d\"}],\"scattercarpet\":[{\"marker\":{\"colorbar\":{\"outlinewidth\":0,\"ticks\":\"\"}},\"type\":\"scattercarpet\"}],\"scattergeo\":[{\"marker\":{\"colorbar\":{\"outlinewidth\":0,\"ticks\":\"\"}},\"type\":\"scattergeo\"}],\"scattergl\":[{\"marker\":{\"colorbar\":{\"outlinewidth\":0,\"ticks\":\"\"}},\"type\":\"scattergl\"}],\"scattermapbox\":[{\"marker\":{\"colorbar\":{\"outlinewidth\":0,\"ticks\":\"\"}},\"type\":\"scattermapbox\"}],\"scatterpolar\":[{\"marker\":{\"colorbar\":{\"outlinewidth\":0,\"ticks\":\"\"}},\"type\":\"scatterpolar\"}],\"scatterpolargl\":[{\"marker\":{\"colorbar\":{\"outlinewidth\":0,\"ticks\":\"\"}},\"type\":\"scatterpolargl\"}],\"scatterternary\":[{\"marker\":{\"colorbar\":{\"outlinewidth\":0,\"ticks\":\"\"}},\"type\":\"scatterternary\"}],\"surface\":[{\"colorbar\":{\"outlinewidth\":0,\"ticks\":\"\"},\"colorscale\":[[0.0,\"#0d0887\"],[0.1111111111111111,\"#46039f\"],[0.2222222222222222,\"#7201a8\"],[0.3333333333333333,\"#9c179e\"],[0.4444444444444444,\"#bd3786\"],[0.5555555555555556,\"#d8576b\"],[0.6666666666666666,\"#ed7953\"],[0.7777777777777778,\"#fb9f3a\"],[0.8888888888888888,\"#fdca26\"],[1.0,\"#f0f921\"]],\"type\":\"surface\"}],\"table\":[{\"cells\":{\"fill\":{\"color\":\"#EBF0F8\"},\"line\":{\"color\":\"white\"}},\"header\":{\"fill\":{\"color\":\"#C8D4E3\"},\"line\":{\"color\":\"white\"}},\"type\":\"table\"}]},\"layout\":{\"annotationdefaults\":{\"arrowcolor\":\"#2a3f5f\",\"arrowhead\":0,\"arrowwidth\":1},\"autotypenumbers\":\"strict\",\"coloraxis\":{\"colorbar\":{\"outlinewidth\":0,\"ticks\":\"\"}},\"colorscale\":{\"diverging\":[[0,\"#8e0152\"],[0.1,\"#c51b7d\"],[0.2,\"#de77ae\"],[0.3,\"#f1b6da\"],[0.4,\"#fde0ef\"],[0.5,\"#f7f7f7\"],[0.6,\"#e6f5d0\"],[0.7,\"#b8e186\"],[0.8,\"#7fbc41\"],[0.9,\"#4d9221\"],[1,\"#276419\"]],\"sequential\":[[0.0,\"#0d0887\"],[0.1111111111111111,\"#46039f\"],[0.2222222222222222,\"#7201a8\"],[0.3333333333333333,\"#9c179e\"],[0.4444444444444444,\"#bd3786\"],[0.5555555555555556,\"#d8576b\"],[0.6666666666666666,\"#ed7953\"],[0.7777777777777778,\"#fb9f3a\"],[0.8888888888888888,\"#fdca26\"],[1.0,\"#f0f921\"]],\"sequentialminus\":[[0.0,\"#0d0887\"],[0.1111111111111111,\"#46039f\"],[0.2222222222222222,\"#7201a8\"],[0.3333333333333333,\"#9c179e\"],[0.4444444444444444,\"#bd3786\"],[0.5555555555555556,\"#d8576b\"],[0.6666666666666666,\"#ed7953\"],[0.7777777777777778,\"#fb9f3a\"],[0.8888888888888888,\"#fdca26\"],[1.0,\"#f0f921\"]]},\"colorway\":[\"#636efa\",\"#EF553B\",\"#00cc96\",\"#ab63fa\",\"#FFA15A\",\"#19d3f3\",\"#FF6692\",\"#B6E880\",\"#FF97FF\",\"#FECB52\"],\"font\":{\"color\":\"#2a3f5f\"},\"geo\":{\"bgcolor\":\"white\",\"lakecolor\":\"white\",\"landcolor\":\"#E5ECF6\",\"showlakes\":true,\"showland\":true,\"subunitcolor\":\"white\"},\"hoverlabel\":{\"align\":\"left\"},\"hovermode\":\"closest\",\"mapbox\":{\"style\":\"light\"},\"paper_bgcolor\":\"white\",\"plot_bgcolor\":\"#E5ECF6\",\"polar\":{\"angularaxis\":{\"gridcolor\":\"white\",\"linecolor\":\"white\",\"ticks\":\"\"},\"bgcolor\":\"#E5ECF6\",\"radialaxis\":{\"gridcolor\":\"white\",\"linecolor\":\"white\",\"ticks\":\"\"}},\"scene\":{\"xaxis\":{\"backgroundcolor\":\"#E5ECF6\",\"gridcolor\":\"white\",\"gridwidth\":2,\"linecolor\":\"white\",\"showbackground\":true,\"ticks\":\"\",\"zerolinecolor\":\"white\"},\"yaxis\":{\"backgroundcolor\":\"#E5ECF6\",\"gridcolor\":\"white\",\"gridwidth\":2,\"linecolor\":\"white\",\"showbackground\":true,\"ticks\":\"\",\"zerolinecolor\":\"white\"},\"zaxis\":{\"backgroundcolor\":\"#E5ECF6\",\"gridcolor\":\"white\",\"gridwidth\":2,\"linecolor\":\"white\",\"showbackground\":true,\"ticks\":\"\",\"zerolinecolor\":\"white\"}},\"shapedefaults\":{\"line\":{\"color\":\"#2a3f5f\"}},\"ternary\":{\"aaxis\":{\"gridcolor\":\"white\",\"linecolor\":\"white\",\"ticks\":\"\"},\"baxis\":{\"gridcolor\":\"white\",\"linecolor\":\"white\",\"ticks\":\"\"},\"bgcolor\":\"#E5ECF6\",\"caxis\":{\"gridcolor\":\"white\",\"linecolor\":\"white\",\"ticks\":\"\"}},\"title\":{\"x\":0.05},\"xaxis\":{\"automargin\":true,\"gridcolor\":\"white\",\"linecolor\":\"white\",\"ticks\":\"\",\"title\":{\"standoff\":15},\"zerolinecolor\":\"white\",\"zerolinewidth\":2},\"yaxis\":{\"automargin\":true,\"gridcolor\":\"white\",\"linecolor\":\"white\",\"ticks\":\"\",\"title\":{\"standoff\":15},\"zerolinecolor\":\"white\",\"zerolinewidth\":2}}},\"xaxis\":{\"anchor\":\"y\",\"domain\":[0.0,1.0],\"title\":{\"text\":\"price_2\"}},\"yaxis\":{\"anchor\":\"x\",\"domain\":[0.0,1.0]}},                        {\"responsive\": true}                    ).then(function(){\n",
       "                            \n",
       "var gd = document.getElementById('59197214-1389-4250-8ecf-b2ede4bc90ca');\n",
       "var x = new MutationObserver(function (mutations, observer) {{\n",
       "        var display = window.getComputedStyle(gd).display;\n",
       "        if (!display || display === 'none') {{\n",
       "            console.log([gd, 'removed!']);\n",
       "            Plotly.purge(gd);\n",
       "            observer.disconnect();\n",
       "        }}\n",
       "}});\n",
       "\n",
       "// Listen for the removal of the full notebook cells\n",
       "var notebookContainer = gd.closest('#notebook-container');\n",
       "if (notebookContainer) {{\n",
       "    x.observe(notebookContainer, {childList: true});\n",
       "}}\n",
       "\n",
       "// Listen for the clearing of the current output cell\n",
       "var outputEl = gd.closest('.output');\n",
       "if (outputEl) {{\n",
       "    x.observe(outputEl, {childList: true});\n",
       "}}\n",
       "\n",
       "                        })                };                });            </script>        </div>"
      ]
     },
     "metadata": {},
     "output_type": "display_data"
    }
   ],
   "source": [
    "#boxplot por precio\n",
    "\n",
    "fig = px.box(df, x=\"price_2\")\n",
    "fig.show()"
   ]
  },
  {
   "cell_type": "code",
   "execution_count": 86,
   "id": "603da96c",
   "metadata": {},
   "outputs": [
    {
     "data": {
      "application/vnd.plotly.v1+json": {
       "config": {
        "plotlyServerURL": "https://plot.ly"
       },
       "data": [
        {
         "alignmentgroup": "True",
         "hovertemplate": "type=%{x}<extra></extra>",
         "legendgroup": "",
         "marker": {
          "color": "#636efa"
         },
         "name": "",
         "notched": false,
         "offsetgroup": "",
         "orientation": "h",
         "showlegend": false,
         "type": "box",
         "x": [
          "Mediterránea",
          "Mediterránea",
          "Bar",
          "Asador",
          "Café y postres",
          "Mediterránea",
          "Europea",
          "Mediterránea",
          "Latina",
          "Bar",
          "Mediterránea",
          "Mediterránea",
          "Mediterránea",
          "Internacional",
          "Italiana",
          "Asiática",
          "Mediterránea",
          "Mediterránea",
          "Marisco",
          "Latina",
          "Internacional",
          "Asador",
          "Asiática",
          "Europea",
          "Mediterránea",
          "Mediterránea",
          "Internacional",
          "Mediterránea",
          "Bar",
          "Mediterránea",
          "Americana",
          "Americana",
          "Asador",
          "Italiana",
          "Mediterránea",
          "Mediterránea",
          "Bar",
          "Mediterránea",
          "Mediterránea",
          "India",
          "Asador",
          "Bar",
          "Italiana",
          "Internacional",
          "Asador",
          "Mediterránea",
          "Italiana",
          "Mediterránea",
          "Mediterránea",
          "Café y postres",
          "Mediterránea",
          "Bar",
          "Bar",
          "Café y postres",
          "Otros",
          "Bar",
          "Mediterránea",
          "Italiana",
          "Italiana",
          "Mediterránea",
          "Italiana",
          "India",
          "Café y postres",
          "Mediterránea",
          "Mediterránea",
          "Mediterránea",
          "Mediterránea",
          "Asiática",
          "Mediterránea",
          "Café y postres",
          "Mediterránea",
          "Mediterránea",
          "Asador",
          "Latina",
          "Mexicana",
          "Café y postres",
          "Mediterránea",
          "Internacional",
          "Latina",
          "Marisco",
          "Mediterránea",
          "Mediterránea",
          "Otros",
          "Asiática",
          "Europea",
          "Mediterránea",
          "Mediterránea",
          "Filipina",
          "Mediterránea",
          "Mediterránea",
          "Mediterránea",
          "Bar",
          "Bar",
          "Mediterránea",
          "Mediterránea",
          "Otros",
          "Mediterránea",
          "Mediterránea",
          "Mediterránea",
          "Mediterránea",
          "Mediterránea",
          "Bar",
          "Bar",
          "Mediterránea",
          "Mediterránea",
          "Café y postres",
          "Mediterránea",
          "Marisco",
          "Latina",
          "Americana",
          "Mediterránea",
          "Asador",
          "Bar",
          "Internacional",
          "Internacional",
          "Latina",
          "Mediterránea",
          "Mediterránea",
          "Mediterránea",
          "Italiana",
          "Bar",
          "Americana",
          "Europea",
          "Mediterránea",
          "Mediterránea",
          "Italiana",
          "Mediterránea",
          "Mediterránea",
          "Café y postres",
          "Mediterránea",
          "Europea",
          "Café y postres",
          "Mediterránea",
          "Mediterránea",
          "Mediterránea",
          "Mediterránea",
          "Marisco",
          "Café y postres",
          "Italiana",
          "Italiana",
          "Asador",
          "Bar",
          "Mediterránea",
          "Americana",
          "Mediterránea",
          "Latina",
          "Café y postres",
          "Mediterránea",
          "Mediterránea",
          "Asador",
          "Mediterránea",
          "Bar",
          "Marroquí",
          "Marisco",
          "Café y postres",
          "Europea",
          "Mediterránea",
          "Mediterránea",
          "Otros",
          "Mexicana",
          "Asiática",
          "Café y postres",
          "Marisco",
          "Italiana",
          "Latina",
          "Mediterránea",
          "Mediterránea",
          "Asador",
          "Italiana",
          "Mediterránea",
          "Asador",
          "Europea",
          "Latina",
          "Mediterránea",
          "Asiática",
          "Americana",
          "Mediterránea",
          "Internacional",
          "Bar",
          "Mediterránea",
          "Italiana",
          "Mediterránea",
          "Café y postres",
          "Café y postres",
          "Mediterránea",
          "Café y postres",
          "Mediterránea",
          "Mediterránea",
          "Internacional",
          "Mediterránea",
          "Italiana",
          "Americana",
          "Latina",
          "Internacional",
          "Italiana",
          "Mediterránea",
          "Asiática",
          "Mediterránea",
          "Asador",
          "Mediterránea",
          "Mexicana",
          "Internacional",
          "Mediterránea",
          "Mediterránea",
          "Italiana",
          "Mediterránea",
          "Café y postres",
          "Mediterránea",
          "Latina",
          "Café y postres",
          "Italiana",
          "Bar",
          "Italiana",
          "Mexicana",
          "Internacional",
          "Mediterránea",
          "Mediterránea",
          "Otros",
          "Café y postres",
          "Mediterránea",
          "Mediterránea",
          "Internacional",
          "Mediterránea",
          "Mexicana",
          "Bar",
          "Fusión",
          "Mediterránea",
          "Mediterránea",
          "Mediterránea",
          "Americana",
          "Marisco",
          "Europea",
          "Americana",
          "Mediterránea",
          "Mexicana",
          "Café y postres",
          "Mediterránea",
          "Mediterránea",
          "Asiática",
          "Mediterránea",
          "Italiana",
          "Bar",
          "Europea",
          "Asiática",
          "Latina",
          "Internacional",
          "Bar",
          "Italiana",
          "Bar",
          "Café y postres",
          "Italiana",
          "Asiática",
          "Mediterránea",
          "Café y postres",
          "Mediterránea",
          "Mediterránea",
          "Americana",
          "Italiana",
          "Mediterránea",
          "Asiática",
          "Mediterránea",
          "Internacional",
          "Mediterránea",
          "Bar",
          "Mexicana",
          "Café y postres",
          "Italiana",
          "Mediterránea",
          "Americana",
          "Café y postres",
          "Internacional",
          "Italiana",
          "Café y postres",
          "Internacional",
          "Mediterránea",
          "Internacional",
          "Mediterránea",
          "Italiana",
          "Mediterránea",
          "Mediterránea",
          "Asiática",
          "Italiana",
          "India",
          "Mediterránea",
          "Bar",
          "Asiática",
          "Mediterránea",
          "Café y postres",
          "Asiática",
          "Marisco",
          "Mediterránea",
          "Mediterránea",
          "Europea",
          "Italiana",
          "Asiática",
          "Mediterránea",
          "Asiática",
          "Mexicana",
          "Latina",
          "India",
          "Asiática",
          "Mediterránea",
          "Italiana",
          "Italiana",
          "Mediterránea",
          "Bar",
          "Mediterránea",
          "Americana",
          "Americana",
          "Mexicana",
          "Italiana",
          "Internacional",
          "Italiana",
          "Mexicana",
          "Italiana",
          "Mediterránea",
          "Mediterránea",
          "Mediterránea",
          "Americana",
          "Otros",
          "Mediterránea",
          "Mediterránea",
          "Mediterránea",
          "Mexicana",
          "Mexicana",
          "Café y postres",
          "Italiana",
          "Asiática",
          "Americana",
          "Europea",
          "Italiana",
          "Mediterránea",
          "Asiática",
          "Asiática",
          "Italiana",
          "Asador",
          "India",
          "Asiática",
          "Marisco",
          "Asador",
          "Café y postres",
          "Marisco",
          "Marisco",
          "Mediterránea",
          "Mediterránea",
          "Italiana",
          "Mediterránea",
          "Asador",
          "Mediterránea",
          "Americana",
          "Otros",
          "Bar",
          "Café y postres",
          "Bar",
          "Asador",
          "Italiana",
          "Mediterránea",
          "Mediterránea",
          "Mediterránea",
          "Café y postres",
          "Asador",
          "Italiana",
          "Mediterránea",
          "Mediterránea",
          "Mediterránea",
          "Bar",
          "Mediterránea",
          "Marisco",
          "Asiática",
          "Mediterránea",
          "Mediterránea",
          "Italiana",
          "Mediterránea",
          "Mediterránea",
          "Mediterránea",
          "Mediterránea",
          "India",
          "Café y postres",
          "Bar",
          "Latina",
          "Italiana",
          "Mexicana",
          "India",
          "Asiática",
          "Italiana",
          "Asiática",
          "Mediterránea",
          "Americana",
          "Mediterránea",
          "Otros",
          "Café y postres",
          "Bar",
          "Italiana",
          "Bar",
          "Asiática",
          "Marisco",
          "India",
          "Mediterránea",
          "Asador",
          "Mediterránea",
          "Mediterránea",
          "Mediterránea",
          "Mediterránea",
          "Italiana",
          "Italiana",
          "Internacional",
          "Americana",
          "Mediterránea",
          "Bar",
          "Fusión",
          "Asiática",
          "Europea",
          "Mediterránea",
          "Latina",
          "Asador",
          "Italiana",
          "Internacional",
          "Marisco",
          "Mexicana",
          "Café y postres",
          "Asador",
          "Latina",
          "Café y postres",
          "Bar",
          "Mediterránea",
          "Mediterránea",
          "Asiática",
          "Asiática",
          "Bar",
          "Italiana",
          "Internacional",
          "Mediterránea",
          "Americana",
          "Mediterránea",
          "Mediterránea",
          "Mediterránea",
          "Mediterránea",
          "Americana",
          "Otros",
          "Mediterránea",
          "Americana",
          "Americana",
          "Café y postres",
          "Mediterránea",
          "Asador",
          "Mediterránea",
          "Mexicana",
          "Italiana",
          "Europea",
          "Mexicana",
          "Mediterránea",
          "Italiana",
          "Americana",
          "Asiática",
          "Café y postres",
          "India",
          "Italiana",
          "Italiana",
          "Bar",
          "Mediterránea",
          "Italiana",
          "Café y postres",
          "Mediterránea",
          "Mediterránea",
          "Mediterránea",
          "Asiática",
          "Marisco",
          "Mediterránea",
          "Mediterránea",
          "Mediterránea",
          "Italiana",
          "Marisco",
          "Italiana",
          "Mediterránea",
          "Mediterránea",
          "Internacional",
          "Marisco",
          "Mediterránea",
          "Mediterránea",
          "Mediterránea",
          "Café y postres",
          "Mediterránea",
          "Americana",
          "Asador",
          "Mexicana",
          "Asiática",
          "Mediterránea",
          "Americana",
          "Internacional",
          "Asiática",
          "Café y postres",
          "Bar",
          "Marisco",
          "Mediterránea",
          "Mediterránea",
          "Bar",
          "Asiática",
          "Mediterránea"
         ],
         "x0": " ",
         "xaxis": "x",
         "y0": " ",
         "yaxis": "y"
        }
       ],
       "layout": {
        "boxmode": "group",
        "legend": {
         "tracegroupgap": 0
        },
        "margin": {
         "t": 60
        },
        "template": {
         "data": {
          "bar": [
           {
            "error_x": {
             "color": "#2a3f5f"
            },
            "error_y": {
             "color": "#2a3f5f"
            },
            "marker": {
             "line": {
              "color": "#E5ECF6",
              "width": 0.5
             },
             "pattern": {
              "fillmode": "overlay",
              "size": 10,
              "solidity": 0.2
             }
            },
            "type": "bar"
           }
          ],
          "barpolar": [
           {
            "marker": {
             "line": {
              "color": "#E5ECF6",
              "width": 0.5
             },
             "pattern": {
              "fillmode": "overlay",
              "size": 10,
              "solidity": 0.2
             }
            },
            "type": "barpolar"
           }
          ],
          "carpet": [
           {
            "aaxis": {
             "endlinecolor": "#2a3f5f",
             "gridcolor": "white",
             "linecolor": "white",
             "minorgridcolor": "white",
             "startlinecolor": "#2a3f5f"
            },
            "baxis": {
             "endlinecolor": "#2a3f5f",
             "gridcolor": "white",
             "linecolor": "white",
             "minorgridcolor": "white",
             "startlinecolor": "#2a3f5f"
            },
            "type": "carpet"
           }
          ],
          "choropleth": [
           {
            "colorbar": {
             "outlinewidth": 0,
             "ticks": ""
            },
            "type": "choropleth"
           }
          ],
          "contour": [
           {
            "colorbar": {
             "outlinewidth": 0,
             "ticks": ""
            },
            "colorscale": [
             [
              0,
              "#0d0887"
             ],
             [
              0.1111111111111111,
              "#46039f"
             ],
             [
              0.2222222222222222,
              "#7201a8"
             ],
             [
              0.3333333333333333,
              "#9c179e"
             ],
             [
              0.4444444444444444,
              "#bd3786"
             ],
             [
              0.5555555555555556,
              "#d8576b"
             ],
             [
              0.6666666666666666,
              "#ed7953"
             ],
             [
              0.7777777777777778,
              "#fb9f3a"
             ],
             [
              0.8888888888888888,
              "#fdca26"
             ],
             [
              1,
              "#f0f921"
             ]
            ],
            "type": "contour"
           }
          ],
          "contourcarpet": [
           {
            "colorbar": {
             "outlinewidth": 0,
             "ticks": ""
            },
            "type": "contourcarpet"
           }
          ],
          "heatmap": [
           {
            "colorbar": {
             "outlinewidth": 0,
             "ticks": ""
            },
            "colorscale": [
             [
              0,
              "#0d0887"
             ],
             [
              0.1111111111111111,
              "#46039f"
             ],
             [
              0.2222222222222222,
              "#7201a8"
             ],
             [
              0.3333333333333333,
              "#9c179e"
             ],
             [
              0.4444444444444444,
              "#bd3786"
             ],
             [
              0.5555555555555556,
              "#d8576b"
             ],
             [
              0.6666666666666666,
              "#ed7953"
             ],
             [
              0.7777777777777778,
              "#fb9f3a"
             ],
             [
              0.8888888888888888,
              "#fdca26"
             ],
             [
              1,
              "#f0f921"
             ]
            ],
            "type": "heatmap"
           }
          ],
          "heatmapgl": [
           {
            "colorbar": {
             "outlinewidth": 0,
             "ticks": ""
            },
            "colorscale": [
             [
              0,
              "#0d0887"
             ],
             [
              0.1111111111111111,
              "#46039f"
             ],
             [
              0.2222222222222222,
              "#7201a8"
             ],
             [
              0.3333333333333333,
              "#9c179e"
             ],
             [
              0.4444444444444444,
              "#bd3786"
             ],
             [
              0.5555555555555556,
              "#d8576b"
             ],
             [
              0.6666666666666666,
              "#ed7953"
             ],
             [
              0.7777777777777778,
              "#fb9f3a"
             ],
             [
              0.8888888888888888,
              "#fdca26"
             ],
             [
              1,
              "#f0f921"
             ]
            ],
            "type": "heatmapgl"
           }
          ],
          "histogram": [
           {
            "marker": {
             "pattern": {
              "fillmode": "overlay",
              "size": 10,
              "solidity": 0.2
             }
            },
            "type": "histogram"
           }
          ],
          "histogram2d": [
           {
            "colorbar": {
             "outlinewidth": 0,
             "ticks": ""
            },
            "colorscale": [
             [
              0,
              "#0d0887"
             ],
             [
              0.1111111111111111,
              "#46039f"
             ],
             [
              0.2222222222222222,
              "#7201a8"
             ],
             [
              0.3333333333333333,
              "#9c179e"
             ],
             [
              0.4444444444444444,
              "#bd3786"
             ],
             [
              0.5555555555555556,
              "#d8576b"
             ],
             [
              0.6666666666666666,
              "#ed7953"
             ],
             [
              0.7777777777777778,
              "#fb9f3a"
             ],
             [
              0.8888888888888888,
              "#fdca26"
             ],
             [
              1,
              "#f0f921"
             ]
            ],
            "type": "histogram2d"
           }
          ],
          "histogram2dcontour": [
           {
            "colorbar": {
             "outlinewidth": 0,
             "ticks": ""
            },
            "colorscale": [
             [
              0,
              "#0d0887"
             ],
             [
              0.1111111111111111,
              "#46039f"
             ],
             [
              0.2222222222222222,
              "#7201a8"
             ],
             [
              0.3333333333333333,
              "#9c179e"
             ],
             [
              0.4444444444444444,
              "#bd3786"
             ],
             [
              0.5555555555555556,
              "#d8576b"
             ],
             [
              0.6666666666666666,
              "#ed7953"
             ],
             [
              0.7777777777777778,
              "#fb9f3a"
             ],
             [
              0.8888888888888888,
              "#fdca26"
             ],
             [
              1,
              "#f0f921"
             ]
            ],
            "type": "histogram2dcontour"
           }
          ],
          "mesh3d": [
           {
            "colorbar": {
             "outlinewidth": 0,
             "ticks": ""
            },
            "type": "mesh3d"
           }
          ],
          "parcoords": [
           {
            "line": {
             "colorbar": {
              "outlinewidth": 0,
              "ticks": ""
             }
            },
            "type": "parcoords"
           }
          ],
          "pie": [
           {
            "automargin": true,
            "type": "pie"
           }
          ],
          "scatter": [
           {
            "marker": {
             "colorbar": {
              "outlinewidth": 0,
              "ticks": ""
             }
            },
            "type": "scatter"
           }
          ],
          "scatter3d": [
           {
            "line": {
             "colorbar": {
              "outlinewidth": 0,
              "ticks": ""
             }
            },
            "marker": {
             "colorbar": {
              "outlinewidth": 0,
              "ticks": ""
             }
            },
            "type": "scatter3d"
           }
          ],
          "scattercarpet": [
           {
            "marker": {
             "colorbar": {
              "outlinewidth": 0,
              "ticks": ""
             }
            },
            "type": "scattercarpet"
           }
          ],
          "scattergeo": [
           {
            "marker": {
             "colorbar": {
              "outlinewidth": 0,
              "ticks": ""
             }
            },
            "type": "scattergeo"
           }
          ],
          "scattergl": [
           {
            "marker": {
             "colorbar": {
              "outlinewidth": 0,
              "ticks": ""
             }
            },
            "type": "scattergl"
           }
          ],
          "scattermapbox": [
           {
            "marker": {
             "colorbar": {
              "outlinewidth": 0,
              "ticks": ""
             }
            },
            "type": "scattermapbox"
           }
          ],
          "scatterpolar": [
           {
            "marker": {
             "colorbar": {
              "outlinewidth": 0,
              "ticks": ""
             }
            },
            "type": "scatterpolar"
           }
          ],
          "scatterpolargl": [
           {
            "marker": {
             "colorbar": {
              "outlinewidth": 0,
              "ticks": ""
             }
            },
            "type": "scatterpolargl"
           }
          ],
          "scatterternary": [
           {
            "marker": {
             "colorbar": {
              "outlinewidth": 0,
              "ticks": ""
             }
            },
            "type": "scatterternary"
           }
          ],
          "surface": [
           {
            "colorbar": {
             "outlinewidth": 0,
             "ticks": ""
            },
            "colorscale": [
             [
              0,
              "#0d0887"
             ],
             [
              0.1111111111111111,
              "#46039f"
             ],
             [
              0.2222222222222222,
              "#7201a8"
             ],
             [
              0.3333333333333333,
              "#9c179e"
             ],
             [
              0.4444444444444444,
              "#bd3786"
             ],
             [
              0.5555555555555556,
              "#d8576b"
             ],
             [
              0.6666666666666666,
              "#ed7953"
             ],
             [
              0.7777777777777778,
              "#fb9f3a"
             ],
             [
              0.8888888888888888,
              "#fdca26"
             ],
             [
              1,
              "#f0f921"
             ]
            ],
            "type": "surface"
           }
          ],
          "table": [
           {
            "cells": {
             "fill": {
              "color": "#EBF0F8"
             },
             "line": {
              "color": "white"
             }
            },
            "header": {
             "fill": {
              "color": "#C8D4E3"
             },
             "line": {
              "color": "white"
             }
            },
            "type": "table"
           }
          ]
         },
         "layout": {
          "annotationdefaults": {
           "arrowcolor": "#2a3f5f",
           "arrowhead": 0,
           "arrowwidth": 1
          },
          "autotypenumbers": "strict",
          "coloraxis": {
           "colorbar": {
            "outlinewidth": 0,
            "ticks": ""
           }
          },
          "colorscale": {
           "diverging": [
            [
             0,
             "#8e0152"
            ],
            [
             0.1,
             "#c51b7d"
            ],
            [
             0.2,
             "#de77ae"
            ],
            [
             0.3,
             "#f1b6da"
            ],
            [
             0.4,
             "#fde0ef"
            ],
            [
             0.5,
             "#f7f7f7"
            ],
            [
             0.6,
             "#e6f5d0"
            ],
            [
             0.7,
             "#b8e186"
            ],
            [
             0.8,
             "#7fbc41"
            ],
            [
             0.9,
             "#4d9221"
            ],
            [
             1,
             "#276419"
            ]
           ],
           "sequential": [
            [
             0,
             "#0d0887"
            ],
            [
             0.1111111111111111,
             "#46039f"
            ],
            [
             0.2222222222222222,
             "#7201a8"
            ],
            [
             0.3333333333333333,
             "#9c179e"
            ],
            [
             0.4444444444444444,
             "#bd3786"
            ],
            [
             0.5555555555555556,
             "#d8576b"
            ],
            [
             0.6666666666666666,
             "#ed7953"
            ],
            [
             0.7777777777777778,
             "#fb9f3a"
            ],
            [
             0.8888888888888888,
             "#fdca26"
            ],
            [
             1,
             "#f0f921"
            ]
           ],
           "sequentialminus": [
            [
             0,
             "#0d0887"
            ],
            [
             0.1111111111111111,
             "#46039f"
            ],
            [
             0.2222222222222222,
             "#7201a8"
            ],
            [
             0.3333333333333333,
             "#9c179e"
            ],
            [
             0.4444444444444444,
             "#bd3786"
            ],
            [
             0.5555555555555556,
             "#d8576b"
            ],
            [
             0.6666666666666666,
             "#ed7953"
            ],
            [
             0.7777777777777778,
             "#fb9f3a"
            ],
            [
             0.8888888888888888,
             "#fdca26"
            ],
            [
             1,
             "#f0f921"
            ]
           ]
          },
          "colorway": [
           "#636efa",
           "#EF553B",
           "#00cc96",
           "#ab63fa",
           "#FFA15A",
           "#19d3f3",
           "#FF6692",
           "#B6E880",
           "#FF97FF",
           "#FECB52"
          ],
          "font": {
           "color": "#2a3f5f"
          },
          "geo": {
           "bgcolor": "white",
           "lakecolor": "white",
           "landcolor": "#E5ECF6",
           "showlakes": true,
           "showland": true,
           "subunitcolor": "white"
          },
          "hoverlabel": {
           "align": "left"
          },
          "hovermode": "closest",
          "mapbox": {
           "style": "light"
          },
          "paper_bgcolor": "white",
          "plot_bgcolor": "#E5ECF6",
          "polar": {
           "angularaxis": {
            "gridcolor": "white",
            "linecolor": "white",
            "ticks": ""
           },
           "bgcolor": "#E5ECF6",
           "radialaxis": {
            "gridcolor": "white",
            "linecolor": "white",
            "ticks": ""
           }
          },
          "scene": {
           "xaxis": {
            "backgroundcolor": "#E5ECF6",
            "gridcolor": "white",
            "gridwidth": 2,
            "linecolor": "white",
            "showbackground": true,
            "ticks": "",
            "zerolinecolor": "white"
           },
           "yaxis": {
            "backgroundcolor": "#E5ECF6",
            "gridcolor": "white",
            "gridwidth": 2,
            "linecolor": "white",
            "showbackground": true,
            "ticks": "",
            "zerolinecolor": "white"
           },
           "zaxis": {
            "backgroundcolor": "#E5ECF6",
            "gridcolor": "white",
            "gridwidth": 2,
            "linecolor": "white",
            "showbackground": true,
            "ticks": "",
            "zerolinecolor": "white"
           }
          },
          "shapedefaults": {
           "line": {
            "color": "#2a3f5f"
           }
          },
          "ternary": {
           "aaxis": {
            "gridcolor": "white",
            "linecolor": "white",
            "ticks": ""
           },
           "baxis": {
            "gridcolor": "white",
            "linecolor": "white",
            "ticks": ""
           },
           "bgcolor": "#E5ECF6",
           "caxis": {
            "gridcolor": "white",
            "linecolor": "white",
            "ticks": ""
           }
          },
          "title": {
           "x": 0.05
          },
          "xaxis": {
           "automargin": true,
           "gridcolor": "white",
           "linecolor": "white",
           "ticks": "",
           "title": {
            "standoff": 15
           },
           "zerolinecolor": "white",
           "zerolinewidth": 2
          },
          "yaxis": {
           "automargin": true,
           "gridcolor": "white",
           "linecolor": "white",
           "ticks": "",
           "title": {
            "standoff": 15
           },
           "zerolinecolor": "white",
           "zerolinewidth": 2
          }
         }
        },
        "xaxis": {
         "anchor": "y",
         "domain": [
          0,
          1
         ],
         "title": {
          "text": "type"
         }
        },
        "yaxis": {
         "anchor": "x",
         "domain": [
          0,
          1
         ]
        }
       }
      },
      "text/html": [
       "<div>                            <div id=\"672958c4-a81e-46ed-a49d-6aec83c37895\" class=\"plotly-graph-div\" style=\"height:525px; width:100%;\"></div>            <script type=\"text/javascript\">                require([\"plotly\"], function(Plotly) {                    window.PLOTLYENV=window.PLOTLYENV || {};                                    if (document.getElementById(\"672958c4-a81e-46ed-a49d-6aec83c37895\")) {                    Plotly.newPlot(                        \"672958c4-a81e-46ed-a49d-6aec83c37895\",                        [{\"alignmentgroup\":\"True\",\"hovertemplate\":\"type=%{x}<extra></extra>\",\"legendgroup\":\"\",\"marker\":{\"color\":\"#636efa\"},\"name\":\"\",\"notched\":false,\"offsetgroup\":\"\",\"orientation\":\"h\",\"showlegend\":false,\"type\":\"box\",\"x\":[\"Mediterr\\u00e1nea\",\"Mediterr\\u00e1nea\",\"Bar\",\"Asador\",\"Caf\\u00e9 y postres\",\"Mediterr\\u00e1nea\",\"Europea\",\"Mediterr\\u00e1nea\",\"Latina\",\"Bar\",\"Mediterr\\u00e1nea\",\"Mediterr\\u00e1nea\",\"Mediterr\\u00e1nea\",\"Internacional\",\"Italiana\",\"Asi\\u00e1tica\",\"Mediterr\\u00e1nea\",\"Mediterr\\u00e1nea\",\"Marisco\",\"Latina\",\"Internacional\",\"Asador\",\"Asi\\u00e1tica\",\"Europea\",\"Mediterr\\u00e1nea\",\"Mediterr\\u00e1nea\",\"Internacional\",\"Mediterr\\u00e1nea\",\"Bar\",\"Mediterr\\u00e1nea\",\"Americana\",\"Americana\",\"Asador\",\"Italiana\",\"Mediterr\\u00e1nea\",\"Mediterr\\u00e1nea\",\"Bar\",\"Mediterr\\u00e1nea\",\"Mediterr\\u00e1nea\",\"India\",\"Asador\",\"Bar\",\"Italiana\",\"Internacional\",\"Asador\",\"Mediterr\\u00e1nea\",\"Italiana\",\"Mediterr\\u00e1nea\",\"Mediterr\\u00e1nea\",\"Caf\\u00e9 y postres\",\"Mediterr\\u00e1nea\",\"Bar\",\"Bar\",\"Caf\\u00e9 y postres\",\"Otros\",\"Bar\",\"Mediterr\\u00e1nea\",\"Italiana\",\"Italiana\",\"Mediterr\\u00e1nea\",\"Italiana\",\"India\",\"Caf\\u00e9 y postres\",\"Mediterr\\u00e1nea\",\"Mediterr\\u00e1nea\",\"Mediterr\\u00e1nea\",\"Mediterr\\u00e1nea\",\"Asi\\u00e1tica\",\"Mediterr\\u00e1nea\",\"Caf\\u00e9 y postres\",\"Mediterr\\u00e1nea\",\"Mediterr\\u00e1nea\",\"Asador\",\"Latina\",\"Mexicana\",\"Caf\\u00e9 y postres\",\"Mediterr\\u00e1nea\",\"Internacional\",\"Latina\",\"Marisco\",\"Mediterr\\u00e1nea\",\"Mediterr\\u00e1nea\",\"Otros\",\"Asi\\u00e1tica\",\"Europea\",\"Mediterr\\u00e1nea\",\"Mediterr\\u00e1nea\",\"Filipina\",\"Mediterr\\u00e1nea\",\"Mediterr\\u00e1nea\",\"Mediterr\\u00e1nea\",\"Bar\",\"Bar\",\"Mediterr\\u00e1nea\",\"Mediterr\\u00e1nea\",\"Otros\",\"Mediterr\\u00e1nea\",\"Mediterr\\u00e1nea\",\"Mediterr\\u00e1nea\",\"Mediterr\\u00e1nea\",\"Mediterr\\u00e1nea\",\"Bar\",\"Bar\",\"Mediterr\\u00e1nea\",\"Mediterr\\u00e1nea\",\"Caf\\u00e9 y postres\",\"Mediterr\\u00e1nea\",\"Marisco\",\"Latina\",\"Americana\",\"Mediterr\\u00e1nea\",\"Asador\",\"Bar\",\"Internacional\",\"Internacional\",\"Latina\",\"Mediterr\\u00e1nea\",\"Mediterr\\u00e1nea\",\"Mediterr\\u00e1nea\",\"Italiana\",\"Bar\",\"Americana\",\"Europea\",\"Mediterr\\u00e1nea\",\"Mediterr\\u00e1nea\",\"Italiana\",\"Mediterr\\u00e1nea\",\"Mediterr\\u00e1nea\",\"Caf\\u00e9 y postres\",\"Mediterr\\u00e1nea\",\"Europea\",\"Caf\\u00e9 y postres\",\"Mediterr\\u00e1nea\",\"Mediterr\\u00e1nea\",\"Mediterr\\u00e1nea\",\"Mediterr\\u00e1nea\",\"Marisco\",\"Caf\\u00e9 y postres\",\"Italiana\",\"Italiana\",\"Asador\",\"Bar\",\"Mediterr\\u00e1nea\",\"Americana\",\"Mediterr\\u00e1nea\",\"Latina\",\"Caf\\u00e9 y postres\",\"Mediterr\\u00e1nea\",\"Mediterr\\u00e1nea\",\"Asador\",\"Mediterr\\u00e1nea\",\"Bar\",\"Marroqu\\u00ed\",\"Marisco\",\"Caf\\u00e9 y postres\",\"Europea\",\"Mediterr\\u00e1nea\",\"Mediterr\\u00e1nea\",\"Otros\",\"Mexicana\",\"Asi\\u00e1tica\",\"Caf\\u00e9 y postres\",\"Marisco\",\"Italiana\",\"Latina\",\"Mediterr\\u00e1nea\",\"Mediterr\\u00e1nea\",\"Asador\",\"Italiana\",\"Mediterr\\u00e1nea\",\"Asador\",\"Europea\",\"Latina\",\"Mediterr\\u00e1nea\",\"Asi\\u00e1tica\",\"Americana\",\"Mediterr\\u00e1nea\",\"Internacional\",\"Bar\",\"Mediterr\\u00e1nea\",\"Italiana\",\"Mediterr\\u00e1nea\",\"Caf\\u00e9 y postres\",\"Caf\\u00e9 y postres\",\"Mediterr\\u00e1nea\",\"Caf\\u00e9 y postres\",\"Mediterr\\u00e1nea\",\"Mediterr\\u00e1nea\",\"Internacional\",\"Mediterr\\u00e1nea\",\"Italiana\",\"Americana\",\"Latina\",\"Internacional\",\"Italiana\",\"Mediterr\\u00e1nea\",\"Asi\\u00e1tica\",\"Mediterr\\u00e1nea\",\"Asador\",\"Mediterr\\u00e1nea\",\"Mexicana\",\"Internacional\",\"Mediterr\\u00e1nea\",\"Mediterr\\u00e1nea\",\"Italiana\",\"Mediterr\\u00e1nea\",\"Caf\\u00e9 y postres\",\"Mediterr\\u00e1nea\",\"Latina\",\"Caf\\u00e9 y postres\",\"Italiana\",\"Bar\",\"Italiana\",\"Mexicana\",\"Internacional\",\"Mediterr\\u00e1nea\",\"Mediterr\\u00e1nea\",\"Otros\",\"Caf\\u00e9 y postres\",\"Mediterr\\u00e1nea\",\"Mediterr\\u00e1nea\",\"Internacional\",\"Mediterr\\u00e1nea\",\"Mexicana\",\"Bar\",\"Fusi\\u00f3n\",\"Mediterr\\u00e1nea\",\"Mediterr\\u00e1nea\",\"Mediterr\\u00e1nea\",\"Americana\",\"Marisco\",\"Europea\",\"Americana\",\"Mediterr\\u00e1nea\",\"Mexicana\",\"Caf\\u00e9 y postres\",\"Mediterr\\u00e1nea\",\"Mediterr\\u00e1nea\",\"Asi\\u00e1tica\",\"Mediterr\\u00e1nea\",\"Italiana\",\"Bar\",\"Europea\",\"Asi\\u00e1tica\",\"Latina\",\"Internacional\",\"Bar\",\"Italiana\",\"Bar\",\"Caf\\u00e9 y postres\",\"Italiana\",\"Asi\\u00e1tica\",\"Mediterr\\u00e1nea\",\"Caf\\u00e9 y postres\",\"Mediterr\\u00e1nea\",\"Mediterr\\u00e1nea\",\"Americana\",\"Italiana\",\"Mediterr\\u00e1nea\",\"Asi\\u00e1tica\",\"Mediterr\\u00e1nea\",\"Internacional\",\"Mediterr\\u00e1nea\",\"Bar\",\"Mexicana\",\"Caf\\u00e9 y postres\",\"Italiana\",\"Mediterr\\u00e1nea\",\"Americana\",\"Caf\\u00e9 y postres\",\"Internacional\",\"Italiana\",\"Caf\\u00e9 y postres\",\"Internacional\",\"Mediterr\\u00e1nea\",\"Internacional\",\"Mediterr\\u00e1nea\",\"Italiana\",\"Mediterr\\u00e1nea\",\"Mediterr\\u00e1nea\",\"Asi\\u00e1tica\",\"Italiana\",\"India\",\"Mediterr\\u00e1nea\",\"Bar\",\"Asi\\u00e1tica\",\"Mediterr\\u00e1nea\",\"Caf\\u00e9 y postres\",\"Asi\\u00e1tica\",\"Marisco\",\"Mediterr\\u00e1nea\",\"Mediterr\\u00e1nea\",\"Europea\",\"Italiana\",\"Asi\\u00e1tica\",\"Mediterr\\u00e1nea\",\"Asi\\u00e1tica\",\"Mexicana\",\"Latina\",\"India\",\"Asi\\u00e1tica\",\"Mediterr\\u00e1nea\",\"Italiana\",\"Italiana\",\"Mediterr\\u00e1nea\",\"Bar\",\"Mediterr\\u00e1nea\",\"Americana\",\"Americana\",\"Mexicana\",\"Italiana\",\"Internacional\",\"Italiana\",\"Mexicana\",\"Italiana\",\"Mediterr\\u00e1nea\",\"Mediterr\\u00e1nea\",\"Mediterr\\u00e1nea\",\"Americana\",\"Otros\",\"Mediterr\\u00e1nea\",\"Mediterr\\u00e1nea\",\"Mediterr\\u00e1nea\",\"Mexicana\",\"Mexicana\",\"Caf\\u00e9 y postres\",\"Italiana\",\"Asi\\u00e1tica\",\"Americana\",\"Europea\",\"Italiana\",\"Mediterr\\u00e1nea\",\"Asi\\u00e1tica\",\"Asi\\u00e1tica\",\"Italiana\",\"Asador\",\"India\",\"Asi\\u00e1tica\",\"Marisco\",\"Asador\",\"Caf\\u00e9 y postres\",\"Marisco\",\"Marisco\",\"Mediterr\\u00e1nea\",\"Mediterr\\u00e1nea\",\"Italiana\",\"Mediterr\\u00e1nea\",\"Asador\",\"Mediterr\\u00e1nea\",\"Americana\",\"Otros\",\"Bar\",\"Caf\\u00e9 y postres\",\"Bar\",\"Asador\",\"Italiana\",\"Mediterr\\u00e1nea\",\"Mediterr\\u00e1nea\",\"Mediterr\\u00e1nea\",\"Caf\\u00e9 y postres\",\"Asador\",\"Italiana\",\"Mediterr\\u00e1nea\",\"Mediterr\\u00e1nea\",\"Mediterr\\u00e1nea\",\"Bar\",\"Mediterr\\u00e1nea\",\"Marisco\",\"Asi\\u00e1tica\",\"Mediterr\\u00e1nea\",\"Mediterr\\u00e1nea\",\"Italiana\",\"Mediterr\\u00e1nea\",\"Mediterr\\u00e1nea\",\"Mediterr\\u00e1nea\",\"Mediterr\\u00e1nea\",\"India\",\"Caf\\u00e9 y postres\",\"Bar\",\"Latina\",\"Italiana\",\"Mexicana\",\"India\",\"Asi\\u00e1tica\",\"Italiana\",\"Asi\\u00e1tica\",\"Mediterr\\u00e1nea\",\"Americana\",\"Mediterr\\u00e1nea\",\"Otros\",\"Caf\\u00e9 y postres\",\"Bar\",\"Italiana\",\"Bar\",\"Asi\\u00e1tica\",\"Marisco\",\"India\",\"Mediterr\\u00e1nea\",\"Asador\",\"Mediterr\\u00e1nea\",\"Mediterr\\u00e1nea\",\"Mediterr\\u00e1nea\",\"Mediterr\\u00e1nea\",\"Italiana\",\"Italiana\",\"Internacional\",\"Americana\",\"Mediterr\\u00e1nea\",\"Bar\",\"Fusi\\u00f3n\",\"Asi\\u00e1tica\",\"Europea\",\"Mediterr\\u00e1nea\",\"Latina\",\"Asador\",\"Italiana\",\"Internacional\",\"Marisco\",\"Mexicana\",\"Caf\\u00e9 y postres\",\"Asador\",\"Latina\",\"Caf\\u00e9 y postres\",\"Bar\",\"Mediterr\\u00e1nea\",\"Mediterr\\u00e1nea\",\"Asi\\u00e1tica\",\"Asi\\u00e1tica\",\"Bar\",\"Italiana\",\"Internacional\",\"Mediterr\\u00e1nea\",\"Americana\",\"Mediterr\\u00e1nea\",\"Mediterr\\u00e1nea\",\"Mediterr\\u00e1nea\",\"Mediterr\\u00e1nea\",\"Americana\",\"Otros\",\"Mediterr\\u00e1nea\",\"Americana\",\"Americana\",\"Caf\\u00e9 y postres\",\"Mediterr\\u00e1nea\",\"Asador\",\"Mediterr\\u00e1nea\",\"Mexicana\",\"Italiana\",\"Europea\",\"Mexicana\",\"Mediterr\\u00e1nea\",\"Italiana\",\"Americana\",\"Asi\\u00e1tica\",\"Caf\\u00e9 y postres\",\"India\",\"Italiana\",\"Italiana\",\"Bar\",\"Mediterr\\u00e1nea\",\"Italiana\",\"Caf\\u00e9 y postres\",\"Mediterr\\u00e1nea\",\"Mediterr\\u00e1nea\",\"Mediterr\\u00e1nea\",\"Asi\\u00e1tica\",\"Marisco\",\"Mediterr\\u00e1nea\",\"Mediterr\\u00e1nea\",\"Mediterr\\u00e1nea\",\"Italiana\",\"Marisco\",\"Italiana\",\"Mediterr\\u00e1nea\",\"Mediterr\\u00e1nea\",\"Internacional\",\"Marisco\",\"Mediterr\\u00e1nea\",\"Mediterr\\u00e1nea\",\"Mediterr\\u00e1nea\",\"Caf\\u00e9 y postres\",\"Mediterr\\u00e1nea\",\"Americana\",\"Asador\",\"Mexicana\",\"Asi\\u00e1tica\",\"Mediterr\\u00e1nea\",\"Americana\",\"Internacional\",\"Asi\\u00e1tica\",\"Caf\\u00e9 y postres\",\"Bar\",\"Marisco\",\"Mediterr\\u00e1nea\",\"Mediterr\\u00e1nea\",\"Bar\",\"Asi\\u00e1tica\",\"Mediterr\\u00e1nea\"],\"x0\":\" \",\"xaxis\":\"x\",\"y0\":\" \",\"yaxis\":\"y\"}],                        {\"boxmode\":\"group\",\"legend\":{\"tracegroupgap\":0},\"margin\":{\"t\":60},\"template\":{\"data\":{\"bar\":[{\"error_x\":{\"color\":\"#2a3f5f\"},\"error_y\":{\"color\":\"#2a3f5f\"},\"marker\":{\"line\":{\"color\":\"#E5ECF6\",\"width\":0.5},\"pattern\":{\"fillmode\":\"overlay\",\"size\":10,\"solidity\":0.2}},\"type\":\"bar\"}],\"barpolar\":[{\"marker\":{\"line\":{\"color\":\"#E5ECF6\",\"width\":0.5},\"pattern\":{\"fillmode\":\"overlay\",\"size\":10,\"solidity\":0.2}},\"type\":\"barpolar\"}],\"carpet\":[{\"aaxis\":{\"endlinecolor\":\"#2a3f5f\",\"gridcolor\":\"white\",\"linecolor\":\"white\",\"minorgridcolor\":\"white\",\"startlinecolor\":\"#2a3f5f\"},\"baxis\":{\"endlinecolor\":\"#2a3f5f\",\"gridcolor\":\"white\",\"linecolor\":\"white\",\"minorgridcolor\":\"white\",\"startlinecolor\":\"#2a3f5f\"},\"type\":\"carpet\"}],\"choropleth\":[{\"colorbar\":{\"outlinewidth\":0,\"ticks\":\"\"},\"type\":\"choropleth\"}],\"contour\":[{\"colorbar\":{\"outlinewidth\":0,\"ticks\":\"\"},\"colorscale\":[[0.0,\"#0d0887\"],[0.1111111111111111,\"#46039f\"],[0.2222222222222222,\"#7201a8\"],[0.3333333333333333,\"#9c179e\"],[0.4444444444444444,\"#bd3786\"],[0.5555555555555556,\"#d8576b\"],[0.6666666666666666,\"#ed7953\"],[0.7777777777777778,\"#fb9f3a\"],[0.8888888888888888,\"#fdca26\"],[1.0,\"#f0f921\"]],\"type\":\"contour\"}],\"contourcarpet\":[{\"colorbar\":{\"outlinewidth\":0,\"ticks\":\"\"},\"type\":\"contourcarpet\"}],\"heatmap\":[{\"colorbar\":{\"outlinewidth\":0,\"ticks\":\"\"},\"colorscale\":[[0.0,\"#0d0887\"],[0.1111111111111111,\"#46039f\"],[0.2222222222222222,\"#7201a8\"],[0.3333333333333333,\"#9c179e\"],[0.4444444444444444,\"#bd3786\"],[0.5555555555555556,\"#d8576b\"],[0.6666666666666666,\"#ed7953\"],[0.7777777777777778,\"#fb9f3a\"],[0.8888888888888888,\"#fdca26\"],[1.0,\"#f0f921\"]],\"type\":\"heatmap\"}],\"heatmapgl\":[{\"colorbar\":{\"outlinewidth\":0,\"ticks\":\"\"},\"colorscale\":[[0.0,\"#0d0887\"],[0.1111111111111111,\"#46039f\"],[0.2222222222222222,\"#7201a8\"],[0.3333333333333333,\"#9c179e\"],[0.4444444444444444,\"#bd3786\"],[0.5555555555555556,\"#d8576b\"],[0.6666666666666666,\"#ed7953\"],[0.7777777777777778,\"#fb9f3a\"],[0.8888888888888888,\"#fdca26\"],[1.0,\"#f0f921\"]],\"type\":\"heatmapgl\"}],\"histogram\":[{\"marker\":{\"pattern\":{\"fillmode\":\"overlay\",\"size\":10,\"solidity\":0.2}},\"type\":\"histogram\"}],\"histogram2d\":[{\"colorbar\":{\"outlinewidth\":0,\"ticks\":\"\"},\"colorscale\":[[0.0,\"#0d0887\"],[0.1111111111111111,\"#46039f\"],[0.2222222222222222,\"#7201a8\"],[0.3333333333333333,\"#9c179e\"],[0.4444444444444444,\"#bd3786\"],[0.5555555555555556,\"#d8576b\"],[0.6666666666666666,\"#ed7953\"],[0.7777777777777778,\"#fb9f3a\"],[0.8888888888888888,\"#fdca26\"],[1.0,\"#f0f921\"]],\"type\":\"histogram2d\"}],\"histogram2dcontour\":[{\"colorbar\":{\"outlinewidth\":0,\"ticks\":\"\"},\"colorscale\":[[0.0,\"#0d0887\"],[0.1111111111111111,\"#46039f\"],[0.2222222222222222,\"#7201a8\"],[0.3333333333333333,\"#9c179e\"],[0.4444444444444444,\"#bd3786\"],[0.5555555555555556,\"#d8576b\"],[0.6666666666666666,\"#ed7953\"],[0.7777777777777778,\"#fb9f3a\"],[0.8888888888888888,\"#fdca26\"],[1.0,\"#f0f921\"]],\"type\":\"histogram2dcontour\"}],\"mesh3d\":[{\"colorbar\":{\"outlinewidth\":0,\"ticks\":\"\"},\"type\":\"mesh3d\"}],\"parcoords\":[{\"line\":{\"colorbar\":{\"outlinewidth\":0,\"ticks\":\"\"}},\"type\":\"parcoords\"}],\"pie\":[{\"automargin\":true,\"type\":\"pie\"}],\"scatter\":[{\"marker\":{\"colorbar\":{\"outlinewidth\":0,\"ticks\":\"\"}},\"type\":\"scatter\"}],\"scatter3d\":[{\"line\":{\"colorbar\":{\"outlinewidth\":0,\"ticks\":\"\"}},\"marker\":{\"colorbar\":{\"outlinewidth\":0,\"ticks\":\"\"}},\"type\":\"scatter3d\"}],\"scattercarpet\":[{\"marker\":{\"colorbar\":{\"outlinewidth\":0,\"ticks\":\"\"}},\"type\":\"scattercarpet\"}],\"scattergeo\":[{\"marker\":{\"colorbar\":{\"outlinewidth\":0,\"ticks\":\"\"}},\"type\":\"scattergeo\"}],\"scattergl\":[{\"marker\":{\"colorbar\":{\"outlinewidth\":0,\"ticks\":\"\"}},\"type\":\"scattergl\"}],\"scattermapbox\":[{\"marker\":{\"colorbar\":{\"outlinewidth\":0,\"ticks\":\"\"}},\"type\":\"scattermapbox\"}],\"scatterpolar\":[{\"marker\":{\"colorbar\":{\"outlinewidth\":0,\"ticks\":\"\"}},\"type\":\"scatterpolar\"}],\"scatterpolargl\":[{\"marker\":{\"colorbar\":{\"outlinewidth\":0,\"ticks\":\"\"}},\"type\":\"scatterpolargl\"}],\"scatterternary\":[{\"marker\":{\"colorbar\":{\"outlinewidth\":0,\"ticks\":\"\"}},\"type\":\"scatterternary\"}],\"surface\":[{\"colorbar\":{\"outlinewidth\":0,\"ticks\":\"\"},\"colorscale\":[[0.0,\"#0d0887\"],[0.1111111111111111,\"#46039f\"],[0.2222222222222222,\"#7201a8\"],[0.3333333333333333,\"#9c179e\"],[0.4444444444444444,\"#bd3786\"],[0.5555555555555556,\"#d8576b\"],[0.6666666666666666,\"#ed7953\"],[0.7777777777777778,\"#fb9f3a\"],[0.8888888888888888,\"#fdca26\"],[1.0,\"#f0f921\"]],\"type\":\"surface\"}],\"table\":[{\"cells\":{\"fill\":{\"color\":\"#EBF0F8\"},\"line\":{\"color\":\"white\"}},\"header\":{\"fill\":{\"color\":\"#C8D4E3\"},\"line\":{\"color\":\"white\"}},\"type\":\"table\"}]},\"layout\":{\"annotationdefaults\":{\"arrowcolor\":\"#2a3f5f\",\"arrowhead\":0,\"arrowwidth\":1},\"autotypenumbers\":\"strict\",\"coloraxis\":{\"colorbar\":{\"outlinewidth\":0,\"ticks\":\"\"}},\"colorscale\":{\"diverging\":[[0,\"#8e0152\"],[0.1,\"#c51b7d\"],[0.2,\"#de77ae\"],[0.3,\"#f1b6da\"],[0.4,\"#fde0ef\"],[0.5,\"#f7f7f7\"],[0.6,\"#e6f5d0\"],[0.7,\"#b8e186\"],[0.8,\"#7fbc41\"],[0.9,\"#4d9221\"],[1,\"#276419\"]],\"sequential\":[[0.0,\"#0d0887\"],[0.1111111111111111,\"#46039f\"],[0.2222222222222222,\"#7201a8\"],[0.3333333333333333,\"#9c179e\"],[0.4444444444444444,\"#bd3786\"],[0.5555555555555556,\"#d8576b\"],[0.6666666666666666,\"#ed7953\"],[0.7777777777777778,\"#fb9f3a\"],[0.8888888888888888,\"#fdca26\"],[1.0,\"#f0f921\"]],\"sequentialminus\":[[0.0,\"#0d0887\"],[0.1111111111111111,\"#46039f\"],[0.2222222222222222,\"#7201a8\"],[0.3333333333333333,\"#9c179e\"],[0.4444444444444444,\"#bd3786\"],[0.5555555555555556,\"#d8576b\"],[0.6666666666666666,\"#ed7953\"],[0.7777777777777778,\"#fb9f3a\"],[0.8888888888888888,\"#fdca26\"],[1.0,\"#f0f921\"]]},\"colorway\":[\"#636efa\",\"#EF553B\",\"#00cc96\",\"#ab63fa\",\"#FFA15A\",\"#19d3f3\",\"#FF6692\",\"#B6E880\",\"#FF97FF\",\"#FECB52\"],\"font\":{\"color\":\"#2a3f5f\"},\"geo\":{\"bgcolor\":\"white\",\"lakecolor\":\"white\",\"landcolor\":\"#E5ECF6\",\"showlakes\":true,\"showland\":true,\"subunitcolor\":\"white\"},\"hoverlabel\":{\"align\":\"left\"},\"hovermode\":\"closest\",\"mapbox\":{\"style\":\"light\"},\"paper_bgcolor\":\"white\",\"plot_bgcolor\":\"#E5ECF6\",\"polar\":{\"angularaxis\":{\"gridcolor\":\"white\",\"linecolor\":\"white\",\"ticks\":\"\"},\"bgcolor\":\"#E5ECF6\",\"radialaxis\":{\"gridcolor\":\"white\",\"linecolor\":\"white\",\"ticks\":\"\"}},\"scene\":{\"xaxis\":{\"backgroundcolor\":\"#E5ECF6\",\"gridcolor\":\"white\",\"gridwidth\":2,\"linecolor\":\"white\",\"showbackground\":true,\"ticks\":\"\",\"zerolinecolor\":\"white\"},\"yaxis\":{\"backgroundcolor\":\"#E5ECF6\",\"gridcolor\":\"white\",\"gridwidth\":2,\"linecolor\":\"white\",\"showbackground\":true,\"ticks\":\"\",\"zerolinecolor\":\"white\"},\"zaxis\":{\"backgroundcolor\":\"#E5ECF6\",\"gridcolor\":\"white\",\"gridwidth\":2,\"linecolor\":\"white\",\"showbackground\":true,\"ticks\":\"\",\"zerolinecolor\":\"white\"}},\"shapedefaults\":{\"line\":{\"color\":\"#2a3f5f\"}},\"ternary\":{\"aaxis\":{\"gridcolor\":\"white\",\"linecolor\":\"white\",\"ticks\":\"\"},\"baxis\":{\"gridcolor\":\"white\",\"linecolor\":\"white\",\"ticks\":\"\"},\"bgcolor\":\"#E5ECF6\",\"caxis\":{\"gridcolor\":\"white\",\"linecolor\":\"white\",\"ticks\":\"\"}},\"title\":{\"x\":0.05},\"xaxis\":{\"automargin\":true,\"gridcolor\":\"white\",\"linecolor\":\"white\",\"ticks\":\"\",\"title\":{\"standoff\":15},\"zerolinecolor\":\"white\",\"zerolinewidth\":2},\"yaxis\":{\"automargin\":true,\"gridcolor\":\"white\",\"linecolor\":\"white\",\"ticks\":\"\",\"title\":{\"standoff\":15},\"zerolinecolor\":\"white\",\"zerolinewidth\":2}}},\"xaxis\":{\"anchor\":\"y\",\"domain\":[0.0,1.0],\"title\":{\"text\":\"type\"}},\"yaxis\":{\"anchor\":\"x\",\"domain\":[0.0,1.0]}},                        {\"responsive\": true}                    ).then(function(){\n",
       "                            \n",
       "var gd = document.getElementById('672958c4-a81e-46ed-a49d-6aec83c37895');\n",
       "var x = new MutationObserver(function (mutations, observer) {{\n",
       "        var display = window.getComputedStyle(gd).display;\n",
       "        if (!display || display === 'none') {{\n",
       "            console.log([gd, 'removed!']);\n",
       "            Plotly.purge(gd);\n",
       "            observer.disconnect();\n",
       "        }}\n",
       "}});\n",
       "\n",
       "// Listen for the removal of the full notebook cells\n",
       "var notebookContainer = gd.closest('#notebook-container');\n",
       "if (notebookContainer) {{\n",
       "    x.observe(notebookContainer, {childList: true});\n",
       "}}\n",
       "\n",
       "// Listen for the clearing of the current output cell\n",
       "var outputEl = gd.closest('.output');\n",
       "if (outputEl) {{\n",
       "    x.observe(outputEl, {childList: true});\n",
       "}}\n",
       "\n",
       "                        })                };                });            </script>        </div>"
      ]
     },
     "metadata": {},
     "output_type": "display_data"
    }
   ],
   "source": [
    "#boxplot por precio\n",
    "\n",
    "fig = px.box(df, x=\"type\")\n",
    "fig.show()"
   ]
  },
  {
   "cell_type": "code",
   "execution_count": 81,
   "id": "be20a9da",
   "metadata": {},
   "outputs": [
    {
     "data": {
      "application/vnd.plotly.v1+json": {
       "config": {
        "plotlyServerURL": "https://plot.ly"
       },
       "data": [
        {
         "domain": {
          "x": [
           0,
           1
          ],
          "y": [
           0,
           1
          ]
         },
         "hovertemplate": "price_2=%{label}<br>price=%{value}<extra></extra>",
         "labels": [
          "Medio",
          "Medio",
          "Barato",
          "Medio",
          "Medio",
          "Medio",
          "Medio",
          "Medio",
          "Medio",
          "Medio",
          "Medio",
          "Medio",
          "Medio",
          "Medio",
          "Medio",
          "Medio",
          "Caro",
          null,
          "Medio",
          "Medio",
          "Medio",
          "Medio",
          "Medio",
          "Medio",
          "Medio",
          "Barato",
          "Medio",
          "Medio",
          "Medio",
          "Medio",
          "Medio",
          "Medio",
          "Medio",
          "Medio",
          "Medio",
          "Medio",
          "Medio",
          "Medio",
          "Medio",
          "Medio",
          "Medio",
          "Barato",
          "Medio",
          "Medio",
          "Caro",
          "Medio",
          "Medio",
          "Medio",
          "Medio",
          "Barato",
          "Medio",
          "Medio",
          "Medio",
          "Barato",
          "Medio",
          "Medio",
          "Medio",
          "Medio",
          "Barato",
          "Medio",
          "Barato",
          "Medio",
          "Barato",
          "Medio",
          "Medio",
          "Medio",
          "Barato",
          "Medio",
          "Medio",
          "Medio",
          "Medio",
          "Medio",
          "Caro",
          "Medio",
          "Medio",
          "Medio",
          "Medio",
          "Medio",
          "Medio",
          "Medio",
          "Medio",
          "Medio",
          "Medio",
          "Medio",
          "Medio",
          "Medio",
          "Medio",
          "Medio",
          "Medio",
          "Medio",
          "Medio",
          "Medio",
          "Medio",
          "Medio",
          "Barato",
          "Barato",
          "Medio",
          "Medio",
          null,
          "Medio",
          "Medio",
          "Medio",
          "Barato",
          "Barato",
          "Medio",
          "Barato",
          "Medio",
          "Medio",
          "Medio",
          "Medio",
          "Medio",
          "Medio",
          "Medio",
          "Medio",
          "Medio",
          "Medio",
          "Medio",
          "Medio",
          "Medio",
          "Medio",
          "Barato",
          "Medio",
          "Medio",
          "Caro",
          "Medio",
          "Medio",
          "Caro",
          "Medio",
          "Barato",
          "Caro",
          "Medio",
          "Barato",
          "Barato",
          "Medio",
          "Medio",
          "Medio",
          "Caro",
          "Medio",
          "Barato",
          "Medio",
          "Medio",
          "Medio",
          "Medio",
          "Medio",
          "Medio",
          "Medio",
          "Medio",
          "Medio",
          "Medio",
          "Medio",
          "Medio",
          "Medio",
          "Medio",
          "Medio",
          "Medio",
          "Medio",
          "Medio",
          "Medio",
          "Barato",
          "Medio",
          "Medio",
          "Medio",
          "Medio",
          "Barato",
          "Medio",
          "Medio",
          "Medio",
          "Medio",
          "Medio",
          "Medio",
          "Medio",
          "Medio",
          "Barato",
          "Medio",
          "Medio",
          "Medio",
          "Caro",
          "Caro",
          "Barato",
          "Caro",
          "Medio",
          "Caro",
          "Medio",
          "Barato",
          "Medio",
          "Medio",
          "Medio",
          "Caro",
          "Medio",
          "Barato",
          "Medio",
          "Barato",
          "Medio",
          "Medio",
          "Medio",
          "Medio",
          "Medio",
          "Medio",
          "Caro",
          "Medio",
          "Medio",
          "Medio",
          "Medio",
          "Medio",
          "Medio",
          "Medio",
          "Barato",
          "Medio",
          "Medio",
          "Medio",
          "Medio",
          "Medio",
          "Medio",
          "Medio",
          "Caro",
          "Barato",
          "Caro",
          "Barato",
          "Medio",
          "Caro",
          "Caro",
          "Medio",
          "Medio",
          "Barato",
          "Barato",
          "Medio",
          "Medio",
          "Medio",
          "Medio",
          "Medio",
          "Medio",
          "Medio",
          "Medio",
          "Medio",
          "Medio",
          "Medio",
          "Medio",
          "Medio",
          "Medio",
          "Medio",
          "Medio",
          "Barato",
          "Caro",
          "Medio",
          "Medio",
          "Medio",
          "Medio",
          "Medio",
          "Medio",
          "Barato",
          "Medio",
          "Medio",
          "Caro",
          "Medio",
          "Medio",
          "Medio",
          "Medio",
          "Medio",
          "Medio",
          "Medio",
          "Medio",
          "Caro",
          "Barato",
          "Medio",
          "Medio",
          "Barato",
          "Barato",
          "Medio",
          "Medio",
          "Barato",
          "Medio",
          "Medio",
          "Barato",
          "Caro",
          "Medio",
          "Medio",
          "Barato",
          "Medio",
          "Medio",
          "Caro",
          "Medio",
          "Medio",
          "Medio",
          "Medio",
          "Medio",
          "Caro",
          "Caro",
          "Barato",
          "Caro",
          "Caro",
          "Medio",
          "Medio",
          "Medio",
          "Barato",
          "Medio",
          "Medio",
          "Medio",
          "Barato",
          "Caro",
          "Caro",
          "Medio",
          "Medio",
          "Medio",
          "Medio",
          "Medio",
          "Medio",
          "Medio",
          "Medio",
          "Medio",
          "Medio",
          "Medio",
          "Medio",
          "Medio",
          "Medio",
          "Medio",
          "Caro",
          "Caro",
          "Medio",
          "Medio",
          "Medio",
          "Caro",
          "Medio",
          "Medio",
          "Medio",
          "Medio",
          "Barato",
          "Medio",
          "Caro",
          "Medio",
          "Medio",
          "Medio",
          "Medio",
          "Caro",
          "Medio",
          "Medio",
          "Medio",
          "Medio",
          "Medio",
          "Caro",
          "Caro",
          "Barato",
          "Medio",
          "Medio",
          "Medio",
          "Medio",
          "Medio",
          "Medio",
          "Medio",
          "Medio",
          "Barato",
          "Medio",
          "Barato",
          "Medio",
          "Barato",
          "Caro",
          "Medio",
          "Medio",
          "Caro",
          "Caro",
          "Medio",
          "Medio",
          "Medio",
          "Medio",
          "Caro",
          "Medio",
          "Medio",
          "Medio",
          "Caro",
          "Barato",
          "Medio",
          "Medio",
          "Caro",
          "Medio",
          "Medio",
          "Caro",
          "Medio",
          "Medio",
          "Medio",
          "Barato",
          "Caro",
          "Medio",
          "Medio",
          "Medio",
          "Caro",
          "Medio",
          "Medio",
          "Medio",
          "Medio",
          "Medio",
          "Medio",
          "Medio",
          "Medio",
          "Medio",
          "Barato",
          "Caro",
          "Caro",
          "Medio",
          "Medio",
          "Caro",
          "Medio",
          "Caro",
          "Barato",
          "Medio",
          "Medio",
          "Medio",
          "Medio",
          "Medio",
          "Medio",
          "Medio",
          "Medio",
          "Barato",
          "Medio",
          "Barato",
          "Medio",
          "Barato",
          "Medio",
          "Medio",
          "Medio",
          "Medio",
          "Barato",
          "Medio",
          "Barato",
          "Barato",
          "Barato",
          "Caro",
          "Medio",
          "Caro",
          "Medio",
          "Barato",
          "Barato",
          "Medio",
          "Medio",
          "Medio",
          "Medio",
          "Medio",
          "Medio",
          "Medio",
          "Medio",
          "Medio",
          "Medio",
          "Medio",
          "Barato",
          "Medio",
          "Medio",
          "Caro",
          "Medio",
          "Medio",
          "Medio",
          "Medio",
          "Barato",
          "Medio",
          "Medio",
          "Barato",
          "Medio",
          "Medio",
          "Medio",
          "Medio",
          "Medio",
          "Medio",
          "Medio",
          "Medio",
          "Medio",
          "Caro",
          "Medio",
          "Caro",
          "Medio",
          "Medio",
          "Medio",
          "Medio",
          "Barato",
          "Medio",
          "Caro",
          "Medio",
          "Medio",
          "Medio",
          "Medio",
          "Caro",
          "Medio",
          "Medio",
          "Barato",
          "Barato",
          "Medio",
          "Medio",
          "Caro",
          "Medio",
          "Caro",
          "Medio",
          "Medio",
          "Medio",
          "Medio",
          "Barato",
          "Medio",
          "Medio",
          "Medio",
          "Barato",
          "Medio",
          "Medio",
          "Medio"
         ],
         "legendgroup": "",
         "name": "",
         "showlegend": true,
         "type": "pie",
         "values": [
          "€€ - €€€",
          "€€ - €€€",
          "€",
          "€€ - €€€",
          "€€ - €€€",
          "€€ - €€€",
          "€€ - €€€",
          "€€ - €€€",
          "€€ - €€€",
          "€€ - €€€",
          "€€ - €€€",
          "€€ - €€€",
          "€€ - €€€",
          "€€ - €€€",
          "€€ - €€€",
          "€€ - €€€",
          "€€€€",
          "Europea",
          "€€ - €€€",
          "€€ - €€€",
          "€€ - €€€",
          "€€ - €€€",
          "€€ - €€€",
          "€€ - €€€",
          "€€ - €€€",
          "€",
          "€€ - €€€",
          "€€ - €€€",
          "€€ - €€€",
          "€€ - €€€",
          "€€ - €€€",
          "€€ - €€€",
          "€€ - €€€",
          "€€ - €€€",
          "€€ - €€€",
          "€€ - €€€",
          "€€ - €€€",
          "€€ - €€€",
          "€€ - €€€",
          "€€ - €€€",
          "€€ - €€€",
          "€",
          "€€ - €€€",
          "€€ - €€€",
          "€€€€",
          "€€ - €€€",
          "€€ - €€€",
          "€€ - €€€",
          "€€ - €€€",
          "€",
          "€€ - €€€",
          "€€ - €€€",
          "€€ - €€€",
          "€",
          "€€ - €€€",
          "€€ - €€€",
          "€€ - €€€",
          "€€ - €€€",
          "€",
          "€€ - €€€",
          "€",
          "€€ - €€€",
          "€",
          "€€ - €€€",
          "€€ - €€€",
          "€€ - €€€",
          "€",
          "€€ - €€€",
          "€€ - €€€",
          "€€ - €€€",
          "€€ - €€€",
          "€€ - €€€",
          "€€€€",
          "€€ - €€€",
          "€€ - €€€",
          "€€ - €€€",
          "€€ - €€€",
          "€€ - €€€",
          "€€ - €€€",
          "€€ - €€€",
          "€€ - €€€",
          "€€ - €€€",
          "€€ - €€€",
          "€€ - €€€",
          "€€ - €€€",
          "€€ - €€€",
          "€€ - €€€",
          "€€ - €€€",
          "€€ - €€€",
          "€€ - €€€",
          "€€ - €€€",
          "€€ - €€€",
          "€€ - €€€",
          "€€ - €€€",
          "€",
          "€",
          "€€ - €€€",
          "€€ - €€€",
          "Italiana",
          "€€ - €€€",
          "€€ - €€€",
          "€€ - €€€",
          "€",
          "€",
          "€€ - €€€",
          "€",
          "€€ - €€€",
          "€€ - €€€",
          "€€ - €€€",
          "€€ - €€€",
          "€€ - €€€",
          "€€ - €€€",
          "€€ - €€€",
          "€€ - €€€",
          "€€ - €€€",
          "€€ - €€€",
          "€€ - €€€",
          "€€ - €€€",
          "€€ - €€€",
          "€€ - €€€",
          "€",
          "€€ - €€€",
          "€€ - €€€",
          "€€€€",
          "€€ - €€€",
          "€€ - €€€",
          "€€€€",
          "€€ - €€€",
          "€",
          "€€€€",
          "€€ - €€€",
          "€",
          "€",
          "€€ - €€€",
          "€€ - €€€",
          "€€ - €€€",
          "€€€€",
          "€€ - €€€",
          "€",
          "€€ - €€€",
          "€€ - €€€",
          "€€ - €€€",
          "€€ - €€€",
          "€€ - €€€",
          "€€ - €€€",
          "€€ - €€€",
          "€€ - €€€",
          "€€ - €€€",
          "€€ - €€€",
          "€€ - €€€",
          "€€ - €€€",
          "€€ - €€€",
          "€€ - €€€",
          "€€ - €€€",
          "€€ - €€€",
          "€€ - €€€",
          "€€ - €€€",
          "€€ - €€€",
          "€",
          "€€ - €€€",
          "€€ - €€€",
          "€€ - €€€",
          "€€ - €€€",
          "€",
          "€€ - €€€",
          "€€ - €€€",
          "€€ - €€€",
          "€€ - €€€",
          "€€ - €€€",
          "€€ - €€€",
          "€€ - €€€",
          "€€ - €€€",
          "€",
          "€€ - €€€",
          "€€ - €€€",
          "€€ - €€€",
          "€€€€",
          "€€€€",
          "€",
          "€€€€",
          "€€ - €€€",
          "€€€€",
          "€€ - €€€",
          "€",
          "€€ - €€€",
          "€€ - €€€",
          "€€ - €€€",
          "€€€€",
          "€€ - €€€",
          "€",
          "€€ - €€€",
          "€",
          "€€ - €€€",
          "€€ - €€€",
          "€€ - €€€",
          "€€ - €€€",
          "€€ - €€€",
          "€€ - €€€",
          "€€€€",
          "€€ - €€€",
          "€€ - €€€",
          "€€ - €€€",
          "€€ - €€€",
          "€€ - €€€",
          "€€ - €€€",
          "€€ - €€€",
          "€",
          "€€ - €€€",
          "€€ - €€€",
          "€€ - €€€",
          "€€ - €€€",
          "€€ - €€€",
          "€€ - €€€",
          "€€ - €€€",
          "€€€€",
          "€",
          "€€€€",
          "€",
          "€€ - €€€",
          "€€€€",
          "€€€€",
          "€€ - €€€",
          "€€ - €€€",
          "€",
          "€",
          "€€ - €€€",
          "€€ - €€€",
          "€€ - €€€",
          "€€ - €€€",
          "€€ - €€€",
          "€€ - €€€",
          "€€ - €€€",
          "€€ - €€€",
          "€€ - €€€",
          "€€ - €€€",
          "€€ - €€€",
          "€€ - €€€",
          "€€ - €€€",
          "€€ - €€€",
          "€€ - €€€",
          "€€ - €€€",
          "€",
          "€€€€",
          "€€ - €€€",
          "€€ - €€€",
          "€€ - €€€",
          "€€ - €€€",
          "€€ - €€€",
          "€€ - €€€",
          "€",
          "€€ - €€€",
          "€€ - €€€",
          "€€€€",
          "€€ - €€€",
          "€€ - €€€",
          "€€ - €€€",
          "€€ - €€€",
          "€€ - €€€",
          "€€ - €€€",
          "€€ - €€€",
          "€€ - €€€",
          "€€€€",
          "€",
          "€€ - €€€",
          "€€ - €€€",
          "€",
          "€",
          "€€ - €€€",
          "€€ - €€€",
          "€",
          "€€ - €€€",
          "€€ - €€€",
          "€",
          "€€€€",
          "€€ - €€€",
          "€€ - €€€",
          "€",
          "€€ - €€€",
          "€€ - €€€",
          "€€€€",
          "€€ - €€€",
          "€€ - €€€",
          "€€ - €€€",
          "€€ - €€€",
          "€€ - €€€",
          "€€€€",
          "€€€€",
          "€",
          "€€€€",
          "€€€€",
          "€€ - €€€",
          "€€ - €€€",
          "€€ - €€€",
          "€",
          "€€ - €€€",
          "€€ - €€€",
          "€€ - €€€",
          "€",
          "€€€€",
          "€€€€",
          "€€ - €€€",
          "€€ - €€€",
          "€€ - €€€",
          "€€ - €€€",
          "€€ - €€€",
          "€€ - €€€",
          "€€ - €€€",
          "€€ - €€€",
          "€€ - €€€",
          "€€ - €€€",
          "€€ - €€€",
          "€€ - €€€",
          "€€ - €€€",
          "€€ - €€€",
          "€€ - €€€",
          "€€€€",
          "€€€€",
          "€€ - €€€",
          "€€ - €€€",
          "€€ - €€€",
          "€€€€",
          "€€ - €€€",
          "€€ - €€€",
          "€€ - €€€",
          "€€ - €€€",
          "€",
          "€€ - €€€",
          "€€€€",
          "€€ - €€€",
          "€€ - €€€",
          "€€ - €€€",
          "€€ - €€€",
          "€€€€",
          "€€ - €€€",
          "€€ - €€€",
          "€€ - €€€",
          "€€ - €€€",
          "€€ - €€€",
          "€€€€",
          "€€€€",
          "€",
          "€€ - €€€",
          "€€ - €€€",
          "€€ - €€€",
          "€€ - €€€",
          "€€ - €€€",
          "€€ - €€€",
          "€€ - €€€",
          "€€ - €€€",
          "€",
          "€€ - €€€",
          "€",
          "€€ - €€€",
          "€",
          "€€€€",
          "€€ - €€€",
          "€€ - €€€",
          "€€€€",
          "€€€€",
          "€€ - €€€",
          "€€ - €€€",
          "€€ - €€€",
          "€€ - €€€",
          "€€€€",
          "€€ - €€€",
          "€€ - €€€",
          "€€ - €€€",
          "€€€€",
          "€",
          "€€ - €€€",
          "€€ - €€€",
          "€€€€",
          "€€ - €€€",
          "€€ - €€€",
          "€€€€",
          "€€ - €€€",
          "€€ - €€€",
          "€€ - €€€",
          "€",
          "€€€€",
          "€€ - €€€",
          "€€ - €€€",
          "€€ - €€€",
          "€€€€",
          "€€ - €€€",
          "€€ - €€€",
          "€€ - €€€",
          "€€ - €€€",
          "€€ - €€€",
          "€€ - €€€",
          "€€ - €€€",
          "€€ - €€€",
          "€€ - €€€",
          "€",
          "€€€€",
          "€€€€",
          "€€ - €€€",
          "€€ - €€€",
          "€€€€",
          "€€ - €€€",
          "€€€€",
          "€",
          "€€ - €€€",
          "€€ - €€€",
          "€€ - €€€",
          "€€ - €€€",
          "€€ - €€€",
          "€€ - €€€",
          "€€ - €€€",
          "€€ - €€€",
          "€",
          "€€ - €€€",
          "€",
          "€€ - €€€",
          "€",
          "€€ - €€€",
          "€€ - €€€",
          "€€ - €€€",
          "€€ - €€€",
          "€",
          "€€ - €€€",
          "€",
          "€",
          "€",
          "€€€€",
          "€€ - €€€",
          "€€€€",
          "€€ - €€€",
          "€",
          "€",
          "€€ - €€€",
          "€€ - €€€",
          "€€ - €€€",
          "€€ - €€€",
          "€€ - €€€",
          "€€ - €€€",
          "€€ - €€€",
          "€€ - €€€",
          "€€ - €€€",
          "€€ - €€€",
          "€€ - €€€",
          "€",
          "€€ - €€€",
          "€€ - €€€",
          "€€€€",
          "€€ - €€€",
          "€€ - €€€",
          "€€ - €€€",
          "€€ - €€€",
          "€",
          "€€ - €€€",
          "€€ - €€€",
          "€",
          "€€ - €€€",
          "€€ - €€€",
          "€€ - €€€",
          "€€ - €€€",
          "€€ - €€€",
          "€€ - €€€",
          "€€ - €€€",
          "€€ - €€€",
          "€€ - €€€",
          "€€€€",
          "€€ - €€€",
          "€€€€",
          "€€ - €€€",
          "€€ - €€€",
          "€€ - €€€",
          "€€ - €€€",
          "€",
          "€€ - €€€",
          "€€€€",
          "€€ - €€€",
          "€€ - €€€",
          "€€ - €€€",
          "€€ - €€€",
          "€€€€",
          "€€ - €€€",
          "€€ - €€€",
          "€",
          "€",
          "€€ - €€€",
          "€€ - €€€",
          "€€€€",
          "€€ - €€€",
          "€€€€",
          "€€ - €€€",
          "€€ - €€€",
          "€€ - €€€",
          "€€ - €€€",
          "€",
          "€€ - €€€",
          "€€ - €€€",
          "€€ - €€€",
          "€",
          "€€ - €€€",
          "€€ - €€€",
          "€€ - €€€"
         ]
        }
       ],
       "layout": {
        "legend": {
         "tracegroupgap": 0
        },
        "template": {
         "data": {
          "bar": [
           {
            "error_x": {
             "color": "#2a3f5f"
            },
            "error_y": {
             "color": "#2a3f5f"
            },
            "marker": {
             "line": {
              "color": "#E5ECF6",
              "width": 0.5
             },
             "pattern": {
              "fillmode": "overlay",
              "size": 10,
              "solidity": 0.2
             }
            },
            "type": "bar"
           }
          ],
          "barpolar": [
           {
            "marker": {
             "line": {
              "color": "#E5ECF6",
              "width": 0.5
             },
             "pattern": {
              "fillmode": "overlay",
              "size": 10,
              "solidity": 0.2
             }
            },
            "type": "barpolar"
           }
          ],
          "carpet": [
           {
            "aaxis": {
             "endlinecolor": "#2a3f5f",
             "gridcolor": "white",
             "linecolor": "white",
             "minorgridcolor": "white",
             "startlinecolor": "#2a3f5f"
            },
            "baxis": {
             "endlinecolor": "#2a3f5f",
             "gridcolor": "white",
             "linecolor": "white",
             "minorgridcolor": "white",
             "startlinecolor": "#2a3f5f"
            },
            "type": "carpet"
           }
          ],
          "choropleth": [
           {
            "colorbar": {
             "outlinewidth": 0,
             "ticks": ""
            },
            "type": "choropleth"
           }
          ],
          "contour": [
           {
            "colorbar": {
             "outlinewidth": 0,
             "ticks": ""
            },
            "colorscale": [
             [
              0,
              "#0d0887"
             ],
             [
              0.1111111111111111,
              "#46039f"
             ],
             [
              0.2222222222222222,
              "#7201a8"
             ],
             [
              0.3333333333333333,
              "#9c179e"
             ],
             [
              0.4444444444444444,
              "#bd3786"
             ],
             [
              0.5555555555555556,
              "#d8576b"
             ],
             [
              0.6666666666666666,
              "#ed7953"
             ],
             [
              0.7777777777777778,
              "#fb9f3a"
             ],
             [
              0.8888888888888888,
              "#fdca26"
             ],
             [
              1,
              "#f0f921"
             ]
            ],
            "type": "contour"
           }
          ],
          "contourcarpet": [
           {
            "colorbar": {
             "outlinewidth": 0,
             "ticks": ""
            },
            "type": "contourcarpet"
           }
          ],
          "heatmap": [
           {
            "colorbar": {
             "outlinewidth": 0,
             "ticks": ""
            },
            "colorscale": [
             [
              0,
              "#0d0887"
             ],
             [
              0.1111111111111111,
              "#46039f"
             ],
             [
              0.2222222222222222,
              "#7201a8"
             ],
             [
              0.3333333333333333,
              "#9c179e"
             ],
             [
              0.4444444444444444,
              "#bd3786"
             ],
             [
              0.5555555555555556,
              "#d8576b"
             ],
             [
              0.6666666666666666,
              "#ed7953"
             ],
             [
              0.7777777777777778,
              "#fb9f3a"
             ],
             [
              0.8888888888888888,
              "#fdca26"
             ],
             [
              1,
              "#f0f921"
             ]
            ],
            "type": "heatmap"
           }
          ],
          "heatmapgl": [
           {
            "colorbar": {
             "outlinewidth": 0,
             "ticks": ""
            },
            "colorscale": [
             [
              0,
              "#0d0887"
             ],
             [
              0.1111111111111111,
              "#46039f"
             ],
             [
              0.2222222222222222,
              "#7201a8"
             ],
             [
              0.3333333333333333,
              "#9c179e"
             ],
             [
              0.4444444444444444,
              "#bd3786"
             ],
             [
              0.5555555555555556,
              "#d8576b"
             ],
             [
              0.6666666666666666,
              "#ed7953"
             ],
             [
              0.7777777777777778,
              "#fb9f3a"
             ],
             [
              0.8888888888888888,
              "#fdca26"
             ],
             [
              1,
              "#f0f921"
             ]
            ],
            "type": "heatmapgl"
           }
          ],
          "histogram": [
           {
            "marker": {
             "pattern": {
              "fillmode": "overlay",
              "size": 10,
              "solidity": 0.2
             }
            },
            "type": "histogram"
           }
          ],
          "histogram2d": [
           {
            "colorbar": {
             "outlinewidth": 0,
             "ticks": ""
            },
            "colorscale": [
             [
              0,
              "#0d0887"
             ],
             [
              0.1111111111111111,
              "#46039f"
             ],
             [
              0.2222222222222222,
              "#7201a8"
             ],
             [
              0.3333333333333333,
              "#9c179e"
             ],
             [
              0.4444444444444444,
              "#bd3786"
             ],
             [
              0.5555555555555556,
              "#d8576b"
             ],
             [
              0.6666666666666666,
              "#ed7953"
             ],
             [
              0.7777777777777778,
              "#fb9f3a"
             ],
             [
              0.8888888888888888,
              "#fdca26"
             ],
             [
              1,
              "#f0f921"
             ]
            ],
            "type": "histogram2d"
           }
          ],
          "histogram2dcontour": [
           {
            "colorbar": {
             "outlinewidth": 0,
             "ticks": ""
            },
            "colorscale": [
             [
              0,
              "#0d0887"
             ],
             [
              0.1111111111111111,
              "#46039f"
             ],
             [
              0.2222222222222222,
              "#7201a8"
             ],
             [
              0.3333333333333333,
              "#9c179e"
             ],
             [
              0.4444444444444444,
              "#bd3786"
             ],
             [
              0.5555555555555556,
              "#d8576b"
             ],
             [
              0.6666666666666666,
              "#ed7953"
             ],
             [
              0.7777777777777778,
              "#fb9f3a"
             ],
             [
              0.8888888888888888,
              "#fdca26"
             ],
             [
              1,
              "#f0f921"
             ]
            ],
            "type": "histogram2dcontour"
           }
          ],
          "mesh3d": [
           {
            "colorbar": {
             "outlinewidth": 0,
             "ticks": ""
            },
            "type": "mesh3d"
           }
          ],
          "parcoords": [
           {
            "line": {
             "colorbar": {
              "outlinewidth": 0,
              "ticks": ""
             }
            },
            "type": "parcoords"
           }
          ],
          "pie": [
           {
            "automargin": true,
            "type": "pie"
           }
          ],
          "scatter": [
           {
            "marker": {
             "colorbar": {
              "outlinewidth": 0,
              "ticks": ""
             }
            },
            "type": "scatter"
           }
          ],
          "scatter3d": [
           {
            "line": {
             "colorbar": {
              "outlinewidth": 0,
              "ticks": ""
             }
            },
            "marker": {
             "colorbar": {
              "outlinewidth": 0,
              "ticks": ""
             }
            },
            "type": "scatter3d"
           }
          ],
          "scattercarpet": [
           {
            "marker": {
             "colorbar": {
              "outlinewidth": 0,
              "ticks": ""
             }
            },
            "type": "scattercarpet"
           }
          ],
          "scattergeo": [
           {
            "marker": {
             "colorbar": {
              "outlinewidth": 0,
              "ticks": ""
             }
            },
            "type": "scattergeo"
           }
          ],
          "scattergl": [
           {
            "marker": {
             "colorbar": {
              "outlinewidth": 0,
              "ticks": ""
             }
            },
            "type": "scattergl"
           }
          ],
          "scattermapbox": [
           {
            "marker": {
             "colorbar": {
              "outlinewidth": 0,
              "ticks": ""
             }
            },
            "type": "scattermapbox"
           }
          ],
          "scatterpolar": [
           {
            "marker": {
             "colorbar": {
              "outlinewidth": 0,
              "ticks": ""
             }
            },
            "type": "scatterpolar"
           }
          ],
          "scatterpolargl": [
           {
            "marker": {
             "colorbar": {
              "outlinewidth": 0,
              "ticks": ""
             }
            },
            "type": "scatterpolargl"
           }
          ],
          "scatterternary": [
           {
            "marker": {
             "colorbar": {
              "outlinewidth": 0,
              "ticks": ""
             }
            },
            "type": "scatterternary"
           }
          ],
          "surface": [
           {
            "colorbar": {
             "outlinewidth": 0,
             "ticks": ""
            },
            "colorscale": [
             [
              0,
              "#0d0887"
             ],
             [
              0.1111111111111111,
              "#46039f"
             ],
             [
              0.2222222222222222,
              "#7201a8"
             ],
             [
              0.3333333333333333,
              "#9c179e"
             ],
             [
              0.4444444444444444,
              "#bd3786"
             ],
             [
              0.5555555555555556,
              "#d8576b"
             ],
             [
              0.6666666666666666,
              "#ed7953"
             ],
             [
              0.7777777777777778,
              "#fb9f3a"
             ],
             [
              0.8888888888888888,
              "#fdca26"
             ],
             [
              1,
              "#f0f921"
             ]
            ],
            "type": "surface"
           }
          ],
          "table": [
           {
            "cells": {
             "fill": {
              "color": "#EBF0F8"
             },
             "line": {
              "color": "white"
             }
            },
            "header": {
             "fill": {
              "color": "#C8D4E3"
             },
             "line": {
              "color": "white"
             }
            },
            "type": "table"
           }
          ]
         },
         "layout": {
          "annotationdefaults": {
           "arrowcolor": "#2a3f5f",
           "arrowhead": 0,
           "arrowwidth": 1
          },
          "autotypenumbers": "strict",
          "coloraxis": {
           "colorbar": {
            "outlinewidth": 0,
            "ticks": ""
           }
          },
          "colorscale": {
           "diverging": [
            [
             0,
             "#8e0152"
            ],
            [
             0.1,
             "#c51b7d"
            ],
            [
             0.2,
             "#de77ae"
            ],
            [
             0.3,
             "#f1b6da"
            ],
            [
             0.4,
             "#fde0ef"
            ],
            [
             0.5,
             "#f7f7f7"
            ],
            [
             0.6,
             "#e6f5d0"
            ],
            [
             0.7,
             "#b8e186"
            ],
            [
             0.8,
             "#7fbc41"
            ],
            [
             0.9,
             "#4d9221"
            ],
            [
             1,
             "#276419"
            ]
           ],
           "sequential": [
            [
             0,
             "#0d0887"
            ],
            [
             0.1111111111111111,
             "#46039f"
            ],
            [
             0.2222222222222222,
             "#7201a8"
            ],
            [
             0.3333333333333333,
             "#9c179e"
            ],
            [
             0.4444444444444444,
             "#bd3786"
            ],
            [
             0.5555555555555556,
             "#d8576b"
            ],
            [
             0.6666666666666666,
             "#ed7953"
            ],
            [
             0.7777777777777778,
             "#fb9f3a"
            ],
            [
             0.8888888888888888,
             "#fdca26"
            ],
            [
             1,
             "#f0f921"
            ]
           ],
           "sequentialminus": [
            [
             0,
             "#0d0887"
            ],
            [
             0.1111111111111111,
             "#46039f"
            ],
            [
             0.2222222222222222,
             "#7201a8"
            ],
            [
             0.3333333333333333,
             "#9c179e"
            ],
            [
             0.4444444444444444,
             "#bd3786"
            ],
            [
             0.5555555555555556,
             "#d8576b"
            ],
            [
             0.6666666666666666,
             "#ed7953"
            ],
            [
             0.7777777777777778,
             "#fb9f3a"
            ],
            [
             0.8888888888888888,
             "#fdca26"
            ],
            [
             1,
             "#f0f921"
            ]
           ]
          },
          "colorway": [
           "#636efa",
           "#EF553B",
           "#00cc96",
           "#ab63fa",
           "#FFA15A",
           "#19d3f3",
           "#FF6692",
           "#B6E880",
           "#FF97FF",
           "#FECB52"
          ],
          "font": {
           "color": "#2a3f5f"
          },
          "geo": {
           "bgcolor": "white",
           "lakecolor": "white",
           "landcolor": "#E5ECF6",
           "showlakes": true,
           "showland": true,
           "subunitcolor": "white"
          },
          "hoverlabel": {
           "align": "left"
          },
          "hovermode": "closest",
          "mapbox": {
           "style": "light"
          },
          "paper_bgcolor": "white",
          "plot_bgcolor": "#E5ECF6",
          "polar": {
           "angularaxis": {
            "gridcolor": "white",
            "linecolor": "white",
            "ticks": ""
           },
           "bgcolor": "#E5ECF6",
           "radialaxis": {
            "gridcolor": "white",
            "linecolor": "white",
            "ticks": ""
           }
          },
          "scene": {
           "xaxis": {
            "backgroundcolor": "#E5ECF6",
            "gridcolor": "white",
            "gridwidth": 2,
            "linecolor": "white",
            "showbackground": true,
            "ticks": "",
            "zerolinecolor": "white"
           },
           "yaxis": {
            "backgroundcolor": "#E5ECF6",
            "gridcolor": "white",
            "gridwidth": 2,
            "linecolor": "white",
            "showbackground": true,
            "ticks": "",
            "zerolinecolor": "white"
           },
           "zaxis": {
            "backgroundcolor": "#E5ECF6",
            "gridcolor": "white",
            "gridwidth": 2,
            "linecolor": "white",
            "showbackground": true,
            "ticks": "",
            "zerolinecolor": "white"
           }
          },
          "shapedefaults": {
           "line": {
            "color": "#2a3f5f"
           }
          },
          "ternary": {
           "aaxis": {
            "gridcolor": "white",
            "linecolor": "white",
            "ticks": ""
           },
           "baxis": {
            "gridcolor": "white",
            "linecolor": "white",
            "ticks": ""
           },
           "bgcolor": "#E5ECF6",
           "caxis": {
            "gridcolor": "white",
            "linecolor": "white",
            "ticks": ""
           }
          },
          "title": {
           "x": 0.05
          },
          "xaxis": {
           "automargin": true,
           "gridcolor": "white",
           "linecolor": "white",
           "ticks": "",
           "title": {
            "standoff": 15
           },
           "zerolinecolor": "white",
           "zerolinewidth": 2
          },
          "yaxis": {
           "automargin": true,
           "gridcolor": "white",
           "linecolor": "white",
           "ticks": "",
           "title": {
            "standoff": 15
           },
           "zerolinecolor": "white",
           "zerolinewidth": 2
          }
         }
        },
        "title": {
         "text": "Precios de restaurantes en Madrid"
        }
       }
      },
      "text/html": [
       "<div>                            <div id=\"b21b29fe-4e8f-472c-a556-3549f295bfb1\" class=\"plotly-graph-div\" style=\"height:525px; width:100%;\"></div>            <script type=\"text/javascript\">                require([\"plotly\"], function(Plotly) {                    window.PLOTLYENV=window.PLOTLYENV || {};                                    if (document.getElementById(\"b21b29fe-4e8f-472c-a556-3549f295bfb1\")) {                    Plotly.newPlot(                        \"b21b29fe-4e8f-472c-a556-3549f295bfb1\",                        [{\"domain\":{\"x\":[0.0,1.0],\"y\":[0.0,1.0]},\"hovertemplate\":\"price_2=%{label}<br>price=%{value}<extra></extra>\",\"labels\":[\"Medio\",\"Medio\",\"Barato\",\"Medio\",\"Medio\",\"Medio\",\"Medio\",\"Medio\",\"Medio\",\"Medio\",\"Medio\",\"Medio\",\"Medio\",\"Medio\",\"Medio\",\"Medio\",\"Caro\",null,\"Medio\",\"Medio\",\"Medio\",\"Medio\",\"Medio\",\"Medio\",\"Medio\",\"Barato\",\"Medio\",\"Medio\",\"Medio\",\"Medio\",\"Medio\",\"Medio\",\"Medio\",\"Medio\",\"Medio\",\"Medio\",\"Medio\",\"Medio\",\"Medio\",\"Medio\",\"Medio\",\"Barato\",\"Medio\",\"Medio\",\"Caro\",\"Medio\",\"Medio\",\"Medio\",\"Medio\",\"Barato\",\"Medio\",\"Medio\",\"Medio\",\"Barato\",\"Medio\",\"Medio\",\"Medio\",\"Medio\",\"Barato\",\"Medio\",\"Barato\",\"Medio\",\"Barato\",\"Medio\",\"Medio\",\"Medio\",\"Barato\",\"Medio\",\"Medio\",\"Medio\",\"Medio\",\"Medio\",\"Caro\",\"Medio\",\"Medio\",\"Medio\",\"Medio\",\"Medio\",\"Medio\",\"Medio\",\"Medio\",\"Medio\",\"Medio\",\"Medio\",\"Medio\",\"Medio\",\"Medio\",\"Medio\",\"Medio\",\"Medio\",\"Medio\",\"Medio\",\"Medio\",\"Medio\",\"Barato\",\"Barato\",\"Medio\",\"Medio\",null,\"Medio\",\"Medio\",\"Medio\",\"Barato\",\"Barato\",\"Medio\",\"Barato\",\"Medio\",\"Medio\",\"Medio\",\"Medio\",\"Medio\",\"Medio\",\"Medio\",\"Medio\",\"Medio\",\"Medio\",\"Medio\",\"Medio\",\"Medio\",\"Medio\",\"Barato\",\"Medio\",\"Medio\",\"Caro\",\"Medio\",\"Medio\",\"Caro\",\"Medio\",\"Barato\",\"Caro\",\"Medio\",\"Barato\",\"Barato\",\"Medio\",\"Medio\",\"Medio\",\"Caro\",\"Medio\",\"Barato\",\"Medio\",\"Medio\",\"Medio\",\"Medio\",\"Medio\",\"Medio\",\"Medio\",\"Medio\",\"Medio\",\"Medio\",\"Medio\",\"Medio\",\"Medio\",\"Medio\",\"Medio\",\"Medio\",\"Medio\",\"Medio\",\"Medio\",\"Barato\",\"Medio\",\"Medio\",\"Medio\",\"Medio\",\"Barato\",\"Medio\",\"Medio\",\"Medio\",\"Medio\",\"Medio\",\"Medio\",\"Medio\",\"Medio\",\"Barato\",\"Medio\",\"Medio\",\"Medio\",\"Caro\",\"Caro\",\"Barato\",\"Caro\",\"Medio\",\"Caro\",\"Medio\",\"Barato\",\"Medio\",\"Medio\",\"Medio\",\"Caro\",\"Medio\",\"Barato\",\"Medio\",\"Barato\",\"Medio\",\"Medio\",\"Medio\",\"Medio\",\"Medio\",\"Medio\",\"Caro\",\"Medio\",\"Medio\",\"Medio\",\"Medio\",\"Medio\",\"Medio\",\"Medio\",\"Barato\",\"Medio\",\"Medio\",\"Medio\",\"Medio\",\"Medio\",\"Medio\",\"Medio\",\"Caro\",\"Barato\",\"Caro\",\"Barato\",\"Medio\",\"Caro\",\"Caro\",\"Medio\",\"Medio\",\"Barato\",\"Barato\",\"Medio\",\"Medio\",\"Medio\",\"Medio\",\"Medio\",\"Medio\",\"Medio\",\"Medio\",\"Medio\",\"Medio\",\"Medio\",\"Medio\",\"Medio\",\"Medio\",\"Medio\",\"Medio\",\"Barato\",\"Caro\",\"Medio\",\"Medio\",\"Medio\",\"Medio\",\"Medio\",\"Medio\",\"Barato\",\"Medio\",\"Medio\",\"Caro\",\"Medio\",\"Medio\",\"Medio\",\"Medio\",\"Medio\",\"Medio\",\"Medio\",\"Medio\",\"Caro\",\"Barato\",\"Medio\",\"Medio\",\"Barato\",\"Barato\",\"Medio\",\"Medio\",\"Barato\",\"Medio\",\"Medio\",\"Barato\",\"Caro\",\"Medio\",\"Medio\",\"Barato\",\"Medio\",\"Medio\",\"Caro\",\"Medio\",\"Medio\",\"Medio\",\"Medio\",\"Medio\",\"Caro\",\"Caro\",\"Barato\",\"Caro\",\"Caro\",\"Medio\",\"Medio\",\"Medio\",\"Barato\",\"Medio\",\"Medio\",\"Medio\",\"Barato\",\"Caro\",\"Caro\",\"Medio\",\"Medio\",\"Medio\",\"Medio\",\"Medio\",\"Medio\",\"Medio\",\"Medio\",\"Medio\",\"Medio\",\"Medio\",\"Medio\",\"Medio\",\"Medio\",\"Medio\",\"Caro\",\"Caro\",\"Medio\",\"Medio\",\"Medio\",\"Caro\",\"Medio\",\"Medio\",\"Medio\",\"Medio\",\"Barato\",\"Medio\",\"Caro\",\"Medio\",\"Medio\",\"Medio\",\"Medio\",\"Caro\",\"Medio\",\"Medio\",\"Medio\",\"Medio\",\"Medio\",\"Caro\",\"Caro\",\"Barato\",\"Medio\",\"Medio\",\"Medio\",\"Medio\",\"Medio\",\"Medio\",\"Medio\",\"Medio\",\"Barato\",\"Medio\",\"Barato\",\"Medio\",\"Barato\",\"Caro\",\"Medio\",\"Medio\",\"Caro\",\"Caro\",\"Medio\",\"Medio\",\"Medio\",\"Medio\",\"Caro\",\"Medio\",\"Medio\",\"Medio\",\"Caro\",\"Barato\",\"Medio\",\"Medio\",\"Caro\",\"Medio\",\"Medio\",\"Caro\",\"Medio\",\"Medio\",\"Medio\",\"Barato\",\"Caro\",\"Medio\",\"Medio\",\"Medio\",\"Caro\",\"Medio\",\"Medio\",\"Medio\",\"Medio\",\"Medio\",\"Medio\",\"Medio\",\"Medio\",\"Medio\",\"Barato\",\"Caro\",\"Caro\",\"Medio\",\"Medio\",\"Caro\",\"Medio\",\"Caro\",\"Barato\",\"Medio\",\"Medio\",\"Medio\",\"Medio\",\"Medio\",\"Medio\",\"Medio\",\"Medio\",\"Barato\",\"Medio\",\"Barato\",\"Medio\",\"Barato\",\"Medio\",\"Medio\",\"Medio\",\"Medio\",\"Barato\",\"Medio\",\"Barato\",\"Barato\",\"Barato\",\"Caro\",\"Medio\",\"Caro\",\"Medio\",\"Barato\",\"Barato\",\"Medio\",\"Medio\",\"Medio\",\"Medio\",\"Medio\",\"Medio\",\"Medio\",\"Medio\",\"Medio\",\"Medio\",\"Medio\",\"Barato\",\"Medio\",\"Medio\",\"Caro\",\"Medio\",\"Medio\",\"Medio\",\"Medio\",\"Barato\",\"Medio\",\"Medio\",\"Barato\",\"Medio\",\"Medio\",\"Medio\",\"Medio\",\"Medio\",\"Medio\",\"Medio\",\"Medio\",\"Medio\",\"Caro\",\"Medio\",\"Caro\",\"Medio\",\"Medio\",\"Medio\",\"Medio\",\"Barato\",\"Medio\",\"Caro\",\"Medio\",\"Medio\",\"Medio\",\"Medio\",\"Caro\",\"Medio\",\"Medio\",\"Barato\",\"Barato\",\"Medio\",\"Medio\",\"Caro\",\"Medio\",\"Caro\",\"Medio\",\"Medio\",\"Medio\",\"Medio\",\"Barato\",\"Medio\",\"Medio\",\"Medio\",\"Barato\",\"Medio\",\"Medio\",\"Medio\"],\"legendgroup\":\"\",\"name\":\"\",\"showlegend\":true,\"type\":\"pie\",\"values\":[\"\\u20ac\\u20ac - \\u20ac\\u20ac\\u20ac\",\"\\u20ac\\u20ac - \\u20ac\\u20ac\\u20ac\",\"\\u20ac\",\"\\u20ac\\u20ac - \\u20ac\\u20ac\\u20ac\",\"\\u20ac\\u20ac - \\u20ac\\u20ac\\u20ac\",\"\\u20ac\\u20ac - \\u20ac\\u20ac\\u20ac\",\"\\u20ac\\u20ac - \\u20ac\\u20ac\\u20ac\",\"\\u20ac\\u20ac - \\u20ac\\u20ac\\u20ac\",\"\\u20ac\\u20ac - \\u20ac\\u20ac\\u20ac\",\"\\u20ac\\u20ac - \\u20ac\\u20ac\\u20ac\",\"\\u20ac\\u20ac - \\u20ac\\u20ac\\u20ac\",\"\\u20ac\\u20ac - \\u20ac\\u20ac\\u20ac\",\"\\u20ac\\u20ac - \\u20ac\\u20ac\\u20ac\",\"\\u20ac\\u20ac - \\u20ac\\u20ac\\u20ac\",\"\\u20ac\\u20ac - \\u20ac\\u20ac\\u20ac\",\"\\u20ac\\u20ac - \\u20ac\\u20ac\\u20ac\",\"\\u20ac\\u20ac\\u20ac\\u20ac\",\"Europea\",\"\\u20ac\\u20ac - \\u20ac\\u20ac\\u20ac\",\"\\u20ac\\u20ac - \\u20ac\\u20ac\\u20ac\",\"\\u20ac\\u20ac - \\u20ac\\u20ac\\u20ac\",\"\\u20ac\\u20ac - \\u20ac\\u20ac\\u20ac\",\"\\u20ac\\u20ac - \\u20ac\\u20ac\\u20ac\",\"\\u20ac\\u20ac - \\u20ac\\u20ac\\u20ac\",\"\\u20ac\\u20ac - \\u20ac\\u20ac\\u20ac\",\"\\u20ac\",\"\\u20ac\\u20ac - \\u20ac\\u20ac\\u20ac\",\"\\u20ac\\u20ac - \\u20ac\\u20ac\\u20ac\",\"\\u20ac\\u20ac - \\u20ac\\u20ac\\u20ac\",\"\\u20ac\\u20ac - \\u20ac\\u20ac\\u20ac\",\"\\u20ac\\u20ac - \\u20ac\\u20ac\\u20ac\",\"\\u20ac\\u20ac - \\u20ac\\u20ac\\u20ac\",\"\\u20ac\\u20ac - \\u20ac\\u20ac\\u20ac\",\"\\u20ac\\u20ac - \\u20ac\\u20ac\\u20ac\",\"\\u20ac\\u20ac - \\u20ac\\u20ac\\u20ac\",\"\\u20ac\\u20ac - \\u20ac\\u20ac\\u20ac\",\"\\u20ac\\u20ac - \\u20ac\\u20ac\\u20ac\",\"\\u20ac\\u20ac - \\u20ac\\u20ac\\u20ac\",\"\\u20ac\\u20ac - \\u20ac\\u20ac\\u20ac\",\"\\u20ac\\u20ac - \\u20ac\\u20ac\\u20ac\",\"\\u20ac\\u20ac - \\u20ac\\u20ac\\u20ac\",\"\\u20ac\",\"\\u20ac\\u20ac - \\u20ac\\u20ac\\u20ac\",\"\\u20ac\\u20ac - \\u20ac\\u20ac\\u20ac\",\"\\u20ac\\u20ac\\u20ac\\u20ac\",\"\\u20ac\\u20ac - \\u20ac\\u20ac\\u20ac\",\"\\u20ac\\u20ac - \\u20ac\\u20ac\\u20ac\",\"\\u20ac\\u20ac - \\u20ac\\u20ac\\u20ac\",\"\\u20ac\\u20ac - \\u20ac\\u20ac\\u20ac\",\"\\u20ac\",\"\\u20ac\\u20ac - \\u20ac\\u20ac\\u20ac\",\"\\u20ac\\u20ac - \\u20ac\\u20ac\\u20ac\",\"\\u20ac\\u20ac - \\u20ac\\u20ac\\u20ac\",\"\\u20ac\",\"\\u20ac\\u20ac - \\u20ac\\u20ac\\u20ac\",\"\\u20ac\\u20ac - \\u20ac\\u20ac\\u20ac\",\"\\u20ac\\u20ac - \\u20ac\\u20ac\\u20ac\",\"\\u20ac\\u20ac - \\u20ac\\u20ac\\u20ac\",\"\\u20ac\",\"\\u20ac\\u20ac - \\u20ac\\u20ac\\u20ac\",\"\\u20ac\",\"\\u20ac\\u20ac - \\u20ac\\u20ac\\u20ac\",\"\\u20ac\",\"\\u20ac\\u20ac - \\u20ac\\u20ac\\u20ac\",\"\\u20ac\\u20ac - \\u20ac\\u20ac\\u20ac\",\"\\u20ac\\u20ac - \\u20ac\\u20ac\\u20ac\",\"\\u20ac\",\"\\u20ac\\u20ac - \\u20ac\\u20ac\\u20ac\",\"\\u20ac\\u20ac - \\u20ac\\u20ac\\u20ac\",\"\\u20ac\\u20ac - \\u20ac\\u20ac\\u20ac\",\"\\u20ac\\u20ac - \\u20ac\\u20ac\\u20ac\",\"\\u20ac\\u20ac - \\u20ac\\u20ac\\u20ac\",\"\\u20ac\\u20ac\\u20ac\\u20ac\",\"\\u20ac\\u20ac - \\u20ac\\u20ac\\u20ac\",\"\\u20ac\\u20ac - \\u20ac\\u20ac\\u20ac\",\"\\u20ac\\u20ac - \\u20ac\\u20ac\\u20ac\",\"\\u20ac\\u20ac - \\u20ac\\u20ac\\u20ac\",\"\\u20ac\\u20ac - \\u20ac\\u20ac\\u20ac\",\"\\u20ac\\u20ac - \\u20ac\\u20ac\\u20ac\",\"\\u20ac\\u20ac - \\u20ac\\u20ac\\u20ac\",\"\\u20ac\\u20ac - \\u20ac\\u20ac\\u20ac\",\"\\u20ac\\u20ac - \\u20ac\\u20ac\\u20ac\",\"\\u20ac\\u20ac - \\u20ac\\u20ac\\u20ac\",\"\\u20ac\\u20ac - \\u20ac\\u20ac\\u20ac\",\"\\u20ac\\u20ac - \\u20ac\\u20ac\\u20ac\",\"\\u20ac\\u20ac - \\u20ac\\u20ac\\u20ac\",\"\\u20ac\\u20ac - \\u20ac\\u20ac\\u20ac\",\"\\u20ac\\u20ac - \\u20ac\\u20ac\\u20ac\",\"\\u20ac\\u20ac - \\u20ac\\u20ac\\u20ac\",\"\\u20ac\\u20ac - \\u20ac\\u20ac\\u20ac\",\"\\u20ac\\u20ac - \\u20ac\\u20ac\\u20ac\",\"\\u20ac\\u20ac - \\u20ac\\u20ac\\u20ac\",\"\\u20ac\\u20ac - \\u20ac\\u20ac\\u20ac\",\"\\u20ac\\u20ac - \\u20ac\\u20ac\\u20ac\",\"\\u20ac\",\"\\u20ac\",\"\\u20ac\\u20ac - \\u20ac\\u20ac\\u20ac\",\"\\u20ac\\u20ac - \\u20ac\\u20ac\\u20ac\",\"Italiana\",\"\\u20ac\\u20ac - \\u20ac\\u20ac\\u20ac\",\"\\u20ac\\u20ac - \\u20ac\\u20ac\\u20ac\",\"\\u20ac\\u20ac - \\u20ac\\u20ac\\u20ac\",\"\\u20ac\",\"\\u20ac\",\"\\u20ac\\u20ac - \\u20ac\\u20ac\\u20ac\",\"\\u20ac\",\"\\u20ac\\u20ac - \\u20ac\\u20ac\\u20ac\",\"\\u20ac\\u20ac - \\u20ac\\u20ac\\u20ac\",\"\\u20ac\\u20ac - \\u20ac\\u20ac\\u20ac\",\"\\u20ac\\u20ac - \\u20ac\\u20ac\\u20ac\",\"\\u20ac\\u20ac - \\u20ac\\u20ac\\u20ac\",\"\\u20ac\\u20ac - \\u20ac\\u20ac\\u20ac\",\"\\u20ac\\u20ac - \\u20ac\\u20ac\\u20ac\",\"\\u20ac\\u20ac - \\u20ac\\u20ac\\u20ac\",\"\\u20ac\\u20ac - \\u20ac\\u20ac\\u20ac\",\"\\u20ac\\u20ac - \\u20ac\\u20ac\\u20ac\",\"\\u20ac\\u20ac - \\u20ac\\u20ac\\u20ac\",\"\\u20ac\\u20ac - \\u20ac\\u20ac\\u20ac\",\"\\u20ac\\u20ac - \\u20ac\\u20ac\\u20ac\",\"\\u20ac\\u20ac - \\u20ac\\u20ac\\u20ac\",\"\\u20ac\",\"\\u20ac\\u20ac - \\u20ac\\u20ac\\u20ac\",\"\\u20ac\\u20ac - \\u20ac\\u20ac\\u20ac\",\"\\u20ac\\u20ac\\u20ac\\u20ac\",\"\\u20ac\\u20ac - \\u20ac\\u20ac\\u20ac\",\"\\u20ac\\u20ac - \\u20ac\\u20ac\\u20ac\",\"\\u20ac\\u20ac\\u20ac\\u20ac\",\"\\u20ac\\u20ac - \\u20ac\\u20ac\\u20ac\",\"\\u20ac\",\"\\u20ac\\u20ac\\u20ac\\u20ac\",\"\\u20ac\\u20ac - \\u20ac\\u20ac\\u20ac\",\"\\u20ac\",\"\\u20ac\",\"\\u20ac\\u20ac - \\u20ac\\u20ac\\u20ac\",\"\\u20ac\\u20ac - \\u20ac\\u20ac\\u20ac\",\"\\u20ac\\u20ac - \\u20ac\\u20ac\\u20ac\",\"\\u20ac\\u20ac\\u20ac\\u20ac\",\"\\u20ac\\u20ac - \\u20ac\\u20ac\\u20ac\",\"\\u20ac\",\"\\u20ac\\u20ac - \\u20ac\\u20ac\\u20ac\",\"\\u20ac\\u20ac - \\u20ac\\u20ac\\u20ac\",\"\\u20ac\\u20ac - \\u20ac\\u20ac\\u20ac\",\"\\u20ac\\u20ac - \\u20ac\\u20ac\\u20ac\",\"\\u20ac\\u20ac - \\u20ac\\u20ac\\u20ac\",\"\\u20ac\\u20ac - \\u20ac\\u20ac\\u20ac\",\"\\u20ac\\u20ac - \\u20ac\\u20ac\\u20ac\",\"\\u20ac\\u20ac - \\u20ac\\u20ac\\u20ac\",\"\\u20ac\\u20ac - \\u20ac\\u20ac\\u20ac\",\"\\u20ac\\u20ac - \\u20ac\\u20ac\\u20ac\",\"\\u20ac\\u20ac - \\u20ac\\u20ac\\u20ac\",\"\\u20ac\\u20ac - \\u20ac\\u20ac\\u20ac\",\"\\u20ac\\u20ac - \\u20ac\\u20ac\\u20ac\",\"\\u20ac\\u20ac - \\u20ac\\u20ac\\u20ac\",\"\\u20ac\\u20ac - \\u20ac\\u20ac\\u20ac\",\"\\u20ac\\u20ac - \\u20ac\\u20ac\\u20ac\",\"\\u20ac\\u20ac - \\u20ac\\u20ac\\u20ac\",\"\\u20ac\\u20ac - \\u20ac\\u20ac\\u20ac\",\"\\u20ac\\u20ac - \\u20ac\\u20ac\\u20ac\",\"\\u20ac\",\"\\u20ac\\u20ac - \\u20ac\\u20ac\\u20ac\",\"\\u20ac\\u20ac - \\u20ac\\u20ac\\u20ac\",\"\\u20ac\\u20ac - \\u20ac\\u20ac\\u20ac\",\"\\u20ac\\u20ac - \\u20ac\\u20ac\\u20ac\",\"\\u20ac\",\"\\u20ac\\u20ac - \\u20ac\\u20ac\\u20ac\",\"\\u20ac\\u20ac - \\u20ac\\u20ac\\u20ac\",\"\\u20ac\\u20ac - \\u20ac\\u20ac\\u20ac\",\"\\u20ac\\u20ac - \\u20ac\\u20ac\\u20ac\",\"\\u20ac\\u20ac - \\u20ac\\u20ac\\u20ac\",\"\\u20ac\\u20ac - \\u20ac\\u20ac\\u20ac\",\"\\u20ac\\u20ac - \\u20ac\\u20ac\\u20ac\",\"\\u20ac\\u20ac - \\u20ac\\u20ac\\u20ac\",\"\\u20ac\",\"\\u20ac\\u20ac - \\u20ac\\u20ac\\u20ac\",\"\\u20ac\\u20ac - \\u20ac\\u20ac\\u20ac\",\"\\u20ac\\u20ac - \\u20ac\\u20ac\\u20ac\",\"\\u20ac\\u20ac\\u20ac\\u20ac\",\"\\u20ac\\u20ac\\u20ac\\u20ac\",\"\\u20ac\",\"\\u20ac\\u20ac\\u20ac\\u20ac\",\"\\u20ac\\u20ac - \\u20ac\\u20ac\\u20ac\",\"\\u20ac\\u20ac\\u20ac\\u20ac\",\"\\u20ac\\u20ac - \\u20ac\\u20ac\\u20ac\",\"\\u20ac\",\"\\u20ac\\u20ac - \\u20ac\\u20ac\\u20ac\",\"\\u20ac\\u20ac - \\u20ac\\u20ac\\u20ac\",\"\\u20ac\\u20ac - \\u20ac\\u20ac\\u20ac\",\"\\u20ac\\u20ac\\u20ac\\u20ac\",\"\\u20ac\\u20ac - \\u20ac\\u20ac\\u20ac\",\"\\u20ac\",\"\\u20ac\\u20ac - \\u20ac\\u20ac\\u20ac\",\"\\u20ac\",\"\\u20ac\\u20ac - \\u20ac\\u20ac\\u20ac\",\"\\u20ac\\u20ac - \\u20ac\\u20ac\\u20ac\",\"\\u20ac\\u20ac - \\u20ac\\u20ac\\u20ac\",\"\\u20ac\\u20ac - \\u20ac\\u20ac\\u20ac\",\"\\u20ac\\u20ac - \\u20ac\\u20ac\\u20ac\",\"\\u20ac\\u20ac - \\u20ac\\u20ac\\u20ac\",\"\\u20ac\\u20ac\\u20ac\\u20ac\",\"\\u20ac\\u20ac - \\u20ac\\u20ac\\u20ac\",\"\\u20ac\\u20ac - \\u20ac\\u20ac\\u20ac\",\"\\u20ac\\u20ac - \\u20ac\\u20ac\\u20ac\",\"\\u20ac\\u20ac - \\u20ac\\u20ac\\u20ac\",\"\\u20ac\\u20ac - \\u20ac\\u20ac\\u20ac\",\"\\u20ac\\u20ac - \\u20ac\\u20ac\\u20ac\",\"\\u20ac\\u20ac - \\u20ac\\u20ac\\u20ac\",\"\\u20ac\",\"\\u20ac\\u20ac - \\u20ac\\u20ac\\u20ac\",\"\\u20ac\\u20ac - \\u20ac\\u20ac\\u20ac\",\"\\u20ac\\u20ac - \\u20ac\\u20ac\\u20ac\",\"\\u20ac\\u20ac - \\u20ac\\u20ac\\u20ac\",\"\\u20ac\\u20ac - \\u20ac\\u20ac\\u20ac\",\"\\u20ac\\u20ac - \\u20ac\\u20ac\\u20ac\",\"\\u20ac\\u20ac - \\u20ac\\u20ac\\u20ac\",\"\\u20ac\\u20ac\\u20ac\\u20ac\",\"\\u20ac\",\"\\u20ac\\u20ac\\u20ac\\u20ac\",\"\\u20ac\",\"\\u20ac\\u20ac - \\u20ac\\u20ac\\u20ac\",\"\\u20ac\\u20ac\\u20ac\\u20ac\",\"\\u20ac\\u20ac\\u20ac\\u20ac\",\"\\u20ac\\u20ac - \\u20ac\\u20ac\\u20ac\",\"\\u20ac\\u20ac - \\u20ac\\u20ac\\u20ac\",\"\\u20ac\",\"\\u20ac\",\"\\u20ac\\u20ac - \\u20ac\\u20ac\\u20ac\",\"\\u20ac\\u20ac - \\u20ac\\u20ac\\u20ac\",\"\\u20ac\\u20ac - \\u20ac\\u20ac\\u20ac\",\"\\u20ac\\u20ac - \\u20ac\\u20ac\\u20ac\",\"\\u20ac\\u20ac - \\u20ac\\u20ac\\u20ac\",\"\\u20ac\\u20ac - \\u20ac\\u20ac\\u20ac\",\"\\u20ac\\u20ac - \\u20ac\\u20ac\\u20ac\",\"\\u20ac\\u20ac - \\u20ac\\u20ac\\u20ac\",\"\\u20ac\\u20ac - \\u20ac\\u20ac\\u20ac\",\"\\u20ac\\u20ac - \\u20ac\\u20ac\\u20ac\",\"\\u20ac\\u20ac - \\u20ac\\u20ac\\u20ac\",\"\\u20ac\\u20ac - \\u20ac\\u20ac\\u20ac\",\"\\u20ac\\u20ac - \\u20ac\\u20ac\\u20ac\",\"\\u20ac\\u20ac - \\u20ac\\u20ac\\u20ac\",\"\\u20ac\\u20ac - \\u20ac\\u20ac\\u20ac\",\"\\u20ac\\u20ac - \\u20ac\\u20ac\\u20ac\",\"\\u20ac\",\"\\u20ac\\u20ac\\u20ac\\u20ac\",\"\\u20ac\\u20ac - \\u20ac\\u20ac\\u20ac\",\"\\u20ac\\u20ac - \\u20ac\\u20ac\\u20ac\",\"\\u20ac\\u20ac - \\u20ac\\u20ac\\u20ac\",\"\\u20ac\\u20ac - \\u20ac\\u20ac\\u20ac\",\"\\u20ac\\u20ac - \\u20ac\\u20ac\\u20ac\",\"\\u20ac\\u20ac - \\u20ac\\u20ac\\u20ac\",\"\\u20ac\",\"\\u20ac\\u20ac - \\u20ac\\u20ac\\u20ac\",\"\\u20ac\\u20ac - \\u20ac\\u20ac\\u20ac\",\"\\u20ac\\u20ac\\u20ac\\u20ac\",\"\\u20ac\\u20ac - \\u20ac\\u20ac\\u20ac\",\"\\u20ac\\u20ac - \\u20ac\\u20ac\\u20ac\",\"\\u20ac\\u20ac - \\u20ac\\u20ac\\u20ac\",\"\\u20ac\\u20ac - \\u20ac\\u20ac\\u20ac\",\"\\u20ac\\u20ac - \\u20ac\\u20ac\\u20ac\",\"\\u20ac\\u20ac - \\u20ac\\u20ac\\u20ac\",\"\\u20ac\\u20ac - \\u20ac\\u20ac\\u20ac\",\"\\u20ac\\u20ac - \\u20ac\\u20ac\\u20ac\",\"\\u20ac\\u20ac\\u20ac\\u20ac\",\"\\u20ac\",\"\\u20ac\\u20ac - \\u20ac\\u20ac\\u20ac\",\"\\u20ac\\u20ac - \\u20ac\\u20ac\\u20ac\",\"\\u20ac\",\"\\u20ac\",\"\\u20ac\\u20ac - \\u20ac\\u20ac\\u20ac\",\"\\u20ac\\u20ac - \\u20ac\\u20ac\\u20ac\",\"\\u20ac\",\"\\u20ac\\u20ac - \\u20ac\\u20ac\\u20ac\",\"\\u20ac\\u20ac - \\u20ac\\u20ac\\u20ac\",\"\\u20ac\",\"\\u20ac\\u20ac\\u20ac\\u20ac\",\"\\u20ac\\u20ac - \\u20ac\\u20ac\\u20ac\",\"\\u20ac\\u20ac - \\u20ac\\u20ac\\u20ac\",\"\\u20ac\",\"\\u20ac\\u20ac - \\u20ac\\u20ac\\u20ac\",\"\\u20ac\\u20ac - \\u20ac\\u20ac\\u20ac\",\"\\u20ac\\u20ac\\u20ac\\u20ac\",\"\\u20ac\\u20ac - \\u20ac\\u20ac\\u20ac\",\"\\u20ac\\u20ac - \\u20ac\\u20ac\\u20ac\",\"\\u20ac\\u20ac - \\u20ac\\u20ac\\u20ac\",\"\\u20ac\\u20ac - \\u20ac\\u20ac\\u20ac\",\"\\u20ac\\u20ac - \\u20ac\\u20ac\\u20ac\",\"\\u20ac\\u20ac\\u20ac\\u20ac\",\"\\u20ac\\u20ac\\u20ac\\u20ac\",\"\\u20ac\",\"\\u20ac\\u20ac\\u20ac\\u20ac\",\"\\u20ac\\u20ac\\u20ac\\u20ac\",\"\\u20ac\\u20ac - \\u20ac\\u20ac\\u20ac\",\"\\u20ac\\u20ac - \\u20ac\\u20ac\\u20ac\",\"\\u20ac\\u20ac - \\u20ac\\u20ac\\u20ac\",\"\\u20ac\",\"\\u20ac\\u20ac - \\u20ac\\u20ac\\u20ac\",\"\\u20ac\\u20ac - \\u20ac\\u20ac\\u20ac\",\"\\u20ac\\u20ac - \\u20ac\\u20ac\\u20ac\",\"\\u20ac\",\"\\u20ac\\u20ac\\u20ac\\u20ac\",\"\\u20ac\\u20ac\\u20ac\\u20ac\",\"\\u20ac\\u20ac - \\u20ac\\u20ac\\u20ac\",\"\\u20ac\\u20ac - \\u20ac\\u20ac\\u20ac\",\"\\u20ac\\u20ac - \\u20ac\\u20ac\\u20ac\",\"\\u20ac\\u20ac - \\u20ac\\u20ac\\u20ac\",\"\\u20ac\\u20ac - \\u20ac\\u20ac\\u20ac\",\"\\u20ac\\u20ac - \\u20ac\\u20ac\\u20ac\",\"\\u20ac\\u20ac - \\u20ac\\u20ac\\u20ac\",\"\\u20ac\\u20ac - \\u20ac\\u20ac\\u20ac\",\"\\u20ac\\u20ac - \\u20ac\\u20ac\\u20ac\",\"\\u20ac\\u20ac - \\u20ac\\u20ac\\u20ac\",\"\\u20ac\\u20ac - \\u20ac\\u20ac\\u20ac\",\"\\u20ac\\u20ac - \\u20ac\\u20ac\\u20ac\",\"\\u20ac\\u20ac - \\u20ac\\u20ac\\u20ac\",\"\\u20ac\\u20ac - \\u20ac\\u20ac\\u20ac\",\"\\u20ac\\u20ac - \\u20ac\\u20ac\\u20ac\",\"\\u20ac\\u20ac\\u20ac\\u20ac\",\"\\u20ac\\u20ac\\u20ac\\u20ac\",\"\\u20ac\\u20ac - \\u20ac\\u20ac\\u20ac\",\"\\u20ac\\u20ac - \\u20ac\\u20ac\\u20ac\",\"\\u20ac\\u20ac - \\u20ac\\u20ac\\u20ac\",\"\\u20ac\\u20ac\\u20ac\\u20ac\",\"\\u20ac\\u20ac - \\u20ac\\u20ac\\u20ac\",\"\\u20ac\\u20ac - \\u20ac\\u20ac\\u20ac\",\"\\u20ac\\u20ac - \\u20ac\\u20ac\\u20ac\",\"\\u20ac\\u20ac - \\u20ac\\u20ac\\u20ac\",\"\\u20ac\",\"\\u20ac\\u20ac - \\u20ac\\u20ac\\u20ac\",\"\\u20ac\\u20ac\\u20ac\\u20ac\",\"\\u20ac\\u20ac - \\u20ac\\u20ac\\u20ac\",\"\\u20ac\\u20ac - \\u20ac\\u20ac\\u20ac\",\"\\u20ac\\u20ac - \\u20ac\\u20ac\\u20ac\",\"\\u20ac\\u20ac - \\u20ac\\u20ac\\u20ac\",\"\\u20ac\\u20ac\\u20ac\\u20ac\",\"\\u20ac\\u20ac - \\u20ac\\u20ac\\u20ac\",\"\\u20ac\\u20ac - \\u20ac\\u20ac\\u20ac\",\"\\u20ac\\u20ac - \\u20ac\\u20ac\\u20ac\",\"\\u20ac\\u20ac - \\u20ac\\u20ac\\u20ac\",\"\\u20ac\\u20ac - \\u20ac\\u20ac\\u20ac\",\"\\u20ac\\u20ac\\u20ac\\u20ac\",\"\\u20ac\\u20ac\\u20ac\\u20ac\",\"\\u20ac\",\"\\u20ac\\u20ac - \\u20ac\\u20ac\\u20ac\",\"\\u20ac\\u20ac - \\u20ac\\u20ac\\u20ac\",\"\\u20ac\\u20ac - \\u20ac\\u20ac\\u20ac\",\"\\u20ac\\u20ac - \\u20ac\\u20ac\\u20ac\",\"\\u20ac\\u20ac - \\u20ac\\u20ac\\u20ac\",\"\\u20ac\\u20ac - \\u20ac\\u20ac\\u20ac\",\"\\u20ac\\u20ac - \\u20ac\\u20ac\\u20ac\",\"\\u20ac\\u20ac - \\u20ac\\u20ac\\u20ac\",\"\\u20ac\",\"\\u20ac\\u20ac - \\u20ac\\u20ac\\u20ac\",\"\\u20ac\",\"\\u20ac\\u20ac - \\u20ac\\u20ac\\u20ac\",\"\\u20ac\",\"\\u20ac\\u20ac\\u20ac\\u20ac\",\"\\u20ac\\u20ac - \\u20ac\\u20ac\\u20ac\",\"\\u20ac\\u20ac - \\u20ac\\u20ac\\u20ac\",\"\\u20ac\\u20ac\\u20ac\\u20ac\",\"\\u20ac\\u20ac\\u20ac\\u20ac\",\"\\u20ac\\u20ac - \\u20ac\\u20ac\\u20ac\",\"\\u20ac\\u20ac - \\u20ac\\u20ac\\u20ac\",\"\\u20ac\\u20ac - \\u20ac\\u20ac\\u20ac\",\"\\u20ac\\u20ac - \\u20ac\\u20ac\\u20ac\",\"\\u20ac\\u20ac\\u20ac\\u20ac\",\"\\u20ac\\u20ac - \\u20ac\\u20ac\\u20ac\",\"\\u20ac\\u20ac - \\u20ac\\u20ac\\u20ac\",\"\\u20ac\\u20ac - \\u20ac\\u20ac\\u20ac\",\"\\u20ac\\u20ac\\u20ac\\u20ac\",\"\\u20ac\",\"\\u20ac\\u20ac - \\u20ac\\u20ac\\u20ac\",\"\\u20ac\\u20ac - \\u20ac\\u20ac\\u20ac\",\"\\u20ac\\u20ac\\u20ac\\u20ac\",\"\\u20ac\\u20ac - \\u20ac\\u20ac\\u20ac\",\"\\u20ac\\u20ac - \\u20ac\\u20ac\\u20ac\",\"\\u20ac\\u20ac\\u20ac\\u20ac\",\"\\u20ac\\u20ac - \\u20ac\\u20ac\\u20ac\",\"\\u20ac\\u20ac - \\u20ac\\u20ac\\u20ac\",\"\\u20ac\\u20ac - \\u20ac\\u20ac\\u20ac\",\"\\u20ac\",\"\\u20ac\\u20ac\\u20ac\\u20ac\",\"\\u20ac\\u20ac - \\u20ac\\u20ac\\u20ac\",\"\\u20ac\\u20ac - \\u20ac\\u20ac\\u20ac\",\"\\u20ac\\u20ac - \\u20ac\\u20ac\\u20ac\",\"\\u20ac\\u20ac\\u20ac\\u20ac\",\"\\u20ac\\u20ac - \\u20ac\\u20ac\\u20ac\",\"\\u20ac\\u20ac - \\u20ac\\u20ac\\u20ac\",\"\\u20ac\\u20ac - \\u20ac\\u20ac\\u20ac\",\"\\u20ac\\u20ac - \\u20ac\\u20ac\\u20ac\",\"\\u20ac\\u20ac - \\u20ac\\u20ac\\u20ac\",\"\\u20ac\\u20ac - \\u20ac\\u20ac\\u20ac\",\"\\u20ac\\u20ac - \\u20ac\\u20ac\\u20ac\",\"\\u20ac\\u20ac - \\u20ac\\u20ac\\u20ac\",\"\\u20ac\\u20ac - \\u20ac\\u20ac\\u20ac\",\"\\u20ac\",\"\\u20ac\\u20ac\\u20ac\\u20ac\",\"\\u20ac\\u20ac\\u20ac\\u20ac\",\"\\u20ac\\u20ac - \\u20ac\\u20ac\\u20ac\",\"\\u20ac\\u20ac - \\u20ac\\u20ac\\u20ac\",\"\\u20ac\\u20ac\\u20ac\\u20ac\",\"\\u20ac\\u20ac - \\u20ac\\u20ac\\u20ac\",\"\\u20ac\\u20ac\\u20ac\\u20ac\",\"\\u20ac\",\"\\u20ac\\u20ac - \\u20ac\\u20ac\\u20ac\",\"\\u20ac\\u20ac - \\u20ac\\u20ac\\u20ac\",\"\\u20ac\\u20ac - \\u20ac\\u20ac\\u20ac\",\"\\u20ac\\u20ac - \\u20ac\\u20ac\\u20ac\",\"\\u20ac\\u20ac - \\u20ac\\u20ac\\u20ac\",\"\\u20ac\\u20ac - \\u20ac\\u20ac\\u20ac\",\"\\u20ac\\u20ac - \\u20ac\\u20ac\\u20ac\",\"\\u20ac\\u20ac - \\u20ac\\u20ac\\u20ac\",\"\\u20ac\",\"\\u20ac\\u20ac - \\u20ac\\u20ac\\u20ac\",\"\\u20ac\",\"\\u20ac\\u20ac - \\u20ac\\u20ac\\u20ac\",\"\\u20ac\",\"\\u20ac\\u20ac - \\u20ac\\u20ac\\u20ac\",\"\\u20ac\\u20ac - \\u20ac\\u20ac\\u20ac\",\"\\u20ac\\u20ac - \\u20ac\\u20ac\\u20ac\",\"\\u20ac\\u20ac - \\u20ac\\u20ac\\u20ac\",\"\\u20ac\",\"\\u20ac\\u20ac - \\u20ac\\u20ac\\u20ac\",\"\\u20ac\",\"\\u20ac\",\"\\u20ac\",\"\\u20ac\\u20ac\\u20ac\\u20ac\",\"\\u20ac\\u20ac - \\u20ac\\u20ac\\u20ac\",\"\\u20ac\\u20ac\\u20ac\\u20ac\",\"\\u20ac\\u20ac - \\u20ac\\u20ac\\u20ac\",\"\\u20ac\",\"\\u20ac\",\"\\u20ac\\u20ac - \\u20ac\\u20ac\\u20ac\",\"\\u20ac\\u20ac - \\u20ac\\u20ac\\u20ac\",\"\\u20ac\\u20ac - \\u20ac\\u20ac\\u20ac\",\"\\u20ac\\u20ac - \\u20ac\\u20ac\\u20ac\",\"\\u20ac\\u20ac - \\u20ac\\u20ac\\u20ac\",\"\\u20ac\\u20ac - \\u20ac\\u20ac\\u20ac\",\"\\u20ac\\u20ac - \\u20ac\\u20ac\\u20ac\",\"\\u20ac\\u20ac - \\u20ac\\u20ac\\u20ac\",\"\\u20ac\\u20ac - \\u20ac\\u20ac\\u20ac\",\"\\u20ac\\u20ac - \\u20ac\\u20ac\\u20ac\",\"\\u20ac\\u20ac - \\u20ac\\u20ac\\u20ac\",\"\\u20ac\",\"\\u20ac\\u20ac - \\u20ac\\u20ac\\u20ac\",\"\\u20ac\\u20ac - \\u20ac\\u20ac\\u20ac\",\"\\u20ac\\u20ac\\u20ac\\u20ac\",\"\\u20ac\\u20ac - \\u20ac\\u20ac\\u20ac\",\"\\u20ac\\u20ac - \\u20ac\\u20ac\\u20ac\",\"\\u20ac\\u20ac - \\u20ac\\u20ac\\u20ac\",\"\\u20ac\\u20ac - \\u20ac\\u20ac\\u20ac\",\"\\u20ac\",\"\\u20ac\\u20ac - \\u20ac\\u20ac\\u20ac\",\"\\u20ac\\u20ac - \\u20ac\\u20ac\\u20ac\",\"\\u20ac\",\"\\u20ac\\u20ac - \\u20ac\\u20ac\\u20ac\",\"\\u20ac\\u20ac - \\u20ac\\u20ac\\u20ac\",\"\\u20ac\\u20ac - \\u20ac\\u20ac\\u20ac\",\"\\u20ac\\u20ac - \\u20ac\\u20ac\\u20ac\",\"\\u20ac\\u20ac - \\u20ac\\u20ac\\u20ac\",\"\\u20ac\\u20ac - \\u20ac\\u20ac\\u20ac\",\"\\u20ac\\u20ac - \\u20ac\\u20ac\\u20ac\",\"\\u20ac\\u20ac - \\u20ac\\u20ac\\u20ac\",\"\\u20ac\\u20ac - \\u20ac\\u20ac\\u20ac\",\"\\u20ac\\u20ac\\u20ac\\u20ac\",\"\\u20ac\\u20ac - \\u20ac\\u20ac\\u20ac\",\"\\u20ac\\u20ac\\u20ac\\u20ac\",\"\\u20ac\\u20ac - \\u20ac\\u20ac\\u20ac\",\"\\u20ac\\u20ac - \\u20ac\\u20ac\\u20ac\",\"\\u20ac\\u20ac - \\u20ac\\u20ac\\u20ac\",\"\\u20ac\\u20ac - \\u20ac\\u20ac\\u20ac\",\"\\u20ac\",\"\\u20ac\\u20ac - \\u20ac\\u20ac\\u20ac\",\"\\u20ac\\u20ac\\u20ac\\u20ac\",\"\\u20ac\\u20ac - \\u20ac\\u20ac\\u20ac\",\"\\u20ac\\u20ac - \\u20ac\\u20ac\\u20ac\",\"\\u20ac\\u20ac - \\u20ac\\u20ac\\u20ac\",\"\\u20ac\\u20ac - \\u20ac\\u20ac\\u20ac\",\"\\u20ac\\u20ac\\u20ac\\u20ac\",\"\\u20ac\\u20ac - \\u20ac\\u20ac\\u20ac\",\"\\u20ac\\u20ac - \\u20ac\\u20ac\\u20ac\",\"\\u20ac\",\"\\u20ac\",\"\\u20ac\\u20ac - \\u20ac\\u20ac\\u20ac\",\"\\u20ac\\u20ac - \\u20ac\\u20ac\\u20ac\",\"\\u20ac\\u20ac\\u20ac\\u20ac\",\"\\u20ac\\u20ac - \\u20ac\\u20ac\\u20ac\",\"\\u20ac\\u20ac\\u20ac\\u20ac\",\"\\u20ac\\u20ac - \\u20ac\\u20ac\\u20ac\",\"\\u20ac\\u20ac - \\u20ac\\u20ac\\u20ac\",\"\\u20ac\\u20ac - \\u20ac\\u20ac\\u20ac\",\"\\u20ac\\u20ac - \\u20ac\\u20ac\\u20ac\",\"\\u20ac\",\"\\u20ac\\u20ac - \\u20ac\\u20ac\\u20ac\",\"\\u20ac\\u20ac - \\u20ac\\u20ac\\u20ac\",\"\\u20ac\\u20ac - \\u20ac\\u20ac\\u20ac\",\"\\u20ac\",\"\\u20ac\\u20ac - \\u20ac\\u20ac\\u20ac\",\"\\u20ac\\u20ac - \\u20ac\\u20ac\\u20ac\",\"\\u20ac\\u20ac - \\u20ac\\u20ac\\u20ac\"]}],                        {\"legend\":{\"tracegroupgap\":0},\"template\":{\"data\":{\"bar\":[{\"error_x\":{\"color\":\"#2a3f5f\"},\"error_y\":{\"color\":\"#2a3f5f\"},\"marker\":{\"line\":{\"color\":\"#E5ECF6\",\"width\":0.5},\"pattern\":{\"fillmode\":\"overlay\",\"size\":10,\"solidity\":0.2}},\"type\":\"bar\"}],\"barpolar\":[{\"marker\":{\"line\":{\"color\":\"#E5ECF6\",\"width\":0.5},\"pattern\":{\"fillmode\":\"overlay\",\"size\":10,\"solidity\":0.2}},\"type\":\"barpolar\"}],\"carpet\":[{\"aaxis\":{\"endlinecolor\":\"#2a3f5f\",\"gridcolor\":\"white\",\"linecolor\":\"white\",\"minorgridcolor\":\"white\",\"startlinecolor\":\"#2a3f5f\"},\"baxis\":{\"endlinecolor\":\"#2a3f5f\",\"gridcolor\":\"white\",\"linecolor\":\"white\",\"minorgridcolor\":\"white\",\"startlinecolor\":\"#2a3f5f\"},\"type\":\"carpet\"}],\"choropleth\":[{\"colorbar\":{\"outlinewidth\":0,\"ticks\":\"\"},\"type\":\"choropleth\"}],\"contour\":[{\"colorbar\":{\"outlinewidth\":0,\"ticks\":\"\"},\"colorscale\":[[0.0,\"#0d0887\"],[0.1111111111111111,\"#46039f\"],[0.2222222222222222,\"#7201a8\"],[0.3333333333333333,\"#9c179e\"],[0.4444444444444444,\"#bd3786\"],[0.5555555555555556,\"#d8576b\"],[0.6666666666666666,\"#ed7953\"],[0.7777777777777778,\"#fb9f3a\"],[0.8888888888888888,\"#fdca26\"],[1.0,\"#f0f921\"]],\"type\":\"contour\"}],\"contourcarpet\":[{\"colorbar\":{\"outlinewidth\":0,\"ticks\":\"\"},\"type\":\"contourcarpet\"}],\"heatmap\":[{\"colorbar\":{\"outlinewidth\":0,\"ticks\":\"\"},\"colorscale\":[[0.0,\"#0d0887\"],[0.1111111111111111,\"#46039f\"],[0.2222222222222222,\"#7201a8\"],[0.3333333333333333,\"#9c179e\"],[0.4444444444444444,\"#bd3786\"],[0.5555555555555556,\"#d8576b\"],[0.6666666666666666,\"#ed7953\"],[0.7777777777777778,\"#fb9f3a\"],[0.8888888888888888,\"#fdca26\"],[1.0,\"#f0f921\"]],\"type\":\"heatmap\"}],\"heatmapgl\":[{\"colorbar\":{\"outlinewidth\":0,\"ticks\":\"\"},\"colorscale\":[[0.0,\"#0d0887\"],[0.1111111111111111,\"#46039f\"],[0.2222222222222222,\"#7201a8\"],[0.3333333333333333,\"#9c179e\"],[0.4444444444444444,\"#bd3786\"],[0.5555555555555556,\"#d8576b\"],[0.6666666666666666,\"#ed7953\"],[0.7777777777777778,\"#fb9f3a\"],[0.8888888888888888,\"#fdca26\"],[1.0,\"#f0f921\"]],\"type\":\"heatmapgl\"}],\"histogram\":[{\"marker\":{\"pattern\":{\"fillmode\":\"overlay\",\"size\":10,\"solidity\":0.2}},\"type\":\"histogram\"}],\"histogram2d\":[{\"colorbar\":{\"outlinewidth\":0,\"ticks\":\"\"},\"colorscale\":[[0.0,\"#0d0887\"],[0.1111111111111111,\"#46039f\"],[0.2222222222222222,\"#7201a8\"],[0.3333333333333333,\"#9c179e\"],[0.4444444444444444,\"#bd3786\"],[0.5555555555555556,\"#d8576b\"],[0.6666666666666666,\"#ed7953\"],[0.7777777777777778,\"#fb9f3a\"],[0.8888888888888888,\"#fdca26\"],[1.0,\"#f0f921\"]],\"type\":\"histogram2d\"}],\"histogram2dcontour\":[{\"colorbar\":{\"outlinewidth\":0,\"ticks\":\"\"},\"colorscale\":[[0.0,\"#0d0887\"],[0.1111111111111111,\"#46039f\"],[0.2222222222222222,\"#7201a8\"],[0.3333333333333333,\"#9c179e\"],[0.4444444444444444,\"#bd3786\"],[0.5555555555555556,\"#d8576b\"],[0.6666666666666666,\"#ed7953\"],[0.7777777777777778,\"#fb9f3a\"],[0.8888888888888888,\"#fdca26\"],[1.0,\"#f0f921\"]],\"type\":\"histogram2dcontour\"}],\"mesh3d\":[{\"colorbar\":{\"outlinewidth\":0,\"ticks\":\"\"},\"type\":\"mesh3d\"}],\"parcoords\":[{\"line\":{\"colorbar\":{\"outlinewidth\":0,\"ticks\":\"\"}},\"type\":\"parcoords\"}],\"pie\":[{\"automargin\":true,\"type\":\"pie\"}],\"scatter\":[{\"marker\":{\"colorbar\":{\"outlinewidth\":0,\"ticks\":\"\"}},\"type\":\"scatter\"}],\"scatter3d\":[{\"line\":{\"colorbar\":{\"outlinewidth\":0,\"ticks\":\"\"}},\"marker\":{\"colorbar\":{\"outlinewidth\":0,\"ticks\":\"\"}},\"type\":\"scatter3d\"}],\"scattercarpet\":[{\"marker\":{\"colorbar\":{\"outlinewidth\":0,\"ticks\":\"\"}},\"type\":\"scattercarpet\"}],\"scattergeo\":[{\"marker\":{\"colorbar\":{\"outlinewidth\":0,\"ticks\":\"\"}},\"type\":\"scattergeo\"}],\"scattergl\":[{\"marker\":{\"colorbar\":{\"outlinewidth\":0,\"ticks\":\"\"}},\"type\":\"scattergl\"}],\"scattermapbox\":[{\"marker\":{\"colorbar\":{\"outlinewidth\":0,\"ticks\":\"\"}},\"type\":\"scattermapbox\"}],\"scatterpolar\":[{\"marker\":{\"colorbar\":{\"outlinewidth\":0,\"ticks\":\"\"}},\"type\":\"scatterpolar\"}],\"scatterpolargl\":[{\"marker\":{\"colorbar\":{\"outlinewidth\":0,\"ticks\":\"\"}},\"type\":\"scatterpolargl\"}],\"scatterternary\":[{\"marker\":{\"colorbar\":{\"outlinewidth\":0,\"ticks\":\"\"}},\"type\":\"scatterternary\"}],\"surface\":[{\"colorbar\":{\"outlinewidth\":0,\"ticks\":\"\"},\"colorscale\":[[0.0,\"#0d0887\"],[0.1111111111111111,\"#46039f\"],[0.2222222222222222,\"#7201a8\"],[0.3333333333333333,\"#9c179e\"],[0.4444444444444444,\"#bd3786\"],[0.5555555555555556,\"#d8576b\"],[0.6666666666666666,\"#ed7953\"],[0.7777777777777778,\"#fb9f3a\"],[0.8888888888888888,\"#fdca26\"],[1.0,\"#f0f921\"]],\"type\":\"surface\"}],\"table\":[{\"cells\":{\"fill\":{\"color\":\"#EBF0F8\"},\"line\":{\"color\":\"white\"}},\"header\":{\"fill\":{\"color\":\"#C8D4E3\"},\"line\":{\"color\":\"white\"}},\"type\":\"table\"}]},\"layout\":{\"annotationdefaults\":{\"arrowcolor\":\"#2a3f5f\",\"arrowhead\":0,\"arrowwidth\":1},\"autotypenumbers\":\"strict\",\"coloraxis\":{\"colorbar\":{\"outlinewidth\":0,\"ticks\":\"\"}},\"colorscale\":{\"diverging\":[[0,\"#8e0152\"],[0.1,\"#c51b7d\"],[0.2,\"#de77ae\"],[0.3,\"#f1b6da\"],[0.4,\"#fde0ef\"],[0.5,\"#f7f7f7\"],[0.6,\"#e6f5d0\"],[0.7,\"#b8e186\"],[0.8,\"#7fbc41\"],[0.9,\"#4d9221\"],[1,\"#276419\"]],\"sequential\":[[0.0,\"#0d0887\"],[0.1111111111111111,\"#46039f\"],[0.2222222222222222,\"#7201a8\"],[0.3333333333333333,\"#9c179e\"],[0.4444444444444444,\"#bd3786\"],[0.5555555555555556,\"#d8576b\"],[0.6666666666666666,\"#ed7953\"],[0.7777777777777778,\"#fb9f3a\"],[0.8888888888888888,\"#fdca26\"],[1.0,\"#f0f921\"]],\"sequentialminus\":[[0.0,\"#0d0887\"],[0.1111111111111111,\"#46039f\"],[0.2222222222222222,\"#7201a8\"],[0.3333333333333333,\"#9c179e\"],[0.4444444444444444,\"#bd3786\"],[0.5555555555555556,\"#d8576b\"],[0.6666666666666666,\"#ed7953\"],[0.7777777777777778,\"#fb9f3a\"],[0.8888888888888888,\"#fdca26\"],[1.0,\"#f0f921\"]]},\"colorway\":[\"#636efa\",\"#EF553B\",\"#00cc96\",\"#ab63fa\",\"#FFA15A\",\"#19d3f3\",\"#FF6692\",\"#B6E880\",\"#FF97FF\",\"#FECB52\"],\"font\":{\"color\":\"#2a3f5f\"},\"geo\":{\"bgcolor\":\"white\",\"lakecolor\":\"white\",\"landcolor\":\"#E5ECF6\",\"showlakes\":true,\"showland\":true,\"subunitcolor\":\"white\"},\"hoverlabel\":{\"align\":\"left\"},\"hovermode\":\"closest\",\"mapbox\":{\"style\":\"light\"},\"paper_bgcolor\":\"white\",\"plot_bgcolor\":\"#E5ECF6\",\"polar\":{\"angularaxis\":{\"gridcolor\":\"white\",\"linecolor\":\"white\",\"ticks\":\"\"},\"bgcolor\":\"#E5ECF6\",\"radialaxis\":{\"gridcolor\":\"white\",\"linecolor\":\"white\",\"ticks\":\"\"}},\"scene\":{\"xaxis\":{\"backgroundcolor\":\"#E5ECF6\",\"gridcolor\":\"white\",\"gridwidth\":2,\"linecolor\":\"white\",\"showbackground\":true,\"ticks\":\"\",\"zerolinecolor\":\"white\"},\"yaxis\":{\"backgroundcolor\":\"#E5ECF6\",\"gridcolor\":\"white\",\"gridwidth\":2,\"linecolor\":\"white\",\"showbackground\":true,\"ticks\":\"\",\"zerolinecolor\":\"white\"},\"zaxis\":{\"backgroundcolor\":\"#E5ECF6\",\"gridcolor\":\"white\",\"gridwidth\":2,\"linecolor\":\"white\",\"showbackground\":true,\"ticks\":\"\",\"zerolinecolor\":\"white\"}},\"shapedefaults\":{\"line\":{\"color\":\"#2a3f5f\"}},\"ternary\":{\"aaxis\":{\"gridcolor\":\"white\",\"linecolor\":\"white\",\"ticks\":\"\"},\"baxis\":{\"gridcolor\":\"white\",\"linecolor\":\"white\",\"ticks\":\"\"},\"bgcolor\":\"#E5ECF6\",\"caxis\":{\"gridcolor\":\"white\",\"linecolor\":\"white\",\"ticks\":\"\"}},\"title\":{\"x\":0.05},\"xaxis\":{\"automargin\":true,\"gridcolor\":\"white\",\"linecolor\":\"white\",\"ticks\":\"\",\"title\":{\"standoff\":15},\"zerolinecolor\":\"white\",\"zerolinewidth\":2},\"yaxis\":{\"automargin\":true,\"gridcolor\":\"white\",\"linecolor\":\"white\",\"ticks\":\"\",\"title\":{\"standoff\":15},\"zerolinecolor\":\"white\",\"zerolinewidth\":2}}},\"title\":{\"text\":\"Precios de restaurantes en Madrid\"}},                        {\"responsive\": true}                    ).then(function(){\n",
       "                            \n",
       "var gd = document.getElementById('b21b29fe-4e8f-472c-a556-3549f295bfb1');\n",
       "var x = new MutationObserver(function (mutations, observer) {{\n",
       "        var display = window.getComputedStyle(gd).display;\n",
       "        if (!display || display === 'none') {{\n",
       "            console.log([gd, 'removed!']);\n",
       "            Plotly.purge(gd);\n",
       "            observer.disconnect();\n",
       "        }}\n",
       "}});\n",
       "\n",
       "// Listen for the removal of the full notebook cells\n",
       "var notebookContainer = gd.closest('#notebook-container');\n",
       "if (notebookContainer) {{\n",
       "    x.observe(notebookContainer, {childList: true});\n",
       "}}\n",
       "\n",
       "// Listen for the clearing of the current output cell\n",
       "var outputEl = gd.closest('.output');\n",
       "if (outputEl) {{\n",
       "    x.observe(outputEl, {childList: true});\n",
       "}}\n",
       "\n",
       "                        })                };                });            </script>        </div>"
      ]
     },
     "metadata": {},
     "output_type": "display_data"
    }
   ],
   "source": [
    "fig = px.pie(df, values='price', names='price_2', title='Precios de restaurantes en Madrid')\n",
    "fig.show()"
   ]
  },
  {
   "cell_type": "code",
   "execution_count": 60,
   "id": "5c5f0485",
   "metadata": {},
   "outputs": [
    {
     "ename": "SyntaxError",
     "evalue": "EOL while scanning string literal (<ipython-input-60-be7742d92723>, line 1)",
     "output_type": "error",
     "traceback": [
      "\u001b[0;36m  File \u001b[0;32m\"<ipython-input-60-be7742d92723>\"\u001b[0;36m, line \u001b[0;32m1\u001b[0m\n\u001b[0;31m    fig = px.bar(df, x=\"type, y=df.type.value_counts().values)\u001b[0m\n\u001b[0m                                                              ^\u001b[0m\n\u001b[0;31mSyntaxError\u001b[0m\u001b[0;31m:\u001b[0m EOL while scanning string literal\n"
     ]
    }
   ],
   "source": [
    "fig = px.bar(df, x=\"type, y=df.type.value_counts().values)\n",
    "fig.show()"
   ]
  },
  {
   "cell_type": "code",
   "execution_count": 71,
   "id": "ad26de4d",
   "metadata": {},
   "outputs": [],
   "source": [
    "\n",
    "fig = px.bar(df, x=df.type.value_counts().index, y=df.type.value_counts().values)"
   ]
  },
  {
   "cell_type": "code",
   "execution_count": 64,
   "id": "2c9b159b",
   "metadata": {},
   "outputs": [
    {
     "data": {
      "application/vnd.plotly.v1+json": {
       "config": {
        "plotlyServerURL": "https://plot.ly"
       },
       "data": [
        {
         "alignmentgroup": "True",
         "hovertemplate": "x=%{x}<br>y=%{y}<extra></extra>",
         "legendgroup": "",
         "marker": {
          "color": "#636efa",
          "pattern": {
           "shape": ""
          }
         },
         "name": "",
         "offsetgroup": "",
         "orientation": "v",
         "showlegend": false,
         "textposition": "auto",
         "type": "bar",
         "x": [
          "Mediterránea",
          "Italiana",
          "Café y postres",
          "Bar",
          "Asiática",
          "Americana",
          "Internacional",
          "Asador",
          "Marisco",
          "Mexicana",
          "Latina",
          "Europea",
          "India",
          "Otros",
          "Fusión",
          "Filipina",
          "Marroquí"
         ],
         "xaxis": "x",
         "y": [
          178,
          54,
          39,
          37,
          33,
          25,
          24,
          22,
          18,
          17,
          16,
          13,
          9,
          9,
          2,
          1,
          1
         ],
         "yaxis": "y"
        }
       ],
       "layout": {
        "barmode": "relative",
        "legend": {
         "tracegroupgap": 0
        },
        "margin": {
         "t": 60
        },
        "template": {
         "data": {
          "bar": [
           {
            "error_x": {
             "color": "#2a3f5f"
            },
            "error_y": {
             "color": "#2a3f5f"
            },
            "marker": {
             "line": {
              "color": "#E5ECF6",
              "width": 0.5
             },
             "pattern": {
              "fillmode": "overlay",
              "size": 10,
              "solidity": 0.2
             }
            },
            "type": "bar"
           }
          ],
          "barpolar": [
           {
            "marker": {
             "line": {
              "color": "#E5ECF6",
              "width": 0.5
             },
             "pattern": {
              "fillmode": "overlay",
              "size": 10,
              "solidity": 0.2
             }
            },
            "type": "barpolar"
           }
          ],
          "carpet": [
           {
            "aaxis": {
             "endlinecolor": "#2a3f5f",
             "gridcolor": "white",
             "linecolor": "white",
             "minorgridcolor": "white",
             "startlinecolor": "#2a3f5f"
            },
            "baxis": {
             "endlinecolor": "#2a3f5f",
             "gridcolor": "white",
             "linecolor": "white",
             "minorgridcolor": "white",
             "startlinecolor": "#2a3f5f"
            },
            "type": "carpet"
           }
          ],
          "choropleth": [
           {
            "colorbar": {
             "outlinewidth": 0,
             "ticks": ""
            },
            "type": "choropleth"
           }
          ],
          "contour": [
           {
            "colorbar": {
             "outlinewidth": 0,
             "ticks": ""
            },
            "colorscale": [
             [
              0,
              "#0d0887"
             ],
             [
              0.1111111111111111,
              "#46039f"
             ],
             [
              0.2222222222222222,
              "#7201a8"
             ],
             [
              0.3333333333333333,
              "#9c179e"
             ],
             [
              0.4444444444444444,
              "#bd3786"
             ],
             [
              0.5555555555555556,
              "#d8576b"
             ],
             [
              0.6666666666666666,
              "#ed7953"
             ],
             [
              0.7777777777777778,
              "#fb9f3a"
             ],
             [
              0.8888888888888888,
              "#fdca26"
             ],
             [
              1,
              "#f0f921"
             ]
            ],
            "type": "contour"
           }
          ],
          "contourcarpet": [
           {
            "colorbar": {
             "outlinewidth": 0,
             "ticks": ""
            },
            "type": "contourcarpet"
           }
          ],
          "heatmap": [
           {
            "colorbar": {
             "outlinewidth": 0,
             "ticks": ""
            },
            "colorscale": [
             [
              0,
              "#0d0887"
             ],
             [
              0.1111111111111111,
              "#46039f"
             ],
             [
              0.2222222222222222,
              "#7201a8"
             ],
             [
              0.3333333333333333,
              "#9c179e"
             ],
             [
              0.4444444444444444,
              "#bd3786"
             ],
             [
              0.5555555555555556,
              "#d8576b"
             ],
             [
              0.6666666666666666,
              "#ed7953"
             ],
             [
              0.7777777777777778,
              "#fb9f3a"
             ],
             [
              0.8888888888888888,
              "#fdca26"
             ],
             [
              1,
              "#f0f921"
             ]
            ],
            "type": "heatmap"
           }
          ],
          "heatmapgl": [
           {
            "colorbar": {
             "outlinewidth": 0,
             "ticks": ""
            },
            "colorscale": [
             [
              0,
              "#0d0887"
             ],
             [
              0.1111111111111111,
              "#46039f"
             ],
             [
              0.2222222222222222,
              "#7201a8"
             ],
             [
              0.3333333333333333,
              "#9c179e"
             ],
             [
              0.4444444444444444,
              "#bd3786"
             ],
             [
              0.5555555555555556,
              "#d8576b"
             ],
             [
              0.6666666666666666,
              "#ed7953"
             ],
             [
              0.7777777777777778,
              "#fb9f3a"
             ],
             [
              0.8888888888888888,
              "#fdca26"
             ],
             [
              1,
              "#f0f921"
             ]
            ],
            "type": "heatmapgl"
           }
          ],
          "histogram": [
           {
            "marker": {
             "pattern": {
              "fillmode": "overlay",
              "size": 10,
              "solidity": 0.2
             }
            },
            "type": "histogram"
           }
          ],
          "histogram2d": [
           {
            "colorbar": {
             "outlinewidth": 0,
             "ticks": ""
            },
            "colorscale": [
             [
              0,
              "#0d0887"
             ],
             [
              0.1111111111111111,
              "#46039f"
             ],
             [
              0.2222222222222222,
              "#7201a8"
             ],
             [
              0.3333333333333333,
              "#9c179e"
             ],
             [
              0.4444444444444444,
              "#bd3786"
             ],
             [
              0.5555555555555556,
              "#d8576b"
             ],
             [
              0.6666666666666666,
              "#ed7953"
             ],
             [
              0.7777777777777778,
              "#fb9f3a"
             ],
             [
              0.8888888888888888,
              "#fdca26"
             ],
             [
              1,
              "#f0f921"
             ]
            ],
            "type": "histogram2d"
           }
          ],
          "histogram2dcontour": [
           {
            "colorbar": {
             "outlinewidth": 0,
             "ticks": ""
            },
            "colorscale": [
             [
              0,
              "#0d0887"
             ],
             [
              0.1111111111111111,
              "#46039f"
             ],
             [
              0.2222222222222222,
              "#7201a8"
             ],
             [
              0.3333333333333333,
              "#9c179e"
             ],
             [
              0.4444444444444444,
              "#bd3786"
             ],
             [
              0.5555555555555556,
              "#d8576b"
             ],
             [
              0.6666666666666666,
              "#ed7953"
             ],
             [
              0.7777777777777778,
              "#fb9f3a"
             ],
             [
              0.8888888888888888,
              "#fdca26"
             ],
             [
              1,
              "#f0f921"
             ]
            ],
            "type": "histogram2dcontour"
           }
          ],
          "mesh3d": [
           {
            "colorbar": {
             "outlinewidth": 0,
             "ticks": ""
            },
            "type": "mesh3d"
           }
          ],
          "parcoords": [
           {
            "line": {
             "colorbar": {
              "outlinewidth": 0,
              "ticks": ""
             }
            },
            "type": "parcoords"
           }
          ],
          "pie": [
           {
            "automargin": true,
            "type": "pie"
           }
          ],
          "scatter": [
           {
            "marker": {
             "colorbar": {
              "outlinewidth": 0,
              "ticks": ""
             }
            },
            "type": "scatter"
           }
          ],
          "scatter3d": [
           {
            "line": {
             "colorbar": {
              "outlinewidth": 0,
              "ticks": ""
             }
            },
            "marker": {
             "colorbar": {
              "outlinewidth": 0,
              "ticks": ""
             }
            },
            "type": "scatter3d"
           }
          ],
          "scattercarpet": [
           {
            "marker": {
             "colorbar": {
              "outlinewidth": 0,
              "ticks": ""
             }
            },
            "type": "scattercarpet"
           }
          ],
          "scattergeo": [
           {
            "marker": {
             "colorbar": {
              "outlinewidth": 0,
              "ticks": ""
             }
            },
            "type": "scattergeo"
           }
          ],
          "scattergl": [
           {
            "marker": {
             "colorbar": {
              "outlinewidth": 0,
              "ticks": ""
             }
            },
            "type": "scattergl"
           }
          ],
          "scattermapbox": [
           {
            "marker": {
             "colorbar": {
              "outlinewidth": 0,
              "ticks": ""
             }
            },
            "type": "scattermapbox"
           }
          ],
          "scatterpolar": [
           {
            "marker": {
             "colorbar": {
              "outlinewidth": 0,
              "ticks": ""
             }
            },
            "type": "scatterpolar"
           }
          ],
          "scatterpolargl": [
           {
            "marker": {
             "colorbar": {
              "outlinewidth": 0,
              "ticks": ""
             }
            },
            "type": "scatterpolargl"
           }
          ],
          "scatterternary": [
           {
            "marker": {
             "colorbar": {
              "outlinewidth": 0,
              "ticks": ""
             }
            },
            "type": "scatterternary"
           }
          ],
          "surface": [
           {
            "colorbar": {
             "outlinewidth": 0,
             "ticks": ""
            },
            "colorscale": [
             [
              0,
              "#0d0887"
             ],
             [
              0.1111111111111111,
              "#46039f"
             ],
             [
              0.2222222222222222,
              "#7201a8"
             ],
             [
              0.3333333333333333,
              "#9c179e"
             ],
             [
              0.4444444444444444,
              "#bd3786"
             ],
             [
              0.5555555555555556,
              "#d8576b"
             ],
             [
              0.6666666666666666,
              "#ed7953"
             ],
             [
              0.7777777777777778,
              "#fb9f3a"
             ],
             [
              0.8888888888888888,
              "#fdca26"
             ],
             [
              1,
              "#f0f921"
             ]
            ],
            "type": "surface"
           }
          ],
          "table": [
           {
            "cells": {
             "fill": {
              "color": "#EBF0F8"
             },
             "line": {
              "color": "white"
             }
            },
            "header": {
             "fill": {
              "color": "#C8D4E3"
             },
             "line": {
              "color": "white"
             }
            },
            "type": "table"
           }
          ]
         },
         "layout": {
          "annotationdefaults": {
           "arrowcolor": "#2a3f5f",
           "arrowhead": 0,
           "arrowwidth": 1
          },
          "autotypenumbers": "strict",
          "coloraxis": {
           "colorbar": {
            "outlinewidth": 0,
            "ticks": ""
           }
          },
          "colorscale": {
           "diverging": [
            [
             0,
             "#8e0152"
            ],
            [
             0.1,
             "#c51b7d"
            ],
            [
             0.2,
             "#de77ae"
            ],
            [
             0.3,
             "#f1b6da"
            ],
            [
             0.4,
             "#fde0ef"
            ],
            [
             0.5,
             "#f7f7f7"
            ],
            [
             0.6,
             "#e6f5d0"
            ],
            [
             0.7,
             "#b8e186"
            ],
            [
             0.8,
             "#7fbc41"
            ],
            [
             0.9,
             "#4d9221"
            ],
            [
             1,
             "#276419"
            ]
           ],
           "sequential": [
            [
             0,
             "#0d0887"
            ],
            [
             0.1111111111111111,
             "#46039f"
            ],
            [
             0.2222222222222222,
             "#7201a8"
            ],
            [
             0.3333333333333333,
             "#9c179e"
            ],
            [
             0.4444444444444444,
             "#bd3786"
            ],
            [
             0.5555555555555556,
             "#d8576b"
            ],
            [
             0.6666666666666666,
             "#ed7953"
            ],
            [
             0.7777777777777778,
             "#fb9f3a"
            ],
            [
             0.8888888888888888,
             "#fdca26"
            ],
            [
             1,
             "#f0f921"
            ]
           ],
           "sequentialminus": [
            [
             0,
             "#0d0887"
            ],
            [
             0.1111111111111111,
             "#46039f"
            ],
            [
             0.2222222222222222,
             "#7201a8"
            ],
            [
             0.3333333333333333,
             "#9c179e"
            ],
            [
             0.4444444444444444,
             "#bd3786"
            ],
            [
             0.5555555555555556,
             "#d8576b"
            ],
            [
             0.6666666666666666,
             "#ed7953"
            ],
            [
             0.7777777777777778,
             "#fb9f3a"
            ],
            [
             0.8888888888888888,
             "#fdca26"
            ],
            [
             1,
             "#f0f921"
            ]
           ]
          },
          "colorway": [
           "#636efa",
           "#EF553B",
           "#00cc96",
           "#ab63fa",
           "#FFA15A",
           "#19d3f3",
           "#FF6692",
           "#B6E880",
           "#FF97FF",
           "#FECB52"
          ],
          "font": {
           "color": "#2a3f5f"
          },
          "geo": {
           "bgcolor": "white",
           "lakecolor": "white",
           "landcolor": "#E5ECF6",
           "showlakes": true,
           "showland": true,
           "subunitcolor": "white"
          },
          "hoverlabel": {
           "align": "left"
          },
          "hovermode": "closest",
          "mapbox": {
           "style": "light"
          },
          "paper_bgcolor": "white",
          "plot_bgcolor": "#E5ECF6",
          "polar": {
           "angularaxis": {
            "gridcolor": "white",
            "linecolor": "white",
            "ticks": ""
           },
           "bgcolor": "#E5ECF6",
           "radialaxis": {
            "gridcolor": "white",
            "linecolor": "white",
            "ticks": ""
           }
          },
          "scene": {
           "xaxis": {
            "backgroundcolor": "#E5ECF6",
            "gridcolor": "white",
            "gridwidth": 2,
            "linecolor": "white",
            "showbackground": true,
            "ticks": "",
            "zerolinecolor": "white"
           },
           "yaxis": {
            "backgroundcolor": "#E5ECF6",
            "gridcolor": "white",
            "gridwidth": 2,
            "linecolor": "white",
            "showbackground": true,
            "ticks": "",
            "zerolinecolor": "white"
           },
           "zaxis": {
            "backgroundcolor": "#E5ECF6",
            "gridcolor": "white",
            "gridwidth": 2,
            "linecolor": "white",
            "showbackground": true,
            "ticks": "",
            "zerolinecolor": "white"
           }
          },
          "shapedefaults": {
           "line": {
            "color": "#2a3f5f"
           }
          },
          "ternary": {
           "aaxis": {
            "gridcolor": "white",
            "linecolor": "white",
            "ticks": ""
           },
           "baxis": {
            "gridcolor": "white",
            "linecolor": "white",
            "ticks": ""
           },
           "bgcolor": "#E5ECF6",
           "caxis": {
            "gridcolor": "white",
            "linecolor": "white",
            "ticks": ""
           }
          },
          "title": {
           "x": 0.05
          },
          "xaxis": {
           "automargin": true,
           "gridcolor": "white",
           "linecolor": "white",
           "ticks": "",
           "title": {
            "standoff": 15
           },
           "zerolinecolor": "white",
           "zerolinewidth": 2
          },
          "yaxis": {
           "automargin": true,
           "gridcolor": "white",
           "linecolor": "white",
           "ticks": "",
           "title": {
            "standoff": 15
           },
           "zerolinecolor": "white",
           "zerolinewidth": 2
          }
         }
        },
        "xaxis": {
         "anchor": "y",
         "domain": [
          0,
          1
         ],
         "title": {
          "text": "x"
         }
        },
        "yaxis": {
         "anchor": "x",
         "domain": [
          0,
          1
         ],
         "title": {
          "text": "y"
         }
        }
       }
      },
      "text/html": [
       "<div>                            <div id=\"2cd936bf-294b-41e2-81ed-bc684993ef1d\" class=\"plotly-graph-div\" style=\"height:525px; width:100%;\"></div>            <script type=\"text/javascript\">                require([\"plotly\"], function(Plotly) {                    window.PLOTLYENV=window.PLOTLYENV || {};                                    if (document.getElementById(\"2cd936bf-294b-41e2-81ed-bc684993ef1d\")) {                    Plotly.newPlot(                        \"2cd936bf-294b-41e2-81ed-bc684993ef1d\",                        [{\"alignmentgroup\":\"True\",\"hovertemplate\":\"x=%{x}<br>y=%{y}<extra></extra>\",\"legendgroup\":\"\",\"marker\":{\"color\":\"#636efa\",\"pattern\":{\"shape\":\"\"}},\"name\":\"\",\"offsetgroup\":\"\",\"orientation\":\"v\",\"showlegend\":false,\"textposition\":\"auto\",\"type\":\"bar\",\"x\":[\"Mediterr\\u00e1nea\",\"Italiana\",\"Caf\\u00e9 y postres\",\"Bar\",\"Asi\\u00e1tica\",\"Americana\",\"Internacional\",\"Asador\",\"Marisco\",\"Mexicana\",\"Latina\",\"Europea\",\"India\",\"Otros\",\"Fusi\\u00f3n\",\"Filipina\",\"Marroqu\\u00ed\"],\"xaxis\":\"x\",\"y\":[178,54,39,37,33,25,24,22,18,17,16,13,9,9,2,1,1],\"yaxis\":\"y\"}],                        {\"barmode\":\"relative\",\"legend\":{\"tracegroupgap\":0},\"margin\":{\"t\":60},\"template\":{\"data\":{\"bar\":[{\"error_x\":{\"color\":\"#2a3f5f\"},\"error_y\":{\"color\":\"#2a3f5f\"},\"marker\":{\"line\":{\"color\":\"#E5ECF6\",\"width\":0.5},\"pattern\":{\"fillmode\":\"overlay\",\"size\":10,\"solidity\":0.2}},\"type\":\"bar\"}],\"barpolar\":[{\"marker\":{\"line\":{\"color\":\"#E5ECF6\",\"width\":0.5},\"pattern\":{\"fillmode\":\"overlay\",\"size\":10,\"solidity\":0.2}},\"type\":\"barpolar\"}],\"carpet\":[{\"aaxis\":{\"endlinecolor\":\"#2a3f5f\",\"gridcolor\":\"white\",\"linecolor\":\"white\",\"minorgridcolor\":\"white\",\"startlinecolor\":\"#2a3f5f\"},\"baxis\":{\"endlinecolor\":\"#2a3f5f\",\"gridcolor\":\"white\",\"linecolor\":\"white\",\"minorgridcolor\":\"white\",\"startlinecolor\":\"#2a3f5f\"},\"type\":\"carpet\"}],\"choropleth\":[{\"colorbar\":{\"outlinewidth\":0,\"ticks\":\"\"},\"type\":\"choropleth\"}],\"contour\":[{\"colorbar\":{\"outlinewidth\":0,\"ticks\":\"\"},\"colorscale\":[[0.0,\"#0d0887\"],[0.1111111111111111,\"#46039f\"],[0.2222222222222222,\"#7201a8\"],[0.3333333333333333,\"#9c179e\"],[0.4444444444444444,\"#bd3786\"],[0.5555555555555556,\"#d8576b\"],[0.6666666666666666,\"#ed7953\"],[0.7777777777777778,\"#fb9f3a\"],[0.8888888888888888,\"#fdca26\"],[1.0,\"#f0f921\"]],\"type\":\"contour\"}],\"contourcarpet\":[{\"colorbar\":{\"outlinewidth\":0,\"ticks\":\"\"},\"type\":\"contourcarpet\"}],\"heatmap\":[{\"colorbar\":{\"outlinewidth\":0,\"ticks\":\"\"},\"colorscale\":[[0.0,\"#0d0887\"],[0.1111111111111111,\"#46039f\"],[0.2222222222222222,\"#7201a8\"],[0.3333333333333333,\"#9c179e\"],[0.4444444444444444,\"#bd3786\"],[0.5555555555555556,\"#d8576b\"],[0.6666666666666666,\"#ed7953\"],[0.7777777777777778,\"#fb9f3a\"],[0.8888888888888888,\"#fdca26\"],[1.0,\"#f0f921\"]],\"type\":\"heatmap\"}],\"heatmapgl\":[{\"colorbar\":{\"outlinewidth\":0,\"ticks\":\"\"},\"colorscale\":[[0.0,\"#0d0887\"],[0.1111111111111111,\"#46039f\"],[0.2222222222222222,\"#7201a8\"],[0.3333333333333333,\"#9c179e\"],[0.4444444444444444,\"#bd3786\"],[0.5555555555555556,\"#d8576b\"],[0.6666666666666666,\"#ed7953\"],[0.7777777777777778,\"#fb9f3a\"],[0.8888888888888888,\"#fdca26\"],[1.0,\"#f0f921\"]],\"type\":\"heatmapgl\"}],\"histogram\":[{\"marker\":{\"pattern\":{\"fillmode\":\"overlay\",\"size\":10,\"solidity\":0.2}},\"type\":\"histogram\"}],\"histogram2d\":[{\"colorbar\":{\"outlinewidth\":0,\"ticks\":\"\"},\"colorscale\":[[0.0,\"#0d0887\"],[0.1111111111111111,\"#46039f\"],[0.2222222222222222,\"#7201a8\"],[0.3333333333333333,\"#9c179e\"],[0.4444444444444444,\"#bd3786\"],[0.5555555555555556,\"#d8576b\"],[0.6666666666666666,\"#ed7953\"],[0.7777777777777778,\"#fb9f3a\"],[0.8888888888888888,\"#fdca26\"],[1.0,\"#f0f921\"]],\"type\":\"histogram2d\"}],\"histogram2dcontour\":[{\"colorbar\":{\"outlinewidth\":0,\"ticks\":\"\"},\"colorscale\":[[0.0,\"#0d0887\"],[0.1111111111111111,\"#46039f\"],[0.2222222222222222,\"#7201a8\"],[0.3333333333333333,\"#9c179e\"],[0.4444444444444444,\"#bd3786\"],[0.5555555555555556,\"#d8576b\"],[0.6666666666666666,\"#ed7953\"],[0.7777777777777778,\"#fb9f3a\"],[0.8888888888888888,\"#fdca26\"],[1.0,\"#f0f921\"]],\"type\":\"histogram2dcontour\"}],\"mesh3d\":[{\"colorbar\":{\"outlinewidth\":0,\"ticks\":\"\"},\"type\":\"mesh3d\"}],\"parcoords\":[{\"line\":{\"colorbar\":{\"outlinewidth\":0,\"ticks\":\"\"}},\"type\":\"parcoords\"}],\"pie\":[{\"automargin\":true,\"type\":\"pie\"}],\"scatter\":[{\"marker\":{\"colorbar\":{\"outlinewidth\":0,\"ticks\":\"\"}},\"type\":\"scatter\"}],\"scatter3d\":[{\"line\":{\"colorbar\":{\"outlinewidth\":0,\"ticks\":\"\"}},\"marker\":{\"colorbar\":{\"outlinewidth\":0,\"ticks\":\"\"}},\"type\":\"scatter3d\"}],\"scattercarpet\":[{\"marker\":{\"colorbar\":{\"outlinewidth\":0,\"ticks\":\"\"}},\"type\":\"scattercarpet\"}],\"scattergeo\":[{\"marker\":{\"colorbar\":{\"outlinewidth\":0,\"ticks\":\"\"}},\"type\":\"scattergeo\"}],\"scattergl\":[{\"marker\":{\"colorbar\":{\"outlinewidth\":0,\"ticks\":\"\"}},\"type\":\"scattergl\"}],\"scattermapbox\":[{\"marker\":{\"colorbar\":{\"outlinewidth\":0,\"ticks\":\"\"}},\"type\":\"scattermapbox\"}],\"scatterpolar\":[{\"marker\":{\"colorbar\":{\"outlinewidth\":0,\"ticks\":\"\"}},\"type\":\"scatterpolar\"}],\"scatterpolargl\":[{\"marker\":{\"colorbar\":{\"outlinewidth\":0,\"ticks\":\"\"}},\"type\":\"scatterpolargl\"}],\"scatterternary\":[{\"marker\":{\"colorbar\":{\"outlinewidth\":0,\"ticks\":\"\"}},\"type\":\"scatterternary\"}],\"surface\":[{\"colorbar\":{\"outlinewidth\":0,\"ticks\":\"\"},\"colorscale\":[[0.0,\"#0d0887\"],[0.1111111111111111,\"#46039f\"],[0.2222222222222222,\"#7201a8\"],[0.3333333333333333,\"#9c179e\"],[0.4444444444444444,\"#bd3786\"],[0.5555555555555556,\"#d8576b\"],[0.6666666666666666,\"#ed7953\"],[0.7777777777777778,\"#fb9f3a\"],[0.8888888888888888,\"#fdca26\"],[1.0,\"#f0f921\"]],\"type\":\"surface\"}],\"table\":[{\"cells\":{\"fill\":{\"color\":\"#EBF0F8\"},\"line\":{\"color\":\"white\"}},\"header\":{\"fill\":{\"color\":\"#C8D4E3\"},\"line\":{\"color\":\"white\"}},\"type\":\"table\"}]},\"layout\":{\"annotationdefaults\":{\"arrowcolor\":\"#2a3f5f\",\"arrowhead\":0,\"arrowwidth\":1},\"autotypenumbers\":\"strict\",\"coloraxis\":{\"colorbar\":{\"outlinewidth\":0,\"ticks\":\"\"}},\"colorscale\":{\"diverging\":[[0,\"#8e0152\"],[0.1,\"#c51b7d\"],[0.2,\"#de77ae\"],[0.3,\"#f1b6da\"],[0.4,\"#fde0ef\"],[0.5,\"#f7f7f7\"],[0.6,\"#e6f5d0\"],[0.7,\"#b8e186\"],[0.8,\"#7fbc41\"],[0.9,\"#4d9221\"],[1,\"#276419\"]],\"sequential\":[[0.0,\"#0d0887\"],[0.1111111111111111,\"#46039f\"],[0.2222222222222222,\"#7201a8\"],[0.3333333333333333,\"#9c179e\"],[0.4444444444444444,\"#bd3786\"],[0.5555555555555556,\"#d8576b\"],[0.6666666666666666,\"#ed7953\"],[0.7777777777777778,\"#fb9f3a\"],[0.8888888888888888,\"#fdca26\"],[1.0,\"#f0f921\"]],\"sequentialminus\":[[0.0,\"#0d0887\"],[0.1111111111111111,\"#46039f\"],[0.2222222222222222,\"#7201a8\"],[0.3333333333333333,\"#9c179e\"],[0.4444444444444444,\"#bd3786\"],[0.5555555555555556,\"#d8576b\"],[0.6666666666666666,\"#ed7953\"],[0.7777777777777778,\"#fb9f3a\"],[0.8888888888888888,\"#fdca26\"],[1.0,\"#f0f921\"]]},\"colorway\":[\"#636efa\",\"#EF553B\",\"#00cc96\",\"#ab63fa\",\"#FFA15A\",\"#19d3f3\",\"#FF6692\",\"#B6E880\",\"#FF97FF\",\"#FECB52\"],\"font\":{\"color\":\"#2a3f5f\"},\"geo\":{\"bgcolor\":\"white\",\"lakecolor\":\"white\",\"landcolor\":\"#E5ECF6\",\"showlakes\":true,\"showland\":true,\"subunitcolor\":\"white\"},\"hoverlabel\":{\"align\":\"left\"},\"hovermode\":\"closest\",\"mapbox\":{\"style\":\"light\"},\"paper_bgcolor\":\"white\",\"plot_bgcolor\":\"#E5ECF6\",\"polar\":{\"angularaxis\":{\"gridcolor\":\"white\",\"linecolor\":\"white\",\"ticks\":\"\"},\"bgcolor\":\"#E5ECF6\",\"radialaxis\":{\"gridcolor\":\"white\",\"linecolor\":\"white\",\"ticks\":\"\"}},\"scene\":{\"xaxis\":{\"backgroundcolor\":\"#E5ECF6\",\"gridcolor\":\"white\",\"gridwidth\":2,\"linecolor\":\"white\",\"showbackground\":true,\"ticks\":\"\",\"zerolinecolor\":\"white\"},\"yaxis\":{\"backgroundcolor\":\"#E5ECF6\",\"gridcolor\":\"white\",\"gridwidth\":2,\"linecolor\":\"white\",\"showbackground\":true,\"ticks\":\"\",\"zerolinecolor\":\"white\"},\"zaxis\":{\"backgroundcolor\":\"#E5ECF6\",\"gridcolor\":\"white\",\"gridwidth\":2,\"linecolor\":\"white\",\"showbackground\":true,\"ticks\":\"\",\"zerolinecolor\":\"white\"}},\"shapedefaults\":{\"line\":{\"color\":\"#2a3f5f\"}},\"ternary\":{\"aaxis\":{\"gridcolor\":\"white\",\"linecolor\":\"white\",\"ticks\":\"\"},\"baxis\":{\"gridcolor\":\"white\",\"linecolor\":\"white\",\"ticks\":\"\"},\"bgcolor\":\"#E5ECF6\",\"caxis\":{\"gridcolor\":\"white\",\"linecolor\":\"white\",\"ticks\":\"\"}},\"title\":{\"x\":0.05},\"xaxis\":{\"automargin\":true,\"gridcolor\":\"white\",\"linecolor\":\"white\",\"ticks\":\"\",\"title\":{\"standoff\":15},\"zerolinecolor\":\"white\",\"zerolinewidth\":2},\"yaxis\":{\"automargin\":true,\"gridcolor\":\"white\",\"linecolor\":\"white\",\"ticks\":\"\",\"title\":{\"standoff\":15},\"zerolinecolor\":\"white\",\"zerolinewidth\":2}}},\"xaxis\":{\"anchor\":\"y\",\"domain\":[0.0,1.0],\"title\":{\"text\":\"x\"}},\"yaxis\":{\"anchor\":\"x\",\"domain\":[0.0,1.0],\"title\":{\"text\":\"y\"}}},                        {\"responsive\": true}                    ).then(function(){\n",
       "                            \n",
       "var gd = document.getElementById('2cd936bf-294b-41e2-81ed-bc684993ef1d');\n",
       "var x = new MutationObserver(function (mutations, observer) {{\n",
       "        var display = window.getComputedStyle(gd).display;\n",
       "        if (!display || display === 'none') {{\n",
       "            console.log([gd, 'removed!']);\n",
       "            Plotly.purge(gd);\n",
       "            observer.disconnect();\n",
       "        }}\n",
       "}});\n",
       "\n",
       "// Listen for the removal of the full notebook cells\n",
       "var notebookContainer = gd.closest('#notebook-container');\n",
       "if (notebookContainer) {{\n",
       "    x.observe(notebookContainer, {childList: true});\n",
       "}}\n",
       "\n",
       "// Listen for the clearing of the current output cell\n",
       "var outputEl = gd.closest('.output');\n",
       "if (outputEl) {{\n",
       "    x.observe(outputEl, {childList: true});\n",
       "}}\n",
       "\n",
       "                        })                };                });            </script>        </div>"
      ]
     },
     "metadata": {},
     "output_type": "display_data"
    }
   ],
   "source": [
    "fig.show()"
   ]
  },
  {
   "cell_type": "code",
   "execution_count": 108,
   "id": "d34d2a7b",
   "metadata": {},
   "outputs": [
    {
     "ename": "ValueError",
     "evalue": "Value of 'x' is not the name of a column in 'data_frame'. Expected one of ['indice', 'name', 'address', 'type', 'ranking', 'price', 'direccion', 'comunidad', 'street', 'street_2', 'coordinates', 'street_3', 'coordinates_v2', 'type_point', 'longitude', 'latitude', 'price_2'] but received: <class 'type'>",
     "output_type": "error",
     "traceback": [
      "\u001b[0;31m---------------------------------------------------------------------------\u001b[0m",
      "\u001b[0;31mValueError\u001b[0m                                Traceback (most recent call last)",
      "\u001b[0;32m<ipython-input-108-778cc88b57ac>\u001b[0m in \u001b[0;36m<module>\u001b[0;34m\u001b[0m\n\u001b[0;32m----> 1\u001b[0;31m \u001b[0mfig\u001b[0m \u001b[0;34m=\u001b[0m \u001b[0mpx\u001b[0m\u001b[0;34m.\u001b[0m\u001b[0mbar\u001b[0m\u001b[0;34m(\u001b[0m\u001b[0mdf_visual\u001b[0m\u001b[0;34m,\u001b[0m \u001b[0mx\u001b[0m\u001b[0;34m=\u001b[0m\u001b[0mtype\u001b[0m\u001b[0;34m,\u001b[0m \u001b[0my\u001b[0m\u001b[0;34m=\u001b[0m\u001b[0mdf\u001b[0m\u001b[0;34m.\u001b[0m\u001b[0mtype\u001b[0m\u001b[0;34m.\u001b[0m\u001b[0mvalue_counts\u001b[0m\u001b[0;34m(\u001b[0m\u001b[0;34m)\u001b[0m\u001b[0;34m.\u001b[0m\u001b[0mvalues\u001b[0m\u001b[0;34m,\u001b[0m \u001b[0mcolor\u001b[0m\u001b[0;34m=\u001b[0m\u001b[0;34m\"price_2\"\u001b[0m\u001b[0;34m,\u001b[0m \u001b[0mtitle\u001b[0m\u001b[0;34m=\u001b[0m\u001b[0;34m\"Long-Form Input\"\u001b[0m\u001b[0;34m)\u001b[0m\u001b[0;34m\u001b[0m\u001b[0;34m\u001b[0m\u001b[0m\n\u001b[0m\u001b[1;32m      2\u001b[0m \u001b[0mfig\u001b[0m\u001b[0;34m.\u001b[0m\u001b[0mshow\u001b[0m\u001b[0;34m(\u001b[0m\u001b[0;34m)\u001b[0m\u001b[0;34m\u001b[0m\u001b[0;34m\u001b[0m\u001b[0m\n",
      "\u001b[0;32m/opt/anaconda3/envs/ironhack/lib/python3.8/site-packages/plotly/express/_chart_types.py\u001b[0m in \u001b[0;36mbar\u001b[0;34m(data_frame, x, y, color, pattern_shape, facet_row, facet_col, facet_col_wrap, facet_row_spacing, facet_col_spacing, hover_name, hover_data, custom_data, text, base, error_x, error_x_minus, error_y, error_y_minus, animation_frame, animation_group, category_orders, labels, color_discrete_sequence, color_discrete_map, color_continuous_scale, pattern_shape_sequence, pattern_shape_map, range_color, color_continuous_midpoint, opacity, orientation, barmode, log_x, log_y, range_x, range_y, title, template, width, height)\u001b[0m\n\u001b[1;32m    363\u001b[0m     \u001b[0mmark\u001b[0m\u001b[0;34m.\u001b[0m\u001b[0;34m\u001b[0m\u001b[0;34m\u001b[0m\u001b[0m\n\u001b[1;32m    364\u001b[0m     \"\"\"\n\u001b[0;32m--> 365\u001b[0;31m     return make_figure(\n\u001b[0m\u001b[1;32m    366\u001b[0m         \u001b[0margs\u001b[0m\u001b[0;34m=\u001b[0m\u001b[0mlocals\u001b[0m\u001b[0;34m(\u001b[0m\u001b[0;34m)\u001b[0m\u001b[0;34m,\u001b[0m\u001b[0;34m\u001b[0m\u001b[0;34m\u001b[0m\u001b[0m\n\u001b[1;32m    367\u001b[0m         \u001b[0mconstructor\u001b[0m\u001b[0;34m=\u001b[0m\u001b[0mgo\u001b[0m\u001b[0;34m.\u001b[0m\u001b[0mBar\u001b[0m\u001b[0;34m,\u001b[0m\u001b[0;34m\u001b[0m\u001b[0;34m\u001b[0m\u001b[0m\n",
      "\u001b[0;32m/opt/anaconda3/envs/ironhack/lib/python3.8/site-packages/plotly/express/_core.py\u001b[0m in \u001b[0;36mmake_figure\u001b[0;34m(args, constructor, trace_patch, layout_patch)\u001b[0m\n\u001b[1;32m   1931\u001b[0m     \u001b[0mapply_default_cascade\u001b[0m\u001b[0;34m(\u001b[0m\u001b[0margs\u001b[0m\u001b[0;34m)\u001b[0m\u001b[0;34m\u001b[0m\u001b[0;34m\u001b[0m\u001b[0m\n\u001b[1;32m   1932\u001b[0m \u001b[0;34m\u001b[0m\u001b[0m\n\u001b[0;32m-> 1933\u001b[0;31m     \u001b[0margs\u001b[0m \u001b[0;34m=\u001b[0m \u001b[0mbuild_dataframe\u001b[0m\u001b[0;34m(\u001b[0m\u001b[0margs\u001b[0m\u001b[0;34m,\u001b[0m \u001b[0mconstructor\u001b[0m\u001b[0;34m)\u001b[0m\u001b[0;34m\u001b[0m\u001b[0;34m\u001b[0m\u001b[0m\n\u001b[0m\u001b[1;32m   1934\u001b[0m     \u001b[0;32mif\u001b[0m \u001b[0mconstructor\u001b[0m \u001b[0;32min\u001b[0m \u001b[0;34m[\u001b[0m\u001b[0mgo\u001b[0m\u001b[0;34m.\u001b[0m\u001b[0mTreemap\u001b[0m\u001b[0;34m,\u001b[0m \u001b[0mgo\u001b[0m\u001b[0;34m.\u001b[0m\u001b[0mSunburst\u001b[0m\u001b[0;34m,\u001b[0m \u001b[0mgo\u001b[0m\u001b[0;34m.\u001b[0m\u001b[0mIcicle\u001b[0m\u001b[0;34m]\u001b[0m \u001b[0;32mand\u001b[0m \u001b[0margs\u001b[0m\u001b[0;34m[\u001b[0m\u001b[0;34m\"path\"\u001b[0m\u001b[0;34m]\u001b[0m \u001b[0;32mis\u001b[0m \u001b[0;32mnot\u001b[0m \u001b[0;32mNone\u001b[0m\u001b[0;34m:\u001b[0m\u001b[0;34m\u001b[0m\u001b[0;34m\u001b[0m\u001b[0m\n\u001b[1;32m   1935\u001b[0m         \u001b[0margs\u001b[0m \u001b[0;34m=\u001b[0m \u001b[0mprocess_dataframe_hierarchy\u001b[0m\u001b[0;34m(\u001b[0m\u001b[0margs\u001b[0m\u001b[0;34m)\u001b[0m\u001b[0;34m\u001b[0m\u001b[0;34m\u001b[0m\u001b[0m\n",
      "\u001b[0;32m/opt/anaconda3/envs/ironhack/lib/python3.8/site-packages/plotly/express/_core.py\u001b[0m in \u001b[0;36mbuild_dataframe\u001b[0;34m(args, constructor)\u001b[0m\n\u001b[1;32m   1403\u001b[0m     \u001b[0;31m# now that things have been prepped, we do the systematic rewriting of `args`\u001b[0m\u001b[0;34m\u001b[0m\u001b[0;34m\u001b[0m\u001b[0;34m\u001b[0m\u001b[0m\n\u001b[1;32m   1404\u001b[0m \u001b[0;34m\u001b[0m\u001b[0m\n\u001b[0;32m-> 1405\u001b[0;31m     df_output, wide_id_vars = process_args_into_dataframe(\n\u001b[0m\u001b[1;32m   1406\u001b[0m         \u001b[0margs\u001b[0m\u001b[0;34m,\u001b[0m \u001b[0mwide_mode\u001b[0m\u001b[0;34m,\u001b[0m \u001b[0mvar_name\u001b[0m\u001b[0;34m,\u001b[0m \u001b[0mvalue_name\u001b[0m\u001b[0;34m\u001b[0m\u001b[0;34m\u001b[0m\u001b[0m\n\u001b[1;32m   1407\u001b[0m     )\n",
      "\u001b[0;32m/opt/anaconda3/envs/ironhack/lib/python3.8/site-packages/plotly/express/_core.py\u001b[0m in \u001b[0;36mprocess_args_into_dataframe\u001b[0;34m(args, wide_mode, var_name, value_name)\u001b[0m\n\u001b[1;32m   1205\u001b[0m                         \u001b[0;32mif\u001b[0m \u001b[0margument\u001b[0m \u001b[0;34m==\u001b[0m \u001b[0;34m\"index\"\u001b[0m\u001b[0;34m:\u001b[0m\u001b[0;34m\u001b[0m\u001b[0;34m\u001b[0m\u001b[0m\n\u001b[1;32m   1206\u001b[0m                             \u001b[0merr_msg\u001b[0m \u001b[0;34m+=\u001b[0m \u001b[0;34m\"\\n To use the index, pass it in directly as `df.index`.\"\u001b[0m\u001b[0;34m\u001b[0m\u001b[0;34m\u001b[0m\u001b[0m\n\u001b[0;32m-> 1207\u001b[0;31m                         \u001b[0;32mraise\u001b[0m \u001b[0mValueError\u001b[0m\u001b[0;34m(\u001b[0m\u001b[0merr_msg\u001b[0m\u001b[0;34m)\u001b[0m\u001b[0;34m\u001b[0m\u001b[0;34m\u001b[0m\u001b[0m\n\u001b[0m\u001b[1;32m   1208\u001b[0m                 \u001b[0;32melif\u001b[0m \u001b[0mlength\u001b[0m \u001b[0;32mand\u001b[0m \u001b[0mlen\u001b[0m\u001b[0;34m(\u001b[0m\u001b[0mdf_input\u001b[0m\u001b[0;34m[\u001b[0m\u001b[0margument\u001b[0m\u001b[0;34m]\u001b[0m\u001b[0;34m)\u001b[0m \u001b[0;34m!=\u001b[0m \u001b[0mlength\u001b[0m\u001b[0;34m:\u001b[0m\u001b[0;34m\u001b[0m\u001b[0;34m\u001b[0m\u001b[0m\n\u001b[1;32m   1209\u001b[0m                     raise ValueError(\n",
      "\u001b[0;31mValueError\u001b[0m: Value of 'x' is not the name of a column in 'data_frame'. Expected one of ['indice', 'name', 'address', 'type', 'ranking', 'price', 'direccion', 'comunidad', 'street', 'street_2', 'coordinates', 'street_3', 'coordinates_v2', 'type_point', 'longitude', 'latitude', 'price_2'] but received: <class 'type'>"
     ]
    }
   ],
   "source": [
    "fig = px.bar(df_visual, x=type, y=df.type.value_counts().values, color=\"price_2\", title=\"Long-Form Input\")\n",
    "fig.show()"
   ]
  },
  {
   "cell_type": "code",
   "execution_count": 112,
   "id": "02e54ddf",
   "metadata": {},
   "outputs": [
    {
     "data": {
      "text/html": [
       "<div>\n",
       "<style scoped>\n",
       "    .dataframe tbody tr th:only-of-type {\n",
       "        vertical-align: middle;\n",
       "    }\n",
       "\n",
       "    .dataframe tbody tr th {\n",
       "        vertical-align: top;\n",
       "    }\n",
       "\n",
       "    .dataframe thead th {\n",
       "        text-align: right;\n",
       "    }\n",
       "</style>\n",
       "<table border=\"1\" class=\"dataframe\">\n",
       "  <thead>\n",
       "    <tr style=\"text-align: right;\">\n",
       "      <th></th>\n",
       "      <th>indice</th>\n",
       "      <th>name</th>\n",
       "      <th>address</th>\n",
       "      <th>type</th>\n",
       "      <th>ranking</th>\n",
       "      <th>price</th>\n",
       "      <th>direccion</th>\n",
       "      <th>comunidad</th>\n",
       "      <th>street</th>\n",
       "      <th>street_2</th>\n",
       "      <th>coordinates</th>\n",
       "      <th>street_3</th>\n",
       "      <th>coordinates_v2</th>\n",
       "      <th>type_point</th>\n",
       "      <th>longitude</th>\n",
       "      <th>latitude</th>\n",
       "      <th>price_2</th>\n",
       "    </tr>\n",
       "  </thead>\n",
       "  <tbody>\n",
       "    <tr>\n",
       "      <th>0</th>\n",
       "      <td>413.0</td>\n",
       "      <td>El anciano rey de los vinos</td>\n",
       "      <td>Calle Bailén 19, 28013 Madrid España</td>\n",
       "      <td>Mediterránea</td>\n",
       "      <td>549 de 10.409</td>\n",
       "      <td>€€ - €€€</td>\n",
       "      <td>Calle Bailén 19</td>\n",
       "      <td>Madrid España</td>\n",
       "      <td>Calle Bailén 19</td>\n",
       "      <td>Calle Bailén 19, Madrid España</td>\n",
       "      <td>(40.028851, -3.606505)</td>\n",
       "      <td>Calle Bailén 19, Madrid España</td>\n",
       "      <td>[-3.606505, 40.028851]</td>\n",
       "      <td>{'type': 'Point', 'coordinates': [-3.606505, 4...</td>\n",
       "      <td>-3.606505</td>\n",
       "      <td>40.028851</td>\n",
       "      <td>Medio</td>\n",
       "    </tr>\n",
       "    <tr>\n",
       "      <th>1</th>\n",
       "      <td>76.0</td>\n",
       "      <td>Taberna Más Al Sur</td>\n",
       "      <td>Calle Santa Isabel Nº 35, 28012 Madrid España</td>\n",
       "      <td>Mediterránea</td>\n",
       "      <td>34 de 10.414</td>\n",
       "      <td>€€ - €€€</td>\n",
       "      <td>Calle Santa Isabel Nº 35</td>\n",
       "      <td>Madrid España</td>\n",
       "      <td>Calle Santa Isabel 35</td>\n",
       "      <td>Calle Santa Isabel 35, Madrid España</td>\n",
       "      <td>(40.0316837, -3.5908706)</td>\n",
       "      <td>Calle Santa Isabel 35, Madrid España</td>\n",
       "      <td>[-3.5908706, 40.0316837]</td>\n",
       "      <td>{'type': 'Point', 'coordinates': [-3.5908706, ...</td>\n",
       "      <td>-3.590871</td>\n",
       "      <td>40.031684</td>\n",
       "      <td>Medio</td>\n",
       "    </tr>\n",
       "  </tbody>\n",
       "</table>\n",
       "</div>"
      ],
      "text/plain": [
       "   indice                         name  \\\n",
       "0   413.0  El anciano rey de los vinos   \n",
       "1    76.0           Taberna Más Al Sur   \n",
       "\n",
       "                                         address          type  \\\n",
       "0           Calle Bailén 19, 28013 Madrid España  Mediterránea   \n",
       "1  Calle Santa Isabel Nº 35, 28012 Madrid España  Mediterránea   \n",
       "\n",
       "          ranking     price                 direccion      comunidad  \\\n",
       "0  549 de 10.409   €€ - €€€           Calle Bailén 19  Madrid España   \n",
       "1   34 de 10.414   €€ - €€€  Calle Santa Isabel Nº 35  Madrid España   \n",
       "\n",
       "                  street                              street_2  \\\n",
       "0        Calle Bailén 19        Calle Bailén 19, Madrid España   \n",
       "1  Calle Santa Isabel 35  Calle Santa Isabel 35, Madrid España   \n",
       "\n",
       "                coordinates                              street_3  \\\n",
       "0    (40.028851, -3.606505)        Calle Bailén 19, Madrid España   \n",
       "1  (40.0316837, -3.5908706)  Calle Santa Isabel 35, Madrid España   \n",
       "\n",
       "             coordinates_v2  \\\n",
       "0    [-3.606505, 40.028851]   \n",
       "1  [-3.5908706, 40.0316837]   \n",
       "\n",
       "                                          type_point  longitude   latitude  \\\n",
       "0  {'type': 'Point', 'coordinates': [-3.606505, 4...  -3.606505  40.028851   \n",
       "1  {'type': 'Point', 'coordinates': [-3.5908706, ...  -3.590871  40.031684   \n",
       "\n",
       "  price_2  \n",
       "0   Medio  \n",
       "1   Medio  "
      ]
     },
     "execution_count": 112,
     "metadata": {},
     "output_type": "execute_result"
    }
   ],
   "source": [
    "df_visual.head(2)"
   ]
  },
  {
   "cell_type": "code",
   "execution_count": 120,
   "id": "a53853db",
   "metadata": {},
   "outputs": [
    {
     "data": {
      "text/html": [
       "<div>\n",
       "<style scoped>\n",
       "    .dataframe tbody tr th:only-of-type {\n",
       "        vertical-align: middle;\n",
       "    }\n",
       "\n",
       "    .dataframe tbody tr th {\n",
       "        vertical-align: top;\n",
       "    }\n",
       "\n",
       "    .dataframe thead th {\n",
       "        text-align: right;\n",
       "    }\n",
       "</style>\n",
       "<table border=\"1\" class=\"dataframe\">\n",
       "  <thead>\n",
       "    <tr style=\"text-align: right;\">\n",
       "      <th></th>\n",
       "      <th>type</th>\n",
       "      <th>price_2</th>\n",
       "      <th>price</th>\n",
       "    </tr>\n",
       "  </thead>\n",
       "  <tbody>\n",
       "    <tr>\n",
       "      <th>0</th>\n",
       "      <td>Americana</td>\n",
       "      <td>Barato</td>\n",
       "      <td>4</td>\n",
       "    </tr>\n",
       "    <tr>\n",
       "      <th>1</th>\n",
       "      <td>Americana</td>\n",
       "      <td>Medio</td>\n",
       "      <td>21</td>\n",
       "    </tr>\n",
       "    <tr>\n",
       "      <th>2</th>\n",
       "      <td>Asador</td>\n",
       "      <td>Barato</td>\n",
       "      <td>1</td>\n",
       "    </tr>\n",
       "    <tr>\n",
       "      <th>3</th>\n",
       "      <td>Asador</td>\n",
       "      <td>Caro</td>\n",
       "      <td>8</td>\n",
       "    </tr>\n",
       "    <tr>\n",
       "      <th>4</th>\n",
       "      <td>Asador</td>\n",
       "      <td>Medio</td>\n",
       "      <td>13</td>\n",
       "    </tr>\n",
       "  </tbody>\n",
       "</table>\n",
       "</div>"
      ],
      "text/plain": [
       "        type price_2  price\n",
       "0  Americana  Barato      4\n",
       "1  Americana   Medio     21\n",
       "2     Asador  Barato      1\n",
       "3     Asador    Caro      8\n",
       "4     Asador   Medio     13"
      ]
     },
     "execution_count": 120,
     "metadata": {},
     "output_type": "execute_result"
    }
   ],
   "source": [
    "plot1 = pd.DataFrame(df_visual.groupby([\"type\", \"price_2\"])[\"price\"].count()).reset_index()\n",
    "plot1.head()"
   ]
  },
  {
   "cell_type": "code",
   "execution_count": 122,
   "id": "273772fd",
   "metadata": {},
   "outputs": [
    {
     "name": "stdout",
     "output_type": "stream",
     "text": [
      "/Users/awalsh/IRONHACK/PROJECT2/Notebooks\r\n"
     ]
    }
   ],
   "source": [
    "!pwd"
   ]
  },
  {
   "cell_type": "code",
   "execution_count": 124,
   "id": "f7412067",
   "metadata": {},
   "outputs": [],
   "source": [
    "plot1.to_csv('../data/plot1.csv')"
   ]
  },
  {
   "cell_type": "code",
   "execution_count": 121,
   "id": "3998538c",
   "metadata": {},
   "outputs": [
    {
     "data": {
      "application/vnd.plotly.v1+json": {
       "config": {
        "plotlyServerURL": "https://plot.ly"
       },
       "data": [
        {
         "alignmentgroup": "True",
         "hovertemplate": "price_2=Barato<br>type=%{x}<br>price=%{y}<extra></extra>",
         "legendgroup": "Barato",
         "marker": {
          "color": "#636efa",
          "pattern": {
           "shape": ""
          }
         },
         "name": "Barato",
         "offsetgroup": "Barato",
         "orientation": "v",
         "showlegend": true,
         "textposition": "auto",
         "type": "bar",
         "x": [
          "Americana",
          "Asador",
          "Asiática",
          "Bar",
          "Café y postres",
          "Italiana",
          "Latina",
          "Mediterránea",
          "Mexicana",
          "Otros"
         ],
         "xaxis": "x",
         "y": [
          4,
          1,
          2,
          13,
          19,
          7,
          2,
          14,
          3,
          3
         ],
         "yaxis": "y"
        },
        {
         "alignmentgroup": "True",
         "hovertemplate": "price_2=Medio<br>type=%{x}<br>price=%{y}<extra></extra>",
         "legendgroup": "Medio",
         "marker": {
          "color": "#EF553B",
          "pattern": {
           "shape": ""
          }
         },
         "name": "Medio",
         "offsetgroup": "Medio",
         "orientation": "v",
         "showlegend": true,
         "textposition": "auto",
         "type": "bar",
         "x": [
          "Americana",
          "Asador",
          "Asiática",
          "Bar",
          "Café y postres",
          "Europea",
          "Filipina",
          "Fusión",
          "India",
          "Internacional",
          "Italiana",
          "Latina",
          "Marisco",
          "Marroquí",
          "Mediterránea",
          "Mexicana",
          "Otros"
         ],
         "xaxis": "x",
         "y": [
          21,
          13,
          23,
          24,
          20,
          12,
          1,
          2,
          8,
          20,
          46,
          12,
          11,
          1,
          137,
          14,
          6
         ],
         "yaxis": "y"
        },
        {
         "alignmentgroup": "True",
         "hovertemplate": "price_2=Caro<br>type=%{x}<br>price=%{y}<extra></extra>",
         "legendgroup": "Caro",
         "marker": {
          "color": "#00cc96",
          "pattern": {
           "shape": ""
          }
         },
         "name": "Caro",
         "offsetgroup": "Caro",
         "orientation": "v",
         "showlegend": true,
         "textposition": "auto",
         "type": "bar",
         "x": [
          "Asador",
          "Asiática",
          "Europea",
          "India",
          "Internacional",
          "Italiana",
          "Latina",
          "Marisco",
          "Mediterránea"
         ],
         "xaxis": "x",
         "y": [
          8,
          8,
          1,
          1,
          4,
          1,
          2,
          7,
          25
         ],
         "yaxis": "y"
        }
       ],
       "layout": {
        "barmode": "relative",
        "legend": {
         "title": {
          "text": "price_2"
         },
         "tracegroupgap": 0
        },
        "margin": {
         "t": 60
        },
        "template": {
         "data": {
          "bar": [
           {
            "error_x": {
             "color": "#2a3f5f"
            },
            "error_y": {
             "color": "#2a3f5f"
            },
            "marker": {
             "line": {
              "color": "#E5ECF6",
              "width": 0.5
             },
             "pattern": {
              "fillmode": "overlay",
              "size": 10,
              "solidity": 0.2
             }
            },
            "type": "bar"
           }
          ],
          "barpolar": [
           {
            "marker": {
             "line": {
              "color": "#E5ECF6",
              "width": 0.5
             },
             "pattern": {
              "fillmode": "overlay",
              "size": 10,
              "solidity": 0.2
             }
            },
            "type": "barpolar"
           }
          ],
          "carpet": [
           {
            "aaxis": {
             "endlinecolor": "#2a3f5f",
             "gridcolor": "white",
             "linecolor": "white",
             "minorgridcolor": "white",
             "startlinecolor": "#2a3f5f"
            },
            "baxis": {
             "endlinecolor": "#2a3f5f",
             "gridcolor": "white",
             "linecolor": "white",
             "minorgridcolor": "white",
             "startlinecolor": "#2a3f5f"
            },
            "type": "carpet"
           }
          ],
          "choropleth": [
           {
            "colorbar": {
             "outlinewidth": 0,
             "ticks": ""
            },
            "type": "choropleth"
           }
          ],
          "contour": [
           {
            "colorbar": {
             "outlinewidth": 0,
             "ticks": ""
            },
            "colorscale": [
             [
              0,
              "#0d0887"
             ],
             [
              0.1111111111111111,
              "#46039f"
             ],
             [
              0.2222222222222222,
              "#7201a8"
             ],
             [
              0.3333333333333333,
              "#9c179e"
             ],
             [
              0.4444444444444444,
              "#bd3786"
             ],
             [
              0.5555555555555556,
              "#d8576b"
             ],
             [
              0.6666666666666666,
              "#ed7953"
             ],
             [
              0.7777777777777778,
              "#fb9f3a"
             ],
             [
              0.8888888888888888,
              "#fdca26"
             ],
             [
              1,
              "#f0f921"
             ]
            ],
            "type": "contour"
           }
          ],
          "contourcarpet": [
           {
            "colorbar": {
             "outlinewidth": 0,
             "ticks": ""
            },
            "type": "contourcarpet"
           }
          ],
          "heatmap": [
           {
            "colorbar": {
             "outlinewidth": 0,
             "ticks": ""
            },
            "colorscale": [
             [
              0,
              "#0d0887"
             ],
             [
              0.1111111111111111,
              "#46039f"
             ],
             [
              0.2222222222222222,
              "#7201a8"
             ],
             [
              0.3333333333333333,
              "#9c179e"
             ],
             [
              0.4444444444444444,
              "#bd3786"
             ],
             [
              0.5555555555555556,
              "#d8576b"
             ],
             [
              0.6666666666666666,
              "#ed7953"
             ],
             [
              0.7777777777777778,
              "#fb9f3a"
             ],
             [
              0.8888888888888888,
              "#fdca26"
             ],
             [
              1,
              "#f0f921"
             ]
            ],
            "type": "heatmap"
           }
          ],
          "heatmapgl": [
           {
            "colorbar": {
             "outlinewidth": 0,
             "ticks": ""
            },
            "colorscale": [
             [
              0,
              "#0d0887"
             ],
             [
              0.1111111111111111,
              "#46039f"
             ],
             [
              0.2222222222222222,
              "#7201a8"
             ],
             [
              0.3333333333333333,
              "#9c179e"
             ],
             [
              0.4444444444444444,
              "#bd3786"
             ],
             [
              0.5555555555555556,
              "#d8576b"
             ],
             [
              0.6666666666666666,
              "#ed7953"
             ],
             [
              0.7777777777777778,
              "#fb9f3a"
             ],
             [
              0.8888888888888888,
              "#fdca26"
             ],
             [
              1,
              "#f0f921"
             ]
            ],
            "type": "heatmapgl"
           }
          ],
          "histogram": [
           {
            "marker": {
             "pattern": {
              "fillmode": "overlay",
              "size": 10,
              "solidity": 0.2
             }
            },
            "type": "histogram"
           }
          ],
          "histogram2d": [
           {
            "colorbar": {
             "outlinewidth": 0,
             "ticks": ""
            },
            "colorscale": [
             [
              0,
              "#0d0887"
             ],
             [
              0.1111111111111111,
              "#46039f"
             ],
             [
              0.2222222222222222,
              "#7201a8"
             ],
             [
              0.3333333333333333,
              "#9c179e"
             ],
             [
              0.4444444444444444,
              "#bd3786"
             ],
             [
              0.5555555555555556,
              "#d8576b"
             ],
             [
              0.6666666666666666,
              "#ed7953"
             ],
             [
              0.7777777777777778,
              "#fb9f3a"
             ],
             [
              0.8888888888888888,
              "#fdca26"
             ],
             [
              1,
              "#f0f921"
             ]
            ],
            "type": "histogram2d"
           }
          ],
          "histogram2dcontour": [
           {
            "colorbar": {
             "outlinewidth": 0,
             "ticks": ""
            },
            "colorscale": [
             [
              0,
              "#0d0887"
             ],
             [
              0.1111111111111111,
              "#46039f"
             ],
             [
              0.2222222222222222,
              "#7201a8"
             ],
             [
              0.3333333333333333,
              "#9c179e"
             ],
             [
              0.4444444444444444,
              "#bd3786"
             ],
             [
              0.5555555555555556,
              "#d8576b"
             ],
             [
              0.6666666666666666,
              "#ed7953"
             ],
             [
              0.7777777777777778,
              "#fb9f3a"
             ],
             [
              0.8888888888888888,
              "#fdca26"
             ],
             [
              1,
              "#f0f921"
             ]
            ],
            "type": "histogram2dcontour"
           }
          ],
          "mesh3d": [
           {
            "colorbar": {
             "outlinewidth": 0,
             "ticks": ""
            },
            "type": "mesh3d"
           }
          ],
          "parcoords": [
           {
            "line": {
             "colorbar": {
              "outlinewidth": 0,
              "ticks": ""
             }
            },
            "type": "parcoords"
           }
          ],
          "pie": [
           {
            "automargin": true,
            "type": "pie"
           }
          ],
          "scatter": [
           {
            "marker": {
             "colorbar": {
              "outlinewidth": 0,
              "ticks": ""
             }
            },
            "type": "scatter"
           }
          ],
          "scatter3d": [
           {
            "line": {
             "colorbar": {
              "outlinewidth": 0,
              "ticks": ""
             }
            },
            "marker": {
             "colorbar": {
              "outlinewidth": 0,
              "ticks": ""
             }
            },
            "type": "scatter3d"
           }
          ],
          "scattercarpet": [
           {
            "marker": {
             "colorbar": {
              "outlinewidth": 0,
              "ticks": ""
             }
            },
            "type": "scattercarpet"
           }
          ],
          "scattergeo": [
           {
            "marker": {
             "colorbar": {
              "outlinewidth": 0,
              "ticks": ""
             }
            },
            "type": "scattergeo"
           }
          ],
          "scattergl": [
           {
            "marker": {
             "colorbar": {
              "outlinewidth": 0,
              "ticks": ""
             }
            },
            "type": "scattergl"
           }
          ],
          "scattermapbox": [
           {
            "marker": {
             "colorbar": {
              "outlinewidth": 0,
              "ticks": ""
             }
            },
            "type": "scattermapbox"
           }
          ],
          "scatterpolar": [
           {
            "marker": {
             "colorbar": {
              "outlinewidth": 0,
              "ticks": ""
             }
            },
            "type": "scatterpolar"
           }
          ],
          "scatterpolargl": [
           {
            "marker": {
             "colorbar": {
              "outlinewidth": 0,
              "ticks": ""
             }
            },
            "type": "scatterpolargl"
           }
          ],
          "scatterternary": [
           {
            "marker": {
             "colorbar": {
              "outlinewidth": 0,
              "ticks": ""
             }
            },
            "type": "scatterternary"
           }
          ],
          "surface": [
           {
            "colorbar": {
             "outlinewidth": 0,
             "ticks": ""
            },
            "colorscale": [
             [
              0,
              "#0d0887"
             ],
             [
              0.1111111111111111,
              "#46039f"
             ],
             [
              0.2222222222222222,
              "#7201a8"
             ],
             [
              0.3333333333333333,
              "#9c179e"
             ],
             [
              0.4444444444444444,
              "#bd3786"
             ],
             [
              0.5555555555555556,
              "#d8576b"
             ],
             [
              0.6666666666666666,
              "#ed7953"
             ],
             [
              0.7777777777777778,
              "#fb9f3a"
             ],
             [
              0.8888888888888888,
              "#fdca26"
             ],
             [
              1,
              "#f0f921"
             ]
            ],
            "type": "surface"
           }
          ],
          "table": [
           {
            "cells": {
             "fill": {
              "color": "#EBF0F8"
             },
             "line": {
              "color": "white"
             }
            },
            "header": {
             "fill": {
              "color": "#C8D4E3"
             },
             "line": {
              "color": "white"
             }
            },
            "type": "table"
           }
          ]
         },
         "layout": {
          "annotationdefaults": {
           "arrowcolor": "#2a3f5f",
           "arrowhead": 0,
           "arrowwidth": 1
          },
          "autotypenumbers": "strict",
          "coloraxis": {
           "colorbar": {
            "outlinewidth": 0,
            "ticks": ""
           }
          },
          "colorscale": {
           "diverging": [
            [
             0,
             "#8e0152"
            ],
            [
             0.1,
             "#c51b7d"
            ],
            [
             0.2,
             "#de77ae"
            ],
            [
             0.3,
             "#f1b6da"
            ],
            [
             0.4,
             "#fde0ef"
            ],
            [
             0.5,
             "#f7f7f7"
            ],
            [
             0.6,
             "#e6f5d0"
            ],
            [
             0.7,
             "#b8e186"
            ],
            [
             0.8,
             "#7fbc41"
            ],
            [
             0.9,
             "#4d9221"
            ],
            [
             1,
             "#276419"
            ]
           ],
           "sequential": [
            [
             0,
             "#0d0887"
            ],
            [
             0.1111111111111111,
             "#46039f"
            ],
            [
             0.2222222222222222,
             "#7201a8"
            ],
            [
             0.3333333333333333,
             "#9c179e"
            ],
            [
             0.4444444444444444,
             "#bd3786"
            ],
            [
             0.5555555555555556,
             "#d8576b"
            ],
            [
             0.6666666666666666,
             "#ed7953"
            ],
            [
             0.7777777777777778,
             "#fb9f3a"
            ],
            [
             0.8888888888888888,
             "#fdca26"
            ],
            [
             1,
             "#f0f921"
            ]
           ],
           "sequentialminus": [
            [
             0,
             "#0d0887"
            ],
            [
             0.1111111111111111,
             "#46039f"
            ],
            [
             0.2222222222222222,
             "#7201a8"
            ],
            [
             0.3333333333333333,
             "#9c179e"
            ],
            [
             0.4444444444444444,
             "#bd3786"
            ],
            [
             0.5555555555555556,
             "#d8576b"
            ],
            [
             0.6666666666666666,
             "#ed7953"
            ],
            [
             0.7777777777777778,
             "#fb9f3a"
            ],
            [
             0.8888888888888888,
             "#fdca26"
            ],
            [
             1,
             "#f0f921"
            ]
           ]
          },
          "colorway": [
           "#636efa",
           "#EF553B",
           "#00cc96",
           "#ab63fa",
           "#FFA15A",
           "#19d3f3",
           "#FF6692",
           "#B6E880",
           "#FF97FF",
           "#FECB52"
          ],
          "font": {
           "color": "#2a3f5f"
          },
          "geo": {
           "bgcolor": "white",
           "lakecolor": "white",
           "landcolor": "#E5ECF6",
           "showlakes": true,
           "showland": true,
           "subunitcolor": "white"
          },
          "hoverlabel": {
           "align": "left"
          },
          "hovermode": "closest",
          "mapbox": {
           "style": "light"
          },
          "paper_bgcolor": "white",
          "plot_bgcolor": "#E5ECF6",
          "polar": {
           "angularaxis": {
            "gridcolor": "white",
            "linecolor": "white",
            "ticks": ""
           },
           "bgcolor": "#E5ECF6",
           "radialaxis": {
            "gridcolor": "white",
            "linecolor": "white",
            "ticks": ""
           }
          },
          "scene": {
           "xaxis": {
            "backgroundcolor": "#E5ECF6",
            "gridcolor": "white",
            "gridwidth": 2,
            "linecolor": "white",
            "showbackground": true,
            "ticks": "",
            "zerolinecolor": "white"
           },
           "yaxis": {
            "backgroundcolor": "#E5ECF6",
            "gridcolor": "white",
            "gridwidth": 2,
            "linecolor": "white",
            "showbackground": true,
            "ticks": "",
            "zerolinecolor": "white"
           },
           "zaxis": {
            "backgroundcolor": "#E5ECF6",
            "gridcolor": "white",
            "gridwidth": 2,
            "linecolor": "white",
            "showbackground": true,
            "ticks": "",
            "zerolinecolor": "white"
           }
          },
          "shapedefaults": {
           "line": {
            "color": "#2a3f5f"
           }
          },
          "ternary": {
           "aaxis": {
            "gridcolor": "white",
            "linecolor": "white",
            "ticks": ""
           },
           "baxis": {
            "gridcolor": "white",
            "linecolor": "white",
            "ticks": ""
           },
           "bgcolor": "#E5ECF6",
           "caxis": {
            "gridcolor": "white",
            "linecolor": "white",
            "ticks": ""
           }
          },
          "title": {
           "x": 0.05
          },
          "xaxis": {
           "automargin": true,
           "gridcolor": "white",
           "linecolor": "white",
           "ticks": "",
           "title": {
            "standoff": 15
           },
           "zerolinecolor": "white",
           "zerolinewidth": 2
          },
          "yaxis": {
           "automargin": true,
           "gridcolor": "white",
           "linecolor": "white",
           "ticks": "",
           "title": {
            "standoff": 15
           },
           "zerolinecolor": "white",
           "zerolinewidth": 2
          }
         }
        },
        "xaxis": {
         "anchor": "y",
         "domain": [
          0,
          1
         ],
         "title": {
          "text": "type"
         }
        },
        "yaxis": {
         "anchor": "x",
         "domain": [
          0,
          1
         ],
         "title": {
          "text": "price"
         }
        }
       }
      },
      "text/html": [
       "<div>                            <div id=\"c03b034e-9179-49e1-ba3f-4e916283ce0b\" class=\"plotly-graph-div\" style=\"height:525px; width:100%;\"></div>            <script type=\"text/javascript\">                require([\"plotly\"], function(Plotly) {                    window.PLOTLYENV=window.PLOTLYENV || {};                                    if (document.getElementById(\"c03b034e-9179-49e1-ba3f-4e916283ce0b\")) {                    Plotly.newPlot(                        \"c03b034e-9179-49e1-ba3f-4e916283ce0b\",                        [{\"alignmentgroup\":\"True\",\"hovertemplate\":\"price_2=Barato<br>type=%{x}<br>price=%{y}<extra></extra>\",\"legendgroup\":\"Barato\",\"marker\":{\"color\":\"#636efa\",\"pattern\":{\"shape\":\"\"}},\"name\":\"Barato\",\"offsetgroup\":\"Barato\",\"orientation\":\"v\",\"showlegend\":true,\"textposition\":\"auto\",\"type\":\"bar\",\"x\":[\"Americana\",\"Asador\",\"Asi\\u00e1tica\",\"Bar\",\"Caf\\u00e9 y postres\",\"Italiana\",\"Latina\",\"Mediterr\\u00e1nea\",\"Mexicana\",\"Otros\"],\"xaxis\":\"x\",\"y\":[4,1,2,13,19,7,2,14,3,3],\"yaxis\":\"y\"},{\"alignmentgroup\":\"True\",\"hovertemplate\":\"price_2=Medio<br>type=%{x}<br>price=%{y}<extra></extra>\",\"legendgroup\":\"Medio\",\"marker\":{\"color\":\"#EF553B\",\"pattern\":{\"shape\":\"\"}},\"name\":\"Medio\",\"offsetgroup\":\"Medio\",\"orientation\":\"v\",\"showlegend\":true,\"textposition\":\"auto\",\"type\":\"bar\",\"x\":[\"Americana\",\"Asador\",\"Asi\\u00e1tica\",\"Bar\",\"Caf\\u00e9 y postres\",\"Europea\",\"Filipina\",\"Fusi\\u00f3n\",\"India\",\"Internacional\",\"Italiana\",\"Latina\",\"Marisco\",\"Marroqu\\u00ed\",\"Mediterr\\u00e1nea\",\"Mexicana\",\"Otros\"],\"xaxis\":\"x\",\"y\":[21,13,23,24,20,12,1,2,8,20,46,12,11,1,137,14,6],\"yaxis\":\"y\"},{\"alignmentgroup\":\"True\",\"hovertemplate\":\"price_2=Caro<br>type=%{x}<br>price=%{y}<extra></extra>\",\"legendgroup\":\"Caro\",\"marker\":{\"color\":\"#00cc96\",\"pattern\":{\"shape\":\"\"}},\"name\":\"Caro\",\"offsetgroup\":\"Caro\",\"orientation\":\"v\",\"showlegend\":true,\"textposition\":\"auto\",\"type\":\"bar\",\"x\":[\"Asador\",\"Asi\\u00e1tica\",\"Europea\",\"India\",\"Internacional\",\"Italiana\",\"Latina\",\"Marisco\",\"Mediterr\\u00e1nea\"],\"xaxis\":\"x\",\"y\":[8,8,1,1,4,1,2,7,25],\"yaxis\":\"y\"}],                        {\"barmode\":\"relative\",\"legend\":{\"title\":{\"text\":\"price_2\"},\"tracegroupgap\":0},\"margin\":{\"t\":60},\"template\":{\"data\":{\"bar\":[{\"error_x\":{\"color\":\"#2a3f5f\"},\"error_y\":{\"color\":\"#2a3f5f\"},\"marker\":{\"line\":{\"color\":\"#E5ECF6\",\"width\":0.5},\"pattern\":{\"fillmode\":\"overlay\",\"size\":10,\"solidity\":0.2}},\"type\":\"bar\"}],\"barpolar\":[{\"marker\":{\"line\":{\"color\":\"#E5ECF6\",\"width\":0.5},\"pattern\":{\"fillmode\":\"overlay\",\"size\":10,\"solidity\":0.2}},\"type\":\"barpolar\"}],\"carpet\":[{\"aaxis\":{\"endlinecolor\":\"#2a3f5f\",\"gridcolor\":\"white\",\"linecolor\":\"white\",\"minorgridcolor\":\"white\",\"startlinecolor\":\"#2a3f5f\"},\"baxis\":{\"endlinecolor\":\"#2a3f5f\",\"gridcolor\":\"white\",\"linecolor\":\"white\",\"minorgridcolor\":\"white\",\"startlinecolor\":\"#2a3f5f\"},\"type\":\"carpet\"}],\"choropleth\":[{\"colorbar\":{\"outlinewidth\":0,\"ticks\":\"\"},\"type\":\"choropleth\"}],\"contour\":[{\"colorbar\":{\"outlinewidth\":0,\"ticks\":\"\"},\"colorscale\":[[0.0,\"#0d0887\"],[0.1111111111111111,\"#46039f\"],[0.2222222222222222,\"#7201a8\"],[0.3333333333333333,\"#9c179e\"],[0.4444444444444444,\"#bd3786\"],[0.5555555555555556,\"#d8576b\"],[0.6666666666666666,\"#ed7953\"],[0.7777777777777778,\"#fb9f3a\"],[0.8888888888888888,\"#fdca26\"],[1.0,\"#f0f921\"]],\"type\":\"contour\"}],\"contourcarpet\":[{\"colorbar\":{\"outlinewidth\":0,\"ticks\":\"\"},\"type\":\"contourcarpet\"}],\"heatmap\":[{\"colorbar\":{\"outlinewidth\":0,\"ticks\":\"\"},\"colorscale\":[[0.0,\"#0d0887\"],[0.1111111111111111,\"#46039f\"],[0.2222222222222222,\"#7201a8\"],[0.3333333333333333,\"#9c179e\"],[0.4444444444444444,\"#bd3786\"],[0.5555555555555556,\"#d8576b\"],[0.6666666666666666,\"#ed7953\"],[0.7777777777777778,\"#fb9f3a\"],[0.8888888888888888,\"#fdca26\"],[1.0,\"#f0f921\"]],\"type\":\"heatmap\"}],\"heatmapgl\":[{\"colorbar\":{\"outlinewidth\":0,\"ticks\":\"\"},\"colorscale\":[[0.0,\"#0d0887\"],[0.1111111111111111,\"#46039f\"],[0.2222222222222222,\"#7201a8\"],[0.3333333333333333,\"#9c179e\"],[0.4444444444444444,\"#bd3786\"],[0.5555555555555556,\"#d8576b\"],[0.6666666666666666,\"#ed7953\"],[0.7777777777777778,\"#fb9f3a\"],[0.8888888888888888,\"#fdca26\"],[1.0,\"#f0f921\"]],\"type\":\"heatmapgl\"}],\"histogram\":[{\"marker\":{\"pattern\":{\"fillmode\":\"overlay\",\"size\":10,\"solidity\":0.2}},\"type\":\"histogram\"}],\"histogram2d\":[{\"colorbar\":{\"outlinewidth\":0,\"ticks\":\"\"},\"colorscale\":[[0.0,\"#0d0887\"],[0.1111111111111111,\"#46039f\"],[0.2222222222222222,\"#7201a8\"],[0.3333333333333333,\"#9c179e\"],[0.4444444444444444,\"#bd3786\"],[0.5555555555555556,\"#d8576b\"],[0.6666666666666666,\"#ed7953\"],[0.7777777777777778,\"#fb9f3a\"],[0.8888888888888888,\"#fdca26\"],[1.0,\"#f0f921\"]],\"type\":\"histogram2d\"}],\"histogram2dcontour\":[{\"colorbar\":{\"outlinewidth\":0,\"ticks\":\"\"},\"colorscale\":[[0.0,\"#0d0887\"],[0.1111111111111111,\"#46039f\"],[0.2222222222222222,\"#7201a8\"],[0.3333333333333333,\"#9c179e\"],[0.4444444444444444,\"#bd3786\"],[0.5555555555555556,\"#d8576b\"],[0.6666666666666666,\"#ed7953\"],[0.7777777777777778,\"#fb9f3a\"],[0.8888888888888888,\"#fdca26\"],[1.0,\"#f0f921\"]],\"type\":\"histogram2dcontour\"}],\"mesh3d\":[{\"colorbar\":{\"outlinewidth\":0,\"ticks\":\"\"},\"type\":\"mesh3d\"}],\"parcoords\":[{\"line\":{\"colorbar\":{\"outlinewidth\":0,\"ticks\":\"\"}},\"type\":\"parcoords\"}],\"pie\":[{\"automargin\":true,\"type\":\"pie\"}],\"scatter\":[{\"marker\":{\"colorbar\":{\"outlinewidth\":0,\"ticks\":\"\"}},\"type\":\"scatter\"}],\"scatter3d\":[{\"line\":{\"colorbar\":{\"outlinewidth\":0,\"ticks\":\"\"}},\"marker\":{\"colorbar\":{\"outlinewidth\":0,\"ticks\":\"\"}},\"type\":\"scatter3d\"}],\"scattercarpet\":[{\"marker\":{\"colorbar\":{\"outlinewidth\":0,\"ticks\":\"\"}},\"type\":\"scattercarpet\"}],\"scattergeo\":[{\"marker\":{\"colorbar\":{\"outlinewidth\":0,\"ticks\":\"\"}},\"type\":\"scattergeo\"}],\"scattergl\":[{\"marker\":{\"colorbar\":{\"outlinewidth\":0,\"ticks\":\"\"}},\"type\":\"scattergl\"}],\"scattermapbox\":[{\"marker\":{\"colorbar\":{\"outlinewidth\":0,\"ticks\":\"\"}},\"type\":\"scattermapbox\"}],\"scatterpolar\":[{\"marker\":{\"colorbar\":{\"outlinewidth\":0,\"ticks\":\"\"}},\"type\":\"scatterpolar\"}],\"scatterpolargl\":[{\"marker\":{\"colorbar\":{\"outlinewidth\":0,\"ticks\":\"\"}},\"type\":\"scatterpolargl\"}],\"scatterternary\":[{\"marker\":{\"colorbar\":{\"outlinewidth\":0,\"ticks\":\"\"}},\"type\":\"scatterternary\"}],\"surface\":[{\"colorbar\":{\"outlinewidth\":0,\"ticks\":\"\"},\"colorscale\":[[0.0,\"#0d0887\"],[0.1111111111111111,\"#46039f\"],[0.2222222222222222,\"#7201a8\"],[0.3333333333333333,\"#9c179e\"],[0.4444444444444444,\"#bd3786\"],[0.5555555555555556,\"#d8576b\"],[0.6666666666666666,\"#ed7953\"],[0.7777777777777778,\"#fb9f3a\"],[0.8888888888888888,\"#fdca26\"],[1.0,\"#f0f921\"]],\"type\":\"surface\"}],\"table\":[{\"cells\":{\"fill\":{\"color\":\"#EBF0F8\"},\"line\":{\"color\":\"white\"}},\"header\":{\"fill\":{\"color\":\"#C8D4E3\"},\"line\":{\"color\":\"white\"}},\"type\":\"table\"}]},\"layout\":{\"annotationdefaults\":{\"arrowcolor\":\"#2a3f5f\",\"arrowhead\":0,\"arrowwidth\":1},\"autotypenumbers\":\"strict\",\"coloraxis\":{\"colorbar\":{\"outlinewidth\":0,\"ticks\":\"\"}},\"colorscale\":{\"diverging\":[[0,\"#8e0152\"],[0.1,\"#c51b7d\"],[0.2,\"#de77ae\"],[0.3,\"#f1b6da\"],[0.4,\"#fde0ef\"],[0.5,\"#f7f7f7\"],[0.6,\"#e6f5d0\"],[0.7,\"#b8e186\"],[0.8,\"#7fbc41\"],[0.9,\"#4d9221\"],[1,\"#276419\"]],\"sequential\":[[0.0,\"#0d0887\"],[0.1111111111111111,\"#46039f\"],[0.2222222222222222,\"#7201a8\"],[0.3333333333333333,\"#9c179e\"],[0.4444444444444444,\"#bd3786\"],[0.5555555555555556,\"#d8576b\"],[0.6666666666666666,\"#ed7953\"],[0.7777777777777778,\"#fb9f3a\"],[0.8888888888888888,\"#fdca26\"],[1.0,\"#f0f921\"]],\"sequentialminus\":[[0.0,\"#0d0887\"],[0.1111111111111111,\"#46039f\"],[0.2222222222222222,\"#7201a8\"],[0.3333333333333333,\"#9c179e\"],[0.4444444444444444,\"#bd3786\"],[0.5555555555555556,\"#d8576b\"],[0.6666666666666666,\"#ed7953\"],[0.7777777777777778,\"#fb9f3a\"],[0.8888888888888888,\"#fdca26\"],[1.0,\"#f0f921\"]]},\"colorway\":[\"#636efa\",\"#EF553B\",\"#00cc96\",\"#ab63fa\",\"#FFA15A\",\"#19d3f3\",\"#FF6692\",\"#B6E880\",\"#FF97FF\",\"#FECB52\"],\"font\":{\"color\":\"#2a3f5f\"},\"geo\":{\"bgcolor\":\"white\",\"lakecolor\":\"white\",\"landcolor\":\"#E5ECF6\",\"showlakes\":true,\"showland\":true,\"subunitcolor\":\"white\"},\"hoverlabel\":{\"align\":\"left\"},\"hovermode\":\"closest\",\"mapbox\":{\"style\":\"light\"},\"paper_bgcolor\":\"white\",\"plot_bgcolor\":\"#E5ECF6\",\"polar\":{\"angularaxis\":{\"gridcolor\":\"white\",\"linecolor\":\"white\",\"ticks\":\"\"},\"bgcolor\":\"#E5ECF6\",\"radialaxis\":{\"gridcolor\":\"white\",\"linecolor\":\"white\",\"ticks\":\"\"}},\"scene\":{\"xaxis\":{\"backgroundcolor\":\"#E5ECF6\",\"gridcolor\":\"white\",\"gridwidth\":2,\"linecolor\":\"white\",\"showbackground\":true,\"ticks\":\"\",\"zerolinecolor\":\"white\"},\"yaxis\":{\"backgroundcolor\":\"#E5ECF6\",\"gridcolor\":\"white\",\"gridwidth\":2,\"linecolor\":\"white\",\"showbackground\":true,\"ticks\":\"\",\"zerolinecolor\":\"white\"},\"zaxis\":{\"backgroundcolor\":\"#E5ECF6\",\"gridcolor\":\"white\",\"gridwidth\":2,\"linecolor\":\"white\",\"showbackground\":true,\"ticks\":\"\",\"zerolinecolor\":\"white\"}},\"shapedefaults\":{\"line\":{\"color\":\"#2a3f5f\"}},\"ternary\":{\"aaxis\":{\"gridcolor\":\"white\",\"linecolor\":\"white\",\"ticks\":\"\"},\"baxis\":{\"gridcolor\":\"white\",\"linecolor\":\"white\",\"ticks\":\"\"},\"bgcolor\":\"#E5ECF6\",\"caxis\":{\"gridcolor\":\"white\",\"linecolor\":\"white\",\"ticks\":\"\"}},\"title\":{\"x\":0.05},\"xaxis\":{\"automargin\":true,\"gridcolor\":\"white\",\"linecolor\":\"white\",\"ticks\":\"\",\"title\":{\"standoff\":15},\"zerolinecolor\":\"white\",\"zerolinewidth\":2},\"yaxis\":{\"automargin\":true,\"gridcolor\":\"white\",\"linecolor\":\"white\",\"ticks\":\"\",\"title\":{\"standoff\":15},\"zerolinecolor\":\"white\",\"zerolinewidth\":2}}},\"xaxis\":{\"anchor\":\"y\",\"domain\":[0.0,1.0],\"title\":{\"text\":\"type\"}},\"yaxis\":{\"anchor\":\"x\",\"domain\":[0.0,1.0],\"title\":{\"text\":\"price\"}}},                        {\"responsive\": true}                    ).then(function(){\n",
       "                            \n",
       "var gd = document.getElementById('c03b034e-9179-49e1-ba3f-4e916283ce0b');\n",
       "var x = new MutationObserver(function (mutations, observer) {{\n",
       "        var display = window.getComputedStyle(gd).display;\n",
       "        if (!display || display === 'none') {{\n",
       "            console.log([gd, 'removed!']);\n",
       "            Plotly.purge(gd);\n",
       "            observer.disconnect();\n",
       "        }}\n",
       "}});\n",
       "\n",
       "// Listen for the removal of the full notebook cells\n",
       "var notebookContainer = gd.closest('#notebook-container');\n",
       "if (notebookContainer) {{\n",
       "    x.observe(notebookContainer, {childList: true});\n",
       "}}\n",
       "\n",
       "// Listen for the clearing of the current output cell\n",
       "var outputEl = gd.closest('.output');\n",
       "if (outputEl) {{\n",
       "    x.observe(outputEl, {childList: true});\n",
       "}}\n",
       "\n",
       "                        })                };                });            </script>        </div>"
      ]
     },
     "metadata": {},
     "output_type": "display_data"
    }
   ],
   "source": [
    "fig = px.bar(plot1, x=\"type\", y=\"price\", color='price_2')\n",
    "fig.show()"
   ]
  },
  {
   "cell_type": "code",
   "execution_count": 63,
   "id": "c1cecdf3",
   "metadata": {},
   "outputs": [
    {
     "data": {
      "text/plain": [
       "array(['Mediterránea', 'Bar', 'Asador', 'Café y postres', 'Europea',\n",
       "       'Latina', 'Internacional', 'Italiana', 'Asiática', 'Marisco',\n",
       "       'Americana', 'India', 'Otros', 'Mexicana', 'Filipina', 'Marroquí',\n",
       "       'Fusión'], dtype=object)"
      ]
     },
     "execution_count": 63,
     "metadata": {},
     "output_type": "execute_result"
    }
   ],
   "source": [
    "df.type.unique()"
   ]
  },
  {
   "cell_type": "code",
   "execution_count": 73,
   "id": "1f70b9e8",
   "metadata": {},
   "outputs": [
    {
     "data": {
      "application/vnd.plotly.v1+json": {
       "config": {
        "plotlyServerURL": "https://plot.ly"
       },
       "data": [
        {
         "alignmentgroup": "True",
         "bingroup": "x",
         "hovertemplate": "price_2=%{x}<br>count=%{y}<extra></extra>",
         "legendgroup": "",
         "marker": {
          "color": "#636efa",
          "pattern": {
           "shape": ""
          }
         },
         "name": "",
         "offsetgroup": "",
         "orientation": "v",
         "showlegend": false,
         "type": "histogram",
         "x": [
          "Medio",
          "Medio",
          "Barato",
          "Medio",
          "Medio",
          "Medio",
          "Medio",
          "Medio",
          "Medio",
          "Medio",
          "Medio",
          "Medio",
          "Medio",
          "Medio",
          "Medio",
          "Medio",
          "Caro",
          null,
          "Medio",
          "Medio",
          "Medio",
          "Medio",
          "Medio",
          "Medio",
          "Medio",
          "Barato",
          "Medio",
          "Medio",
          "Medio",
          "Medio",
          "Medio",
          "Medio",
          "Medio",
          "Medio",
          "Medio",
          "Medio",
          "Medio",
          "Medio",
          "Medio",
          "Medio",
          "Medio",
          "Barato",
          "Medio",
          "Medio",
          "Caro",
          "Medio",
          "Medio",
          "Medio",
          "Medio",
          "Barato",
          "Medio",
          "Medio",
          "Medio",
          "Barato",
          "Medio",
          "Medio",
          "Medio",
          "Medio",
          "Barato",
          "Medio",
          "Barato",
          "Medio",
          "Barato",
          "Medio",
          "Medio",
          "Medio",
          "Barato",
          "Medio",
          "Medio",
          "Medio",
          "Medio",
          "Medio",
          "Caro",
          "Medio",
          "Medio",
          "Medio",
          "Medio",
          "Medio",
          "Medio",
          "Medio",
          "Medio",
          "Medio",
          "Medio",
          "Medio",
          "Medio",
          "Medio",
          "Medio",
          "Medio",
          "Medio",
          "Medio",
          "Medio",
          "Medio",
          "Medio",
          "Medio",
          "Barato",
          "Barato",
          "Medio",
          "Medio",
          null,
          "Medio",
          "Medio",
          "Medio",
          "Barato",
          "Barato",
          "Medio",
          "Barato",
          "Medio",
          "Medio",
          "Medio",
          "Medio",
          "Medio",
          "Medio",
          "Medio",
          "Medio",
          "Medio",
          "Medio",
          "Medio",
          "Medio",
          "Medio",
          "Medio",
          "Barato",
          "Medio",
          "Medio",
          "Caro",
          "Medio",
          "Medio",
          "Caro",
          "Medio",
          "Barato",
          "Caro",
          "Medio",
          "Barato",
          "Barato",
          "Medio",
          "Medio",
          "Medio",
          "Caro",
          "Medio",
          "Barato",
          "Medio",
          "Medio",
          "Medio",
          "Medio",
          "Medio",
          "Medio",
          "Medio",
          "Medio",
          "Medio",
          "Medio",
          "Medio",
          "Medio",
          "Medio",
          "Medio",
          "Medio",
          "Medio",
          "Medio",
          "Medio",
          "Medio",
          "Barato",
          "Medio",
          "Medio",
          "Medio",
          "Medio",
          "Barato",
          "Medio",
          "Medio",
          "Medio",
          "Medio",
          "Medio",
          "Medio",
          "Medio",
          "Medio",
          "Barato",
          "Medio",
          "Medio",
          "Medio",
          "Caro",
          "Caro",
          "Barato",
          "Caro",
          "Medio",
          "Caro",
          "Medio",
          "Barato",
          "Medio",
          "Medio",
          "Medio",
          "Caro",
          "Medio",
          "Barato",
          "Medio",
          "Barato",
          "Medio",
          "Medio",
          "Medio",
          "Medio",
          "Medio",
          "Medio",
          "Caro",
          "Medio",
          "Medio",
          "Medio",
          "Medio",
          "Medio",
          "Medio",
          "Medio",
          "Barato",
          "Medio",
          "Medio",
          "Medio",
          "Medio",
          "Medio",
          "Medio",
          "Medio",
          "Caro",
          "Barato",
          "Caro",
          "Barato",
          "Medio",
          "Caro",
          "Caro",
          "Medio",
          "Medio",
          "Barato",
          "Barato",
          "Medio",
          "Medio",
          "Medio",
          "Medio",
          "Medio",
          "Medio",
          "Medio",
          "Medio",
          "Medio",
          "Medio",
          "Medio",
          "Medio",
          "Medio",
          "Medio",
          "Medio",
          "Medio",
          "Barato",
          "Caro",
          "Medio",
          "Medio",
          "Medio",
          "Medio",
          "Medio",
          "Medio",
          "Barato",
          "Medio",
          "Medio",
          "Caro",
          "Medio",
          "Medio",
          "Medio",
          "Medio",
          "Medio",
          "Medio",
          "Medio",
          "Medio",
          "Caro",
          "Barato",
          "Medio",
          "Medio",
          "Barato",
          "Barato",
          "Medio",
          "Medio",
          "Barato",
          "Medio",
          "Medio",
          "Barato",
          "Caro",
          "Medio",
          "Medio",
          "Barato",
          "Medio",
          "Medio",
          "Caro",
          "Medio",
          "Medio",
          "Medio",
          "Medio",
          "Medio",
          "Caro",
          "Caro",
          "Barato",
          "Caro",
          "Caro",
          "Medio",
          "Medio",
          "Medio",
          "Barato",
          "Medio",
          "Medio",
          "Medio",
          "Barato",
          "Caro",
          "Caro",
          "Medio",
          "Medio",
          "Medio",
          "Medio",
          "Medio",
          "Medio",
          "Medio",
          "Medio",
          "Medio",
          "Medio",
          "Medio",
          "Medio",
          "Medio",
          "Medio",
          "Medio",
          "Caro",
          "Caro",
          "Medio",
          "Medio",
          "Medio",
          "Caro",
          "Medio",
          "Medio",
          "Medio",
          "Medio",
          "Barato",
          "Medio",
          "Caro",
          "Medio",
          "Medio",
          "Medio",
          "Medio",
          "Caro",
          "Medio",
          "Medio",
          "Medio",
          "Medio",
          "Medio",
          "Caro",
          "Caro",
          "Barato",
          "Medio",
          "Medio",
          "Medio",
          "Medio",
          "Medio",
          "Medio",
          "Medio",
          "Medio",
          "Barato",
          "Medio",
          "Barato",
          "Medio",
          "Barato",
          "Caro",
          "Medio",
          "Medio",
          "Caro",
          "Caro",
          "Medio",
          "Medio",
          "Medio",
          "Medio",
          "Caro",
          "Medio",
          "Medio",
          "Medio",
          "Caro",
          "Barato",
          "Medio",
          "Medio",
          "Caro",
          "Medio",
          "Medio",
          "Caro",
          "Medio",
          "Medio",
          "Medio",
          "Barato",
          "Caro",
          "Medio",
          "Medio",
          "Medio",
          "Caro",
          "Medio",
          "Medio",
          "Medio",
          "Medio",
          "Medio",
          "Medio",
          "Medio",
          "Medio",
          "Medio",
          "Barato",
          "Caro",
          "Caro",
          "Medio",
          "Medio",
          "Caro",
          "Medio",
          "Caro",
          "Barato",
          "Medio",
          "Medio",
          "Medio",
          "Medio",
          "Medio",
          "Medio",
          "Medio",
          "Medio",
          "Barato",
          "Medio",
          "Barato",
          "Medio",
          "Barato",
          "Medio",
          "Medio",
          "Medio",
          "Medio",
          "Barato",
          "Medio",
          "Barato",
          "Barato",
          "Barato",
          "Caro",
          "Medio",
          "Caro",
          "Medio",
          "Barato",
          "Barato",
          "Medio",
          "Medio",
          "Medio",
          "Medio",
          "Medio",
          "Medio",
          "Medio",
          "Medio",
          "Medio",
          "Medio",
          "Medio",
          "Barato",
          "Medio",
          "Medio",
          "Caro",
          "Medio",
          "Medio",
          "Medio",
          "Medio",
          "Barato",
          "Medio",
          "Medio",
          "Barato",
          "Medio",
          "Medio",
          "Medio",
          "Medio",
          "Medio",
          "Medio",
          "Medio",
          "Medio",
          "Medio",
          "Caro",
          "Medio",
          "Caro",
          "Medio",
          "Medio",
          "Medio",
          "Medio",
          "Barato",
          "Medio",
          "Caro",
          "Medio",
          "Medio",
          "Medio",
          "Medio",
          "Caro",
          "Medio",
          "Medio",
          "Barato",
          "Barato",
          "Medio",
          "Medio",
          "Caro",
          "Medio",
          "Caro",
          "Medio",
          "Medio",
          "Medio",
          "Medio",
          "Barato",
          "Medio",
          "Medio",
          "Medio",
          "Barato",
          "Medio",
          "Medio",
          "Medio"
         ],
         "xaxis": "x",
         "yaxis": "y"
        }
       ],
       "layout": {
        "bargap": 0.2,
        "barmode": "relative",
        "legend": {
         "tracegroupgap": 0
        },
        "margin": {
         "t": 60
        },
        "template": {
         "data": {
          "bar": [
           {
            "error_x": {
             "color": "#2a3f5f"
            },
            "error_y": {
             "color": "#2a3f5f"
            },
            "marker": {
             "line": {
              "color": "#E5ECF6",
              "width": 0.5
             },
             "pattern": {
              "fillmode": "overlay",
              "size": 10,
              "solidity": 0.2
             }
            },
            "type": "bar"
           }
          ],
          "barpolar": [
           {
            "marker": {
             "line": {
              "color": "#E5ECF6",
              "width": 0.5
             },
             "pattern": {
              "fillmode": "overlay",
              "size": 10,
              "solidity": 0.2
             }
            },
            "type": "barpolar"
           }
          ],
          "carpet": [
           {
            "aaxis": {
             "endlinecolor": "#2a3f5f",
             "gridcolor": "white",
             "linecolor": "white",
             "minorgridcolor": "white",
             "startlinecolor": "#2a3f5f"
            },
            "baxis": {
             "endlinecolor": "#2a3f5f",
             "gridcolor": "white",
             "linecolor": "white",
             "minorgridcolor": "white",
             "startlinecolor": "#2a3f5f"
            },
            "type": "carpet"
           }
          ],
          "choropleth": [
           {
            "colorbar": {
             "outlinewidth": 0,
             "ticks": ""
            },
            "type": "choropleth"
           }
          ],
          "contour": [
           {
            "colorbar": {
             "outlinewidth": 0,
             "ticks": ""
            },
            "colorscale": [
             [
              0,
              "#0d0887"
             ],
             [
              0.1111111111111111,
              "#46039f"
             ],
             [
              0.2222222222222222,
              "#7201a8"
             ],
             [
              0.3333333333333333,
              "#9c179e"
             ],
             [
              0.4444444444444444,
              "#bd3786"
             ],
             [
              0.5555555555555556,
              "#d8576b"
             ],
             [
              0.6666666666666666,
              "#ed7953"
             ],
             [
              0.7777777777777778,
              "#fb9f3a"
             ],
             [
              0.8888888888888888,
              "#fdca26"
             ],
             [
              1,
              "#f0f921"
             ]
            ],
            "type": "contour"
           }
          ],
          "contourcarpet": [
           {
            "colorbar": {
             "outlinewidth": 0,
             "ticks": ""
            },
            "type": "contourcarpet"
           }
          ],
          "heatmap": [
           {
            "colorbar": {
             "outlinewidth": 0,
             "ticks": ""
            },
            "colorscale": [
             [
              0,
              "#0d0887"
             ],
             [
              0.1111111111111111,
              "#46039f"
             ],
             [
              0.2222222222222222,
              "#7201a8"
             ],
             [
              0.3333333333333333,
              "#9c179e"
             ],
             [
              0.4444444444444444,
              "#bd3786"
             ],
             [
              0.5555555555555556,
              "#d8576b"
             ],
             [
              0.6666666666666666,
              "#ed7953"
             ],
             [
              0.7777777777777778,
              "#fb9f3a"
             ],
             [
              0.8888888888888888,
              "#fdca26"
             ],
             [
              1,
              "#f0f921"
             ]
            ],
            "type": "heatmap"
           }
          ],
          "heatmapgl": [
           {
            "colorbar": {
             "outlinewidth": 0,
             "ticks": ""
            },
            "colorscale": [
             [
              0,
              "#0d0887"
             ],
             [
              0.1111111111111111,
              "#46039f"
             ],
             [
              0.2222222222222222,
              "#7201a8"
             ],
             [
              0.3333333333333333,
              "#9c179e"
             ],
             [
              0.4444444444444444,
              "#bd3786"
             ],
             [
              0.5555555555555556,
              "#d8576b"
             ],
             [
              0.6666666666666666,
              "#ed7953"
             ],
             [
              0.7777777777777778,
              "#fb9f3a"
             ],
             [
              0.8888888888888888,
              "#fdca26"
             ],
             [
              1,
              "#f0f921"
             ]
            ],
            "type": "heatmapgl"
           }
          ],
          "histogram": [
           {
            "marker": {
             "pattern": {
              "fillmode": "overlay",
              "size": 10,
              "solidity": 0.2
             }
            },
            "type": "histogram"
           }
          ],
          "histogram2d": [
           {
            "colorbar": {
             "outlinewidth": 0,
             "ticks": ""
            },
            "colorscale": [
             [
              0,
              "#0d0887"
             ],
             [
              0.1111111111111111,
              "#46039f"
             ],
             [
              0.2222222222222222,
              "#7201a8"
             ],
             [
              0.3333333333333333,
              "#9c179e"
             ],
             [
              0.4444444444444444,
              "#bd3786"
             ],
             [
              0.5555555555555556,
              "#d8576b"
             ],
             [
              0.6666666666666666,
              "#ed7953"
             ],
             [
              0.7777777777777778,
              "#fb9f3a"
             ],
             [
              0.8888888888888888,
              "#fdca26"
             ],
             [
              1,
              "#f0f921"
             ]
            ],
            "type": "histogram2d"
           }
          ],
          "histogram2dcontour": [
           {
            "colorbar": {
             "outlinewidth": 0,
             "ticks": ""
            },
            "colorscale": [
             [
              0,
              "#0d0887"
             ],
             [
              0.1111111111111111,
              "#46039f"
             ],
             [
              0.2222222222222222,
              "#7201a8"
             ],
             [
              0.3333333333333333,
              "#9c179e"
             ],
             [
              0.4444444444444444,
              "#bd3786"
             ],
             [
              0.5555555555555556,
              "#d8576b"
             ],
             [
              0.6666666666666666,
              "#ed7953"
             ],
             [
              0.7777777777777778,
              "#fb9f3a"
             ],
             [
              0.8888888888888888,
              "#fdca26"
             ],
             [
              1,
              "#f0f921"
             ]
            ],
            "type": "histogram2dcontour"
           }
          ],
          "mesh3d": [
           {
            "colorbar": {
             "outlinewidth": 0,
             "ticks": ""
            },
            "type": "mesh3d"
           }
          ],
          "parcoords": [
           {
            "line": {
             "colorbar": {
              "outlinewidth": 0,
              "ticks": ""
             }
            },
            "type": "parcoords"
           }
          ],
          "pie": [
           {
            "automargin": true,
            "type": "pie"
           }
          ],
          "scatter": [
           {
            "marker": {
             "colorbar": {
              "outlinewidth": 0,
              "ticks": ""
             }
            },
            "type": "scatter"
           }
          ],
          "scatter3d": [
           {
            "line": {
             "colorbar": {
              "outlinewidth": 0,
              "ticks": ""
             }
            },
            "marker": {
             "colorbar": {
              "outlinewidth": 0,
              "ticks": ""
             }
            },
            "type": "scatter3d"
           }
          ],
          "scattercarpet": [
           {
            "marker": {
             "colorbar": {
              "outlinewidth": 0,
              "ticks": ""
             }
            },
            "type": "scattercarpet"
           }
          ],
          "scattergeo": [
           {
            "marker": {
             "colorbar": {
              "outlinewidth": 0,
              "ticks": ""
             }
            },
            "type": "scattergeo"
           }
          ],
          "scattergl": [
           {
            "marker": {
             "colorbar": {
              "outlinewidth": 0,
              "ticks": ""
             }
            },
            "type": "scattergl"
           }
          ],
          "scattermapbox": [
           {
            "marker": {
             "colorbar": {
              "outlinewidth": 0,
              "ticks": ""
             }
            },
            "type": "scattermapbox"
           }
          ],
          "scatterpolar": [
           {
            "marker": {
             "colorbar": {
              "outlinewidth": 0,
              "ticks": ""
             }
            },
            "type": "scatterpolar"
           }
          ],
          "scatterpolargl": [
           {
            "marker": {
             "colorbar": {
              "outlinewidth": 0,
              "ticks": ""
             }
            },
            "type": "scatterpolargl"
           }
          ],
          "scatterternary": [
           {
            "marker": {
             "colorbar": {
              "outlinewidth": 0,
              "ticks": ""
             }
            },
            "type": "scatterternary"
           }
          ],
          "surface": [
           {
            "colorbar": {
             "outlinewidth": 0,
             "ticks": ""
            },
            "colorscale": [
             [
              0,
              "#0d0887"
             ],
             [
              0.1111111111111111,
              "#46039f"
             ],
             [
              0.2222222222222222,
              "#7201a8"
             ],
             [
              0.3333333333333333,
              "#9c179e"
             ],
             [
              0.4444444444444444,
              "#bd3786"
             ],
             [
              0.5555555555555556,
              "#d8576b"
             ],
             [
              0.6666666666666666,
              "#ed7953"
             ],
             [
              0.7777777777777778,
              "#fb9f3a"
             ],
             [
              0.8888888888888888,
              "#fdca26"
             ],
             [
              1,
              "#f0f921"
             ]
            ],
            "type": "surface"
           }
          ],
          "table": [
           {
            "cells": {
             "fill": {
              "color": "#EBF0F8"
             },
             "line": {
              "color": "white"
             }
            },
            "header": {
             "fill": {
              "color": "#C8D4E3"
             },
             "line": {
              "color": "white"
             }
            },
            "type": "table"
           }
          ]
         },
         "layout": {
          "annotationdefaults": {
           "arrowcolor": "#2a3f5f",
           "arrowhead": 0,
           "arrowwidth": 1
          },
          "autotypenumbers": "strict",
          "coloraxis": {
           "colorbar": {
            "outlinewidth": 0,
            "ticks": ""
           }
          },
          "colorscale": {
           "diverging": [
            [
             0,
             "#8e0152"
            ],
            [
             0.1,
             "#c51b7d"
            ],
            [
             0.2,
             "#de77ae"
            ],
            [
             0.3,
             "#f1b6da"
            ],
            [
             0.4,
             "#fde0ef"
            ],
            [
             0.5,
             "#f7f7f7"
            ],
            [
             0.6,
             "#e6f5d0"
            ],
            [
             0.7,
             "#b8e186"
            ],
            [
             0.8,
             "#7fbc41"
            ],
            [
             0.9,
             "#4d9221"
            ],
            [
             1,
             "#276419"
            ]
           ],
           "sequential": [
            [
             0,
             "#0d0887"
            ],
            [
             0.1111111111111111,
             "#46039f"
            ],
            [
             0.2222222222222222,
             "#7201a8"
            ],
            [
             0.3333333333333333,
             "#9c179e"
            ],
            [
             0.4444444444444444,
             "#bd3786"
            ],
            [
             0.5555555555555556,
             "#d8576b"
            ],
            [
             0.6666666666666666,
             "#ed7953"
            ],
            [
             0.7777777777777778,
             "#fb9f3a"
            ],
            [
             0.8888888888888888,
             "#fdca26"
            ],
            [
             1,
             "#f0f921"
            ]
           ],
           "sequentialminus": [
            [
             0,
             "#0d0887"
            ],
            [
             0.1111111111111111,
             "#46039f"
            ],
            [
             0.2222222222222222,
             "#7201a8"
            ],
            [
             0.3333333333333333,
             "#9c179e"
            ],
            [
             0.4444444444444444,
             "#bd3786"
            ],
            [
             0.5555555555555556,
             "#d8576b"
            ],
            [
             0.6666666666666666,
             "#ed7953"
            ],
            [
             0.7777777777777778,
             "#fb9f3a"
            ],
            [
             0.8888888888888888,
             "#fdca26"
            ],
            [
             1,
             "#f0f921"
            ]
           ]
          },
          "colorway": [
           "#636efa",
           "#EF553B",
           "#00cc96",
           "#ab63fa",
           "#FFA15A",
           "#19d3f3",
           "#FF6692",
           "#B6E880",
           "#FF97FF",
           "#FECB52"
          ],
          "font": {
           "color": "#2a3f5f"
          },
          "geo": {
           "bgcolor": "white",
           "lakecolor": "white",
           "landcolor": "#E5ECF6",
           "showlakes": true,
           "showland": true,
           "subunitcolor": "white"
          },
          "hoverlabel": {
           "align": "left"
          },
          "hovermode": "closest",
          "mapbox": {
           "style": "light"
          },
          "paper_bgcolor": "white",
          "plot_bgcolor": "#E5ECF6",
          "polar": {
           "angularaxis": {
            "gridcolor": "white",
            "linecolor": "white",
            "ticks": ""
           },
           "bgcolor": "#E5ECF6",
           "radialaxis": {
            "gridcolor": "white",
            "linecolor": "white",
            "ticks": ""
           }
          },
          "scene": {
           "xaxis": {
            "backgroundcolor": "#E5ECF6",
            "gridcolor": "white",
            "gridwidth": 2,
            "linecolor": "white",
            "showbackground": true,
            "ticks": "",
            "zerolinecolor": "white"
           },
           "yaxis": {
            "backgroundcolor": "#E5ECF6",
            "gridcolor": "white",
            "gridwidth": 2,
            "linecolor": "white",
            "showbackground": true,
            "ticks": "",
            "zerolinecolor": "white"
           },
           "zaxis": {
            "backgroundcolor": "#E5ECF6",
            "gridcolor": "white",
            "gridwidth": 2,
            "linecolor": "white",
            "showbackground": true,
            "ticks": "",
            "zerolinecolor": "white"
           }
          },
          "shapedefaults": {
           "line": {
            "color": "#2a3f5f"
           }
          },
          "ternary": {
           "aaxis": {
            "gridcolor": "white",
            "linecolor": "white",
            "ticks": ""
           },
           "baxis": {
            "gridcolor": "white",
            "linecolor": "white",
            "ticks": ""
           },
           "bgcolor": "#E5ECF6",
           "caxis": {
            "gridcolor": "white",
            "linecolor": "white",
            "ticks": ""
           }
          },
          "title": {
           "x": 0.05
          },
          "xaxis": {
           "automargin": true,
           "gridcolor": "white",
           "linecolor": "white",
           "ticks": "",
           "title": {
            "standoff": 15
           },
           "zerolinecolor": "white",
           "zerolinewidth": 2
          },
          "yaxis": {
           "automargin": true,
           "gridcolor": "white",
           "linecolor": "white",
           "ticks": "",
           "title": {
            "standoff": 15
           },
           "zerolinecolor": "white",
           "zerolinewidth": 2
          }
         }
        },
        "xaxis": {
         "anchor": "y",
         "domain": [
          0,
          1
         ],
         "title": {
          "text": "price_2"
         }
        },
        "yaxis": {
         "anchor": "x",
         "domain": [
          0,
          1
         ],
         "title": {
          "text": "count"
         }
        }
       }
      },
      "text/html": [
       "<div>                            <div id=\"7c219f8a-de10-43c3-b43d-5e026de5495a\" class=\"plotly-graph-div\" style=\"height:525px; width:100%;\"></div>            <script type=\"text/javascript\">                require([\"plotly\"], function(Plotly) {                    window.PLOTLYENV=window.PLOTLYENV || {};                                    if (document.getElementById(\"7c219f8a-de10-43c3-b43d-5e026de5495a\")) {                    Plotly.newPlot(                        \"7c219f8a-de10-43c3-b43d-5e026de5495a\",                        [{\"alignmentgroup\":\"True\",\"bingroup\":\"x\",\"hovertemplate\":\"price_2=%{x}<br>count=%{y}<extra></extra>\",\"legendgroup\":\"\",\"marker\":{\"color\":\"#636efa\",\"pattern\":{\"shape\":\"\"}},\"name\":\"\",\"offsetgroup\":\"\",\"orientation\":\"v\",\"showlegend\":false,\"type\":\"histogram\",\"x\":[\"Medio\",\"Medio\",\"Barato\",\"Medio\",\"Medio\",\"Medio\",\"Medio\",\"Medio\",\"Medio\",\"Medio\",\"Medio\",\"Medio\",\"Medio\",\"Medio\",\"Medio\",\"Medio\",\"Caro\",null,\"Medio\",\"Medio\",\"Medio\",\"Medio\",\"Medio\",\"Medio\",\"Medio\",\"Barato\",\"Medio\",\"Medio\",\"Medio\",\"Medio\",\"Medio\",\"Medio\",\"Medio\",\"Medio\",\"Medio\",\"Medio\",\"Medio\",\"Medio\",\"Medio\",\"Medio\",\"Medio\",\"Barato\",\"Medio\",\"Medio\",\"Caro\",\"Medio\",\"Medio\",\"Medio\",\"Medio\",\"Barato\",\"Medio\",\"Medio\",\"Medio\",\"Barato\",\"Medio\",\"Medio\",\"Medio\",\"Medio\",\"Barato\",\"Medio\",\"Barato\",\"Medio\",\"Barato\",\"Medio\",\"Medio\",\"Medio\",\"Barato\",\"Medio\",\"Medio\",\"Medio\",\"Medio\",\"Medio\",\"Caro\",\"Medio\",\"Medio\",\"Medio\",\"Medio\",\"Medio\",\"Medio\",\"Medio\",\"Medio\",\"Medio\",\"Medio\",\"Medio\",\"Medio\",\"Medio\",\"Medio\",\"Medio\",\"Medio\",\"Medio\",\"Medio\",\"Medio\",\"Medio\",\"Medio\",\"Barato\",\"Barato\",\"Medio\",\"Medio\",null,\"Medio\",\"Medio\",\"Medio\",\"Barato\",\"Barato\",\"Medio\",\"Barato\",\"Medio\",\"Medio\",\"Medio\",\"Medio\",\"Medio\",\"Medio\",\"Medio\",\"Medio\",\"Medio\",\"Medio\",\"Medio\",\"Medio\",\"Medio\",\"Medio\",\"Barato\",\"Medio\",\"Medio\",\"Caro\",\"Medio\",\"Medio\",\"Caro\",\"Medio\",\"Barato\",\"Caro\",\"Medio\",\"Barato\",\"Barato\",\"Medio\",\"Medio\",\"Medio\",\"Caro\",\"Medio\",\"Barato\",\"Medio\",\"Medio\",\"Medio\",\"Medio\",\"Medio\",\"Medio\",\"Medio\",\"Medio\",\"Medio\",\"Medio\",\"Medio\",\"Medio\",\"Medio\",\"Medio\",\"Medio\",\"Medio\",\"Medio\",\"Medio\",\"Medio\",\"Barato\",\"Medio\",\"Medio\",\"Medio\",\"Medio\",\"Barato\",\"Medio\",\"Medio\",\"Medio\",\"Medio\",\"Medio\",\"Medio\",\"Medio\",\"Medio\",\"Barato\",\"Medio\",\"Medio\",\"Medio\",\"Caro\",\"Caro\",\"Barato\",\"Caro\",\"Medio\",\"Caro\",\"Medio\",\"Barato\",\"Medio\",\"Medio\",\"Medio\",\"Caro\",\"Medio\",\"Barato\",\"Medio\",\"Barato\",\"Medio\",\"Medio\",\"Medio\",\"Medio\",\"Medio\",\"Medio\",\"Caro\",\"Medio\",\"Medio\",\"Medio\",\"Medio\",\"Medio\",\"Medio\",\"Medio\",\"Barato\",\"Medio\",\"Medio\",\"Medio\",\"Medio\",\"Medio\",\"Medio\",\"Medio\",\"Caro\",\"Barato\",\"Caro\",\"Barato\",\"Medio\",\"Caro\",\"Caro\",\"Medio\",\"Medio\",\"Barato\",\"Barato\",\"Medio\",\"Medio\",\"Medio\",\"Medio\",\"Medio\",\"Medio\",\"Medio\",\"Medio\",\"Medio\",\"Medio\",\"Medio\",\"Medio\",\"Medio\",\"Medio\",\"Medio\",\"Medio\",\"Barato\",\"Caro\",\"Medio\",\"Medio\",\"Medio\",\"Medio\",\"Medio\",\"Medio\",\"Barato\",\"Medio\",\"Medio\",\"Caro\",\"Medio\",\"Medio\",\"Medio\",\"Medio\",\"Medio\",\"Medio\",\"Medio\",\"Medio\",\"Caro\",\"Barato\",\"Medio\",\"Medio\",\"Barato\",\"Barato\",\"Medio\",\"Medio\",\"Barato\",\"Medio\",\"Medio\",\"Barato\",\"Caro\",\"Medio\",\"Medio\",\"Barato\",\"Medio\",\"Medio\",\"Caro\",\"Medio\",\"Medio\",\"Medio\",\"Medio\",\"Medio\",\"Caro\",\"Caro\",\"Barato\",\"Caro\",\"Caro\",\"Medio\",\"Medio\",\"Medio\",\"Barato\",\"Medio\",\"Medio\",\"Medio\",\"Barato\",\"Caro\",\"Caro\",\"Medio\",\"Medio\",\"Medio\",\"Medio\",\"Medio\",\"Medio\",\"Medio\",\"Medio\",\"Medio\",\"Medio\",\"Medio\",\"Medio\",\"Medio\",\"Medio\",\"Medio\",\"Caro\",\"Caro\",\"Medio\",\"Medio\",\"Medio\",\"Caro\",\"Medio\",\"Medio\",\"Medio\",\"Medio\",\"Barato\",\"Medio\",\"Caro\",\"Medio\",\"Medio\",\"Medio\",\"Medio\",\"Caro\",\"Medio\",\"Medio\",\"Medio\",\"Medio\",\"Medio\",\"Caro\",\"Caro\",\"Barato\",\"Medio\",\"Medio\",\"Medio\",\"Medio\",\"Medio\",\"Medio\",\"Medio\",\"Medio\",\"Barato\",\"Medio\",\"Barato\",\"Medio\",\"Barato\",\"Caro\",\"Medio\",\"Medio\",\"Caro\",\"Caro\",\"Medio\",\"Medio\",\"Medio\",\"Medio\",\"Caro\",\"Medio\",\"Medio\",\"Medio\",\"Caro\",\"Barato\",\"Medio\",\"Medio\",\"Caro\",\"Medio\",\"Medio\",\"Caro\",\"Medio\",\"Medio\",\"Medio\",\"Barato\",\"Caro\",\"Medio\",\"Medio\",\"Medio\",\"Caro\",\"Medio\",\"Medio\",\"Medio\",\"Medio\",\"Medio\",\"Medio\",\"Medio\",\"Medio\",\"Medio\",\"Barato\",\"Caro\",\"Caro\",\"Medio\",\"Medio\",\"Caro\",\"Medio\",\"Caro\",\"Barato\",\"Medio\",\"Medio\",\"Medio\",\"Medio\",\"Medio\",\"Medio\",\"Medio\",\"Medio\",\"Barato\",\"Medio\",\"Barato\",\"Medio\",\"Barato\",\"Medio\",\"Medio\",\"Medio\",\"Medio\",\"Barato\",\"Medio\",\"Barato\",\"Barato\",\"Barato\",\"Caro\",\"Medio\",\"Caro\",\"Medio\",\"Barato\",\"Barato\",\"Medio\",\"Medio\",\"Medio\",\"Medio\",\"Medio\",\"Medio\",\"Medio\",\"Medio\",\"Medio\",\"Medio\",\"Medio\",\"Barato\",\"Medio\",\"Medio\",\"Caro\",\"Medio\",\"Medio\",\"Medio\",\"Medio\",\"Barato\",\"Medio\",\"Medio\",\"Barato\",\"Medio\",\"Medio\",\"Medio\",\"Medio\",\"Medio\",\"Medio\",\"Medio\",\"Medio\",\"Medio\",\"Caro\",\"Medio\",\"Caro\",\"Medio\",\"Medio\",\"Medio\",\"Medio\",\"Barato\",\"Medio\",\"Caro\",\"Medio\",\"Medio\",\"Medio\",\"Medio\",\"Caro\",\"Medio\",\"Medio\",\"Barato\",\"Barato\",\"Medio\",\"Medio\",\"Caro\",\"Medio\",\"Caro\",\"Medio\",\"Medio\",\"Medio\",\"Medio\",\"Barato\",\"Medio\",\"Medio\",\"Medio\",\"Barato\",\"Medio\",\"Medio\",\"Medio\"],\"xaxis\":\"x\",\"yaxis\":\"y\"}],                        {\"bargap\":0.2,\"barmode\":\"relative\",\"legend\":{\"tracegroupgap\":0},\"margin\":{\"t\":60},\"template\":{\"data\":{\"bar\":[{\"error_x\":{\"color\":\"#2a3f5f\"},\"error_y\":{\"color\":\"#2a3f5f\"},\"marker\":{\"line\":{\"color\":\"#E5ECF6\",\"width\":0.5},\"pattern\":{\"fillmode\":\"overlay\",\"size\":10,\"solidity\":0.2}},\"type\":\"bar\"}],\"barpolar\":[{\"marker\":{\"line\":{\"color\":\"#E5ECF6\",\"width\":0.5},\"pattern\":{\"fillmode\":\"overlay\",\"size\":10,\"solidity\":0.2}},\"type\":\"barpolar\"}],\"carpet\":[{\"aaxis\":{\"endlinecolor\":\"#2a3f5f\",\"gridcolor\":\"white\",\"linecolor\":\"white\",\"minorgridcolor\":\"white\",\"startlinecolor\":\"#2a3f5f\"},\"baxis\":{\"endlinecolor\":\"#2a3f5f\",\"gridcolor\":\"white\",\"linecolor\":\"white\",\"minorgridcolor\":\"white\",\"startlinecolor\":\"#2a3f5f\"},\"type\":\"carpet\"}],\"choropleth\":[{\"colorbar\":{\"outlinewidth\":0,\"ticks\":\"\"},\"type\":\"choropleth\"}],\"contour\":[{\"colorbar\":{\"outlinewidth\":0,\"ticks\":\"\"},\"colorscale\":[[0.0,\"#0d0887\"],[0.1111111111111111,\"#46039f\"],[0.2222222222222222,\"#7201a8\"],[0.3333333333333333,\"#9c179e\"],[0.4444444444444444,\"#bd3786\"],[0.5555555555555556,\"#d8576b\"],[0.6666666666666666,\"#ed7953\"],[0.7777777777777778,\"#fb9f3a\"],[0.8888888888888888,\"#fdca26\"],[1.0,\"#f0f921\"]],\"type\":\"contour\"}],\"contourcarpet\":[{\"colorbar\":{\"outlinewidth\":0,\"ticks\":\"\"},\"type\":\"contourcarpet\"}],\"heatmap\":[{\"colorbar\":{\"outlinewidth\":0,\"ticks\":\"\"},\"colorscale\":[[0.0,\"#0d0887\"],[0.1111111111111111,\"#46039f\"],[0.2222222222222222,\"#7201a8\"],[0.3333333333333333,\"#9c179e\"],[0.4444444444444444,\"#bd3786\"],[0.5555555555555556,\"#d8576b\"],[0.6666666666666666,\"#ed7953\"],[0.7777777777777778,\"#fb9f3a\"],[0.8888888888888888,\"#fdca26\"],[1.0,\"#f0f921\"]],\"type\":\"heatmap\"}],\"heatmapgl\":[{\"colorbar\":{\"outlinewidth\":0,\"ticks\":\"\"},\"colorscale\":[[0.0,\"#0d0887\"],[0.1111111111111111,\"#46039f\"],[0.2222222222222222,\"#7201a8\"],[0.3333333333333333,\"#9c179e\"],[0.4444444444444444,\"#bd3786\"],[0.5555555555555556,\"#d8576b\"],[0.6666666666666666,\"#ed7953\"],[0.7777777777777778,\"#fb9f3a\"],[0.8888888888888888,\"#fdca26\"],[1.0,\"#f0f921\"]],\"type\":\"heatmapgl\"}],\"histogram\":[{\"marker\":{\"pattern\":{\"fillmode\":\"overlay\",\"size\":10,\"solidity\":0.2}},\"type\":\"histogram\"}],\"histogram2d\":[{\"colorbar\":{\"outlinewidth\":0,\"ticks\":\"\"},\"colorscale\":[[0.0,\"#0d0887\"],[0.1111111111111111,\"#46039f\"],[0.2222222222222222,\"#7201a8\"],[0.3333333333333333,\"#9c179e\"],[0.4444444444444444,\"#bd3786\"],[0.5555555555555556,\"#d8576b\"],[0.6666666666666666,\"#ed7953\"],[0.7777777777777778,\"#fb9f3a\"],[0.8888888888888888,\"#fdca26\"],[1.0,\"#f0f921\"]],\"type\":\"histogram2d\"}],\"histogram2dcontour\":[{\"colorbar\":{\"outlinewidth\":0,\"ticks\":\"\"},\"colorscale\":[[0.0,\"#0d0887\"],[0.1111111111111111,\"#46039f\"],[0.2222222222222222,\"#7201a8\"],[0.3333333333333333,\"#9c179e\"],[0.4444444444444444,\"#bd3786\"],[0.5555555555555556,\"#d8576b\"],[0.6666666666666666,\"#ed7953\"],[0.7777777777777778,\"#fb9f3a\"],[0.8888888888888888,\"#fdca26\"],[1.0,\"#f0f921\"]],\"type\":\"histogram2dcontour\"}],\"mesh3d\":[{\"colorbar\":{\"outlinewidth\":0,\"ticks\":\"\"},\"type\":\"mesh3d\"}],\"parcoords\":[{\"line\":{\"colorbar\":{\"outlinewidth\":0,\"ticks\":\"\"}},\"type\":\"parcoords\"}],\"pie\":[{\"automargin\":true,\"type\":\"pie\"}],\"scatter\":[{\"marker\":{\"colorbar\":{\"outlinewidth\":0,\"ticks\":\"\"}},\"type\":\"scatter\"}],\"scatter3d\":[{\"line\":{\"colorbar\":{\"outlinewidth\":0,\"ticks\":\"\"}},\"marker\":{\"colorbar\":{\"outlinewidth\":0,\"ticks\":\"\"}},\"type\":\"scatter3d\"}],\"scattercarpet\":[{\"marker\":{\"colorbar\":{\"outlinewidth\":0,\"ticks\":\"\"}},\"type\":\"scattercarpet\"}],\"scattergeo\":[{\"marker\":{\"colorbar\":{\"outlinewidth\":0,\"ticks\":\"\"}},\"type\":\"scattergeo\"}],\"scattergl\":[{\"marker\":{\"colorbar\":{\"outlinewidth\":0,\"ticks\":\"\"}},\"type\":\"scattergl\"}],\"scattermapbox\":[{\"marker\":{\"colorbar\":{\"outlinewidth\":0,\"ticks\":\"\"}},\"type\":\"scattermapbox\"}],\"scatterpolar\":[{\"marker\":{\"colorbar\":{\"outlinewidth\":0,\"ticks\":\"\"}},\"type\":\"scatterpolar\"}],\"scatterpolargl\":[{\"marker\":{\"colorbar\":{\"outlinewidth\":0,\"ticks\":\"\"}},\"type\":\"scatterpolargl\"}],\"scatterternary\":[{\"marker\":{\"colorbar\":{\"outlinewidth\":0,\"ticks\":\"\"}},\"type\":\"scatterternary\"}],\"surface\":[{\"colorbar\":{\"outlinewidth\":0,\"ticks\":\"\"},\"colorscale\":[[0.0,\"#0d0887\"],[0.1111111111111111,\"#46039f\"],[0.2222222222222222,\"#7201a8\"],[0.3333333333333333,\"#9c179e\"],[0.4444444444444444,\"#bd3786\"],[0.5555555555555556,\"#d8576b\"],[0.6666666666666666,\"#ed7953\"],[0.7777777777777778,\"#fb9f3a\"],[0.8888888888888888,\"#fdca26\"],[1.0,\"#f0f921\"]],\"type\":\"surface\"}],\"table\":[{\"cells\":{\"fill\":{\"color\":\"#EBF0F8\"},\"line\":{\"color\":\"white\"}},\"header\":{\"fill\":{\"color\":\"#C8D4E3\"},\"line\":{\"color\":\"white\"}},\"type\":\"table\"}]},\"layout\":{\"annotationdefaults\":{\"arrowcolor\":\"#2a3f5f\",\"arrowhead\":0,\"arrowwidth\":1},\"autotypenumbers\":\"strict\",\"coloraxis\":{\"colorbar\":{\"outlinewidth\":0,\"ticks\":\"\"}},\"colorscale\":{\"diverging\":[[0,\"#8e0152\"],[0.1,\"#c51b7d\"],[0.2,\"#de77ae\"],[0.3,\"#f1b6da\"],[0.4,\"#fde0ef\"],[0.5,\"#f7f7f7\"],[0.6,\"#e6f5d0\"],[0.7,\"#b8e186\"],[0.8,\"#7fbc41\"],[0.9,\"#4d9221\"],[1,\"#276419\"]],\"sequential\":[[0.0,\"#0d0887\"],[0.1111111111111111,\"#46039f\"],[0.2222222222222222,\"#7201a8\"],[0.3333333333333333,\"#9c179e\"],[0.4444444444444444,\"#bd3786\"],[0.5555555555555556,\"#d8576b\"],[0.6666666666666666,\"#ed7953\"],[0.7777777777777778,\"#fb9f3a\"],[0.8888888888888888,\"#fdca26\"],[1.0,\"#f0f921\"]],\"sequentialminus\":[[0.0,\"#0d0887\"],[0.1111111111111111,\"#46039f\"],[0.2222222222222222,\"#7201a8\"],[0.3333333333333333,\"#9c179e\"],[0.4444444444444444,\"#bd3786\"],[0.5555555555555556,\"#d8576b\"],[0.6666666666666666,\"#ed7953\"],[0.7777777777777778,\"#fb9f3a\"],[0.8888888888888888,\"#fdca26\"],[1.0,\"#f0f921\"]]},\"colorway\":[\"#636efa\",\"#EF553B\",\"#00cc96\",\"#ab63fa\",\"#FFA15A\",\"#19d3f3\",\"#FF6692\",\"#B6E880\",\"#FF97FF\",\"#FECB52\"],\"font\":{\"color\":\"#2a3f5f\"},\"geo\":{\"bgcolor\":\"white\",\"lakecolor\":\"white\",\"landcolor\":\"#E5ECF6\",\"showlakes\":true,\"showland\":true,\"subunitcolor\":\"white\"},\"hoverlabel\":{\"align\":\"left\"},\"hovermode\":\"closest\",\"mapbox\":{\"style\":\"light\"},\"paper_bgcolor\":\"white\",\"plot_bgcolor\":\"#E5ECF6\",\"polar\":{\"angularaxis\":{\"gridcolor\":\"white\",\"linecolor\":\"white\",\"ticks\":\"\"},\"bgcolor\":\"#E5ECF6\",\"radialaxis\":{\"gridcolor\":\"white\",\"linecolor\":\"white\",\"ticks\":\"\"}},\"scene\":{\"xaxis\":{\"backgroundcolor\":\"#E5ECF6\",\"gridcolor\":\"white\",\"gridwidth\":2,\"linecolor\":\"white\",\"showbackground\":true,\"ticks\":\"\",\"zerolinecolor\":\"white\"},\"yaxis\":{\"backgroundcolor\":\"#E5ECF6\",\"gridcolor\":\"white\",\"gridwidth\":2,\"linecolor\":\"white\",\"showbackground\":true,\"ticks\":\"\",\"zerolinecolor\":\"white\"},\"zaxis\":{\"backgroundcolor\":\"#E5ECF6\",\"gridcolor\":\"white\",\"gridwidth\":2,\"linecolor\":\"white\",\"showbackground\":true,\"ticks\":\"\",\"zerolinecolor\":\"white\"}},\"shapedefaults\":{\"line\":{\"color\":\"#2a3f5f\"}},\"ternary\":{\"aaxis\":{\"gridcolor\":\"white\",\"linecolor\":\"white\",\"ticks\":\"\"},\"baxis\":{\"gridcolor\":\"white\",\"linecolor\":\"white\",\"ticks\":\"\"},\"bgcolor\":\"#E5ECF6\",\"caxis\":{\"gridcolor\":\"white\",\"linecolor\":\"white\",\"ticks\":\"\"}},\"title\":{\"x\":0.05},\"xaxis\":{\"automargin\":true,\"gridcolor\":\"white\",\"linecolor\":\"white\",\"ticks\":\"\",\"title\":{\"standoff\":15},\"zerolinecolor\":\"white\",\"zerolinewidth\":2},\"yaxis\":{\"automargin\":true,\"gridcolor\":\"white\",\"linecolor\":\"white\",\"ticks\":\"\",\"title\":{\"standoff\":15},\"zerolinecolor\":\"white\",\"zerolinewidth\":2}}},\"xaxis\":{\"anchor\":\"y\",\"domain\":[0.0,1.0],\"title\":{\"text\":\"price_2\"}},\"yaxis\":{\"anchor\":\"x\",\"domain\":[0.0,1.0],\"title\":{\"text\":\"count\"}}},                        {\"responsive\": true}                    ).then(function(){\n",
       "                            \n",
       "var gd = document.getElementById('7c219f8a-de10-43c3-b43d-5e026de5495a');\n",
       "var x = new MutationObserver(function (mutations, observer) {{\n",
       "        var display = window.getComputedStyle(gd).display;\n",
       "        if (!display || display === 'none') {{\n",
       "            console.log([gd, 'removed!']);\n",
       "            Plotly.purge(gd);\n",
       "            observer.disconnect();\n",
       "        }}\n",
       "}});\n",
       "\n",
       "// Listen for the removal of the full notebook cells\n",
       "var notebookContainer = gd.closest('#notebook-container');\n",
       "if (notebookContainer) {{\n",
       "    x.observe(notebookContainer, {childList: true});\n",
       "}}\n",
       "\n",
       "// Listen for the clearing of the current output cell\n",
       "var outputEl = gd.closest('.output');\n",
       "if (outputEl) {{\n",
       "    x.observe(outputEl, {childList: true});\n",
       "}}\n",
       "\n",
       "                        })                };                });            </script>        </div>"
      ]
     },
     "metadata": {},
     "output_type": "display_data"
    }
   ],
   "source": [
    "fig = px.histogram(df, x=\"price_2\")\n",
    "fig.update_layout(bargap=0.2)\n",
    "fig.show()"
   ]
  },
  {
   "cell_type": "code",
   "execution_count": null,
   "id": "1c9d283e",
   "metadata": {},
   "outputs": [],
   "source": []
  },
  {
   "cell_type": "code",
   "execution_count": 77,
   "id": "753b6cd3",
   "metadata": {},
   "outputs": [
    {
     "ename": "ValueError",
     "evalue": "Value of 'x' is not the name of a column in 'data_frame'. Expected one of [0, 1] but received: type",
     "output_type": "error",
     "traceback": [
      "\u001b[0;31m---------------------------------------------------------------------------\u001b[0m",
      "\u001b[0;31mValueError\u001b[0m                                Traceback (most recent call last)",
      "\u001b[0;32m<ipython-input-77-492d4460954c>\u001b[0m in \u001b[0;36m<module>\u001b[0;34m\u001b[0m\n\u001b[1;32m      1\u001b[0m \u001b[0;31m#tipo y precio\u001b[0m\u001b[0;34m\u001b[0m\u001b[0;34m\u001b[0m\u001b[0;34m\u001b[0m\u001b[0m\n\u001b[1;32m      2\u001b[0m \u001b[0;34m\u001b[0m\u001b[0m\n\u001b[0;32m----> 3\u001b[0;31m \u001b[0mfig\u001b[0m \u001b[0;34m=\u001b[0m \u001b[0mpx\u001b[0m\u001b[0;34m.\u001b[0m\u001b[0mbar\u001b[0m\u001b[0;34m(\u001b[0m\u001b[0mdata_frame\u001b[0m\u001b[0;34m=\u001b[0m\u001b[0mdf\u001b[0m\u001b[0;34m.\u001b[0m\u001b[0mgroupby\u001b[0m\u001b[0;34m(\u001b[0m\u001b[0;34m[\u001b[0m\u001b[0;34m'price'\u001b[0m\u001b[0;34m]\u001b[0m\u001b[0;34m)\u001b[0m\u001b[0;34m,\u001b[0m \u001b[0mx\u001b[0m\u001b[0;34m=\u001b[0m\u001b[0;34m\"type\"\u001b[0m\u001b[0;34m,\u001b[0m \u001b[0my\u001b[0m\u001b[0;34m=\u001b[0m\u001b[0;34m\"price\"\u001b[0m\u001b[0;34m)\u001b[0m\u001b[0;34m\u001b[0m\u001b[0;34m\u001b[0m\u001b[0m\n\u001b[0m\u001b[1;32m      4\u001b[0m \u001b[0;34m\u001b[0m\u001b[0m\n\u001b[1;32m      5\u001b[0m \u001b[0;34m\u001b[0m\u001b[0m\n",
      "\u001b[0;32m/opt/anaconda3/envs/ironhack/lib/python3.8/site-packages/plotly/express/_chart_types.py\u001b[0m in \u001b[0;36mbar\u001b[0;34m(data_frame, x, y, color, pattern_shape, facet_row, facet_col, facet_col_wrap, facet_row_spacing, facet_col_spacing, hover_name, hover_data, custom_data, text, base, error_x, error_x_minus, error_y, error_y_minus, animation_frame, animation_group, category_orders, labels, color_discrete_sequence, color_discrete_map, color_continuous_scale, pattern_shape_sequence, pattern_shape_map, range_color, color_continuous_midpoint, opacity, orientation, barmode, log_x, log_y, range_x, range_y, title, template, width, height)\u001b[0m\n\u001b[1;32m    363\u001b[0m     \u001b[0mmark\u001b[0m\u001b[0;34m.\u001b[0m\u001b[0;34m\u001b[0m\u001b[0;34m\u001b[0m\u001b[0m\n\u001b[1;32m    364\u001b[0m     \"\"\"\n\u001b[0;32m--> 365\u001b[0;31m     return make_figure(\n\u001b[0m\u001b[1;32m    366\u001b[0m         \u001b[0margs\u001b[0m\u001b[0;34m=\u001b[0m\u001b[0mlocals\u001b[0m\u001b[0;34m(\u001b[0m\u001b[0;34m)\u001b[0m\u001b[0;34m,\u001b[0m\u001b[0;34m\u001b[0m\u001b[0;34m\u001b[0m\u001b[0m\n\u001b[1;32m    367\u001b[0m         \u001b[0mconstructor\u001b[0m\u001b[0;34m=\u001b[0m\u001b[0mgo\u001b[0m\u001b[0;34m.\u001b[0m\u001b[0mBar\u001b[0m\u001b[0;34m,\u001b[0m\u001b[0;34m\u001b[0m\u001b[0;34m\u001b[0m\u001b[0m\n",
      "\u001b[0;32m/opt/anaconda3/envs/ironhack/lib/python3.8/site-packages/plotly/express/_core.py\u001b[0m in \u001b[0;36mmake_figure\u001b[0;34m(args, constructor, trace_patch, layout_patch)\u001b[0m\n\u001b[1;32m   1931\u001b[0m     \u001b[0mapply_default_cascade\u001b[0m\u001b[0;34m(\u001b[0m\u001b[0margs\u001b[0m\u001b[0;34m)\u001b[0m\u001b[0;34m\u001b[0m\u001b[0;34m\u001b[0m\u001b[0m\n\u001b[1;32m   1932\u001b[0m \u001b[0;34m\u001b[0m\u001b[0m\n\u001b[0;32m-> 1933\u001b[0;31m     \u001b[0margs\u001b[0m \u001b[0;34m=\u001b[0m \u001b[0mbuild_dataframe\u001b[0m\u001b[0;34m(\u001b[0m\u001b[0margs\u001b[0m\u001b[0;34m,\u001b[0m \u001b[0mconstructor\u001b[0m\u001b[0;34m)\u001b[0m\u001b[0;34m\u001b[0m\u001b[0;34m\u001b[0m\u001b[0m\n\u001b[0m\u001b[1;32m   1934\u001b[0m     \u001b[0;32mif\u001b[0m \u001b[0mconstructor\u001b[0m \u001b[0;32min\u001b[0m \u001b[0;34m[\u001b[0m\u001b[0mgo\u001b[0m\u001b[0;34m.\u001b[0m\u001b[0mTreemap\u001b[0m\u001b[0;34m,\u001b[0m \u001b[0mgo\u001b[0m\u001b[0;34m.\u001b[0m\u001b[0mSunburst\u001b[0m\u001b[0;34m,\u001b[0m \u001b[0mgo\u001b[0m\u001b[0;34m.\u001b[0m\u001b[0mIcicle\u001b[0m\u001b[0;34m]\u001b[0m \u001b[0;32mand\u001b[0m \u001b[0margs\u001b[0m\u001b[0;34m[\u001b[0m\u001b[0;34m\"path\"\u001b[0m\u001b[0;34m]\u001b[0m \u001b[0;32mis\u001b[0m \u001b[0;32mnot\u001b[0m \u001b[0;32mNone\u001b[0m\u001b[0;34m:\u001b[0m\u001b[0;34m\u001b[0m\u001b[0;34m\u001b[0m\u001b[0m\n\u001b[1;32m   1935\u001b[0m         \u001b[0margs\u001b[0m \u001b[0;34m=\u001b[0m \u001b[0mprocess_dataframe_hierarchy\u001b[0m\u001b[0;34m(\u001b[0m\u001b[0margs\u001b[0m\u001b[0;34m)\u001b[0m\u001b[0;34m\u001b[0m\u001b[0;34m\u001b[0m\u001b[0m\n",
      "\u001b[0;32m/opt/anaconda3/envs/ironhack/lib/python3.8/site-packages/plotly/express/_core.py\u001b[0m in \u001b[0;36mbuild_dataframe\u001b[0;34m(args, constructor)\u001b[0m\n\u001b[1;32m   1403\u001b[0m     \u001b[0;31m# now that things have been prepped, we do the systematic rewriting of `args`\u001b[0m\u001b[0;34m\u001b[0m\u001b[0;34m\u001b[0m\u001b[0;34m\u001b[0m\u001b[0m\n\u001b[1;32m   1404\u001b[0m \u001b[0;34m\u001b[0m\u001b[0m\n\u001b[0;32m-> 1405\u001b[0;31m     df_output, wide_id_vars = process_args_into_dataframe(\n\u001b[0m\u001b[1;32m   1406\u001b[0m         \u001b[0margs\u001b[0m\u001b[0;34m,\u001b[0m \u001b[0mwide_mode\u001b[0m\u001b[0;34m,\u001b[0m \u001b[0mvar_name\u001b[0m\u001b[0;34m,\u001b[0m \u001b[0mvalue_name\u001b[0m\u001b[0;34m\u001b[0m\u001b[0;34m\u001b[0m\u001b[0m\n\u001b[1;32m   1407\u001b[0m     )\n",
      "\u001b[0;32m/opt/anaconda3/envs/ironhack/lib/python3.8/site-packages/plotly/express/_core.py\u001b[0m in \u001b[0;36mprocess_args_into_dataframe\u001b[0;34m(args, wide_mode, var_name, value_name)\u001b[0m\n\u001b[1;32m   1205\u001b[0m                         \u001b[0;32mif\u001b[0m \u001b[0margument\u001b[0m \u001b[0;34m==\u001b[0m \u001b[0;34m\"index\"\u001b[0m\u001b[0;34m:\u001b[0m\u001b[0;34m\u001b[0m\u001b[0;34m\u001b[0m\u001b[0m\n\u001b[1;32m   1206\u001b[0m                             \u001b[0merr_msg\u001b[0m \u001b[0;34m+=\u001b[0m \u001b[0;34m\"\\n To use the index, pass it in directly as `df.index`.\"\u001b[0m\u001b[0;34m\u001b[0m\u001b[0;34m\u001b[0m\u001b[0m\n\u001b[0;32m-> 1207\u001b[0;31m                         \u001b[0;32mraise\u001b[0m \u001b[0mValueError\u001b[0m\u001b[0;34m(\u001b[0m\u001b[0merr_msg\u001b[0m\u001b[0;34m)\u001b[0m\u001b[0;34m\u001b[0m\u001b[0;34m\u001b[0m\u001b[0m\n\u001b[0m\u001b[1;32m   1208\u001b[0m                 \u001b[0;32melif\u001b[0m \u001b[0mlength\u001b[0m \u001b[0;32mand\u001b[0m \u001b[0mlen\u001b[0m\u001b[0;34m(\u001b[0m\u001b[0mdf_input\u001b[0m\u001b[0;34m[\u001b[0m\u001b[0margument\u001b[0m\u001b[0;34m]\u001b[0m\u001b[0;34m)\u001b[0m \u001b[0;34m!=\u001b[0m \u001b[0mlength\u001b[0m\u001b[0;34m:\u001b[0m\u001b[0;34m\u001b[0m\u001b[0;34m\u001b[0m\u001b[0m\n\u001b[1;32m   1209\u001b[0m                     raise ValueError(\n",
      "\u001b[0;31mValueError\u001b[0m: Value of 'x' is not the name of a column in 'data_frame'. Expected one of [0, 1] but received: type"
     ]
    }
   ],
   "source": [
    "#tipo y precio\n",
    "\n",
    "fig = px.bar(data_frame=df.groupby(['price']), x=\"type\", y=\"price\")\n",
    "\n",
    "\n",
    "#media de precios de cada tipo\n"
   ]
  },
  {
   "cell_type": "markdown",
   "id": "ac145679",
   "metadata": {},
   "source": [
    "animals=['giraffes', 'orangutans', 'monkeys']\n",
    "\n",
    "fig = go.Figure(data=[\n",
    "    go.Bar(name='SF Zoo', x=animals, y=[20, 14, 23]),\n",
    "    go.Bar(name='LA Zoo', x=animals, y=[12, 18, 29])"
   ]
  }
 ],
 "metadata": {
  "kernelspec": {
   "display_name": "ironhack",
   "language": "python",
   "name": "ironhack"
  },
  "language_info": {
   "codemirror_mode": {
    "name": "ipython",
    "version": 3
   },
   "file_extension": ".py",
   "mimetype": "text/x-python",
   "name": "python",
   "nbconvert_exporter": "python",
   "pygments_lexer": "ipython3",
   "version": "3.8.5"
  }
 },
 "nbformat": 4,
 "nbformat_minor": 5
}
