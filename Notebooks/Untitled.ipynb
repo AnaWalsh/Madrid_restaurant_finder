{
 "cells": [
  {
   "cell_type": "code",
   "execution_count": 1,
   "id": "f983ce97",
   "metadata": {},
   "outputs": [],
   "source": [
    "from pymongo import MongoClient\n",
    "import requests\n",
    "from dotenv import load_dotenv\n",
    "import os\n",
    "import pandas as pd\n",
    "import geopandas as gpd\n",
    "from cartoframes.viz import Map, Layer, popup_element\n",
    "from functools import reduce\n",
    "import operator\n",
    "import json\n",
    "import re\n",
    "from geopy.geocoders import Nominatim"
   ]
  },
  {
   "cell_type": "code",
   "execution_count": null,
   "id": "a791d654",
   "metadata": {},
   "outputs": [],
   "source": [
    "import folium\n",
    "from folium import Choropleth, Circle, Marker, Icon, Map\n",
    "from folium.plugins import HeatMap, MarkerCluster\n",
    "import pandas as pd"
   ]
  },
  {
   "cell_type": "code",
   "execution_count": 2,
   "id": "57112ce3",
   "metadata": {},
   "outputs": [
    {
     "name": "stdout",
     "output_type": "stream",
     "text": [
      "/Users/awalsh/IRONHACK/PROJECT2/Notebooks\r\n"
     ]
    }
   ],
   "source": [
    "!pwd"
   ]
  },
  {
   "cell_type": "code",
   "execution_count": 7,
   "id": "4da28769",
   "metadata": {},
   "outputs": [],
   "source": [
    "df = pd.read_csv('../data/data_tripadvisor.csv', index_col=0)"
   ]
  },
  {
   "cell_type": "code",
   "execution_count": null,
   "id": "967164bf",
   "metadata": {},
   "outputs": [],
   "source": [
    "df.dropna(how = \"all\", axis = 0, inplace = True)"
   ]
  },
  {
   "cell_type": "code",
   "execution_count": 10,
   "id": "9b8c99d0",
   "metadata": {},
   "outputs": [
    {
     "data": {
      "text/html": [
       "<div>\n",
       "<style scoped>\n",
       "    .dataframe tbody tr th:only-of-type {\n",
       "        vertical-align: middle;\n",
       "    }\n",
       "\n",
       "    .dataframe tbody tr th {\n",
       "        vertical-align: top;\n",
       "    }\n",
       "\n",
       "    .dataframe thead th {\n",
       "        text-align: right;\n",
       "    }\n",
       "</style>\n",
       "<table border=\"1\" class=\"dataframe\">\n",
       "  <thead>\n",
       "    <tr style=\"text-align: right;\">\n",
       "      <th></th>\n",
       "      <th>name</th>\n",
       "      <th>address</th>\n",
       "      <th>type</th>\n",
       "      <th>ranking</th>\n",
       "      <th>price</th>\n",
       "      <th>direccion</th>\n",
       "      <th>comunidad</th>\n",
       "      <th>street</th>\n",
       "      <th>street_2</th>\n",
       "      <th>coordinates</th>\n",
       "      <th>street_3</th>\n",
       "    </tr>\n",
       "    <tr>\n",
       "      <th>indice</th>\n",
       "      <th></th>\n",
       "      <th></th>\n",
       "      <th></th>\n",
       "      <th></th>\n",
       "      <th></th>\n",
       "      <th></th>\n",
       "      <th></th>\n",
       "      <th></th>\n",
       "      <th></th>\n",
       "      <th></th>\n",
       "      <th></th>\n",
       "    </tr>\n",
       "  </thead>\n",
       "  <tbody>\n",
       "    <tr>\n",
       "      <th>413.0</th>\n",
       "      <td>El anciano rey de los vinos</td>\n",
       "      <td>Calle Bailén 19, 28013 Madrid España</td>\n",
       "      <td>Mediterránea</td>\n",
       "      <td>#549 de 10.409 restaurantes en Madrid</td>\n",
       "      <td>€€ - €€€</td>\n",
       "      <td>Calle Bailén 19</td>\n",
       "      <td>Madrid España</td>\n",
       "      <td>Calle Bailén 19</td>\n",
       "      <td>Calle Bailén 19, Madrid España</td>\n",
       "      <td>(40.028851, -3.606505)</td>\n",
       "      <td>Calle Bailén 19, Madrid España</td>\n",
       "    </tr>\n",
       "    <tr>\n",
       "      <th>76.0</th>\n",
       "      <td>Taberna Más Al Sur</td>\n",
       "      <td>Calle Santa Isabel Nº 35, 28012 Madrid España</td>\n",
       "      <td>Mediterránea</td>\n",
       "      <td>#34 de 10.414 restaurantes en Madrid</td>\n",
       "      <td>€€ - €€€</td>\n",
       "      <td>Calle Santa Isabel Nº 35</td>\n",
       "      <td>Madrid España</td>\n",
       "      <td>Calle Santa Isabel 35</td>\n",
       "      <td>Calle Santa Isabel 35, Madrid España</td>\n",
       "      <td>(40.0316837, -3.5908706)</td>\n",
       "      <td>Calle Santa Isabel 35, Madrid España</td>\n",
       "    </tr>\n",
       "    <tr>\n",
       "      <th>95.0</th>\n",
       "      <td>Casa Labra</td>\n",
       "      <td>Calle Tetuan 12, 28013 Madrid España</td>\n",
       "      <td>Bar</td>\n",
       "      <td>#650 de 10.414 restaurantes en Madrid</td>\n",
       "      <td>€</td>\n",
       "      <td>Calle Tetuan 12</td>\n",
       "      <td>Madrid España</td>\n",
       "      <td>Calle Tetuan 12</td>\n",
       "      <td>Calle Tetuan 12, Madrid España</td>\n",
       "      <td>(40.0395885, -3.6142713)</td>\n",
       "      <td>Calle Tetuan 12, Madrid España</td>\n",
       "    </tr>\n",
       "    <tr>\n",
       "      <th>134.0</th>\n",
       "      <td>Parrilla El Gaucho</td>\n",
       "      <td>Calle Tetuan 34, 28013 Madrid España</td>\n",
       "      <td>Restaurante de carne</td>\n",
       "      <td>#311 de 10.414 restaurantes en Madrid</td>\n",
       "      <td>€€ - €€€</td>\n",
       "      <td>Calle Tetuan 34</td>\n",
       "      <td>Madrid España</td>\n",
       "      <td>Calle Tetuan 34</td>\n",
       "      <td>Calle Tetuan 34, Madrid España</td>\n",
       "      <td>(40.0395885, -3.6142713)</td>\n",
       "      <td>Calle Tetuan 34, Madrid España</td>\n",
       "    </tr>\n",
       "    <tr>\n",
       "      <th>279.0</th>\n",
       "      <td>Santa Eulalia Boulangerie</td>\n",
       "      <td>Calle Espejo 12, 28013 Madrid España</td>\n",
       "      <td>Confiterías/panaderías</td>\n",
       "      <td>N.º 23 de 477 cafeterías y teterías en Madrid</td>\n",
       "      <td>€€ - €€€</td>\n",
       "      <td>Calle Espejo 12</td>\n",
       "      <td>Madrid España</td>\n",
       "      <td>Calle Espejo 12</td>\n",
       "      <td>Calle Espejo 12, Madrid España</td>\n",
       "      <td>(40.1384846, -3.4252641)</td>\n",
       "      <td>Calle Espejo 12, Madrid España</td>\n",
       "    </tr>\n",
       "  </tbody>\n",
       "</table>\n",
       "</div>"
      ],
      "text/plain": [
       "                               name  \\\n",
       "indice                                \n",
       "413.0   El anciano rey de los vinos   \n",
       "76.0             Taberna Más Al Sur   \n",
       "95.0                     Casa Labra   \n",
       "134.0            Parrilla El Gaucho   \n",
       "279.0     Santa Eulalia Boulangerie   \n",
       "\n",
       "                                              address                    type  \\\n",
       "indice                                                                          \n",
       "413.0            Calle Bailén 19, 28013 Madrid España            Mediterránea   \n",
       "76.0    Calle Santa Isabel Nº 35, 28012 Madrid España            Mediterránea   \n",
       "95.0             Calle Tetuan 12, 28013 Madrid España                     Bar   \n",
       "134.0            Calle Tetuan 34, 28013 Madrid España    Restaurante de carne   \n",
       "279.0            Calle Espejo 12, 28013 Madrid España  Confiterías/panaderías   \n",
       "\n",
       "                                              ranking     price  \\\n",
       "indice                                                            \n",
       "413.0           #549 de 10.409 restaurantes en Madrid  €€ - €€€   \n",
       "76.0             #34 de 10.414 restaurantes en Madrid  €€ - €€€   \n",
       "95.0            #650 de 10.414 restaurantes en Madrid         €   \n",
       "134.0           #311 de 10.414 restaurantes en Madrid  €€ - €€€   \n",
       "279.0   N.º 23 de 477 cafeterías y teterías en Madrid  €€ - €€€   \n",
       "\n",
       "                       direccion      comunidad                 street  \\\n",
       "indice                                                                   \n",
       "413.0            Calle Bailén 19  Madrid España        Calle Bailén 19   \n",
       "76.0    Calle Santa Isabel Nº 35  Madrid España  Calle Santa Isabel 35   \n",
       "95.0             Calle Tetuan 12  Madrid España        Calle Tetuan 12   \n",
       "134.0            Calle Tetuan 34  Madrid España        Calle Tetuan 34   \n",
       "279.0            Calle Espejo 12  Madrid España        Calle Espejo 12   \n",
       "\n",
       "                                    street_2               coordinates  \\\n",
       "indice                                                                   \n",
       "413.0         Calle Bailén 19, Madrid España    (40.028851, -3.606505)   \n",
       "76.0    Calle Santa Isabel 35, Madrid España  (40.0316837, -3.5908706)   \n",
       "95.0          Calle Tetuan 12, Madrid España  (40.0395885, -3.6142713)   \n",
       "134.0         Calle Tetuan 34, Madrid España  (40.0395885, -3.6142713)   \n",
       "279.0         Calle Espejo 12, Madrid España  (40.1384846, -3.4252641)   \n",
       "\n",
       "                                    street_3  \n",
       "indice                                        \n",
       "413.0         Calle Bailén 19, Madrid España  \n",
       "76.0    Calle Santa Isabel 35, Madrid España  \n",
       "95.0          Calle Tetuan 12, Madrid España  \n",
       "134.0         Calle Tetuan 34, Madrid España  \n",
       "279.0         Calle Espejo 12, Madrid España  "
      ]
     },
     "execution_count": 10,
     "metadata": {},
     "output_type": "execute_result"
    }
   ],
   "source": [
    "df.head()"
   ]
  },
  {
   "cell_type": "code",
   "execution_count": 11,
   "id": "9885c95a",
   "metadata": {},
   "outputs": [],
   "source": [
    "import ast"
   ]
  },
  {
   "cell_type": "code",
   "execution_count": 12,
   "id": "3d5bbaf0",
   "metadata": {},
   "outputs": [],
   "source": [
    "#aplicamos esta función a la columna de coordenadas porque son tipo string.\n",
    "def ast_literal (x):\n",
    "    try:\n",
    "        return ast.literal_eval(x)\n",
    "    except:\n",
    "        return x"
   ]
  },
  {
   "cell_type": "code",
   "execution_count": 18,
   "id": "eb95f578",
   "metadata": {},
   "outputs": [],
   "source": [
    "df.coordinates = df.coordinates.apply(ast_literal)"
   ]
  },
  {
   "cell_type": "code",
   "execution_count": 24,
   "id": "c5eb3dff",
   "metadata": {},
   "outputs": [],
   "source": [
    "a = df.coordinates[0]"
   ]
  },
  {
   "cell_type": "code",
   "execution_count": 25,
   "id": "b43373dc",
   "metadata": {},
   "outputs": [
    {
     "data": {
      "text/plain": [
       "tuple"
      ]
     },
     "execution_count": 25,
     "metadata": {},
     "output_type": "execute_result"
    }
   ],
   "source": [
    "type(a)"
   ]
  },
  {
   "cell_type": "code",
   "execution_count": 19,
   "id": "a20259f9",
   "metadata": {},
   "outputs": [],
   "source": [
    "#necesitamos tener las coordenadas a la inversa (longitud y latitud) en una lista. \n",
    "def turn_around(x):\n",
    "    b = (x[1], x[0])\n",
    "    return list(b)"
   ]
  },
  {
   "cell_type": "code",
   "execution_count": 20,
   "id": "5854681c",
   "metadata": {},
   "outputs": [
    {
     "ename": "TypeError",
     "evalue": "'float' object is not subscriptable",
     "output_type": "error",
     "traceback": [
      "\u001b[0;31m---------------------------------------------------------------------------\u001b[0m",
      "\u001b[0;31mTypeError\u001b[0m                                 Traceback (most recent call last)",
      "\u001b[0;32m<ipython-input-20-e8b3c52efdca>\u001b[0m in \u001b[0;36m<module>\u001b[0;34m\u001b[0m\n\u001b[0;32m----> 1\u001b[0;31m \u001b[0mdf\u001b[0m\u001b[0;34m[\u001b[0m\u001b[0;34m\"coordinates_v2\"\u001b[0m\u001b[0;34m]\u001b[0m \u001b[0;34m=\u001b[0m \u001b[0mdf\u001b[0m\u001b[0;34m.\u001b[0m\u001b[0mcoordinates\u001b[0m\u001b[0;34m.\u001b[0m\u001b[0mapply\u001b[0m\u001b[0;34m(\u001b[0m\u001b[0mturn_around\u001b[0m\u001b[0;34m)\u001b[0m\u001b[0;34m\u001b[0m\u001b[0;34m\u001b[0m\u001b[0m\n\u001b[0m",
      "\u001b[0;32m/opt/anaconda3/envs/ironhack/lib/python3.8/site-packages/pandas/core/series.py\u001b[0m in \u001b[0;36mapply\u001b[0;34m(self, func, convert_dtype, args, **kwargs)\u001b[0m\n\u001b[1;32m   4355\u001b[0m         \u001b[0mdtype\u001b[0m\u001b[0;34m:\u001b[0m \u001b[0mfloat64\u001b[0m\u001b[0;34m\u001b[0m\u001b[0;34m\u001b[0m\u001b[0m\n\u001b[1;32m   4356\u001b[0m         \"\"\"\n\u001b[0;32m-> 4357\u001b[0;31m         \u001b[0;32mreturn\u001b[0m \u001b[0mSeriesApply\u001b[0m\u001b[0;34m(\u001b[0m\u001b[0mself\u001b[0m\u001b[0;34m,\u001b[0m \u001b[0mfunc\u001b[0m\u001b[0;34m,\u001b[0m \u001b[0mconvert_dtype\u001b[0m\u001b[0;34m,\u001b[0m \u001b[0margs\u001b[0m\u001b[0;34m,\u001b[0m \u001b[0mkwargs\u001b[0m\u001b[0;34m)\u001b[0m\u001b[0;34m.\u001b[0m\u001b[0mapply\u001b[0m\u001b[0;34m(\u001b[0m\u001b[0;34m)\u001b[0m\u001b[0;34m\u001b[0m\u001b[0;34m\u001b[0m\u001b[0m\n\u001b[0m\u001b[1;32m   4358\u001b[0m \u001b[0;34m\u001b[0m\u001b[0m\n\u001b[1;32m   4359\u001b[0m     def _reduce(\n",
      "\u001b[0;32m/opt/anaconda3/envs/ironhack/lib/python3.8/site-packages/pandas/core/apply.py\u001b[0m in \u001b[0;36mapply\u001b[0;34m(self)\u001b[0m\n\u001b[1;32m   1041\u001b[0m             \u001b[0;32mreturn\u001b[0m \u001b[0mself\u001b[0m\u001b[0;34m.\u001b[0m\u001b[0mapply_str\u001b[0m\u001b[0;34m(\u001b[0m\u001b[0;34m)\u001b[0m\u001b[0;34m\u001b[0m\u001b[0;34m\u001b[0m\u001b[0m\n\u001b[1;32m   1042\u001b[0m \u001b[0;34m\u001b[0m\u001b[0m\n\u001b[0;32m-> 1043\u001b[0;31m         \u001b[0;32mreturn\u001b[0m \u001b[0mself\u001b[0m\u001b[0;34m.\u001b[0m\u001b[0mapply_standard\u001b[0m\u001b[0;34m(\u001b[0m\u001b[0;34m)\u001b[0m\u001b[0;34m\u001b[0m\u001b[0;34m\u001b[0m\u001b[0m\n\u001b[0m\u001b[1;32m   1044\u001b[0m \u001b[0;34m\u001b[0m\u001b[0m\n\u001b[1;32m   1045\u001b[0m     \u001b[0;32mdef\u001b[0m \u001b[0magg\u001b[0m\u001b[0;34m(\u001b[0m\u001b[0mself\u001b[0m\u001b[0;34m)\u001b[0m\u001b[0;34m:\u001b[0m\u001b[0;34m\u001b[0m\u001b[0;34m\u001b[0m\u001b[0m\n",
      "\u001b[0;32m/opt/anaconda3/envs/ironhack/lib/python3.8/site-packages/pandas/core/apply.py\u001b[0m in \u001b[0;36mapply_standard\u001b[0;34m(self)\u001b[0m\n\u001b[1;32m   1096\u001b[0m                 \u001b[0;31m# List[Union[Callable[..., Any], str]]]]]\"; expected\u001b[0m\u001b[0;34m\u001b[0m\u001b[0;34m\u001b[0m\u001b[0;34m\u001b[0m\u001b[0m\n\u001b[1;32m   1097\u001b[0m                 \u001b[0;31m# \"Callable[[Any], Any]\"\u001b[0m\u001b[0;34m\u001b[0m\u001b[0;34m\u001b[0m\u001b[0;34m\u001b[0m\u001b[0m\n\u001b[0;32m-> 1098\u001b[0;31m                 mapped = lib.map_infer(\n\u001b[0m\u001b[1;32m   1099\u001b[0m                     \u001b[0mvalues\u001b[0m\u001b[0;34m,\u001b[0m\u001b[0;34m\u001b[0m\u001b[0;34m\u001b[0m\u001b[0m\n\u001b[1;32m   1100\u001b[0m                     \u001b[0mf\u001b[0m\u001b[0;34m,\u001b[0m  \u001b[0;31m# type: ignore[arg-type]\u001b[0m\u001b[0;34m\u001b[0m\u001b[0;34m\u001b[0m\u001b[0m\n",
      "\u001b[0;32m/opt/anaconda3/envs/ironhack/lib/python3.8/site-packages/pandas/_libs/lib.pyx\u001b[0m in \u001b[0;36mpandas._libs.lib.map_infer\u001b[0;34m()\u001b[0m\n",
      "\u001b[0;32m<ipython-input-19-b480ca3bc4bd>\u001b[0m in \u001b[0;36mturn_around\u001b[0;34m(x)\u001b[0m\n\u001b[1;32m      1\u001b[0m \u001b[0;31m#necesitamos tener las coordenadas a la inversa (longitud y latitud) en una lista.\u001b[0m\u001b[0;34m\u001b[0m\u001b[0;34m\u001b[0m\u001b[0;34m\u001b[0m\u001b[0m\n\u001b[1;32m      2\u001b[0m \u001b[0;32mdef\u001b[0m \u001b[0mturn_around\u001b[0m\u001b[0;34m(\u001b[0m\u001b[0mx\u001b[0m\u001b[0;34m)\u001b[0m\u001b[0;34m:\u001b[0m\u001b[0;34m\u001b[0m\u001b[0;34m\u001b[0m\u001b[0m\n\u001b[0;32m----> 3\u001b[0;31m     \u001b[0mb\u001b[0m \u001b[0;34m=\u001b[0m \u001b[0;34m(\u001b[0m\u001b[0mx\u001b[0m\u001b[0;34m[\u001b[0m\u001b[0;36m1\u001b[0m\u001b[0;34m]\u001b[0m\u001b[0;34m,\u001b[0m \u001b[0mx\u001b[0m\u001b[0;34m[\u001b[0m\u001b[0;36m0\u001b[0m\u001b[0;34m]\u001b[0m\u001b[0;34m)\u001b[0m\u001b[0;34m\u001b[0m\u001b[0;34m\u001b[0m\u001b[0m\n\u001b[0m\u001b[1;32m      4\u001b[0m     \u001b[0;32mreturn\u001b[0m \u001b[0mlist\u001b[0m\u001b[0;34m(\u001b[0m\u001b[0mb\u001b[0m\u001b[0;34m)\u001b[0m\u001b[0;34m\u001b[0m\u001b[0;34m\u001b[0m\u001b[0m\n",
      "\u001b[0;31mTypeError\u001b[0m: 'float' object is not subscriptable"
     ]
    }
   ],
   "source": [
    "df[\"coordinates_v2\"] = df.coordinates.apply(turn_around)"
   ]
  },
  {
   "cell_type": "code",
   "execution_count": null,
   "id": "88cf5c26",
   "metadata": {},
   "outputs": [],
   "source": []
  }
 ],
 "metadata": {
  "kernelspec": {
   "display_name": "ironhack",
   "language": "python",
   "name": "ironhack"
  },
  "language_info": {
   "codemirror_mode": {
    "name": "ipython",
    "version": 3
   },
   "file_extension": ".py",
   "mimetype": "text/x-python",
   "name": "python",
   "nbconvert_exporter": "python",
   "pygments_lexer": "ipython3",
   "version": "3.8.5"
  }
 },
 "nbformat": 4,
 "nbformat_minor": 5
}
